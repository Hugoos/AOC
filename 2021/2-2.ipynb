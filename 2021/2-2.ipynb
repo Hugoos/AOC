{
 "cells": [
  {
   "cell_type": "code",
   "execution_count": 5,
   "id": "promotional-brook",
   "metadata": {},
   "outputs": [],
   "source": [
    "import helpers\n",
    "import numpy as np\n",
    "\n",
    "data = \"\"\"\n",
    "forward 5\n",
    "down 5\n",
    "forward 8\n",
    "up 3\n",
    "down 8\n",
    "forward 2\n",
    "\"\"\"\n",
    "with open(\"input_2.txt\", 'r') as f:\n",
    "    data = f.read()\n",
    "changeDict = {\"forward\": np.array([1,0]), \"down\": np.array([0,1]), \"up\": np.array([0,-1])}\n",
    "data = [changeDict[x.split(\" \")[0]] * int(x.split(\" \")[1]) for x in data.split(\"\\n\") if x]\n",
    "\n",
    "#np.prod(sum(data))    "
   ]
  },
  {
   "cell_type": "code",
   "execution_count": 6,
   "id": "national-sunglasses",
   "metadata": {},
   "outputs": [
    {
     "name": "stdout",
     "output_type": "stream",
     "text": [
      "1544000595\n"
     ]
    }
   ],
   "source": [
    "aim = 0 \n",
    "x = 0\n",
    "depth = 0\n",
    "for forward, aim2 in data:\n",
    "    if aim2:\n",
    "        aim += aim2\n",
    "    elif forward:\n",
    "        x += forward\n",
    "        depth += (aim * forward)\n",
    "\n",
    "print(x * depth)\n",
    "        "
   ]
  },
  {
   "cell_type": "code",
   "execution_count": null,
   "id": "outstanding-aside",
   "metadata": {},
   "outputs": [],
   "source": []
  }
 ],
 "metadata": {
  "kernelspec": {
   "display_name": "Python 3 (ipykernel)",
   "language": "python",
   "name": "python3"
  },
  "language_info": {
   "codemirror_mode": {
    "name": "ipython",
    "version": 3
   },
   "file_extension": ".py",
   "mimetype": "text/x-python",
   "name": "python",
   "nbconvert_exporter": "python",
   "pygments_lexer": "ipython3",
   "version": "3.9.7"
  }
 },
 "nbformat": 4,
 "nbformat_minor": 5
}
