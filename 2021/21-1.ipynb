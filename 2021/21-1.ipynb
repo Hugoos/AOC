{
 "cells": [
  {
   "cell_type": "code",
   "execution_count": 56,
   "id": "promotional-brook",
   "metadata": {},
   "outputs": [],
   "source": [
    "import helpers\n",
    "import numpy as np\n",
    "import re\n",
    "import math\n",
    "from tqdm import tqdm\n",
    "import copy\n",
    "import networkx as nx\n",
    "from collections import Counter\n",
    "import ast\n",
    "import itertools as it\n",
    "\n",
    "data = \"\"\"\n",
    "Player 1 starting position: 4\n",
    "Player 2 starting position: 8\n",
    "\"\"\"\n",
    "\n",
    "with open(\"input_21.txt\", 'r') as f:\n",
    "    data = f.read()\n",
    "#changeDict = {\"forward\": np.array([1,0]), \"down\": np.array([0,1]), \"up\": np.array([0,-1])}\n",
    "#data = re.findall(\"(\\d+),(\\d+) -> (\\d+),(\\d+)\", data)\n",
    "#data = [x.rstrip() for x in data.split(\"\\n\\n\") if x]\n",
    "\n",
    "#player1 = {\"space\": 4, \"score\": 0}\n",
    "#player2 = {\"space\": 8, \"score\": 0}\n",
    "player1 = {\"space\": 7, \"score\": 0}\n",
    "player2 = {\"space\": 5, \"score\": 0}\n",
    "dice = 0\n",
    "players = [player1, player2]"
   ]
  },
  {
   "cell_type": "code",
   "execution_count": 58,
   "id": "28075294",
   "metadata": {},
   "outputs": [
    {
     "name": "stdout",
     "output_type": "stream",
     "text": [
      "864 [{'space': 8, 'score': 1016}, {'space': 4, 'score': 927}]\n",
      "798147\n"
     ]
    }
   ],
   "source": [
    "def turn(dice, player):\n",
    "    spaces = ((dice % 100) + 1) + (((dice+1) % 100) + 1) + (((dice+2) % 100) + 1)\n",
    "    dice += 3\n",
    "    player[\"space\"] = (player[\"space\"] - 1 + spaces) % 10 + 1\n",
    "    player[\"score\"] += player[\"space\"]\n",
    "    return dice\n",
    "finished = False\n",
    "while not finished:\n",
    "    for player in players:\n",
    "        dice = turn(dice, player)\n",
    "        #print(dice, player)\n",
    "        if player[\"score\"] >= 1000:\n",
    "            finished = True\n",
    "            break\n",
    "            \n",
    "print(dice, players)            \n",
    "#print(993 * 745)\n",
    "print(861 * 927)"
   ]
  },
  {
   "cell_type": "code",
   "execution_count": 31,
   "id": "3b316967",
   "metadata": {},
   "outputs": [
    {
     "name": "stdout",
     "output_type": "stream",
     "text": [
      "1 2 3\n",
      "2 3 4\n",
      "3 4 5\n",
      "4 5 6\n",
      "5 6 7\n",
      "6 7 8\n",
      "7 8 9\n",
      "8 9 10\n",
      "9 10 11\n",
      "10 11 12\n",
      "11 12 13\n",
      "12 13 14\n",
      "13 14 15\n",
      "14 15 16\n",
      "15 16 17\n",
      "16 17 18\n",
      "17 18 19\n",
      "18 19 20\n",
      "19 20 21\n",
      "20 21 22\n",
      "21 22 23\n",
      "22 23 24\n",
      "23 24 25\n",
      "24 25 26\n",
      "25 26 27\n",
      "26 27 28\n",
      "27 28 29\n",
      "28 29 30\n",
      "29 30 31\n",
      "30 31 32\n",
      "31 32 33\n",
      "32 33 34\n",
      "33 34 35\n",
      "34 35 36\n",
      "35 36 37\n",
      "36 37 38\n",
      "37 38 39\n",
      "38 39 40\n",
      "39 40 41\n",
      "40 41 42\n",
      "41 42 43\n",
      "42 43 44\n",
      "43 44 45\n",
      "44 45 46\n",
      "45 46 47\n",
      "46 47 48\n",
      "47 48 49\n",
      "48 49 50\n",
      "49 50 51\n",
      "50 51 52\n",
      "51 52 53\n",
      "52 53 54\n",
      "53 54 55\n",
      "54 55 56\n",
      "55 56 57\n",
      "56 57 58\n",
      "57 58 59\n",
      "58 59 60\n",
      "59 60 61\n",
      "60 61 62\n",
      "61 62 63\n",
      "62 63 64\n",
      "63 64 65\n",
      "64 65 66\n",
      "65 66 67\n",
      "66 67 68\n",
      "67 68 69\n",
      "68 69 70\n",
      "69 70 71\n",
      "70 71 72\n",
      "71 72 73\n",
      "72 73 74\n",
      "73 74 75\n",
      "74 75 76\n",
      "75 76 77\n",
      "76 77 78\n",
      "77 78 79\n",
      "78 79 80\n",
      "79 80 81\n",
      "80 81 82\n",
      "81 82 83\n",
      "82 83 84\n",
      "83 84 85\n",
      "84 85 86\n",
      "85 86 87\n",
      "86 87 88\n",
      "87 88 89\n",
      "88 89 90\n",
      "89 90 91\n",
      "90 91 92\n",
      "91 92 93\n",
      "92 93 94\n",
      "93 94 95\n",
      "94 95 96\n",
      "95 96 97\n",
      "96 97 98\n",
      "97 98 99\n",
      "98 99 100\n",
      "99 100 1\n",
      "100 1 2\n",
      "1 2 3\n"
     ]
    }
   ],
   "source": [
    "for dice in range(0,101):\n",
    "    print((dice % 100) + 1, ((dice+1) % 100) + 1, ((dice+2) % 100) + 1)\n",
    "    #print(((dice+1) % 100) + 1)"
   ]
  },
  {
   "cell_type": "code",
   "execution_count": 37,
   "id": "68889cd1",
   "metadata": {},
   "outputs": [
    {
     "data": {
      "text/plain": [
       "10"
      ]
     },
     "execution_count": 37,
     "metadata": {},
     "output_type": "execute_result"
    }
   ],
   "source": [
    "(4 + 6) % 11"
   ]
  },
  {
   "cell_type": "code",
   "execution_count": 43,
   "id": "756e0f9c",
   "metadata": {},
   "outputs": [
    {
     "name": "stdout",
     "output_type": "stream",
     "text": [
      "1\n",
      "2\n",
      "3\n",
      "4\n",
      "5\n",
      "6\n",
      "7\n",
      "8\n",
      "9\n",
      "10\n",
      "1\n",
      "2\n",
      "3\n",
      "4\n",
      "5\n",
      "6\n",
      "7\n",
      "8\n",
      "9\n",
      "10\n"
     ]
    }
   ],
   "source": [
    "for x in range(1,21):\n",
    "    print((x - 1) % 10 + 1)"
   ]
  },
  {
   "cell_type": "code",
   "execution_count": null,
   "id": "da61b380",
   "metadata": {},
   "outputs": [],
   "source": []
  }
 ],
 "metadata": {
  "kernelspec": {
   "display_name": "Python 3 (ipykernel)",
   "language": "python",
   "name": "python3"
  },
  "language_info": {
   "codemirror_mode": {
    "name": "ipython",
    "version": 3
   },
   "file_extension": ".py",
   "mimetype": "text/x-python",
   "name": "python",
   "nbconvert_exporter": "python",
   "pygments_lexer": "ipython3",
   "version": "3.9.7"
  }
 },
 "nbformat": 4,
 "nbformat_minor": 5
}
