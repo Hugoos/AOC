{
 "cells": [
  {
   "cell_type": "code",
   "execution_count": 3,
   "id": "promotional-brook",
   "metadata": {},
   "outputs": [
    {
     "name": "stdout",
     "output_type": "stream",
     "text": [
      "1475\n"
     ]
    }
   ],
   "source": [
    "import helpers\n",
    "\n",
    "data = \"\"\"\n",
    "\n",
    "\"\"\"\n",
    "with open(\"input_1.txt\", 'r') as f:\n",
    "    data = f.read()\n",
    "curr_val = 10000    \n",
    "ans = 0\n",
    "for line in data.split(\"\\n\"):\n",
    "    if line:\n",
    "        if int(line) > curr_val:\n",
    "            ans += 1\n",
    "        curr_val = int(line)\n",
    "        \n",
    "\n",
    "print(ans)\n"
   ]
  },
  {
   "cell_type": "code",
   "execution_count": null,
   "id": "pleased-begin",
   "metadata": {},
   "outputs": [],
   "source": []
  }
 ],
 "metadata": {
  "kernelspec": {
   "display_name": "Python 3",
   "language": "python",
   "name": "python3"
  },
  "language_info": {
   "codemirror_mode": {
    "name": "ipython",
    "version": 3
   },
   "file_extension": ".py",
   "mimetype": "text/x-python",
   "name": "python",
   "nbconvert_exporter": "python",
   "pygments_lexer": "ipython3",
   "version": "3.7.9"
  }
 },
 "nbformat": 4,
 "nbformat_minor": 5
}
