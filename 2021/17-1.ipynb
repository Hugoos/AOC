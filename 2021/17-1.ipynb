{
 "cells": [
  {
   "cell_type": "code",
   "execution_count": 123,
   "id": "promotional-brook",
   "metadata": {},
   "outputs": [
    {
     "name": "stdout",
     "output_type": "stream",
     "text": [
      "target area: x=94..151, y=-156..-103\n"
     ]
    },
    {
     "data": {
      "text/plain": [
       "[94, 151, -156, -103]"
      ]
     },
     "execution_count": 123,
     "metadata": {},
     "output_type": "execute_result"
    }
   ],
   "source": [
    "import helpers\n",
    "import numpy as np\n",
    "import re\n",
    "import math\n",
    "from tqdm import tqdm\n",
    "import copy\n",
    "import networkx as nx\n",
    "from collections import Counter\n",
    "\n",
    "data = \"\"\"target area: x=20..30, y=-10..-5\"\"\"\n",
    "#data_hex = \"D2FE28\"\n",
    "\n",
    "with open(\"input_17.txt\", 'r') as f:\n",
    "    data = f.read()\n",
    "#changeDict = {\"forward\": np.array([1,0]), \"down\": np.array([0,1]), \"up\": np.array([0,-1])}\n",
    "#data = re.findall(\"(\\d+),(\\d+) -> (\\d+),(\\d+)\", data)\n",
    "#data = [x.rstrip() for x in data.split(\"\\n\\n\") if x]\n",
    "\n",
    "\n",
    "data = data.lstrip()\n",
    "data = data.rstrip()\n",
    "#data = np.array([np.array([int(y) for y in x]) for x in data.split(\"\\n\")])\n",
    "\n",
    "#data = [x.split(\"-\") for x in data.split(\"\\n\")]\n",
    "#data_hex = \"9C0141080250320F1802104A08\"\n",
    "print(data)\n",
    "area = re.findall('target area: x=([-+]?\\d+)..([-+]?\\d+), y=([-+]?\\d+)..([-+]?\\d+)', data)\n",
    "area = [int(y) for x in area for y in x]\n",
    "area"
   ]
  },
  {
   "cell_type": "code",
   "execution_count": 124,
   "id": "61bf6ab6",
   "metadata": {},
   "outputs": [],
   "source": [
    "class probe():\n",
    "    def __init__(self, vel):\n",
    "        self.pos = [0,0]\n",
    "        self.vel = vel\n",
    "        self.steps = 0\n",
    "        self.highest_y_reached = 0\n",
    "        \n",
    "    def step(self):\n",
    "        self.pos = np.add(self.pos, self.vel)\n",
    "        if self.vel[0] < 0:\n",
    "            self.vel[0] += 1\n",
    "        elif self.vel[0] > 0:\n",
    "            self.vel[0] -= 1\n",
    "        self.vel[1] -= 1\n",
    "        self.steps += 1\n",
    "        if self.pos[1] > self.highest_y_reached:\n",
    "            self.highest_y_reached = self.pos[1]\n",
    "    \n",
    "    def checkWithin(self, area):\n",
    "        return (area[0] <= self.pos[0] <= area[1] and area[2] <= self.pos[1] <= area[3])\n",
    "    \n",
    "    def missed(self, area):\n",
    "        return self.pos[0] > area[1] or (self.pos[0] < area[0] and self.vel[0] == 0) or (area[0] <= self.pos[0] <= area[1] and self.pos[1] < area[2])\n",
    "    \n",
    "    def __str__(self): \n",
    "        return f\"position: {self.pos}, velocity: {self.vel}\\n\"\n",
    "        \n",
    "        "
   ]
  },
  {
   "cell_type": "code",
   "execution_count": 125,
   "id": "96a61591",
   "metadata": {},
   "outputs": [
    {
     "name": "stderr",
     "output_type": "stream",
     "text": [
      "100%|████████████████████████████████████████████████████████████████████████████████| 500/500 [00:05<00:00, 85.33it/s]"
     ]
    },
    {
     "name": "stdout",
     "output_type": "stream",
     "text": [
      "12090\n"
     ]
    },
    {
     "name": "stderr",
     "output_type": "stream",
     "text": [
      "\n"
     ]
    }
   ],
   "source": [
    "highest_y = 0\n",
    "for x in tqdm(range(500)):\n",
    "    for y in range(500):\n",
    "        p = probe([x,y])\n",
    "        while not p.checkWithin(area) and not p.missed(area):\n",
    "            p.step()\n",
    "        if p.checkWithin(area):\n",
    "            if p.highest_y_reached > highest_y:\n",
    "                highest_y = p.highest_y_reached\n",
    "        else:\n",
    "            #print(\"no found\")\n",
    "            continue\n",
    "print(highest_y)"
   ]
  },
  {
   "cell_type": "code",
   "execution_count": null,
   "id": "3760859d",
   "metadata": {},
   "outputs": [],
   "source": [
    "2926 too low"
   ]
  }
 ],
 "metadata": {
  "kernelspec": {
   "display_name": "Python 3 (ipykernel)",
   "language": "python",
   "name": "python3"
  },
  "language_info": {
   "codemirror_mode": {
    "name": "ipython",
    "version": 3
   },
   "file_extension": ".py",
   "mimetype": "text/x-python",
   "name": "python",
   "nbconvert_exporter": "python",
   "pygments_lexer": "ipython3",
   "version": "3.9.7"
  }
 },
 "nbformat": 4,
 "nbformat_minor": 5
}
