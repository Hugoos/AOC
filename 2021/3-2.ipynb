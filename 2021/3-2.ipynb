{
 "cells": [
  {
   "cell_type": "code",
   "execution_count": 36,
   "id": "promotional-brook",
   "metadata": {},
   "outputs": [],
   "source": [
    "import helpers\n",
    "import numpy as np\n",
    "\n",
    "data = \"\"\"\n",
    "00100\n",
    "11110\n",
    "10110\n",
    "10111\n",
    "10101\n",
    "01111\n",
    "00111\n",
    "11100\n",
    "10000\n",
    "11001\n",
    "00010\n",
    "01010\n",
    "\"\"\"\n",
    "with open(\"input_3.txt\", 'r') as f:\n",
    "    data = f.read()\n",
    "#changeDict = {\"forward\": np.array([1,0]), \"down\": np.array([0,1]), \"up\": np.array([0,-1])}\n",
    "data = [x for x in data.split(\"\\n\") if x]\n",
    "\n",
    "#np.prod(sum(data))    "
   ]
  },
  {
   "cell_type": "code",
   "execution_count": 37,
   "id": "national-sunglasses",
   "metadata": {},
   "outputs": [],
   "source": [
    "data\n",
    "       \n",
    "def delete_multiple_element(list_object, indices):\n",
    "    indices = sorted(indices, reverse=True)\n",
    "    for idx in indices:\n",
    "        if idx < len(list_object):\n",
    "            list_object.pop(idx)"
   ]
  },
  {
   "cell_type": "code",
   "execution_count": 38,
   "id": "outstanding-aside",
   "metadata": {},
   "outputs": [],
   "source": [
    "import copy\n",
    "data_orig = copy.deepcopy(data)\n",
    "for i in range(len(data[0])):\n",
    "    if len(data) == 1:\n",
    "        break\n",
    "    count0 = 0\n",
    "    count1 = 0\n",
    "    for x in data:\n",
    "        if x[i] == \"1\":\n",
    "            count1 += 1\n",
    "        else:\n",
    "            count0 += 1\n",
    "            \n",
    "    removeList = []\n",
    "    if count1 > count0 or count1==count0:\n",
    "        for j, x in enumerate(data):\n",
    "            if x[i] == \"0\":\n",
    "                removeList.append(j)\n",
    "    elif count1 < count0:\n",
    "        for j, x in enumerate(data):\n",
    "            if x[i] == \"1\":\n",
    "                removeList.append(j)\n",
    "    delete_multiple_element(data, removeList)\n",
    "oxygen_generator_rating = int(data[0], 2)     \n",
    "\n",
    "data = copy.deepcopy(data_orig)\n",
    "for i in range(len(data[0])):\n",
    "    if len(data) == 1:\n",
    "        break\n",
    "    count0 = 0\n",
    "    count1 = 0\n",
    "    for x in data:\n",
    "        if x[i] == \"1\":\n",
    "            count1 += 1\n",
    "        else:\n",
    "            count0 += 1\n",
    "            \n",
    "    removeList = []\n",
    "    if count1 > count0 or count1==count0:\n",
    "        for j, x in enumerate(data):\n",
    "            if x[i] == \"1\":\n",
    "                removeList.append(j)\n",
    "    elif count1 < count0 :\n",
    "        for j, x in enumerate(data):\n",
    "            if x[i] == \"0\":\n",
    "                removeList.append(j)\n",
    "    delete_multiple_element(data, removeList)\n",
    "CO2_scrubber_rating = int(data[0], 2)  "
   ]
  },
  {
   "cell_type": "code",
   "execution_count": 39,
   "id": "38077c73",
   "metadata": {},
   "outputs": [
    {
     "name": "stdout",
     "output_type": "stream",
     "text": [
      "2397 673\n",
      "1613181\n"
     ]
    }
   ],
   "source": [
    "print(oxygen_generator_rating, CO2_scrubber_rating)\n",
    "print(oxygen_generator_rating *  CO2_scrubber_rating)"
   ]
  },
  {
   "cell_type": "code",
   "execution_count": null,
   "id": "1f7fc381",
   "metadata": {},
   "outputs": [],
   "source": []
  }
 ],
 "metadata": {
  "kernelspec": {
   "display_name": "Python 3 (ipykernel)",
   "language": "python",
   "name": "python3"
  },
  "language_info": {
   "codemirror_mode": {
    "name": "ipython",
    "version": 3
   },
   "file_extension": ".py",
   "mimetype": "text/x-python",
   "name": "python",
   "nbconvert_exporter": "python",
   "pygments_lexer": "ipython3",
   "version": "3.9.7"
  }
 },
 "nbformat": 4,
 "nbformat_minor": 5
}
