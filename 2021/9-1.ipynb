{
 "cells": [
  {
   "cell_type": "code",
   "execution_count": 7,
   "id": "promotional-brook",
   "metadata": {},
   "outputs": [
    {
     "data": {
      "text/plain": [
       "[[2, 1, 9, 9, 9, 4, 3, 2, 1, 0],\n",
       " [3, 9, 8, 7, 8, 9, 4, 9, 2, 1],\n",
       " [9, 8, 5, 6, 7, 8, 9, 8, 9, 2],\n",
       " [8, 7, 6, 7, 8, 9, 6, 7, 8, 9],\n",
       " [9, 8, 9, 9, 9, 6, 5, 6, 7, 8]]"
      ]
     },
     "execution_count": 7,
     "metadata": {},
     "output_type": "execute_result"
    }
   ],
   "source": [
    "import helpers\n",
    "import numpy as np\n",
    "import re\n",
    "import math\n",
    "from tqdm import tqdm\n",
    "import copy\n",
    "import networkx as nx\n",
    "\n",
    "data = \"\"\"2199943210\n",
    "3987894921\n",
    "9856789892\n",
    "8767896789\n",
    "9899965678\"\"\"\n",
    "\n",
    "#with open(\"input_9.txt\", 'r') as f:\n",
    "#    data = f.read()\n",
    "#changeDict = {\"forward\": np.array([1,0]), \"down\": np.array([0,1]), \"up\": np.array([0,-1])}\n",
    "#data = re.findall(\"(\\d+),(\\d+) -> (\\d+),(\\d+)\", data)\n",
    "#data = [x.rstrip() for x in data.split(\"\\n\\n\") if x]\n",
    "\n",
    "data = data.lstrip()\n",
    "data = data.rstrip()\n",
    "data = [[int(y) for y in x] for x in data.split(\"\\n\")]\n",
    "data"
   ]
  },
  {
   "cell_type": "code",
   "execution_count": 8,
   "id": "d98ac897",
   "metadata": {},
   "outputs": [],
   "source": [
    "def getNeighbours(pos):\n",
    "    DYDX = [(1,0),(0,1), (-1,0), (0,-1)]\n",
    "    n_list = []\n",
    "    pos_list = []\n",
    "    for dydx in DYDX:\n",
    "        new_pos = (pos[0]+dydx[0],pos[1]+dydx[1])\n",
    "        if -1 < new_pos[0] < len(data[0]) and -1 < new_pos[1] < len(data):\n",
    "            char = data[new_pos[1]][new_pos[0]]\n",
    "            pos_list.append((new_pos[0],new_pos[1]))\n",
    "        else:\n",
    "            continue\n",
    "        if not char == \" \":\n",
    "            n_list.append(char)\n",
    "    return n_list, pos_list"
   ]
  },
  {
   "cell_type": "code",
   "execution_count": 9,
   "id": "03e67e63",
   "metadata": {},
   "outputs": [],
   "source": [
    "G = nx.Graph()\n",
    "ans = 0\n",
    "for y, c in enumerate(data):\n",
    "    for x, v in enumerate(c):\n",
    "        if not v == 9:\n",
    "            G.add_node((x,y), height=v)\n",
    "            val = v\n",
    "            neighs, pos = getNeighbours((x,y))\n",
    "            #print(pos)\n",
    "            for i, n in enumerate(neighs):\n",
    "                if not n == 9 and v < n:\n",
    "                    G.add_edge((x,y),pos[i])\n"
   ]
  },
  {
   "cell_type": "code",
   "execution_count": 10,
   "id": "8c83cc3b",
   "metadata": {},
   "outputs": [
    {
     "ename": "ModuleNotFoundError",
     "evalue": "No module named 'matplotlib'",
     "output_type": "error",
     "traceback": [
      "\u001b[1;31m---------------------------------------------------------------------------\u001b[0m",
      "\u001b[1;31mModuleNotFoundError\u001b[0m                       Traceback (most recent call last)",
      "\u001b[1;32m~\\AppData\\Local\\Temp/ipykernel_4360/356529814.py\u001b[0m in \u001b[0;36m<module>\u001b[1;34m\u001b[0m\n\u001b[1;32m----> 1\u001b[1;33m \u001b[0mnx\u001b[0m\u001b[1;33m.\u001b[0m\u001b[0mdraw\u001b[0m\u001b[1;33m(\u001b[0m\u001b[0mG\u001b[0m\u001b[1;33m)\u001b[0m\u001b[1;33m\u001b[0m\u001b[1;33m\u001b[0m\u001b[0m\n\u001b[0m",
      "\u001b[1;32m~\\anaconda3\\envs\\aoc\\lib\\site-packages\\networkx\\drawing\\nx_pylab.py\u001b[0m in \u001b[0;36mdraw\u001b[1;34m(G, pos, ax, **kwds)\u001b[0m\n\u001b[0;32m    103\u001b[0m     \u001b[0mhttps\u001b[0m\u001b[1;33m:\u001b[0m\u001b[1;33m//\u001b[0m\u001b[0mnetworkx\u001b[0m\u001b[1;33m.\u001b[0m\u001b[0morg\u001b[0m\u001b[1;33m/\u001b[0m\u001b[0mdocumentation\u001b[0m\u001b[1;33m/\u001b[0m\u001b[0mlatest\u001b[0m\u001b[1;33m/\u001b[0m\u001b[0mauto_examples\u001b[0m\u001b[1;33m/\u001b[0m\u001b[0mindex\u001b[0m\u001b[1;33m.\u001b[0m\u001b[0mhtml\u001b[0m\u001b[1;33m\u001b[0m\u001b[1;33m\u001b[0m\u001b[0m\n\u001b[0;32m    104\u001b[0m     \"\"\"\n\u001b[1;32m--> 105\u001b[1;33m     \u001b[1;32mimport\u001b[0m \u001b[0mmatplotlib\u001b[0m\u001b[1;33m.\u001b[0m\u001b[0mpyplot\u001b[0m \u001b[1;32mas\u001b[0m \u001b[0mplt\u001b[0m\u001b[1;33m\u001b[0m\u001b[1;33m\u001b[0m\u001b[0m\n\u001b[0m\u001b[0;32m    106\u001b[0m \u001b[1;33m\u001b[0m\u001b[0m\n\u001b[0;32m    107\u001b[0m     \u001b[1;32mif\u001b[0m \u001b[0max\u001b[0m \u001b[1;32mis\u001b[0m \u001b[1;32mNone\u001b[0m\u001b[1;33m:\u001b[0m\u001b[1;33m\u001b[0m\u001b[1;33m\u001b[0m\u001b[0m\n",
      "\u001b[1;31mModuleNotFoundError\u001b[0m: No module named 'matplotlib'"
     ]
    }
   ],
   "source": [
    "nx.draw(G)"
   ]
  },
  {
   "cell_type": "code",
   "execution_count": null,
   "id": "a4c180a8",
   "metadata": {},
   "outputs": [],
   "source": []
  }
 ],
 "metadata": {
  "kernelspec": {
   "display_name": "Python 3 (ipykernel)",
   "language": "python",
   "name": "python3"
  },
  "language_info": {
   "codemirror_mode": {
    "name": "ipython",
    "version": 3
   },
   "file_extension": ".py",
   "mimetype": "text/x-python",
   "name": "python",
   "nbconvert_exporter": "python",
   "pygments_lexer": "ipython3",
   "version": "3.9.7"
  }
 },
 "nbformat": 4,
 "nbformat_minor": 5
}
