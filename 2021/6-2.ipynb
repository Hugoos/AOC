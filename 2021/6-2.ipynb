{
 "cells": [
  {
   "cell_type": "code",
   "execution_count": 37,
   "id": "promotional-brook",
   "metadata": {},
   "outputs": [],
   "source": [
    "import helpers\n",
    "import numpy as np\n",
    "import re\n",
    "\n",
    "data = \"\"\"3,4,3,1,2\"\"\"\n",
    "\n",
    "with open(\"input_6.txt\", 'r') as f:\n",
    "    data = f.read()\n",
    "#changeDict = {\"forward\": np.array([1,0]), \"down\": np.array([0,1]), \"up\": np.array([0,-1])}\n",
    "#data = re.findall(\"(\\d+),(\\d+) -> (\\d+),(\\d+)\", data)\n",
    "#data = [x.rstrip() for x in data.split(\"\\n\\n\") if x]\n",
    "\n",
    "data = [int(x) for x in data.split(\",\")]"
   ]
  },
  {
   "cell_type": "code",
   "execution_count": 38,
   "id": "959e94b1",
   "metadata": {},
   "outputs": [
    {
     "name": "stdout",
     "output_type": "stream",
     "text": [
      "[4, 1, 3, 2, 4, 3, 1, 4, 4, 1, 1, 1, 5, 2, 4, 4, 2, 1, 2, 3, 4, 1, 2, 4, 3, 4, 5, 1, 1, 3, 1, 2, 1, 4, 1, 1, 3, 4, 1, 2, 5, 1, 4, 2, 2, 1, 1, 1, 3, 1, 5, 3, 1, 2, 1, 1, 1, 1, 4, 1, 1, 1, 2, 2, 1, 3, 1, 3, 1, 3, 4, 5, 1, 2, 2, 1, 1, 1, 4, 1, 5, 1, 3, 1, 3, 4, 1, 3, 2, 3, 4, 4, 4, 3, 4, 5, 1, 3, 1, 3, 5, 1, 1, 1, 1, 1, 2, 4, 1, 2, 1, 1, 1, 5, 1, 1, 2, 1, 3, 1, 4, 2, 3, 4, 4, 3, 1, 1, 3, 5, 3, 1, 1, 5, 2, 4, 1, 1, 3, 5, 1, 4, 3, 1, 1, 4, 2, 1, 1, 1, 1, 1, 1, 3, 1, 1, 1, 1, 1, 4, 5, 1, 2, 5, 3, 1, 1, 3, 1, 1, 1, 1, 5, 1, 2, 5, 1, 1, 1, 1, 1, 1, 3, 5, 1, 3, 2, 1, 1, 1, 1, 1, 1, 1, 4, 5, 1, 1, 3, 1, 5, 1, 1, 1, 1, 3, 3, 1, 1, 1, 4, 4, 1, 1, 4, 1, 2, 1, 4, 4, 1, 1, 3, 4, 3, 5, 4, 1, 1, 4, 1, 3, 1, 1, 5, 5, 1, 2, 1, 2, 1, 2, 3, 1, 1, 3, 1, 1, 2, 1, 1, 3, 4, 3, 1, 1, 3, 3, 5, 1, 2, 1, 4, 1, 1, 2, 1, 3, 1, 1, 1, 1, 1, 1, 1, 4, 5, 5, 1, 1, 1, 4, 1, 1, 1, 2, 1, 2, 1, 3, 1, 3, 1, 1, 1, 1, 1, 1, 1, 5]\n"
     ]
    },
    {
     "data": {
      "text/plain": [
       "[0, 155, 33, 45, 41, 26, 0, 0, 0]"
      ]
     },
     "execution_count": 38,
     "metadata": {},
     "output_type": "execute_result"
    }
   ],
   "source": [
    "print(data) \n",
    "\n",
    "data2 = [0,0,0,0,0,0,0,0,0]\n",
    "for x in data:\n",
    "    data2[x] += 1\n",
    "data = data2\n",
    "data"
   ]
  },
  {
   "cell_type": "code",
   "execution_count": 39,
   "id": "50e7050e",
   "metadata": {},
   "outputs": [],
   "source": [
    "def tick(data):\n",
    "    num_new = data[0]\n",
    "    data = [x for x in data[1:]]\n",
    "    data.append(num_new)\n",
    "    data[6] += num_new\n",
    "    return data"
   ]
  },
  {
   "cell_type": "code",
   "execution_count": 40,
   "id": "5b800a03",
   "metadata": {},
   "outputs": [
    {
     "name": "stdout",
     "output_type": "stream",
     "text": [
      "1689540415957\n"
     ]
    }
   ],
   "source": [
    "for x in range(256):\n",
    "    data = tick(data)\n",
    "print(sum(data))"
   ]
  },
  {
   "cell_type": "code",
   "execution_count": 10,
   "id": "aa9c7d0a",
   "metadata": {},
   "outputs": [
    {
     "data": {
      "text/plain": [
       "[5,\n",
       " 6,\n",
       " 7,\n",
       " 9,\n",
       " 10,\n",
       " 10,\n",
       " 10,\n",
       " 10,\n",
       " 11,\n",
       " 12,\n",
       " 15,\n",
       " 17,\n",
       " 19,\n",
       " 20,\n",
       " 20,\n",
       " 21,\n",
       " 22,\n",
       " 26,\n",
       " 29,\n",
       " 34,\n",
       " 37,\n",
       " 39,\n",
       " 41,\n",
       " 42,\n",
       " 47,\n",
       " 51,\n",
       " 60,\n",
       " 66,\n",
       " 73,\n",
       " 78,\n",
       " 81,\n",
       " 88,\n",
       " 93,\n",
       " 107,\n",
       " 117,\n",
       " 133,\n",
       " 144,\n",
       " 154,\n",
       " 166,\n",
       " 174]"
      ]
     },
     "execution_count": 10,
     "metadata": {},
     "output_type": "execute_result"
    }
   ],
   "source": [
    "lengths"
   ]
  },
  {
   "cell_type": "code",
   "execution_count": null,
   "id": "0e54f8a0",
   "metadata": {},
   "outputs": [],
   "source": []
  }
 ],
 "metadata": {
  "kernelspec": {
   "display_name": "Python 3 (ipykernel)",
   "language": "python",
   "name": "python3"
  },
  "language_info": {
   "codemirror_mode": {
    "name": "ipython",
    "version": 3
   },
   "file_extension": ".py",
   "mimetype": "text/x-python",
   "name": "python",
   "nbconvert_exporter": "python",
   "pygments_lexer": "ipython3",
   "version": "3.9.7"
  }
 },
 "nbformat": 4,
 "nbformat_minor": 5
}
