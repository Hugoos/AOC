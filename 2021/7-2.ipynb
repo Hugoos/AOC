{
 "cells": [
  {
   "cell_type": "code",
   "execution_count": 1,
   "id": "promotional-brook",
   "metadata": {},
   "outputs": [],
   "source": [
    "import helpers\n",
    "import numpy as np\n",
    "import re\n",
    "import math\n",
    "from tqdm import tqdm\n",
    "\n",
    "data = \"\"\"16,1,2,0,4,2,7,1,2,14\"\"\"\n",
    "\n",
    "with open(\"input_7.txt\", 'r') as f:\n",
    "    data = f.read()\n",
    "#changeDict = {\"forward\": np.array([1,0]), \"down\": np.array([0,1]), \"up\": np.array([0,-1])}\n",
    "#data = re.findall(\"(\\d+),(\\d+) -> (\\d+),(\\d+)\", data)\n",
    "#data = [x.rstrip() for x in data.split(\"\\n\\n\") if x]\n",
    "\n",
    "data = [int(x) for x in data.split(\",\")]"
   ]
  },
  {
   "cell_type": "code",
   "execution_count": 2,
   "id": "0e54f8a0",
   "metadata": {},
   "outputs": [
    {
     "name": "stderr",
     "output_type": "stream",
     "text": [
      "100%|██████████████████████████████████████████████████████████████████████████████| 1897/1897 [02:35<00:00, 12.20it/s]"
     ]
    },
    {
     "name": "stdout",
     "output_type": "stream",
     "text": [
      "447 88612508\n"
     ]
    },
    {
     "name": "stderr",
     "output_type": "stream",
     "text": [
      "\n"
     ]
    }
   ],
   "source": [
    "shortest_distance = math.inf\n",
    "pos = None\n",
    "for d in tqdm(range(min(data),max(data)+1)):\n",
    "    distance_sum = sum([int(sum(np.linspace(0, abs(x-d), abs(x-d)+1))) for x in data])\n",
    "    if distance_sum < shortest_distance:\n",
    "        shortest_distance = distance_sum\n",
    "        pos = d\n",
    "print(pos, shortest_distance)"
   ]
  },
  {
   "cell_type": "code",
   "execution_count": null,
   "id": "541fecfd",
   "metadata": {},
   "outputs": [],
   "source": []
  }
 ],
 "metadata": {
  "kernelspec": {
   "display_name": "Python 3 (ipykernel)",
   "language": "python",
   "name": "python3"
  },
  "language_info": {
   "codemirror_mode": {
    "name": "ipython",
    "version": 3
   },
   "file_extension": ".py",
   "mimetype": "text/x-python",
   "name": "python",
   "nbconvert_exporter": "python",
   "pygments_lexer": "ipython3",
   "version": "3.9.7"
  }
 },
 "nbformat": 4,
 "nbformat_minor": 5
}
