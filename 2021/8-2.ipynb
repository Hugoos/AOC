{
 "cells": [
  {
   "cell_type": "code",
   "execution_count": 41,
   "id": "promotional-brook",
   "metadata": {},
   "outputs": [
    {
     "name": "stdout",
     "output_type": "stream",
     "text": [
      "{6: [0, 6, 9], 2: [1], 5: [2, 3, 5], 4: [4], 3: [7], 7: [8]}\n"
     ]
    }
   ],
   "source": [
    "import helpers\n",
    "import numpy as np\n",
    "import re\n",
    "import math\n",
    "from tqdm import tqdm\n",
    "\n",
    "data = \"\"\"be cfbegad cbdgef fgaecd cgeb fdcge agebfd fecdb fabcd edb | fdgacbe cefdb cefbgd gcbe\n",
    "edbfga begcd cbg gc gcadebf fbgde acbgfd abcde gfcbed gfec | fcgedb cgb dgebacf gc\n",
    "fgaebd cg bdaec gdafb agbcfd gdcbef bgcad gfac gcb cdgabef | cg cg fdcagb cbg\n",
    "fbegcd cbd adcefb dageb afcb bc aefdc ecdab fgdeca fcdbega | efabcd cedba gadfec cb\n",
    "aecbfdg fbg gf bafeg dbefa fcge gcbea fcaegb dgceab fcbdga | gecf egdcabf bgf bfgea\n",
    "fgeab ca afcebg bdacfeg cfaedg gcfdb baec bfadeg bafgc acf | gebdcfa ecba ca fadegcb\n",
    "dbcfg fgd bdegcaf fgec aegbdf ecdfab fbedc dacgb gdcebf gf | cefg dcbef fcge gbcadfe\n",
    "bdfegc cbegaf gecbf dfcage bdacg ed bedf ced adcbefg gebcd | ed bcgafe cdgba cbgef\n",
    "egadfb cdbfeg cegd fecab cgb gbdefca cg fgcdab egfdb bfceg | gbdfcae bgc cg cgb\n",
    "gcafb gcf dcaebfg ecagb gf abcdeg gaef cafbge fdbac fegbdc | fgae cfgab fg bagce\"\"\"\n",
    "\n",
    "with open(\"input_8.txt\", 'r') as f:\n",
    "    data = f.read()\n",
    "#changeDict = {\"forward\": np.array([1,0]), \"down\": np.array([0,1]), \"up\": np.array([0,-1])}\n",
    "#data = re.findall(\"(\\d+),(\\d+) -> (\\d+),(\\d+)\", data)\n",
    "#data = [x.rstrip() for x in data.split(\"\\n\\n\") if x]\n",
    "digits = {0: \"abcefg\", 1: \"cf\", 2: \"acdeg\", 3: \"acdfg\", 4: \"bcdf\", 5: \"abdfg\", 6: \"abdefg\", 7: \"acf\", 8: \"abcdefg\", 9: \"abcdfg\"}\n",
    "digit_len = {}\n",
    "for k,v in digits.items():\n",
    "    if not len(v) in digit_len.keys():\n",
    "        digit_len[len(v)] = []\n",
    "    digit_len[len(v)].append(k)\n",
    "data = data.lstrip()\n",
    "data = data.rstrip()\n",
    "data = [x for x in data.split(\"\\n\")]\n",
    "data = [x.split(\" | \") for x in data]\n",
    "data = [[x[0].split(\" \"), x[1].split(\" \")] for x in data]\n",
    "digit_len\n",
    "print(digit_len)"
   ]
  },
  {
   "cell_type": "code",
   "execution_count": 42,
   "id": "541fecfd",
   "metadata": {},
   "outputs": [
    {
     "name": "stdout",
     "output_type": "stream",
     "text": [
      "1020159\n"
     ]
    }
   ],
   "source": [
    "summetje = 0 \n",
    "for r in data:\n",
    "    digits_pot = {}\n",
    "    for x in range(10):\n",
    "        digits_pot[x] = \"\"\n",
    "        \n",
    "    for x in r[0]:\n",
    "        if len(x) == 2:\n",
    "            digits_pot[1] = x\n",
    "        elif len(x) == 4:\n",
    "            digits_pot[4] = x\n",
    "        elif len(x) == 3:\n",
    "            digits_pot[7] = x\n",
    "        elif len(x) == 7:\n",
    "            digits_pot[8] = x\n",
    "    #print(digits_pot)\n",
    "    for x in r[0]:\n",
    "        if len(x) == 6:\n",
    "            if not len(set(x).intersection(set(digits_pot[7]))) == 3:\n",
    "                digits_pot[6] = x\n",
    "                continue\n",
    "            if len(set(x).intersection(set(digits_pot[4]))) == 4:\n",
    "                digits_pot[9] = x\n",
    "                continue\n",
    "        if len(x) == 5:\n",
    "            if len(set(x).intersection(set(digits_pot[1]))) == 2:\n",
    "                digits_pot[3] = x\n",
    "                continue\n",
    "            if len(set(x).intersection(set(digits_pot[4]))) == 2:\n",
    "                digits_pot[2] = x\n",
    "                continue\n",
    "    for x in r[0]:\n",
    "        if len(x) == 6 and not x in digits_pot.values():\n",
    "            digits_pot[0] = x\n",
    "            continue\n",
    "        if len(x) == 5 and not x in digits_pot.values():\n",
    "            digits_pot[5] = x\n",
    "            continue\n",
    "            \n",
    "    #print(digits_pot)\n",
    "    ans_key = {}\n",
    "    for k,v in digits_pot.items():\n",
    "        ans_key[\"\".join(sorted(v))] = k\n",
    "    ans = \"\"    \n",
    "    for x in r[1]:\n",
    "        ans += str(ans_key[\"\".join(sorted(x))])\n",
    "    summetje += int(ans)\n",
    "        \n",
    "print(summetje)"
   ]
  },
  {
   "cell_type": "code",
   "execution_count": null,
   "id": "d98ac897",
   "metadata": {},
   "outputs": [],
   "source": []
  }
 ],
 "metadata": {
  "kernelspec": {
   "display_name": "Python 3 (ipykernel)",
   "language": "python",
   "name": "python3"
  },
  "language_info": {
   "codemirror_mode": {
    "name": "ipython",
    "version": 3
   },
   "file_extension": ".py",
   "mimetype": "text/x-python",
   "name": "python",
   "nbconvert_exporter": "python",
   "pygments_lexer": "ipython3",
   "version": "3.9.7"
  }
 },
 "nbformat": 4,
 "nbformat_minor": 5
}
