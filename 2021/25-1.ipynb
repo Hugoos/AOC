{
 "cells": [
  {
   "cell_type": "code",
   "execution_count": 37,
   "id": "promotional-brook",
   "metadata": {},
   "outputs": [
    {
     "data": {
      "text/plain": [
       "array([[1, 0, 2, ..., 0, 2, 2],\n",
       "       [0, 0, 0, ..., 0, 0, 2],\n",
       "       [0, 0, 2, ..., 0, 2, 1],\n",
       "       ...,\n",
       "       [2, 0, 2, ..., 2, 0, 2],\n",
       "       [2, 0, 0, ..., 0, 1, 2],\n",
       "       [0, 0, 0, ..., 1, 1, 0]])"
      ]
     },
     "execution_count": 37,
     "metadata": {},
     "output_type": "execute_result"
    }
   ],
   "source": [
    "import helpers\n",
    "import numpy as np\n",
    "import re\n",
    "import math\n",
    "from tqdm import tqdm\n",
    "import copy\n",
    "import networkx as nx\n",
    "from collections import Counter\n",
    "import ast\n",
    "import itertools as it\n",
    "from shapely.geometry import Polygon\n",
    "\n",
    "data = \"\"\"v...>>.vv>\n",
    ".vv>>.vv..\n",
    ">>.>v>...v\n",
    ">>v>>.>.v.\n",
    "v>v.vv.v..\n",
    ">.>>..v...\n",
    ".vv..>.>v.\n",
    "v.v..>>v.v\n",
    "....v..v.>\"\"\"\n",
    "\n",
    "with open(\"input_25.txt\", 'r') as f:\n",
    "    data = f.read()\n",
    "\n",
    "data = data.lstrip()\n",
    "data = data.rstrip()\n",
    "\n",
    "translation = {\".\": 0, \">\": 1, \"v\": 2}\n",
    "\n",
    "arr = np.array([np.array([int(translation[y]) for y in x]) for x in data.split(\"\\n\")])  \n",
    "#changeDict = {\"forward\": np.array([1,0]), \"down\": np.array([0,1]), \"up\": np.array([0,-1])}\n",
    "#data = re.findall(\"(\\w+) x=([-+]?\\d+)..([-+]?\\d+),y=([-+]?\\d+)..([-+]?\\d+),z=([-+]?\\d+)..([-+]?\\d+)\", data)\n",
    "#data = [x.rstrip() for x in data.split(\"\\n\\n\") if x]\n",
    "arr\n"
   ]
  },
  {
   "cell_type": "code",
   "execution_count": 38,
   "id": "9930c144",
   "metadata": {},
   "outputs": [
    {
     "data": {
      "text/plain": [
       "424"
      ]
     },
     "execution_count": 38,
     "metadata": {},
     "output_type": "execute_result"
    }
   ],
   "source": [
    "step = 0\n",
    "last_arr = None\n",
    "while not np.array_equal(last_arr,arr):\n",
    "    last_arr = arr.copy()\n",
    "    indices = np.where(arr == 1)\n",
    "    indices_n = (np.array(indices[0]), np.array((indices[1] + 1) % arr.shape[1]))\n",
    "    positions = np.where(arr[indices_n] == 0)\n",
    "    start_i = (indices[0][positions], indices[1][positions])\n",
    "    end_i = (indices_n[0][positions], indices_n[1][positions])\n",
    "    arr[start_i] = 0\n",
    "    arr[end_i] = 1\n",
    "\n",
    "    indices = np.where(arr == 2)\n",
    "    indices_n = (np.array((indices[0] + 1) % arr.shape[0]), np.array(indices[1]))\n",
    "    positions = np.where(arr[indices_n] == 0)\n",
    "    start_i = (indices[0][positions], indices[1][positions])\n",
    "    end_i = (indices_n[0][positions], indices_n[1][positions])\n",
    "    arr[start_i] = 0\n",
    "    arr[end_i] = 2\n",
    "    step += 1\n",
    "step"
   ]
  },
  {
   "cell_type": "code",
   "execution_count": null,
   "id": "6b83af41",
   "metadata": {},
   "outputs": [],
   "source": []
  }
 ],
 "metadata": {
  "kernelspec": {
   "display_name": "Python 3 (ipykernel)",
   "language": "python",
   "name": "python3"
  },
  "language_info": {
   "codemirror_mode": {
    "name": "ipython",
    "version": 3
   },
   "file_extension": ".py",
   "mimetype": "text/x-python",
   "name": "python",
   "nbconvert_exporter": "python",
   "pygments_lexer": "ipython3",
   "version": "3.9.7"
  }
 },
 "nbformat": 4,
 "nbformat_minor": 5
}
