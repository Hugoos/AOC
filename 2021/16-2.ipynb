{
 "cells": [
  {
   "cell_type": "code",
   "execution_count": 143,
   "id": "promotional-brook",
   "metadata": {},
   "outputs": [
    {
     "data": {
      "text/plain": [
       "'8054F9C95F9C1C973D000D0A79F6635986270B054AE9EE51F8001D395CCFE21042497E4A2F6200E1803B0C20846820043630C1F8A840087C6C8BB1688018395559A30997A8AE60064D17980291734016100622F41F8DC200F4118D3175400E896C068E98016E00790169A600590141EE0062801E8041E800F1A0036C28010402CD3801A60053007928018CA8014400EF2801D359FFA732A000D2623CADE7C907C2C96F5F6992AC440157F002032CE92CE9352AF9F4C0119BDEE93E6F9C55D004E66A8B335445009E1CCCEAFD299AA4C066AB1BD4C5804149C1193EE1967AB7F214CF74752B1E5CEDC02297838C649F6F9138300424B9C34B004A63CCF238A56B71520142A5A7FC672E5E00B080350663B44F1006A2047B8C51CC80286C0055253951F98469F1D86D3C1E600F80021118A124261006E23C7E8260008641A8D51F0C01299EC3F4B6A37CABD80252211221A600BC930D0057B2FAA31CDCEF6B76DADF1666FE2E000FA4905CB7239AFAC0660114B39C9BA492D4EBB180252E472AD6C00BF48C350F9F47D2012B6C014000436284628BE00087C5D8671F27F0C480259C9FE16D1F4B224942B6F39CAF767931CFC36BC800EA4FF9CE0CCE4FCA4600ACCC690DE738D39D006A000087C2A89D0DC401987B136259006AFA00ACA7DBA53EDB31F9F3DBF31900559C00BCCC4936473A639A559BC433EB625404300564D67001F59C8E3172892F498C802B1B0052690A69024F3C95554C0129484C370010196269D071003A079802DE0084E4A53E8CCDC2CA7350ED6549CEC4AC00404D3C30044D1BA78F25EF2CFF28A60084967D9C975003992DF8C240923C45300BE7DAA540E6936194E311802D800D2CB8FC9FA388A84DEFB1CB2CBCBDE9E9C8803A6B00526359F734673F28C367D2DE2F3005256B532D004C40198DF152130803D11211C7550056706E6F3E9D24B0'"
      ]
     },
     "execution_count": 143,
     "metadata": {},
     "output_type": "execute_result"
    }
   ],
   "source": [
    "import helpers\n",
    "import numpy as np\n",
    "import re\n",
    "import math\n",
    "from tqdm import tqdm\n",
    "import copy\n",
    "import networkx as nx\n",
    "from collections import Counter\n",
    "\n",
    "data_hex = \"\"\"9C0141080250320F1802104A08\"\"\"\n",
    "#data_hex = \"D2FE28\"\n",
    "\n",
    "with open(\"input_16.txt\", 'r') as f:\n",
    "    data_hex = f.read()\n",
    "#changeDict = {\"forward\": np.array([1,0]), \"down\": np.array([0,1]), \"up\": np.array([0,-1])}\n",
    "#data = re.findall(\"(\\d+),(\\d+) -> (\\d+),(\\d+)\", data)\n",
    "#data = [x.rstrip() for x in data.split(\"\\n\\n\") if x]\n",
    "\n",
    "\n",
    "data_hex = data_hex.lstrip()\n",
    "data_hex = data_hex.rstrip()\n",
    "#data = np.array([np.array([int(y) for y in x]) for x in data.split(\"\\n\")])\n",
    "\n",
    "#data = [x.split(\"-\") for x in data.split(\"\\n\")]\n",
    "#data_hex = \"9C0141080250320F1802104A08\"\n",
    "data_hex"
   ]
  },
  {
   "cell_type": "code",
   "execution_count": 135,
   "id": "6a583bba",
   "metadata": {},
   "outputs": [
    {
     "data": {
      "text/plain": [
       "'10011100000000010100000100001000000000100101000000110010000011110001100000000010000100000100101000001000'"
      ]
     },
     "execution_count": 135,
     "metadata": {},
     "output_type": "execute_result"
    }
   ],
   "source": [
    "data_bin = \"{0:08b}\".format(int(data_hex, 16)).zfill(len(data_hex)*4)\n",
    "data_bin\n",
    "#len(data_bin)"
   ]
  },
  {
   "cell_type": "code",
   "execution_count": 136,
   "id": "e4013147",
   "metadata": {},
   "outputs": [],
   "source": [
    "def parse(s, num=None):\n",
    "    out_l = []\n",
    "    if num:\n",
    "        while num > 0:\n",
    "            out, s = parse_1(s)\n",
    "            out_l.append(out)\n",
    "            num -= 1\n",
    "    else:\n",
    "        while len(s) > 0 and not s.count(\"0\") == len(s):\n",
    "            print(s, len(s) > 0, s.count(\"0\") == len(s))\n",
    "            out, s = parse_1(s)\n",
    "            out_l.append(out)\n",
    "    return out_l, s\n",
    "        \n",
    "\n",
    "def parse_1(s):\n",
    "    print(s)\n",
    "    bits, s = getBits(s, 3)\n",
    "    print(bits)\n",
    "    package_version = int(bits, 2)\n",
    "    bits, s = getBits(s, 3)\n",
    "    package_type = int(bits, 2)\n",
    "    print(package_version, package_type)\n",
    "    if package_type == 4:\n",
    "        val, s = parseLiteral(s)\n",
    "        return [package_version, package_type, val], s\n",
    "    elif not package_type == 4:\n",
    "        bits, s = getBits(s, 1)\n",
    "        print(f'length type ID bits {bits}')\n",
    "        if bits == \"0\":\n",
    "            bits, s = getBits(s, 15)\n",
    "            bits_len = int(bits, 2)\n",
    "            print(f'length bits {bits_len}')\n",
    "            bits, s = getBits(s, bits_len)\n",
    "            return [package_version, package_type, parse(bits)[0]], s\n",
    "        elif bits == \"1\":\n",
    "            bits, s = getBits(s, 11)\n",
    "            num_package = int(bits, 2)\n",
    "            print(f'num package {num_package}')\n",
    "            outp, s = parse(s, num_package)\n",
    "            return [package_version, package_type, outp], s\n",
    "        \n",
    "def getBits(d, n):\n",
    "    return d[:n], d[n:]\n",
    "\n",
    "def parseLiteral(s):\n",
    "    parsing = True\n",
    "    val = \"\"\n",
    "    while parsing:\n",
    "        group, s = getBits(s, 5)\n",
    "        if group[0] == \"0\":\n",
    "            parsing = False\n",
    "        val += group[1:]\n",
    "    return int(val, 2), s"
   ]
  },
  {
   "cell_type": "code",
   "execution_count": 137,
   "id": "e0ffc085",
   "metadata": {},
   "outputs": [
    {
     "name": "stdout",
     "output_type": "stream",
     "text": [
      "10011100000000010100000100001000000000100101000000110010000011110001100000000010000100000100101000001000 True False\n",
      "10011100000000010100000100001000000000100101000000110010000011110001100000000010000100000100101000001000\n",
      "100\n",
      "4 7\n",
      "length type ID bits 0\n",
      "length bits 80\n",
      "01000010000000001001010000001100100000111100011000000000100001000001001010000010 True False\n",
      "01000010000000001001010000001100100000111100011000000000100001000001001010000010\n",
      "010\n",
      "2 0\n",
      "length type ID bits 1\n",
      "num package 2\n",
      "01010000001100100000111100011000000000100001000001001010000010\n",
      "010\n",
      "2 4\n",
      "100100000111100011000000000100001000001001010000010\n",
      "100\n",
      "4 4\n",
      "1100011000000000100001000001001010000010 True False\n",
      "1100011000000000100001000001001010000010\n",
      "110\n",
      "6 1\n",
      "length type ID bits 1\n",
      "num package 2\n",
      "0001000001001010000010\n",
      "000\n",
      "0 4\n",
      "01010000010\n",
      "010\n",
      "2 4\n"
     ]
    },
    {
     "data": {
      "text/plain": [
       "[[4, 7, [[2, 0, [[2, 4, 1], [4, 4, 3]]], [6, 1, [[0, 4, 2], [2, 4, 2]]]]]]"
      ]
     },
     "execution_count": 137,
     "metadata": {},
     "output_type": "execute_result"
    }
   ],
   "source": [
    "s = copy.deepcopy(data_bin)\n",
    "sol, s = parse(s)\n",
    "sol"
   ]
  },
  {
   "cell_type": "code",
   "execution_count": 138,
   "id": "d6e30eea",
   "metadata": {},
   "outputs": [],
   "source": [
    "version_numbers = list()\n",
    "flat_list = list()\n",
    "def flatten_list(list_of_lists):\n",
    "    for item in list_of_lists:\n",
    "        if type(item) == list:\n",
    "            if not type(item[0]) == list:\n",
    "                version_numbers.append(item[0])\n",
    "            flatten_list(item)\n",
    "        else:\n",
    "            flat_list.append(item)\n",
    "    \n",
    "    return flat_list"
   ]
  },
  {
   "cell_type": "code",
   "execution_count": 139,
   "id": "edb1e8f3",
   "metadata": {},
   "outputs": [
    {
     "data": {
      "text/plain": [
       "20"
      ]
     },
     "execution_count": 139,
     "metadata": {},
     "output_type": "execute_result"
    }
   ],
   "source": [
    "flatten_list(sol)\n",
    "sum(version_numbers)"
   ]
  },
  {
   "cell_type": "code",
   "execution_count": 140,
   "id": "c125bebb",
   "metadata": {},
   "outputs": [],
   "source": [
    "def parse_list(data):\n",
    "    type_id = data[1]\n",
    "    vals = data[2]\n",
    "    print(f\"type_id: {type_id}, vals: {vals}\")\n",
    "    if type_id == 0:\n",
    "        return sum([parse_list(val) for val in vals])\n",
    "    if type_id == 1:\n",
    "        return np.prod([parse_list(val) for val in vals],  dtype=np.int64)\n",
    "    if type_id == 2:\n",
    "        return min([parse_list(val) for val in vals])\n",
    "    if type_id == 3:\n",
    "        return max([parse_list(val) for val in vals])\n",
    "    if type_id == 4:\n",
    "        return vals\n",
    "    if type_id == 5:\n",
    "        return int(parse_list(vals[0]) > parse_list(vals[1]))\n",
    "    if type_id == 6:\n",
    "        return int(parse_list(vals[0]) < parse_list(vals[1]))\n",
    "    if type_id == 7:\n",
    "        return int(parse_list(vals[0]) == parse_list(vals[1]))"
   ]
  },
  {
   "cell_type": "code",
   "execution_count": 141,
   "id": "9e987725",
   "metadata": {},
   "outputs": [
    {
     "name": "stdout",
     "output_type": "stream",
     "text": [
      "type_id: 7, vals: [[2, 0, [[2, 4, 1], [4, 4, 3]]], [6, 1, [[0, 4, 2], [2, 4, 2]]]]\n",
      "type_id: 0, vals: [[2, 4, 1], [4, 4, 3]]\n",
      "type_id: 4, vals: 1\n",
      "type_id: 4, vals: 3\n",
      "type_id: 1, vals: [[0, 4, 2], [2, 4, 2]]\n",
      "type_id: 4, vals: 2\n",
      "type_id: 4, vals: 2\n"
     ]
    },
    {
     "data": {
      "text/plain": [
       "1"
      ]
     },
     "execution_count": 141,
     "metadata": {},
     "output_type": "execute_result"
    }
   ],
   "source": [
    "parse_list(sol[0])"
   ]
  },
  {
   "cell_type": "code",
   "execution_count": null,
   "id": "b06d20be",
   "metadata": {},
   "outputs": [],
   "source": [
    "829856811869 too low\n",
    "834151779165"
   ]
  },
  {
   "cell_type": "code",
   "execution_count": 116,
   "id": "f6cb3ce8",
   "metadata": {},
   "outputs": [
    {
     "data": {
      "text/plain": [
       "[4,\n",
       " 0,\n",
       " [[3, 4, 163011],\n",
       "  [4, 4, 119],\n",
       "  [5, 0, [[2, 4, 239], [5, 4, 37195624545], [2, 4, 1455], [3, 4, 79]]],\n",
       "  [6, 0, [[3, 4, 365554], [0, 4, 2], [0, 4, 43]]],\n",
       "  [7, 4, 543],\n",
       "  [3,\n",
       "   0,\n",
       "   [[4, 1, [[5, 4, 6], [0, 4, 2], [0, 4, 13]]],\n",
       "    [0, 1, [[5, 4, 12], [1, 4, 3], [7, 4, 10]]],\n",
       "    [4, 1, [[7, 4, 13], [4, 4, 11], [5, 4, 11]]]]],\n",
       "  [2, 1, [[3, 4, 90], [5, 4, 166], [0, 4, 159]]],\n",
       "  [2, 4, 10],\n",
       "  [7, 1, [[4, 4, 165]]],\n",
       "  [7,\n",
       "   1,\n",
       "   [[4, 4, 11],\n",
       "    [4,\n",
       "     6,\n",
       "     [[6, 0, [[0, 4, 11], [6, 4, 3], [7, 4, 13]]],\n",
       "      [6, 0, [[6, 4, 2], [1, 4, 13], [1, 4, 11]]]]]]],\n",
       "  [5, 2, [[6, 4, 9]]],\n",
       "  [3,\n",
       "   3,\n",
       "   [[5,\n",
       "     1,\n",
       "     [[3,\n",
       "       3,\n",
       "       [[7,\n",
       "         1,\n",
       "         [[5,\n",
       "           1,\n",
       "           [[3,\n",
       "             1,\n",
       "             [[7,\n",
       "               3,\n",
       "               [[4,\n",
       "                 2,\n",
       "                 [[7,\n",
       "                   2,\n",
       "                   [[5,\n",
       "                     0,\n",
       "                     [[5,\n",
       "                       0,\n",
       "                       [[0,\n",
       "                         2,\n",
       "                         [[0,\n",
       "                           1,\n",
       "                           [[2,\n",
       "                             3,\n",
       "                             [[5,\n",
       "                               1,\n",
       "                               [[2,\n",
       "                                 3,\n",
       "                                 [[1,\n",
       "                                   2,\n",
       "                                   [[1,\n",
       "                                     2,\n",
       "                                     [[2,\n",
       "                                       1,\n",
       "                                       [[6,\n",
       "                                         2,\n",
       "                                         [[6,\n",
       "                                           4,\n",
       "                                           178250549]]]]]]]]]]]]]]]]]]]]]]]]]]]]]]]]]]]]]]]]],\n",
       "  [2, 0, [[1, 4, 8], [7, 4, 5717025], [7, 4, 5], [4, 4, 452537], [4, 4, 92]]],\n",
       "  [2, 1, [[7, 7, [[1, 4, 110], [4, 4, 110]]], [4, 4, 665071]]],\n",
       "  [5, 1, [[1, 4, 806182763722], [5, 6, [[3, 4, 2392], [5, 4, 2392]]]]],\n",
       "  [4, 2, [[7, 4, 7], [1, 4, 632789], [1, 4, 42032], [1, 4, 10819414]]],\n",
       "  [1,\n",
       "   3,\n",
       "   [[4, 4, 194],\n",
       "    [1, 4, 15756],\n",
       "    [5, 4, 940008],\n",
       "    [2, 4, 40359],\n",
       "    [2, 4, 334967]]],\n",
       "  [3, 3, [[2, 4, 1806], [1, 4, 12], [4, 4, 253], [7, 4, 23]]],\n",
       "  [0, 1, [[0, 4, 11462], [4, 5, [[2, 4, 2284], [7, 4, 25449842]]]]],\n",
       "  [5,\n",
       "   1,\n",
       "   [[2, 4, 104827294],\n",
       "    [2,\n",
       "     7,\n",
       "     [[6, 0, [[2, 4, 3], [1, 4, 14], [6, 4, 9]]],\n",
       "      [7, 0, [[2, 4, 8], [0, 4, 15], [3, 4, 12]]]]]]],\n",
       "  [2, 4, 14],\n",
       "  [3, 1, [[6, 6, [[4, 4, 19539], [7, 4, 136]]], [6, 4, 243]]],\n",
       "  [5, 4, 6],\n",
       "  [6, 4, 225],\n",
       "  [7,\n",
       "   1,\n",
       "   [[7, 0, [[0, 4, 12], [2, 4, 4], [4, 4, 4]]],\n",
       "    [6, 0, [[3, 4, 8], [7, 4, 15], [6, 4, 2]]],\n",
       "    [3, 0, [[4, 4, 3], [2, 4, 13], [2, 4, 15]]]]],\n",
       "  [4, 1, [[2, 4, 10793058441114], [7, 5, [[2, 4, 17], [0, 4, 17]]]]],\n",
       "  [5, 1, [[7, 4, 44], [1, 5, [[5, 4, 31308], [3, 4, 12332576451531]]]]],\n",
       "  [1, 4, 3058],\n",
       "  [7, 0, [[4, 4, 33], [3, 4, 1813601888]]],\n",
       "  [3, 1, [[2, 4, 110], [3, 4, 62], [4, 4, 43], [2, 4, 222]]],\n",
       "  [6, 1, [[2, 4, 116], [3, 4, 93]]],\n",
       "  [3, 3, [[6, 4, 1089783], [6, 4, 15]]],\n",
       "  [5,\n",
       "   1,\n",
       "   [[5,\n",
       "     5,\n",
       "     [[4, 0, [[5, 4, 10], [0, 4, 12], [2, 4, 11]]],\n",
       "      [7, 0, [[7, 4, 11], [5, 4, 6], [3, 4, 15]]]]],\n",
       "    [4, 4, 3980]]],\n",
       "  [2,\n",
       "   2,\n",
       "   [[3, 4, 4130471],\n",
       "    [6, 4, 104],\n",
       "    [4, 4, 2119406],\n",
       "    [3, 4, 23991],\n",
       "    [4, 4, 9236667]]],\n",
       "  [6, 2, [[4, 4, 4078], [3, 4, 3], [1, 4, 50154]]],\n",
       "  [2,\n",
       "   1,\n",
       "   [[5, 4, 623856162990],\n",
       "    [3,\n",
       "     5,\n",
       "     [[0, 0, [[7, 4, 5], [2, 4, 9], [6, 4, 6]]],\n",
       "      [7, 0, [[1, 4, 7], [5, 4, 9], [5, 4, 9]]]]]]],\n",
       "  [3, 1, [[7, 6, [[5, 4, 1277], [6, 4, 1277]]], [5, 4, 2403134444]]],\n",
       "  [3, 1, [[4, 7, [[1, 4, 2089], [5, 4, 6572]]], [3, 4, 170]]],\n",
       "  [5, 4, 790440084032],\n",
       "  [4, 1, [[5, 4, 59], [1, 6, [[5, 4, 12683381], [0, 4, 11820]]]]],\n",
       "  [3, 1, [[1, 5, [[4, 4, 168], [2, 4, 168]]], [0, 4, 3785306]]],\n",
       "  [5, 1, [[2, 4, 16433], [5, 6, [[1, 4, 100], [6, 4, 208]]]]],\n",
       "  [7, 0, [[6, 4, 1]]],\n",
       "  [7, 1, [[6, 7, [[0, 4, 12723155], [1, 4, 45162]]], [3, 4, 690770686820]]],\n",
       "  [5, 3, [[0, 4, 175]]],\n",
       "  [0, 3, [[6, 4, 13], [6, 4, 231], [4, 4, 124952472]]],\n",
       "  [5, 1, [[0, 4, 2746773], [6, 5, [[4, 4, 7278624], [4, 4, 456]]]]],\n",
       "  [5, 1, [[7, 4, 253], [2, 4, 80], [3, 4, 169], [5, 4, 6], [2, 4, 204]]],\n",
       "  [2, 1, [[6, 6, [[5, 4, 115], [7, 4, 4069402]]], [0, 4, 12308892]]],\n",
       "  [5, 4, 120513454],\n",
       "  [2, 1, [[6, 5, [[4, 4, 145353894], [3, 4, 15863991]]], [6, 4, 1765]]],\n",
       "  [7,\n",
       "   1,\n",
       "   [[4, 4, 21846],\n",
       "    [2,\n",
       "     6,\n",
       "     [[3, 0, [[1, 4, 13], [7, 4, 10], [4, 4, 4]]],\n",
       "      [6, 0, [[6, 4, 8], [4, 4, 4], [3, 4, 14]]]]]]],\n",
       "  [5, 2, [[5, 4, 195], [3, 4, 194917419]]]]]"
      ]
     },
     "execution_count": 116,
     "metadata": {},
     "output_type": "execute_result"
    }
   ],
   "source": [
    "sol[0]"
   ]
  },
  {
   "cell_type": "code",
   "execution_count": 142,
   "id": "8f3d47de",
   "metadata": {},
   "outputs": [
    {
     "data": {
      "text/plain": [
       "82"
      ]
     },
     "execution_count": 142,
     "metadata": {},
     "output_type": "execute_result"
    }
   ],
   "source": [
    "len(\"0100001000000000100101000000110010000011110001100000000010000100000100101000001000\")"
   ]
  },
  {
   "cell_type": "code",
   "execution_count": null,
   "id": "da8dc2a6",
   "metadata": {},
   "outputs": [],
   "source": []
  }
 ],
 "metadata": {
  "kernelspec": {
   "display_name": "Python 3 (ipykernel)",
   "language": "python",
   "name": "python3"
  },
  "language_info": {
   "codemirror_mode": {
    "name": "ipython",
    "version": 3
   },
   "file_extension": ".py",
   "mimetype": "text/x-python",
   "name": "python",
   "nbconvert_exporter": "python",
   "pygments_lexer": "ipython3",
   "version": "3.9.7"
  }
 },
 "nbformat": 4,
 "nbformat_minor": 5
}
