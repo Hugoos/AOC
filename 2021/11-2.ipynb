{
 "cells": [
  {
   "cell_type": "code",
   "execution_count": 1,
   "id": "promotional-brook",
   "metadata": {},
   "outputs": [
    {
     "data": {
      "text/plain": [
       "array([[5, 4, 8, 3, 1, 4, 3, 2, 2, 3],\n",
       "       [2, 7, 4, 5, 8, 5, 4, 7, 1, 1],\n",
       "       [5, 2, 6, 4, 5, 5, 6, 1, 7, 3],\n",
       "       [6, 1, 4, 1, 3, 3, 6, 1, 4, 6],\n",
       "       [6, 3, 5, 7, 3, 8, 5, 4, 7, 8],\n",
       "       [4, 1, 6, 7, 5, 2, 4, 6, 4, 5],\n",
       "       [2, 1, 7, 6, 8, 4, 1, 7, 2, 1],\n",
       "       [6, 8, 8, 2, 8, 8, 1, 1, 3, 4],\n",
       "       [4, 8, 4, 6, 8, 4, 8, 5, 5, 4],\n",
       "       [5, 2, 8, 3, 7, 5, 1, 5, 2, 6]])"
      ]
     },
     "execution_count": 1,
     "metadata": {},
     "output_type": "execute_result"
    }
   ],
   "source": [
    "import helpers\n",
    "import numpy as np\n",
    "import re\n",
    "import math\n",
    "from tqdm import tqdm\n",
    "import copy\n",
    "import networkx as nx\n",
    "\n",
    "data = \"\"\"5483143223\n",
    "2745854711\n",
    "5264556173\n",
    "6141336146\n",
    "6357385478\n",
    "4167524645\n",
    "2176841721\n",
    "6882881134\n",
    "4846848554\n",
    "5283751526\"\"\"\n",
    "\n",
    "#with open(\"input_11.txt\", 'r') as f:\n",
    "#    data = f.read()\n",
    "#changeDict = {\"forward\": np.array([1,0]), \"down\": np.array([0,1]), \"up\": np.array([0,-1])}\n",
    "#data = re.findall(\"(\\d+),(\\d+) -> (\\d+),(\\d+)\", data)\n",
    "#data = [x.rstrip() for x in data.split(\"\\n\\n\") if x]\n",
    "\n",
    "data = data.lstrip()\n",
    "data = data.rstrip()\n",
    "data = np.array([np.array([int(y) for y in x]) for x in data.split(\"\\n\")])\n",
    "data"
   ]
  },
  {
   "cell_type": "code",
   "execution_count": 2,
   "id": "2a90e2ae",
   "metadata": {},
   "outputs": [],
   "source": [
    "def getNeighbours(pos):\n",
    "    DYDX = [(1,0),(0,1), (-1,0), (0,-1), (1,1),(-1,1), (-1,-1), (1,-1)]\n",
    "    n_list = []\n",
    "    pos_list = []\n",
    "    for dydx in DYDX:\n",
    "        new_pos = (pos[0]+dydx[0],pos[1]+dydx[1])\n",
    "        if -1 < new_pos[0] < len(data[0]) and -1 < new_pos[1] < len(data):\n",
    "            char = data[new_pos[1]][new_pos[0]]\n",
    "            pos_list.append((new_pos[0],new_pos[1]))\n",
    "        else:\n",
    "            continue\n",
    "        if not char == \" \":\n",
    "            n_list.append(char)\n",
    "    return n_list, pos_list"
   ]
  },
  {
   "cell_type": "code",
   "execution_count": 78,
   "id": "69ec58d2",
   "metadata": {},
   "outputs": [
    {
     "name": "stdout",
     "output_type": "stream",
     "text": [
      "1717\n"
     ]
    }
   ],
   "source": [
    "flashes = 0\n",
    "while not np.where(data == 0)[0].size == data.size:\n",
    "    #print(data)\n",
    "    data += 1\n",
    "    while np.where(data > 9)[0].size > 0:\n",
    "        y_9,x_9 = np.where(data > 9)\n",
    "        #for x in np.where(data >= 9):\n",
    "        #print(x_9,y_9)\n",
    "        for x,y in zip(x_9,y_9):\n",
    "            flashes += 1\n",
    "            data[y,x] = 0\n",
    "            _, pos_list = getNeighbours((x,y))\n",
    "            for x,y in pos_list:\n",
    "                if not data[y,x] == 0:\n",
    "                    data[y,x] += 1\n",
    "    #print(\"\\n\")\n",
    "    #print(data)\n",
    "print(flashes)"
   ]
  },
  {
   "cell_type": "code",
   "execution_count": 41,
   "id": "9c7ca272",
   "metadata": {},
   "outputs": [
    {
     "data": {
      "text/plain": [
       "array([[7, 7, 0, 6, 3, 6, 5, 4, 4, 4],\n",
       "       [4, 0, 7, 8, 0, 7, 6, 0, 4, 3],\n",
       "       [7, 4, 8, 6, 7, 7, 8, 5, 0, 7],\n",
       "       [7, 3, 7, 4, 6, 5, 8, 5, 0, 0],\n",
       "       [7, 6, 0, 0, 8, 0, 7, 7, 0, 0],\n",
       "       [5, 5, 0, 0, 0, 7, 7, 8, 7, 8],\n",
       "       [5, 7, 0, 0, 0, 0, 4, 8, 3, 2],\n",
       "       [0, 0, 0, 0, 0, 0, 6, 3, 4, 5],\n",
       "       [8, 0, 0, 0, 0, 0, 0, 7, 6, 5],\n",
       "       [7, 6, 0, 0, 0, 0, 5, 7, 3, 7]])"
      ]
     },
     "execution_count": 41,
     "metadata": {},
     "output_type": "execute_result"
    }
   ],
   "source": [
    "data"
   ]
  },
  {
   "cell_type": "code",
   "execution_count": null,
   "id": "72cb8df5",
   "metadata": {},
   "outputs": [],
   "source": [
    "np.size(arr)"
   ]
  }
 ],
 "metadata": {
  "kernelspec": {
   "display_name": "Python 3 (ipykernel)",
   "language": "python",
   "name": "python3"
  },
  "language_info": {
   "codemirror_mode": {
    "name": "ipython",
    "version": 3
   },
   "file_extension": ".py",
   "mimetype": "text/x-python",
   "name": "python",
   "nbconvert_exporter": "python",
   "pygments_lexer": "ipython3",
   "version": "3.9.7"
  }
 },
 "nbformat": 4,
 "nbformat_minor": 5
}
