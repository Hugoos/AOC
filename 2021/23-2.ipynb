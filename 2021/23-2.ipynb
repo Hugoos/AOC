{
 "cells": [
  {
   "cell_type": "code",
   "execution_count": 19,
   "id": "promotional-brook",
   "metadata": {},
   "outputs": [
    {
     "data": {
      "text/plain": [
       "'#############\\n#...........#\\n###D#D#C#C###\\n  #B#A#B#A#\\n  #########'"
      ]
     },
     "execution_count": 19,
     "metadata": {},
     "output_type": "execute_result"
    }
   ],
   "source": [
    "import helpers\n",
    "import numpy as np\n",
    "import re\n",
    "import math\n",
    "from tqdm import tqdm\n",
    "import copy\n",
    "import networkx as nx\n",
    "from collections import Counter\n",
    "import ast\n",
    "import itertools as it\n",
    "from shapely.geometry import Polygon\n",
    "\n",
    "data = \"\"\"#############\n",
    "#...........#\n",
    "###D#D#C#C###\n",
    "  #B#A#B#A#\n",
    "  #########\"\"\"\n",
    "\n",
    "#############\n",
    "#...........#\n",
    "###B#C#B#D###\n",
    "  #A#D#C#A#\n",
    "  #########\n",
    "\n",
    "#with open(\"input_23.txt\", 'r') as f:\n",
    "#    data = f.read()\n",
    "\n",
    "data = data.lstrip()\n",
    "data = data.rstrip()\n",
    "    \n",
    "    \n",
    "#changeDict = {\"forward\": np.array([1,0]), \"down\": np.array([0,1]), \"up\": np.array([0,-1])}\n",
    "#data = re.findall(\"(\\w+) x=([-+]?\\d+)..([-+]?\\d+),y=([-+]?\\d+)..([-+]?\\d+),z=([-+]?\\d+)..([-+]?\\d+)\", data)\n",
    "#data = [x.rstrip() for x in data.split(\"\\n\\n\") if x]\n",
    "data\n"
   ]
  },
  {
   "cell_type": "code",
   "execution_count": 20,
   "id": "3cc65e06",
   "metadata": {},
   "outputs": [],
   "source": [
    "move = {\"A\": 1, \"B\": 10, \"C\": 100, \"D\": 1000}\n",
    "move_num = {1: 1, 2: 10, 3: 100, 4: 1000}\n",
    "translation = {1: \"A\", 2: \"B\", 3: \"C\", 4: \"D\"}\n",
    "exits = {0: 2, 1: 4, 2: 6, 3: 8}"
   ]
  },
  {
   "cell_type": "code",
   "execution_count": 40,
   "id": "9245dc0a",
   "metadata": {},
   "outputs": [
    {
     "name": "stdout",
     "output_type": "stream",
     "text": [
      "[ 0  0 -1  0 -1  0 -1  0 -1  0  0]\n",
      "[[4 4 4 2]\n",
      " [4 3 2 1]\n",
      " [3 2 1 2]\n",
      " [3 1 3 1]]\n"
     ]
    },
    {
     "data": {
      "text/plain": [
       "False"
      ]
     },
     "execution_count": 40,
     "metadata": {},
     "output_type": "execute_result"
    }
   ],
   "source": [
    "hallway = np.zeros(11, dtype=\"int8\")\n",
    "hallway[[2,4,6,8]] = -1\n",
    "#hallway[[5]] = 1\n",
    "#hallway[[10]] = 3\n",
    "print(hallway)\n",
    "Aroom = np.array([4, 4, 4, 2])\n",
    "Broom = np.array([4, 3, 2, 1])\n",
    "Croom = np.array([3, 2, 1, 2])\n",
    "Droom = np.array([3, 1, 3, 1])\n",
    "#Aroom = np.array([2, 4, 4, 1])\n",
    "#Broom = np.array([3, 3, 2, 4])\n",
    "#Croom = np.array([2, 2, 1, 3])\n",
    "#Droom = np.array([4, 1, 3, 1])\n",
    "#Aroom = np.array([1, 1])\n",
    "#Broom = np.array([2, 2])\n",
    "#Croom = np.array([3, 3])\n",
    "#Droom = np.array([4, 4])\n",
    "#Aroom = np.array([2, 1])\n",
    "#Broom = np.array([3, 4])\n",
    "#Croom = np.array([2, 3])\n",
    "#Droom = np.array([4, 1])\n",
    "\n",
    "#D#C#B#A#\n",
    "#D#B#A#C#\n",
    "rooms = np.array([Aroom, Broom, Croom, Droom])\n",
    "print(rooms)\n",
    "\n",
    "np.all([np.all(rooms[x-1,:] == x) for x in range(1,5)])\n",
    "#for x in range(1,5):\n",
    "#    print(np.all(rooms[x-1,:] == x))"
   ]
  },
  {
   "cell_type": "code",
   "execution_count": 41,
   "id": "2bd35492",
   "metadata": {},
   "outputs": [
    {
     "name": "stdout",
     "output_type": "stream",
     "text": [
      "[(0, 373437429), (1, 378937429), (423, 373437429), (593, 373437429)]\n"
     ]
    }
   ],
   "source": [
    "minScore = 999999999999\n",
    "def recurse(hallway, rooms, score):\n",
    "    global minScore\n",
    "    dests = []\n",
    "    if np.all([np.all(rooms[x-1,:] == x) for x in range(1,5)]):\n",
    "        if score < minScore:\n",
    "            minScore = score\n",
    "            print(f\"score: {minScore}\")\n",
    "    #print(\"---rooms---\")\n",
    "    for i, room in enumerate(rooms):\n",
    "        for j, val in enumerate(room):\n",
    "            if (np.all(room[:j] == 0) or j == 0) and not val == 0:\n",
    "                if val == i+1 and np.all(room[j+1:5] == i+1):\n",
    "                    continue                 \n",
    "                dests.append([(i,j), destinations((val, i), hallway, rooms, j+1)])\n",
    "    #print(\"---Halways---\")\n",
    "    for i, x in enumerate(hallway):\n",
    "        if x > 0:\n",
    "            d3 = destinations((x, i), hallway, rooms, 0)\n",
    "            if d3:\n",
    "                dests.append([(-1,i), d3])\n",
    "    #return dests\n",
    "    #print(dests)\n",
    "    for s_pos, dests_l in dests:\n",
    "        #print(s_pos, dests_l)\n",
    "        for l in dests_l:\n",
    "            e_pos, steps = l\n",
    "            nhallway = hallway.copy()\n",
    "            nrooms = rooms.copy()\n",
    "                \n",
    "            if s_pos[0] == -1:\n",
    "                val = nhallway[s_pos[1]]\n",
    "                nhallway[s_pos[1]] = 0\n",
    "            elif s_pos[0] > -1:\n",
    "                val = nrooms[s_pos[0]][s_pos[1]]\n",
    "                nrooms[s_pos[0]][s_pos[1]] = 0\n",
    "                \n",
    "            if e_pos[0] == -1:\n",
    "                nhallway[e_pos[1]] = val\n",
    "            elif e_pos[0] > -1:\n",
    "                nrooms[e_pos[0]][e_pos[1]] = val\n",
    "            recurse(nhallway, nrooms, score + (steps * move_num[val]))\n",
    "                         \n",
    "            \n",
    "# -1: hallway\n",
    "# 0 : Aroom\n",
    "# 1: Broom\n",
    "# 2: Croom\n",
    "# 3: Droom\n",
    "def destinations(pos, hallway, rooms, steps):\n",
    "    # pos = (value, position/room)\n",
    "    if steps > 0:\n",
    "        startLocation = exits[pos[1]]\n",
    "    else:\n",
    "        startLocation = pos[1]\n",
    "    destinations = []\n",
    "    accessible = set()\n",
    "    for x in range(startLocation+1, 11): #+1\n",
    "        if not hallway[x] > 0:\n",
    "            accessible.add(x)\n",
    "        else:\n",
    "            break\n",
    "    for x in range(startLocation-1, -1, -1): #-1\n",
    "        if not hallway[x] > 0:\n",
    "            accessible.add(x)\n",
    "        else:\n",
    "            break\n",
    "    if exits[pos[0]-1] in accessible:\n",
    "        if np.all(rooms[pos[0]-1][np.where(rooms[pos[0]-1] != 0)] == pos[0]) or np.all(rooms[pos[0]-1] == 0):\n",
    "            newPos = np.where(rooms[pos[0]-1] == 0)[0][-1]\n",
    "            destinations.append([(pos[0]-1, newPos), steps + abs(startLocation - exits[pos[0]-1]) + newPos+1])\n",
    "            return destinations\n",
    "    if steps > 0:\n",
    "        accessible.difference_update({2,4,6,8})\n",
    "        for x in accessible:\n",
    "            destinations.append([(-1,x), steps + abs(startLocation - x)])\n",
    "    return destinations    "
   ]
  },
  {
   "cell_type": "code",
   "execution_count": 42,
   "id": "58c674f1",
   "metadata": {},
   "outputs": [
    {
     "name": "stdout",
     "output_type": "stream",
     "text": [
      "score: 44519\n",
      "score: 44117\n",
      "score: 44115\n",
      "score: 43919\n",
      "score: 43917\n",
      "score: 43317\n",
      "score: 43119\n",
      "score: 43117\n"
     ]
    }
   ],
   "source": [
    "recurse(hallway, rooms, 0)"
   ]
  },
  {
   "cell_type": "code",
   "execution_count": 31,
   "id": "f7235901",
   "metadata": {},
   "outputs": [
    {
     "ename": "NameError",
     "evalue": "name 'scores' is not defined",
     "output_type": "error",
     "traceback": [
      "\u001b[1;31m---------------------------------------------------------------------------\u001b[0m",
      "\u001b[1;31mNameError\u001b[0m                                 Traceback (most recent call last)",
      "\u001b[1;32m~\\AppData\\Local\\Temp/ipykernel_19816/324137001.py\u001b[0m in \u001b[0;36m<module>\u001b[1;34m\u001b[0m\n\u001b[1;32m----> 1\u001b[1;33m \u001b[0mmin\u001b[0m\u001b[1;33m(\u001b[0m\u001b[0mscores\u001b[0m\u001b[1;33m)\u001b[0m\u001b[1;33m\u001b[0m\u001b[1;33m\u001b[0m\u001b[0m\n\u001b[0m",
      "\u001b[1;31mNameError\u001b[0m: name 'scores' is not defined"
     ]
    }
   ],
   "source": [
    "min(scores)"
   ]
  },
  {
   "cell_type": "code",
   "execution_count": 129,
   "id": "bb1696cb",
   "metadata": {},
   "outputs": [
    {
     "name": "stdout",
     "output_type": "stream",
     "text": [
      "False\n",
      "True\n",
      "False\n",
      "False\n"
     ]
    }
   ],
   "source": [
    "room = np.array([0,3,1,1])\n",
    "for j, val in enumerate(room):\n",
    "    print((np.all(room[:j] == 0) or j == 0) and not val == 0)\n",
    "    #print((np.all(room[:j] == 0)))"
   ]
  },
  {
   "cell_type": "code",
   "execution_count": 88,
   "id": "6f52a932",
   "metadata": {},
   "outputs": [
    {
     "data": {
      "text/plain": [
       "False"
      ]
     },
     "execution_count": 88,
     "metadata": {},
     "output_type": "execute_result"
    }
   ],
   "source": [
    "np.all(room[:3] == 0)"
   ]
  },
  {
   "cell_type": "code",
   "execution_count": 89,
   "id": "bca5ff9d",
   "metadata": {},
   "outputs": [
    {
     "data": {
      "text/plain": [
       "array([1])"
      ]
     },
     "execution_count": 89,
     "metadata": {},
     "output_type": "execute_result"
    }
   ],
   "source": [
    "room[:1]"
   ]
  },
  {
   "cell_type": "code",
   "execution_count": 90,
   "id": "7bc6ed67",
   "metadata": {},
   "outputs": [
    {
     "data": {
      "text/plain": [
       "array([1, 4, 4, 4])"
      ]
     },
     "execution_count": 90,
     "metadata": {},
     "output_type": "execute_result"
    }
   ],
   "source": [
    "room"
   ]
  },
  {
   "cell_type": "code",
   "execution_count": 93,
   "id": "305215e5",
   "metadata": {},
   "outputs": [
    {
     "data": {
      "text/plain": [
       "True"
      ]
     },
     "execution_count": 93,
     "metadata": {},
     "output_type": "execute_result"
    }
   ],
   "source": [
    "np.all(room[0+1:5] == 4)"
   ]
  },
  {
   "cell_type": "code",
   "execution_count": 97,
   "id": "f7efd89b",
   "metadata": {},
   "outputs": [
    {
     "data": {
      "text/plain": [
       "True"
      ]
     },
     "execution_count": 97,
     "metadata": {},
     "output_type": "execute_result"
    }
   ],
   "source": [
    "4 in room"
   ]
  },
  {
   "cell_type": "code",
   "execution_count": 117,
   "id": "80de63f2",
   "metadata": {},
   "outputs": [
    {
     "data": {
      "text/plain": [
       "False"
      ]
     },
     "execution_count": 117,
     "metadata": {},
     "output_type": "execute_result"
    }
   ],
   "source": [
    "np.all(room[np.where(room != 0)] == 4) or np.all(room == 0)"
   ]
  },
  {
   "cell_type": "code",
   "execution_count": 103,
   "id": "6629b553",
   "metadata": {},
   "outputs": [
    {
     "data": {
      "text/plain": [
       "array([4, 4])"
      ]
     },
     "execution_count": 103,
     "metadata": {},
     "output_type": "execute_result"
    }
   ],
   "source": [
    "room[np.where(room != 0)]"
   ]
  },
  {
   "cell_type": "code",
   "execution_count": 130,
   "id": "40ca8ea7",
   "metadata": {},
   "outputs": [
    {
     "data": {
      "text/plain": [
       "0"
      ]
     },
     "execution_count": 130,
     "metadata": {},
     "output_type": "execute_result"
    }
   ],
   "source": [
    "np.where(room == 0)[0][-1]"
   ]
  },
  {
   "cell_type": "code",
   "execution_count": null,
   "id": "80c031ca",
   "metadata": {},
   "outputs": [],
   "source": [
    "destinations(pos, hallway, rooms, steps)\n",
    "destinations(pos, hallway, rooms, steps)"
   ]
  }
 ],
 "metadata": {
  "kernelspec": {
   "display_name": "Python 3 (ipykernel)",
   "language": "python",
   "name": "python3"
  },
  "language_info": {
   "codemirror_mode": {
    "name": "ipython",
    "version": 3
   },
   "file_extension": ".py",
   "mimetype": "text/x-python",
   "name": "python",
   "nbconvert_exporter": "python",
   "pygments_lexer": "ipython3",
   "version": "3.9.7"
  }
 },
 "nbformat": 4,
 "nbformat_minor": 5
}
