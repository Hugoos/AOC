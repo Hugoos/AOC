{
 "cells": [
  {
   "cell_type": "code",
   "execution_count": 1,
   "id": "promotional-brook",
   "metadata": {},
   "outputs": [
    {
     "name": "stdout",
     "output_type": "stream",
     "text": [
      "[1, 1, 1, 1, 0, 0, 0, 1, 1, 1, 0, 1, 1, 1, 0, 1, 1, 0, 1, 1, 0, 1, 1, 0, 0, 1, 1, 1, 0, 0, 1, 1, 0, 1, 0, 1, 1, 0, 1, 0, 0, 0, 1, 1, 1, 1, 0, 0, 1, 1, 0, 0, 0, 1, 0, 0, 1, 0, 0, 1, 0, 0, 0, 0, 1, 0, 0, 1, 0, 0, 1, 1, 0, 1, 1, 0, 0, 1, 0, 1, 0, 1, 1, 1, 1, 0, 1, 1, 1, 1, 1, 1, 0, 1, 0, 0, 1, 0, 1, 1, 0, 0, 1, 1, 0, 0, 0, 0, 1, 0, 1, 1, 1, 1, 0, 1, 1, 0, 0, 0, 1, 0, 1, 0, 0, 1, 0, 1, 1, 1, 1, 0, 1, 0, 1, 0, 1, 0, 0, 1, 1, 1, 0, 1, 1, 0, 0, 1, 0, 1, 0, 1, 0, 1, 0, 0, 0, 1, 0, 0, 0, 0, 0, 1, 1, 1, 0, 1, 0, 1, 0, 0, 0, 1, 0, 0, 1, 0, 0, 0, 0, 1, 1, 1, 1, 1, 1, 1, 0, 0, 0, 0, 1, 0, 0, 1, 0, 0, 0, 1, 1, 1, 0, 1, 1, 0, 0, 0, 0, 0, 0, 0, 0, 0, 1, 0, 1, 0, 1, 1, 0, 1, 0, 0, 0, 0, 0, 0, 0, 0, 1, 1, 0, 0, 0, 1, 0, 0, 1, 1, 0, 0, 0, 0, 0, 0, 0, 1, 1, 1, 1, 0, 1, 0, 1, 0, 1, 0, 1, 0, 1, 0, 1, 1, 1, 1, 0, 0, 1, 0, 0, 0, 0, 0, 0, 0, 0, 0, 0, 1, 0, 1, 1, 0, 0, 0, 0, 0, 0, 1, 1, 0, 0, 0, 0, 0, 0, 1, 1, 1, 0, 1, 0, 0, 1, 1, 0, 1, 0, 1, 0, 0, 0, 0, 0, 1, 1, 1, 0, 1, 0, 0, 1, 0, 0, 0, 1, 1, 1, 0, 1, 1, 0, 0, 0, 0, 0, 0, 0, 0, 1, 0, 0, 1, 0, 1, 1, 0, 1, 0, 1, 1, 1, 0, 1, 0, 0, 1, 1, 1, 1, 1, 0, 0, 1, 1, 0, 0, 1, 0, 0, 1, 0, 1, 0, 1, 0, 0, 0, 1, 1, 1, 0, 0, 1, 1, 0, 0, 1, 0, 1, 1, 1, 0, 1, 1, 0, 0, 0, 1, 0, 1, 1, 0, 1, 0, 0, 0, 0, 0, 1, 0, 1, 0, 0, 0, 0, 0, 0, 0, 0, 0, 0, 1, 0, 0, 1, 1, 0, 1, 1, 1, 1, 1, 1, 1, 1, 1, 0, 1, 0, 1, 0, 0, 1, 1, 0, 1, 0, 1, 1, 0, 0, 1, 1, 1, 1, 1, 1, 0, 0, 0, 0, 0, 1, 1, 1, 1, 0, 0, 0, 1, 1, 1, 0, 0, 1, 1, 1, 0, 1, 0, 0, 1, 1, 1, 1, 1, 1, 1, 1, 1, 1, 0, 1, 0, 1, 0, 0, 0, 0, 0, 1, 1, 1, 0, 1, 1, 0, 1, 1, 0]\n",
      "[[1 0 1 ... 0 1 0]\n",
      " [0 1 1 ... 0 0 0]\n",
      " [1 1 0 ... 1 1 0]\n",
      " ...\n",
      " [1 1 0 ... 1 0 0]\n",
      " [0 0 1 ... 0 0 1]\n",
      " [1 1 1 ... 1 1 1]]\n"
     ]
    }
   ],
   "source": [
    "import helpers\n",
    "import numpy as np\n",
    "import re\n",
    "import math\n",
    "from tqdm import tqdm\n",
    "import copy\n",
    "import networkx as nx\n",
    "from collections import Counter\n",
    "import ast\n",
    "import itertools as it\n",
    "\n",
    "data = \"\"\"\n",
    "..#.#..#####.#.#.#.###.##.....###.##.#..###.####..#####..#....#..#..##..###..######.###...####..#..#####..##..#.#####...##.#.#..#.##..#.#......#.###.######.###.####...#.##.##..#..#..#####.....#.#....###..#.##......#.....#..#..#..##..#...##.######.####.####.#.#...#.......#..#.#.#...####.##.#......#..#...##.#.##..#...##.#.##..###.#......#.#.......#.#.#.####.###.##...#.....####.#..#..#.##.#....##..#.####....##...##..#...#......#.#.......#.......##..####..#...#.#.#...##..#.#..###..#####........#..####......#..#\n",
    "\n",
    "#..#.\n",
    "#....\n",
    "##..#\n",
    "..#..\n",
    "..###\n",
    "\"\"\"\n",
    "\n",
    "with open(\"input_20.txt\", 'r') as f:\n",
    "    data = f.read()\n",
    "#changeDict = {\"forward\": np.array([1,0]), \"down\": np.array([0,1]), \"up\": np.array([0,-1])}\n",
    "#data = re.findall(\"(\\d+),(\\d+) -> (\\d+),(\\d+)\", data)\n",
    "#data = [x.rstrip() for x in data.split(\"\\n\\n\") if x]\n",
    "\n",
    "translation = {\"#\": 1, \".\": 0}\n",
    "\n",
    "data = data.lstrip()\n",
    "data = data.rstrip()\n",
    "\n",
    "decoder, array = data.split(\"\\n\\n\")\n",
    "decoder = [int(translation[x]) for x in decoder]\n",
    "\n",
    "array = np.array([np.array([int(translation[y]) for y in x]) for x in array.split(\"\\n\")])\n",
    "print(decoder)\n",
    "print(array)\n"
   ]
  },
  {
   "cell_type": "code",
   "execution_count": 2,
   "id": "44f37e3e",
   "metadata": {},
   "outputs": [],
   "source": [
    "from scipy.spatial import Delaunay\n",
    "def manhattan(a, b):\n",
    "    return sum(abs(val1-val2) for val1, val2 in zip(a,b))"
   ]
  },
  {
   "cell_type": "code",
   "execution_count": 3,
   "id": "21cba485",
   "metadata": {},
   "outputs": [],
   "source": [
    "def getNeighboursInRow(array, pos, outside_area = \"0\", way=9):\n",
    "    if way == 4:\n",
    "        DYDX = [(1,0),(0,1), (-1,0), (0,-1)]\n",
    "    elif way == 8:\n",
    "        DYDX = [(1,0),(0,1), (-1,0), (0,-1), (1,1),(-1,1), (-1,-1), (1,-1)]\n",
    "    elif way == 9:\n",
    "        DYDX = [(1,0),(0,1), (-1,0), (0,-1), (1,1),(-1,1), (-1,-1), (1,-1)]\n",
    "        DYDX = [(-1,-1), (0,-1), (1,-1), (-1,0), (0,0), (1,0), (-1,1), (0,1), (1,1)]\n",
    "    else:\n",
    "        print(\"inproper way\")\n",
    "        return\n",
    "    n_list = []\n",
    "    pos_list = []\n",
    "    answer = \"\"\n",
    "    for dydx in DYDX:\n",
    "        new_pos = (pos[0]+dydx[0],pos[1]+dydx[1])\n",
    "        if -1 < new_pos[0] < len(array[0]) and -1 < new_pos[1] < len(array):\n",
    "            answer += str(array[new_pos[1]][new_pos[0]])\n",
    "            pos_list.append((new_pos[0],new_pos[1]))\n",
    "        else:\n",
    "            answer += outside_area\n",
    "\n",
    "    return int(answer, 2)"
   ]
  },
  {
   "cell_type": "code",
   "execution_count": 4,
   "id": "6d44314e",
   "metadata": {},
   "outputs": [
    {
     "name": "stderr",
     "output_type": "stream",
     "text": [
      "100%|██████████████████████████████████████████████████████████████████████████████████| 50/50 [00:45<00:00,  1.10it/s]\n"
     ]
    }
   ],
   "source": [
    "oa ={\"1\": \"0\", \"0\": \"1\"}\n",
    "outsideArea = \"0\"\n",
    "for x in tqdm(range(50)):\n",
    "    array = np.pad(array, [(3, ), (3, )], mode='constant', constant_values=int(outsideArea))\n",
    "    new_array = np.zeros_like(array)\n",
    "    for y, r in enumerate(array):\n",
    "        for x, val in enumerate(r):\n",
    "            new_array[y,x] = decoder[getNeighboursInRow(array, (x,y), outsideArea)]\n",
    "    outsideArea = oa[outsideArea]\n",
    "    array = new_array"
   ]
  },
  {
   "cell_type": "code",
   "execution_count": 5,
   "id": "888282b1",
   "metadata": {},
   "outputs": [
    {
     "name": "stdout",
     "output_type": "stream",
     "text": [
      "16112\n"
     ]
    }
   ],
   "source": [
    "#helpers.npNicePrint(array)\n",
    "print(sum(sum(array)))"
   ]
  },
  {
   "cell_type": "code",
   "execution_count": null,
   "id": "28075294",
   "metadata": {},
   "outputs": [],
   "source": []
  }
 ],
 "metadata": {
  "kernelspec": {
   "display_name": "Python 3 (ipykernel)",
   "language": "python",
   "name": "python3"
  },
  "language_info": {
   "codemirror_mode": {
    "name": "ipython",
    "version": 3
   },
   "file_extension": ".py",
   "mimetype": "text/x-python",
   "name": "python",
   "nbconvert_exporter": "python",
   "pygments_lexer": "ipython3",
   "version": "3.9.7"
  }
 },
 "nbformat": 4,
 "nbformat_minor": 5
}
