{
 "cells": [
  {
   "cell_type": "code",
   "execution_count": 23,
   "id": "promotional-brook",
   "metadata": {},
   "outputs": [
    {
     "data": {
      "text/plain": [
       "array([[9, 9, 3, ..., 3, 6, 8],\n",
       "       [5, 2, 5, ..., 9, 4, 1],\n",
       "       [4, 7, 2, ..., 5, 9, 2],\n",
       "       ...,\n",
       "       [6, 9, 9, ..., 3, 9, 2],\n",
       "       [7, 5, 9, ..., 6, 9, 9],\n",
       "       [6, 1, 9, ..., 9, 1, 9]])"
      ]
     },
     "execution_count": 23,
     "metadata": {},
     "output_type": "execute_result"
    }
   ],
   "source": [
    "import helpers\n",
    "import numpy as np\n",
    "import re\n",
    "import math\n",
    "from tqdm import tqdm\n",
    "import copy\n",
    "import networkx as nx\n",
    "from collections import Counter\n",
    "\n",
    "data = \"\"\"1163751742\n",
    "1381373672\n",
    "2136511328\n",
    "3694931569\n",
    "7463417111\n",
    "1319128137\n",
    "1359912421\n",
    "3125421639\n",
    "1293138521\n",
    "2311944581\"\"\"\n",
    "\n",
    "with open(\"input_15.txt\", 'r') as f:\n",
    "    data = f.read()\n",
    "#changeDict = {\"forward\": np.array([1,0]), \"down\": np.array([0,1]), \"up\": np.array([0,-1])}\n",
    "#data = re.findall(\"(\\d+),(\\d+) -> (\\d+),(\\d+)\", data)\n",
    "#data = [x.rstrip() for x in data.split(\"\\n\\n\") if x]\n",
    "\n",
    "\n",
    "data = data.lstrip()\n",
    "data = data.rstrip()\n",
    "data = np.array([np.array([int(y) for y in x]) for x in data.split(\"\\n\")])\n",
    "\n",
    "#data = [x.split(\"-\") for x in data.split(\"\\n\")]\n",
    "\n",
    "data"
   ]
  },
  {
   "cell_type": "code",
   "execution_count": 24,
   "id": "e31d0b1d",
   "metadata": {},
   "outputs": [],
   "source": [
    "def getNeighbours(pos, way=4):\n",
    "    if way == 4:\n",
    "        DYDX = [(1,0),(0,1), (-1,0), (0,-1)]\n",
    "    elif way == 8:\n",
    "        DYDX = [(1,0),(0,1), (-1,0), (0,-1), (1,1),(-1,1), (-1,-1), (1,-1)]\n",
    "    else:\n",
    "        print(\"inproper way\")\n",
    "        return\n",
    "    n_list = []\n",
    "    pos_list = []\n",
    "    for dydx in DYDX:\n",
    "        new_pos = (pos[0]+dydx[0],pos[1]+dydx[1])\n",
    "        if -1 < new_pos[0] < len(data[0]) and -1 < new_pos[1] < len(data):\n",
    "            char = data[new_pos[1]][new_pos[0]]\n",
    "            pos_list.append((new_pos[0],new_pos[1]))\n",
    "        else:\n",
    "            continue\n",
    "        if not char == \" \":\n",
    "            n_list.append(char)\n",
    "    return n_list, pos_list"
   ]
  },
  {
   "cell_type": "code",
   "execution_count": 25,
   "id": "66eae6c8",
   "metadata": {},
   "outputs": [],
   "source": [
    "G = nx.DiGraph()\n",
    "\n",
    "for y, r in enumerate(data):\n",
    "    for x, val in enumerate(r):\n",
    "        pos = (x,y)\n",
    "        G.add_node(pos)\n",
    "        n_list, pos_list = getNeighbours(pos)\n",
    "        for n, pos_n in zip(n_list, pos_list):\n",
    "            G.add_edge(pos, pos_n, weight = int(n))"
   ]
  },
  {
   "cell_type": "code",
   "execution_count": 26,
   "id": "a7cf6620",
   "metadata": {},
   "outputs": [
    {
     "data": {
      "text/plain": [
       "739"
      ]
     },
     "execution_count": 26,
     "metadata": {},
     "output_type": "execute_result"
    }
   ],
   "source": [
    "start = (0,0)\n",
    "end = (len(data)-1,len(data)-1)\n",
    "\n",
    "path = nx.shortest_path(G, source=start, target=end, weight=\"weight\")\n",
    "nx.path_weight(G, path, weight=\"weight\")"
   ]
  },
  {
   "cell_type": "code",
   "execution_count": null,
   "id": "bd21e977",
   "metadata": {},
   "outputs": [],
   "source": []
  }
 ],
 "metadata": {
  "kernelspec": {
   "display_name": "Python 3 (ipykernel)",
   "language": "python",
   "name": "python3"
  },
  "language_info": {
   "codemirror_mode": {
    "name": "ipython",
    "version": 3
   },
   "file_extension": ".py",
   "mimetype": "text/x-python",
   "name": "python",
   "nbconvert_exporter": "python",
   "pygments_lexer": "ipython3",
   "version": "3.9.7"
  }
 },
 "nbformat": 4,
 "nbformat_minor": 5
}
