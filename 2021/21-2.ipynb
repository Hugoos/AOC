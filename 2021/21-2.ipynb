{
 "cells": [
  {
   "cell_type": "code",
   "execution_count": 101,
   "id": "promotional-brook",
   "metadata": {},
   "outputs": [],
   "source": [
    "import helpers\n",
    "import numpy as np\n",
    "import re\n",
    "import math\n",
    "from tqdm import tqdm\n",
    "import copy\n",
    "import networkx as nx\n",
    "from collections import Counter\n",
    "import ast\n",
    "import itertools as it\n",
    "\n",
    "data = \"\"\"\n",
    "Player 1 starting position: 4\n",
    "Player 2 starting position: 8\n",
    "\"\"\"\n",
    "\n",
    "with open(\"input_21.txt\", 'r') as f:\n",
    "    data = f.read()\n",
    "#changeDict = {\"forward\": np.array([1,0]), \"down\": np.array([0,1]), \"up\": np.array([0,-1])}\n",
    "#data = re.findall(\"(\\d+),(\\d+) -> (\\d+),(\\d+)\", data)\n",
    "#data = [x.rstrip() for x in data.split(\"\\n\\n\") if x]\n",
    "\n",
    "player1 = {\"space\": 4, \"score\": 0}\n",
    "player2 = {\"space\": 8, \"score\": 0}\n",
    "#player1 = {\"space\": 7, \"score\": 0}\n",
    "#player2 = {\"space\": 5, \"score\": 0}\n",
    "dice = 0\n",
    "states = {}\n",
    "players = [player1, player2]\n",
    "for turn in [1,2]:\n",
    "    for pos1 in range(1,11):\n",
    "        for pos2 in range(1,11):\n",
    "            for score1 in range(0,22):\n",
    "                for score2 in range(0,22):\n",
    "                    #print(pos1)\n",
    "                    states[(turn, pos1, pos2, score1, score2)] = 0\n",
    "#states[(1,4,8,0,0)] = 1"
   ]
  },
  {
   "cell_type": "code",
   "execution_count": 102,
   "id": "f51b5255",
   "metadata": {},
   "outputs": [
    {
     "data": {
      "text/plain": [
       "96800"
      ]
     },
     "execution_count": 102,
     "metadata": {},
     "output_type": "execute_result"
    }
   ],
   "source": [
    "\n",
    "len(states)"
   ]
  },
  {
   "cell_type": "code",
   "execution_count": 103,
   "id": "da61b380",
   "metadata": {},
   "outputs": [
    {
     "name": "stdout",
     "output_type": "stream",
     "text": [
      "Counter({6: 7, 5: 6, 7: 6, 4: 3, 8: 3, 3: 1, 9: 1})\n"
     ]
    }
   ],
   "source": [
    "vals = []\n",
    "for x in [1,2,3]:\n",
    "    for y in [1,2,3]:\n",
    "        for z in [1,2,3]:\n",
    "            vals.append(x+y+z)\n",
    "diracDice = Counter(vals)\n",
    "print(diracDice)\n",
    "todo = {}\n",
    "#todo[(1,4,8,0,0)] = 1\n",
    "todo[(1,7,5,0,0)] = 1"
   ]
  },
  {
   "cell_type": "code",
   "execution_count": 104,
   "id": "7cbc531b",
   "metadata": {},
   "outputs": [
    {
     "data": {
      "text/plain": [
       "{(1, 7, 5, 0, 0): 1}"
      ]
     },
     "execution_count": 104,
     "metadata": {},
     "output_type": "execute_result"
    }
   ],
   "source": [
    "def diracTurn(state, numTimes):\n",
    "    states[state] += numTimes\n",
    "    for k,v in diracDice.items():\n",
    "        #print(state)\n",
    "        if state[0] == 1:\n",
    "            nState = list(state)\n",
    "            nState[1] = (nState[1] - 1 + k) % 10 + 1\n",
    "            nState[3] = min(nState[3] + nState[1], 21)\n",
    "        elif state[0] == 2:\n",
    "            nState = list(state)\n",
    "            nState[2] = (nState[2] - 1 + k) % 10 + 1\n",
    "            nState[4] = min(nState[4] + nState[2], 21)\n",
    "        else:\n",
    "            print(\"error\")\n",
    "        nState[0] = (nState[0] - 1 + 1) % 2 + 1\n",
    "        nState = tuple(nState)\n",
    "        if nState[3] == 21 or nState[4] == 21:\n",
    "            states[nState] += v*numTimes\n",
    "            continue\n",
    "        if not nState in todo:\n",
    "            todo[nState] = v*numTimes\n",
    "        else:\n",
    "            todo[nState] += (v*numTimes)\n",
    "        \n",
    "#diracTurn((1,4,8,0,0), 1)\n",
    "todo"
   ]
  },
  {
   "cell_type": "code",
   "execution_count": 105,
   "id": "3432d65e",
   "metadata": {},
   "outputs": [
    {
     "data": {
      "text/plain": [
       "{}"
      ]
     },
     "execution_count": 105,
     "metadata": {},
     "output_type": "execute_result"
    }
   ],
   "source": [
    "while len(todo) > 0:\n",
    "    state = next(iter(todo))\n",
    "    numTimes = todo.pop(state)\n",
    "    #print(state,numTimes)\n",
    "    diracTurn(state,numTimes)\n",
    "todo"
   ]
  },
  {
   "cell_type": "code",
   "execution_count": 106,
   "id": "2655f888",
   "metadata": {},
   "outputs": [
    {
     "name": "stdout",
     "output_type": "stream",
     "text": [
      "809953813657517\n"
     ]
    }
   ],
   "source": [
    "pp1 = 0\n",
    "pp2 = 0\n",
    "for k,v in states.items():\n",
    "    if k[3] == 21:\n",
    "        pp1 += v\n",
    "    elif k[4] == 21:\n",
    "        pp2 += v\n",
    "\n",
    "print(max(pp1,pp2))\n",
    "        "
   ]
  },
  {
   "cell_type": "code",
   "execution_count": 100,
   "id": "8a0f5349",
   "metadata": {},
   "outputs": [
    {
     "data": {
      "text/plain": [
       "(444356092776315, 341960390180808)"
      ]
     },
     "execution_count": 100,
     "metadata": {},
     "output_type": "execute_result"
    }
   ],
   "source": [
    "pp1,pp2"
   ]
  },
  {
   "cell_type": "code",
   "execution_count": 6,
   "id": "28075294",
   "metadata": {},
   "outputs": [
    {
     "name": "stdout",
     "output_type": "stream",
     "text": [
      "993 [{'space': 10, 'score': 1000}, {'space': 3, 'score': 745}]\n",
      "798147\n"
     ]
    }
   ],
   "source": [
    "def turn(dice, player):\n",
    "    spaces = ((dice % 100) + 1) + (((dice+1) % 100) + 1) + (((dice+2) % 100) + 1)\n",
    "    dice += 3\n",
    "    player[\"space\"] = (player[\"space\"] - 1 + spaces) % 10 + 1\n",
    "    player[\"score\"] += player[\"space\"]\n",
    "    return dice\n",
    "finished = False\n",
    "while not finished:\n",
    "    for player in players:\n",
    "        dice = turn(dice, player)\n",
    "        #print(dice, player)\n",
    "        if player[\"score\"] >= 1000:\n",
    "            finished = True\n",
    "            break\n",
    "            \n",
    "print(dice, players)            \n",
    "#print(993 * 745)\n",
    "print(861 * 927)"
   ]
  }
 ],
 "metadata": {
  "kernelspec": {
   "display_name": "Python 3 (ipykernel)",
   "language": "python",
   "name": "python3"
  },
  "language_info": {
   "codemirror_mode": {
    "name": "ipython",
    "version": 3
   },
   "file_extension": ".py",
   "mimetype": "text/x-python",
   "name": "python",
   "nbconvert_exporter": "python",
   "pygments_lexer": "ipython3",
   "version": "3.9.7"
  }
 },
 "nbformat": 4,
 "nbformat_minor": 5
}
