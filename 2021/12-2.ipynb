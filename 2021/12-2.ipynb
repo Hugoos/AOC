{
 "cells": [
  {
   "cell_type": "code",
   "execution_count": 35,
   "id": "promotional-brook",
   "metadata": {},
   "outputs": [
    {
     "data": {
      "text/plain": [
       "[['VJ', 'nx'],\n",
       " ['start', 'sv'],\n",
       " ['nx', 'UL'],\n",
       " ['FN', 'nx'],\n",
       " ['FN', 'zl'],\n",
       " ['end', 'VJ'],\n",
       " ['sv', 'hi'],\n",
       " ['em', 'VJ'],\n",
       " ['start', 'hi'],\n",
       " ['sv', 'em'],\n",
       " ['end', 'zl'],\n",
       " ['zl', 'em'],\n",
       " ['hi', 'VJ'],\n",
       " ['FN', 'em'],\n",
       " ['start', 'VJ'],\n",
       " ['jx', 'FN'],\n",
       " ['zl', 'sv'],\n",
       " ['FN', 'sv'],\n",
       " ['FN', 'hi'],\n",
       " ['nx', 'end']]"
      ]
     },
     "execution_count": 35,
     "metadata": {},
     "output_type": "execute_result"
    }
   ],
   "source": [
    "import helpers\n",
    "import numpy as np\n",
    "import re\n",
    "import math\n",
    "from tqdm import tqdm\n",
    "import copy\n",
    "import networkx as nx\n",
    "\n",
    "data = \"\"\"fs-end\n",
    "he-DX\n",
    "fs-he\n",
    "start-DX\n",
    "pj-DX\n",
    "end-zg\n",
    "zg-sl\n",
    "zg-pj\n",
    "pj-he\n",
    "RW-he\n",
    "fs-DX\n",
    "pj-RW\n",
    "zg-RW\n",
    "start-pj\n",
    "he-WI\n",
    "zg-he\n",
    "pj-fs\n",
    "start-RW\"\"\"\n",
    "\n",
    "with open(\"input_12.txt\", 'r') as f:\n",
    "    data = f.read()\n",
    "#changeDict = {\"forward\": np.array([1,0]), \"down\": np.array([0,1]), \"up\": np.array([0,-1])}\n",
    "#data = re.findall(\"(\\d+),(\\d+) -> (\\d+),(\\d+)\", data)\n",
    "#data = [x.rstrip() for x in data.split(\"\\n\\n\") if x]\n",
    "\n",
    "data = data.lstrip()\n",
    "data = data.rstrip()\n",
    "data = [x.split(\"-\") for x in data.split(\"\\n\")]\n",
    "data"
   ]
  },
  {
   "cell_type": "code",
   "execution_count": 36,
   "id": "ae0172be",
   "metadata": {},
   "outputs": [],
   "source": [
    "G = nx.Graph()\n",
    "for x in data:\n",
    "    G.add_edge(x[0],x[1])"
   ]
  },
  {
   "cell_type": "code",
   "execution_count": 37,
   "id": "d715a8c2",
   "metadata": {},
   "outputs": [
    {
     "data": {
      "image/png": "[encoded data removed]",
      "text/plain": [
       "<Figure size 432x288 with 1 Axes>"
      ]
     },
     "metadata": {},
     "output_type": "display_data"
    }
   ],
   "source": [
    "nx.draw(G)"
   ]
  },
  {
   "cell_type": "code",
   "execution_count": 38,
   "id": "b8faf822",
   "metadata": {},
   "outputs": [],
   "source": [
    "routes = []\n",
    "def expandedBFS(node, route):\n",
    "    visited = False\n",
    "    for x in route:\n",
    "        if x.islower() and route.count(x) >= 2:\n",
    "            visited = True\n",
    "                \n",
    "    if node.islower() and route.count(node) >= 2 and not visited:\n",
    "        return\n",
    "    if node.islower() and route.count(node) >= 1 and visited:\n",
    "        return\n",
    "    route.append(node)\n",
    "    if route[-1] == \"end\":\n",
    "        routes.append(route)\n",
    "        return\n",
    "    for x in G[node]:\n",
    "        if not x == \"start\":\n",
    "            expandedBFS(x, copy.deepcopy(route))"
   ]
  },
  {
   "cell_type": "code",
   "execution_count": 39,
   "id": "d8ed5c70",
   "metadata": {},
   "outputs": [
    {
     "data": {
      "text/plain": [
       "149385"
      ]
     },
     "execution_count": 39,
     "metadata": {},
     "output_type": "execute_result"
    }
   ],
   "source": [
    "routes = []\n",
    "expandedBFS(\"start\", [])\n",
    "len(routes)"
   ]
  },
  {
   "cell_type": "code",
   "execution_count": null,
   "id": "a9d6e354",
   "metadata": {},
   "outputs": [],
   "source": []
  }
 ],
 "metadata": {
  "kernelspec": {
   "display_name": "Python 3 (ipykernel)",
   "language": "python",
   "name": "python3"
  },
  "language_info": {
   "codemirror_mode": {
    "name": "ipython",
    "version": 3
   },
   "file_extension": ".py",
   "mimetype": "text/x-python",
   "name": "python",
   "nbconvert_exporter": "python",
   "pygments_lexer": "ipython3",
   "version": "3.9.7"
  }
 },
 "nbformat": 4,
 "nbformat_minor": 5
}
