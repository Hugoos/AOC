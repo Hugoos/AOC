{
 "cells": [
  {
   "cell_type": "code",
   "execution_count": 19,
   "id": "promotional-brook",
   "metadata": {},
   "outputs": [
    {
     "name": "stdout",
     "output_type": "stream",
     "text": [
      "wtnhxymk\n"
     ]
    }
   ],
   "source": [
    "data = \"abc\"\n",
    "data = \"wtnhxymk\"\n",
    "#with open(\"input_4.txt\", 'r') as f:\n",
    "#    data = f.read()\n",
    "#print(data)\n",
    "#data = [x for x in data.split(\"\\n\") if not x == \"\"]\n",
    "print(data)\n",
    "sol = [0,0,0,0,0,0,0,0]\n",
    "seen = set()"
   ]
  },
  {
   "cell_type": "code",
   "execution_count": 20,
   "id": "critical-prince",
   "metadata": {},
   "outputs": [
    {
     "name": "stdout",
     "output_type": "stream",
     "text": [
      "wtnhxymk2231254\n",
      "wtnhxymk2440385\n",
      "wtnhxymk2640705\n",
      "wtnhxymk3115031\n",
      "wtnhxymk5045682\n",
      "wtnhxymk8562236\n",
      "wtnhxymk9103137\n",
      "wtnhxymk9433034\n",
      "wtnhxymk9669127\n",
      "wtnhxymk13753308\n",
      "wtnhxymk13976178\n",
      "wtnhxymk15855849\n",
      "wtnhxymk16774052\n",
      "wtnhxymk16837862\n",
      "wtnhxymk18302330\n",
      "wtnhxymk19303492\n",
      "wtnhxymk19808390\n",
      "wtnhxymk19937884\n",
      "wtnhxymk20311461\n",
      "wtnhxymk20411973\n",
      "wtnhxymk20774189\n",
      "wtnhxymk22811727\n",
      "wtnhxymk23478701\n",
      "wtnhxymk23744188\n",
      "wtnhxymk24462569\n",
      "wtnhxymk24526626\n",
      "wtnhxymk25530151\n",
      "wtnhxymk27712456\n",
      "437e60fc\n"
     ]
    }
   ],
   "source": [
    "import hashlib\n",
    "\n",
    "hashlib.md5(data.encode('utf-8')).hexdigest()\n",
    "iteration = 0\n",
    "ans = \"\"\n",
    "while not len(ans) == 8:\n",
    "    hashString = data + str(iteration)\n",
    "    hash_ = hashlib.md5(hashString.encode('utf-8')).hexdigest()\n",
    "    if hash_[:5] == \"00000\":\n",
    "        print(hashString)\n",
    "        i = int(hash_[5], 16)\n",
    "        val = hash_[6]\n",
    "        if 0 <= i <= 7 and not i in seen: \n",
    "            seen.add(i)\n",
    "            ans += hash_[5]\n",
    "            sol[i] = val\n",
    "    iteration += 1\n",
    "print(\"\".join(sol))\n",
    "    "
   ]
  }
 ],
 "metadata": {
  "kernelspec": {
   "display_name": "Python 3",
   "language": "python",
   "name": "python3"
  },
  "language_info": {
   "codemirror_mode": {
    "name": "ipython",
    "version": 3
   },
   "file_extension": ".py",
   "mimetype": "text/x-python",
   "name": "python",
   "nbconvert_exporter": "python",
   "pygments_lexer": "ipython3",
   "version": "3.7.9"
  }
 },
 "nbformat": 4,
 "nbformat_minor": 5
}
