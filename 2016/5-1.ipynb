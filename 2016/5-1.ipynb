{
 "cells": [
  {
   "cell_type": "code",
   "execution_count": 17,
   "id": "promotional-brook",
   "metadata": {},
   "outputs": [
    {
     "name": "stdout",
     "output_type": "stream",
     "text": [
      "wtnhxymk\n"
     ]
    }
   ],
   "source": [
    "data = \"abc\"\n",
    "data = \"wtnhxymk\"\n",
    "#with open(\"input_4.txt\", 'r') as f:\n",
    "#    data = f.read()\n",
    "#print(data)\n",
    "#data = [x for x in data.split(\"\\n\") if not x == \"\"]\n",
    "print(data)\n"
   ]
  },
  {
   "cell_type": "code",
   "execution_count": 18,
   "id": "critical-prince",
   "metadata": {},
   "outputs": [
    {
     "name": "stdout",
     "output_type": "stream",
     "text": [
      "wtnhxymk2231254\n",
      "wtnhxymk2440385\n",
      "wtnhxymk2640705\n",
      "wtnhxymk3115031\n",
      "wtnhxymk5045682\n",
      "wtnhxymk8562236\n",
      "wtnhxymk9103137\n",
      "wtnhxymk9433034\n",
      "2414bc77\n"
     ]
    }
   ],
   "source": [
    "import hashlib\n",
    "\n",
    "hashlib.md5(data.encode('utf-8')).hexdigest()\n",
    "iteration = 0\n",
    "ans = \"\"\n",
    "while not len(ans) == 8:\n",
    "    hashString = data + str(iteration)\n",
    "    hash_ = hashlib.md5(hashString.encode('utf-8')).hexdigest()\n",
    "    if hash_[:5] == \"00000\":\n",
    "        print(hashString)\n",
    "        ans += hash_[5]\n",
    "    iteration += 1\n",
    "print(ans)\n",
    "    "
   ]
  }
 ],
 "metadata": {
  "kernelspec": {
   "display_name": "Python 3",
   "language": "python",
   "name": "python3"
  },
  "language_info": {
   "codemirror_mode": {
    "name": "ipython",
    "version": 3
   },
   "file_extension": ".py",
   "mimetype": "text/x-python",
   "name": "python",
   "nbconvert_exporter": "python",
   "pygments_lexer": "ipython3",
   "version": "3.7.9"
  }
 },
 "nbformat": 4,
 "nbformat_minor": 5
}
