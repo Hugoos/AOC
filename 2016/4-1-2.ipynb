{
 "cells": [
  {
   "cell_type": "code",
   "execution_count": 21,
   "id": "promotional-brook",
   "metadata": {},
   "outputs": [
    {
     "name": "stdout",
     "output_type": "stream",
     "text": [
      "qzmt-zixmtkozy-ivhz-343\n"
     ]
    },
    {
     "ename": "ValueError",
     "evalue": "not enough values to unpack (expected 2, got 1)",
     "output_type": "error",
     "traceback": [
      "\u001b[1;31m---------------------------------------------------------------------------\u001b[0m",
      "\u001b[1;31mValueError\u001b[0m                                Traceback (most recent call last)",
      "\u001b[1;32m<ipython-input-21-4f4db7f14394>\u001b[0m in \u001b[0;36m<module>\u001b[1;34m\u001b[0m\n\u001b[0;32m     14\u001b[0m     \u001b[0menc_name\u001b[0m \u001b[1;33m=\u001b[0m \u001b[1;34m\"\"\u001b[0m\u001b[1;33m.\u001b[0m\u001b[0mjoin\u001b[0m\u001b[1;33m(\u001b[0m\u001b[0menc_name\u001b[0m\u001b[1;33m)\u001b[0m\u001b[1;33m\u001b[0m\u001b[1;33m\u001b[0m\u001b[0m\n\u001b[0;32m     15\u001b[0m     \u001b[0mother\u001b[0m \u001b[1;33m=\u001b[0m \u001b[0mrow\u001b[0m\u001b[1;33m[\u001b[0m\u001b[1;33m-\u001b[0m\u001b[1;36m1\u001b[0m\u001b[1;33m]\u001b[0m\u001b[1;33m\u001b[0m\u001b[1;33m\u001b[0m\u001b[0m\n\u001b[1;32m---> 16\u001b[1;33m     \u001b[0msid\u001b[0m\u001b[1;33m,\u001b[0m \u001b[0mchecksum\u001b[0m \u001b[1;33m=\u001b[0m \u001b[0mother\u001b[0m\u001b[1;33m.\u001b[0m\u001b[0msplit\u001b[0m\u001b[1;33m(\u001b[0m\u001b[1;34m\"[\"\u001b[0m\u001b[1;33m)\u001b[0m\u001b[1;33m\u001b[0m\u001b[1;33m\u001b[0m\u001b[0m\n\u001b[0m\u001b[0;32m     17\u001b[0m     \u001b[0mchecksum\u001b[0m \u001b[1;33m=\u001b[0m \u001b[0mchecksum\u001b[0m\u001b[1;33m[\u001b[0m\u001b[1;33m:\u001b[0m\u001b[1;33m-\u001b[0m\u001b[1;36m1\u001b[0m\u001b[1;33m]\u001b[0m\u001b[1;33m\u001b[0m\u001b[1;33m\u001b[0m\u001b[0m\n\u001b[0;32m     18\u001b[0m     \u001b[1;31m#print(enc_name, sid, checksum)\u001b[0m\u001b[1;33m\u001b[0m\u001b[1;33m\u001b[0m\u001b[1;33m\u001b[0m\u001b[0m\n",
      "\u001b[1;31mValueError\u001b[0m: not enough values to unpack (expected 2, got 1)"
     ]
    }
   ],
   "source": [
    "data = \"aaaaa-bbb-z-y-x-123[abxyz]\"\n",
    "data = \"a-b-c-d-e-f-g-h-987[abcde]\"\n",
    "data = \"not-a-real-room-404[oarel]\"\n",
    "data = \"qzmt-zixmtkozy-ivhz-343[zimt]\"\n",
    "#with open(\"input_4.txt\", 'r') as f:\n",
    "#    data = f.read()\n",
    "print(data)\n",
    "data = [x for x in data.split(\"\\n\") if not x == \"\"]\n",
    "#print(data)\n",
    "strings = []\n",
    "for row in data:\n",
    "    row = row.split(\"-\")\n",
    "    enc_name = row[:-1]\n",
    "    enc_name = \"\".join(enc_name)\n",
    "    other = row[-1]\n",
    "    sid, checksum = other.split(\"[\")\n",
    "    checksum = checksum[:-1]\n",
    "    #print(enc_name, sid, checksum)\n",
    "    strings.append([enc_name, sid, checksum])"
   ]
  },
  {
   "cell_type": "code",
   "execution_count": 19,
   "id": "deadly-overhead",
   "metadata": {},
   "outputs": [
    {
     "name": "stdout",
     "output_type": "stream",
     "text": [
      "173787\n"
     ]
    }
   ],
   "source": [
    "from collections import Counter\n",
    "sectorSum = 0\n",
    "for s in strings:\n",
    "    word, sid, checksum = s\n",
    "    c = Counter(word)\n",
    "    c = [[v,k] for k,v in c.items()]\n",
    "    c = sorted(c, key=lambda x: (-x[0], x[1]))\n",
    "    #print(c)\n",
    "    c = \"\".join([x[1] for x in c])[:5]\n",
    "    #print(c,checksum)\n",
    "    if c == checksum:\n",
    "        sectorSum += int(sid)\n",
    "print(sectorSum)      "
   ]
  },
  {
   "cell_type": "code",
   "execution_count": null,
   "id": "critical-prince",
   "metadata": {},
   "outputs": [],
   "source": []
  }
 ],
 "metadata": {
  "kernelspec": {
   "display_name": "Python 3",
   "language": "python",
   "name": "python3"
  },
  "language_info": {
   "codemirror_mode": {
    "name": "ipython",
    "version": 3
   },
   "file_extension": ".py",
   "mimetype": "text/x-python",
   "name": "python",
   "nbconvert_exporter": "python",
   "pygments_lexer": "ipython3",
   "version": "3.7.9"
  }
 },
 "nbformat": 4,
 "nbformat_minor": 5
}
