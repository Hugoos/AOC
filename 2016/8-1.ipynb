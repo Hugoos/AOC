{
 "cells": [
  {
   "cell_type": "code",
   "execution_count": 38,
   "id": "promotional-brook",
   "metadata": {},
   "outputs": [
    {
     "name": "stdout",
     "output_type": "stream",
     "text": [
      "['rect 1x1', 'rotate row y=0 by 7', 'rect 1x1', 'rotate row y=0 by 5', 'rect 1x1', 'rotate row y=0 by 5', 'rect 1x1', 'rotate row y=0 by 2', 'rect 1x1', 'rotate row y=0 by 3', 'rect 1x1', 'rotate row y=0 by 5', 'rect 1x1', 'rotate row y=0 by 3', 'rect 1x1', 'rotate row y=0 by 2', 'rect 1x1', 'rotate row y=0 by 3', 'rect 2x1', 'rotate row y=0 by 7', 'rect 6x1', 'rotate row y=0 by 3', 'rect 2x1', 'rotate row y=0 by 2', 'rect 1x2', 'rotate row y=1 by 10', 'rotate row y=0 by 3', 'rotate column x=0 by 1', 'rect 2x1', 'rotate column x=20 by 1', 'rotate column x=15 by 1', 'rotate column x=5 by 1', 'rotate row y=1 by 5', 'rotate row y=0 by 2', 'rect 1x2', 'rotate row y=0 by 5', 'rotate column x=0 by 1', 'rect 4x1', 'rotate row y=2 by 15', 'rotate row y=0 by 5', 'rotate column x=0 by 1', 'rect 4x1', 'rotate row y=2 by 5', 'rotate row y=0 by 5', 'rotate column x=0 by 1', 'rect 4x1', 'rotate row y=2 by 10', 'rotate row y=0 by 10', 'rotate column x=8 by 1', 'rotate column x=5 by 1', 'rotate column x=0 by 1', 'rect 9x1', 'rotate column x=27 by 1', 'rotate row y=0 by 5', 'rotate column x=0 by 1', 'rect 4x1', 'rotate column x=42 by 1', 'rotate column x=40 by 1', 'rotate column x=22 by 1', 'rotate column x=17 by 1', 'rotate column x=12 by 1', 'rotate column x=7 by 1', 'rotate column x=2 by 1', 'rotate row y=3 by 10', 'rotate row y=2 by 5', 'rotate row y=1 by 3', 'rotate row y=0 by 10', 'rect 1x4', 'rotate column x=37 by 2', 'rotate row y=3 by 18', 'rotate row y=2 by 30', 'rotate row y=1 by 7', 'rotate row y=0 by 2', 'rotate column x=13 by 3', 'rotate column x=12 by 1', 'rotate column x=10 by 1', 'rotate column x=7 by 1', 'rotate column x=6 by 3', 'rotate column x=5 by 1', 'rotate column x=3 by 3', 'rotate column x=2 by 1', 'rotate column x=0 by 1', 'rect 14x1', 'rotate column x=38 by 3', 'rotate row y=3 by 12', 'rotate row y=2 by 10', 'rotate row y=0 by 10', 'rotate column x=7 by 1', 'rotate column x=5 by 1', 'rotate column x=2 by 1', 'rotate column x=0 by 1', 'rect 9x1', 'rotate row y=4 by 20', 'rotate row y=3 by 25', 'rotate row y=2 by 10', 'rotate row y=0 by 15', 'rotate column x=12 by 1', 'rotate column x=10 by 1', 'rotate column x=8 by 3', 'rotate column x=7 by 1', 'rotate column x=5 by 1', 'rotate column x=3 by 3', 'rotate column x=2 by 1', 'rotate column x=0 by 1', 'rect 14x1', 'rotate column x=34 by 1', 'rotate row y=1 by 45', 'rotate column x=47 by 1', 'rotate column x=42 by 1', 'rotate column x=19 by 1', 'rotate column x=9 by 2', 'rotate row y=4 by 7', 'rotate row y=3 by 20', 'rotate row y=0 by 7', 'rotate column x=5 by 1', 'rotate column x=3 by 1', 'rotate column x=2 by 1', 'rotate column x=0 by 1', 'rect 6x1', 'rotate row y=4 by 8', 'rotate row y=3 by 5', 'rotate row y=1 by 5', 'rotate column x=5 by 1', 'rotate column x=4 by 1', 'rotate column x=3 by 2', 'rotate column x=2 by 1', 'rotate column x=1 by 3', 'rotate column x=0 by 1', 'rect 6x1', 'rotate column x=36 by 3', 'rotate column x=25 by 3', 'rotate column x=18 by 3', 'rotate column x=11 by 3', 'rotate column x=3 by 4', 'rotate row y=4 by 5', 'rotate row y=3 by 5', 'rotate row y=2 by 8', 'rotate row y=1 by 8', 'rotate row y=0 by 3', 'rotate column x=3 by 4', 'rotate column x=0 by 4', 'rect 4x4', 'rotate row y=4 by 10', 'rotate row y=3 by 20', 'rotate row y=1 by 10', 'rotate row y=0 by 10', 'rotate column x=8 by 1', 'rotate column x=7 by 1', 'rotate column x=6 by 1', 'rotate column x=5 by 1', 'rotate column x=3 by 1', 'rotate column x=2 by 1', 'rotate column x=1 by 1', 'rotate column x=0 by 1', 'rect 9x1', 'rotate row y=0 by 40', 'rotate column x=44 by 1', 'rotate column x=35 by 5', 'rotate column x=18 by 5', 'rotate column x=15 by 3', 'rotate column x=10 by 5', 'rotate row y=5 by 15', 'rotate row y=4 by 10', 'rotate row y=3 by 40', 'rotate row y=2 by 20', 'rotate row y=1 by 45', 'rotate row y=0 by 35', 'rotate column x=48 by 1', 'rotate column x=47 by 5', 'rotate column x=46 by 5', 'rotate column x=45 by 1', 'rotate column x=43 by 1', 'rotate column x=40 by 1', 'rotate column x=38 by 2', 'rotate column x=37 by 3', 'rotate column x=36 by 2', 'rotate column x=32 by 2', 'rotate column x=31 by 2', 'rotate column x=28 by 1', 'rotate column x=23 by 3', 'rotate column x=22 by 3', 'rotate column x=21 by 5', 'rotate column x=20 by 1', 'rotate column x=18 by 1', 'rotate column x=17 by 3', 'rotate column x=13 by 1', 'rotate column x=10 by 1', 'rotate column x=8 by 1', 'rotate column x=7 by 5', 'rotate column x=6 by 5', 'rotate column x=5 by 1', 'rotate column x=3 by 5', 'rotate column x=2 by 5', 'rotate column x=1 by 5']\n"
     ]
    }
   ],
   "source": [
    "import re\n",
    "from helpers import npNicePrint as nprint\n",
    "\n",
    "with open(\"input_8.txt\", 'r') as f:\n",
    "    data = f.read()\n",
    "\n",
    "data = [x for x in data.split(\"\\n\") if not x == \"\"]\n",
    "print(data)\n"
   ]
  },
  {
   "cell_type": "code",
   "execution_count": 39,
   "id": "suburban-giving",
   "metadata": {},
   "outputs": [],
   "source": [
    "import numpy as np\n",
    "\n",
    "def createPatch(W,H):\n",
    "    grid[0:H, 0:W] = 1\n",
    "    #nprint(grid)\n",
    "\n",
    "def shiftHorizontal(row, spaces):\n",
    "    grid[row] = np.roll(grid[row], spaces)\n",
    "    #nprint(grid)\n",
    "def shiftVertical(column, spaces):\n",
    "    grid[:, column] = np.roll(grid[:, column], spaces)\n",
    "    #nprint(grid)\n",
    "\n",
    "grid = np.zeros((6,50))\n",
    "#nprint(grid)\n",
    "#createPatch(2,2)\n",
    "#shiftHorizontal(1,160)\n",
    "#shiftVertical(0,33)"
   ]
  },
  {
   "cell_type": "code",
   "execution_count": 40,
   "id": "endangered-tolerance",
   "metadata": {},
   "outputs": [
    {
     "name": "stdout",
     "output_type": "stream",
     "text": [
      "128.0\n"
     ]
    }
   ],
   "source": [
    "for r in data:\n",
    "    r = r.split(\" \")\n",
    "    if r[0] == \"rect\":\n",
    "        W,H = r[1].split(\"x\")\n",
    "        createPatch(int(W),int(H))\n",
    "    elif r[0] == \"rotate\":\n",
    "        i = int(r[2].split(\"=\")[1])\n",
    "        spaces = int(r[-1])\n",
    "        if r[1] == \"row\":\n",
    "            shiftHorizontal(i, spaces)\n",
    "        elif r[1] == \"column\":\n",
    "            shiftVertical(i, spaces)\n",
    "    else:\n",
    "        print(\"error\")\n",
    "print(sum(sum(grid)))        "
   ]
  },
  {
   "cell_type": "code",
   "execution_count": 41,
   "id": "humanitarian-floor",
   "metadata": {},
   "outputs": [
    {
     "name": "stdout",
     "output_type": "stream",
     "text": [
      "####..##...##..###...##..###..#..#.#...#.##...##..\n",
      "#....#..#.#..#.#..#.#..#.#..#.#..#.#...##..#.#..#.\n",
      "###..#..#.#..#.#..#.#....#..#.####..#.#.#..#.#..#.\n",
      "#....#..#.####.###..#.##.###..#..#...#..####.#..#.\n",
      "#....#..#.#..#.#.#..#..#.#....#..#...#..#..#.#..#.\n",
      "####..##..#..#.#..#..###.#....#..#...#..#..#..##..\n",
      "\n"
     ]
    }
   ],
   "source": [
    "nprint(grid)"
   ]
  }
 ],
 "metadata": {
  "kernelspec": {
   "display_name": "Python 3",
   "language": "python",
   "name": "python3"
  },
  "language_info": {
   "codemirror_mode": {
    "name": "ipython",
    "version": 3
   },
   "file_extension": ".py",
   "mimetype": "text/x-python",
   "name": "python",
   "nbconvert_exporter": "python",
   "pygments_lexer": "ipython3",
   "version": "3.7.9"
  }
 },
 "nbformat": 4,
 "nbformat_minor": 5
}
