{
 "cells": [
  {
   "cell_type": "code",
   "execution_count": 2,
   "id": "promotional-brook",
   "metadata": {},
   "outputs": [
    {
     "name": "stdout",
     "output_type": "stream",
     "text": [
      "2\n",
      "2\n"
     ]
    },
    {
     "data": {
      "text/plain": [
       "[[1, 1], [2, 3]]"
      ]
     },
     "execution_count": 2,
     "metadata": {},
     "output_type": "execute_result"
    }
   ],
   "source": [
    "import re\n",
    "import copy\n",
    "from helpers import npNicePrint as nprint\n",
    "data = {\n",
    "    0: set([\"HM\",\"LM\"]),\n",
    "   1: set([\"HG\"]),\n",
    "   2: set([\"LG\"]),\n",
    "   3: set()\n",
    "}\n",
    "data = {\n",
    "    0: set([\"PG\",\"TG\", \"TM\", \"QG\", \"RG\",\"RM\", \"CG\", \"CM\"]),\n",
    "   1: set([\"PM\",\"QM\"]),\n",
    "   2: set(),\n",
    "   3: set()\n",
    "}\n",
    "solution = {\n",
    "  0:  set(),\n",
    "  1: set(),\n",
    "  2: set(),\n",
    "  3:  set([\"HM\", \"LM\", \"HG\", \"LG\"])\n",
    "}\n",
    "solution = {\n",
    "  0:  set(),\n",
    "  1: set(),\n",
    "  2: set(),\n",
    "  3:  set([\"PG\",\"TG\", \"TM\", \"QG\", \"RG\",\"RM\", \"CG\", \"CM\", \"PM\",\"QM\"])\n",
    "}\n",
    "\n",
    "data = [\n",
    "     [1,1,0,0],\n",
    "     [0,0,1,0],\n",
    "     [0,0,0,1],\n",
    "     [0,0,0,0]\n",
    "]\n",
    "data = [[1,1],[2,3]]\n",
    "#with open(\"input_10.txt\", 'r') as f:\n",
    "#    data = f.read()\n",
    "\n",
    "#\n",
    "print(len(data))\n",
    "#data = \"\".join([x for x in data if not x == \"\"])\n",
    "#data = data.lstrip('\\n')\n",
    "#data = data.rstrip('\\n')\n",
    "#data = [y.split(\" \") for y in [x for x in data.split(\"\\n\") if not x == \"\"]]\n",
    "print(len(data))\n",
    "data\n",
    "#isValid(data)"
   ]
  },
  {
   "cell_type": "code",
   "execution_count": 3,
   "id": "alert-anthropology",
   "metadata": {},
   "outputs": [],
   "source": [
    "import itertools as it\n",
    "global lowest \n",
    "lowest = 2984029840234\n",
    "def move(state, position=0, step=0, seen=[]):\n",
    "    global lowest\n",
    "    if not isValid(state) or FrozenDict(state) in seen or step > 50:\n",
    "        #print(f\" isValid {isValid(state)}, seen {FrozenDict(state) in seen}\")\n",
    "        #print(\"invalid\")\n",
    "        return False\n",
    "    #print(step, state)\n",
    "    if FrozenDict(state) == FrozenDict(solution):\n",
    "        seen.append(FrozenDict(state))\n",
    "        #for x in seen:\n",
    "        #    print(dict(x))\n",
    "        if step < lowest:\n",
    "            print(f\"solution {step}\")\n",
    "            lowest = step\n",
    "        return step\n",
    "    seen.append(FrozenDict(state))\n",
    "    \n",
    "    elements = state[position]\n",
    "    sol = [[x] for x in list(elements)]\n",
    "    sol2 = list(it.combinations(elements, 2))\n",
    "    sol.extend(sol2)\n",
    "    #print(sol)\n",
    "    for com in sol:\n",
    "        new_state = copy.deepcopy(state)\n",
    "        #print(com)\n",
    "        for x in com:\n",
    "            new_state[position].remove(x)\n",
    "        for i in [position-1, position+1]:\n",
    "            if 0 <= i < len(state):\n",
    "                new_state_2 = copy.deepcopy(new_state)\n",
    "                for x in com:\n",
    "                    new_state_2[i].add(x)\n",
    "                #print(state)\n",
    "                #print(f\"moving {com} to {i}\")\n",
    "                move(new_state_2, i,copy.deepcopy(step+1),copy.deepcopy(seen))\n",
    "                \n",
    "\n",
    "                \n",
    "                \n",
    "    \n",
    "     "
   ]
  },
  {
   "cell_type": "code",
   "execution_count": 4,
   "id": "ranking-virgin",
   "metadata": {},
   "outputs": [],
   "source": [
    "from collections import deque\n",
    "import heapq\n",
    "#queue = deque()\n",
    "seen = set()\n",
    "\n",
    "def move_math(state, position=1, step=0):\n",
    "    global lowest\n",
    "    itt = 0\n",
    "    #queue = deque()\n",
    "    seen = set()\n",
    "    queue = []\n",
    "    #queue.append([gCost(step,state,solution),state,position,step,seen])\n",
    "    heapq.heappush(queue, [gCost(step,state,solution),state,position,step])#,seen])\n",
    "    while len(queue) > 0:\n",
    "        #itt += 1\n",
    "        #fscore,state, position, step, seen = queue.pop()\n",
    "        fscore,state, position, step = heapq.heappop(queue)\n",
    "        f_state = (fscore,state,position,step)\n",
    "        #print(f_state)\n",
    "        #if itt % 10000 == 0:\n",
    "        #    print(f_state)\n",
    "        if state == solution:\n",
    "            print(\"solution found\")\n",
    "            seen.add(f_state)\n",
    "            #if step < lowest:\n",
    "                #for x in seen:\n",
    "                #    print(x)\n",
    "            print(f\"solution {step}\")\n",
    "            lowest = step\n",
    "            return step\n",
    "        for con in generateConfigurations(state):\n",
    "            seen.add((fscore,con,position,step))\n",
    "\n",
    "        elements = [i for i,x in enumerate(state[0]) if x == position]\n",
    "        elements2 = [i+len(state[0]) for i,x in enumerate(state[1]) if x == position]\n",
    "        elements.extend(elements2)\n",
    "        #print(elements)\n",
    "        sol = [[x] for x in list(elements)]\n",
    "        sol2 = list(it.combinations(elements, 2))\n",
    "        sol.extend(sol2)\n",
    "        #print(f\"sol {sol}\")\n",
    "        for com in sol:\n",
    "            for i in [i for i in (position-1, position+1) if 1 <= i <= 4]:\n",
    "                new_state_2 = [list(x) for x in list(state)]\n",
    "                for x in com:\n",
    "                    if x < (len(state[0])+len(state[1]))/2:\n",
    "                        new_state_2[0][x] = i\n",
    "                    else:\n",
    "                        new_state_2[1][int(x-(len(state[0])+len(state[1]))/2)] = i\n",
    "                new_state_2 = tuple([tuple(x) for x in new_state_2])\n",
    "                #print(new_state_2 in seen)\n",
    "                fstate_new = (gCost(step,new_state_2,solution),new_state_2, i,step+1)\n",
    "                if not fstate_new in seen:\n",
    "                    if isValidMath(new_state_2):\n",
    "                        seen.add(fstate_new)\n",
    "                        #queue.append([gCost(step,new_state_2,solution),new_state_2, i,step+1,[x for x in seen]])\n",
    "                        heapq.heappush(queue, fstate_new)#,[x for x in seen]])\n",
    "    print(\"no solution found\")\n",
    "                    \n",
    "def generateConfigurations(state):\n",
    "    part1 = tuple(it.permutations(state[0],len(state[0])))\n",
    "    part2 = tuple(it.permutations(state[1],len(state[1])))\n",
    "    con = tuple(zip(part1,part2))\n",
    "    return con\n",
    "    \n",
    "def hCost(state,solution):\n",
    "    return sum(sum(np.subtract(solution,state)))\n",
    "def gCost(cost, state, solution):\n",
    "    return cost + hCost(state,solution)\n"
   ]
  },
  {
   "cell_type": "code",
   "execution_count": 5,
   "id": "alternative-warren",
   "metadata": {},
   "outputs": [],
   "source": [
    "import numpy as np\n",
    "def isValid(state):\n",
    "    for k,floor in state.items():\n",
    "        for element in floor:\n",
    "            if element[1] == \"M\":\n",
    "                safe = False\n",
    "                indanger = False\n",
    "                for element2 in floor:\n",
    "                    if element2[1] == \"G\":\n",
    "                        if element[0] == element2[0]:\n",
    "                            safe = True\n",
    "                        if not element[0] == element2[0]:\n",
    "                            indanger = True\n",
    "                if not (safe or not indanger):\n",
    "                    return False\n",
    "    return True\n",
    "\n",
    "def isValidMath(state):\n",
    "    #print(f\"isValidMath {state}\")\n",
    "    #sub = np.subtract(state[0],state[1])\n",
    "    #for i, x in enumerate(sub):\n",
    "    #    if not x == 0:\n",
    "    #        #print([state[0][i] - state[1][j] for j in range(len(state[0])) if not j == i])\n",
    "    #        if 0 in [state[0][i] - state[1][j] for j in range(len(state[0])) if not j == i]:\n",
    "    #            return False\n",
    "    for x,y in zip(state[0],state[1]):\n",
    "        if not x == y:\n",
    "            if x in state[1]:\n",
    "                return False\n",
    "    return True\n",
    "#data = [[1,1],[2,3]]            \n",
    "#isValidMath(data)"
   ]
  },
  {
   "cell_type": "code",
   "execution_count": null,
   "id": "explicit-married",
   "metadata": {},
   "outputs": [],
   "source": [
    "#print(data)\n",
    "lowest = 2984029840234\n",
    "#data = ((1,1),(2,3))\n",
    "#solution = ((4,4),(4,4))\n",
    "#data = ((1,1,1),(1,1,1))\n",
    "#solution = ((4,4,4),(4,4,4))\n",
    "data = ((1,1,1,2,2,1,1),(1,1,1,1,1,1,1))\n",
    "solution = ((4,4,4,4,4,4,4),(4,4,4,4,4,4,4))\n",
    "#%prun move_math(data, seen=[])\n",
    "move_math(data)\n",
    "#generateConfigurations(data)"
   ]
  },
  {
   "cell_type": "code",
   "execution_count": 9,
   "id": "timely-clinic",
   "metadata": {},
   "outputs": [
    {
     "data": {
      "text/plain": [
       "16"
      ]
     },
     "execution_count": 9,
     "metadata": {},
     "output_type": "execute_result"
    }
   ],
   "source": [
    "\n",
    "gCost(4,data,solution)\n"
   ]
  },
  {
   "cell_type": "code",
   "execution_count": 2,
   "id": "careful-marks",
   "metadata": {},
   "outputs": [
    {
     "ename": "NameError",
     "evalue": "name 'move' is not defined",
     "output_type": "error",
     "traceback": [
      "\u001b[1;31m---------------------------------------------------------------------------\u001b[0m",
      "\u001b[1;31mNameError\u001b[0m                                 Traceback (most recent call last)",
      "\u001b[1;32m<ipython-input-2-399de2952e15>\u001b[0m in \u001b[0;36m<module>\u001b[1;34m\u001b[0m\n\u001b[0;32m      1\u001b[0m \u001b[0mlowest\u001b[0m \u001b[1;33m=\u001b[0m \u001b[1;36m2984029840234\u001b[0m\u001b[1;33m\u001b[0m\u001b[1;33m\u001b[0m\u001b[0m\n\u001b[1;32m----> 2\u001b[1;33m \u001b[0mmove\u001b[0m\u001b[1;33m(\u001b[0m\u001b[0mdata\u001b[0m\u001b[1;33m)\u001b[0m\u001b[1;33m\u001b[0m\u001b[1;33m\u001b[0m\u001b[0m\n\u001b[0m",
      "\u001b[1;31mNameError\u001b[0m: name 'move' is not defined"
     ]
    }
   ],
   "source": [
    "lowest = 2984029840234\n",
    "move(data)"
   ]
  },
  {
   "cell_type": "code",
   "execution_count": 85,
   "id": "sufficient-drove",
   "metadata": {},
   "outputs": [],
   "source": [
    "def tofrozenset(data):\n",
    "    for k,v in data.items():\n",
    "        data[k] = frozenset(v)\n",
    "    return frozenset(data)"
   ]
  },
  {
   "cell_type": "code",
   "execution_count": 84,
   "id": "familiar-disclaimer",
   "metadata": {},
   "outputs": [
    {
     "data": {
      "text/plain": [
       "{0: {'HM', 'LM'}, 1: {'HG'}, 2: {'LG'}, 3: set()}"
      ]
     },
     "execution_count": 84,
     "metadata": {},
     "output_type": "execute_result"
    }
   ],
   "source": [
    "data"
   ]
  },
  {
   "cell_type": "code",
   "execution_count": 39,
   "id": "exclusive-jurisdiction",
   "metadata": {},
   "outputs": [
    {
     "name": "stdout",
     "output_type": "stream",
     "text": [
      "False\n",
      "<__main__.FrozenDict object at 0x000001B3FAE76CC8>\n",
      "<__main__.FrozenDict object at 0x000001B3FAE76D48>\n"
     ]
    }
   ],
   "source": [
    "dataT = {\n",
    "    0: set([\"HG\", \"LM\", \"LG\", \"HM\"]),\n",
    "   1: set([\"DF\"]),\n",
    "   2: set(),\n",
    "   3: set()\n",
    "}\n",
    "solution = {\n",
    "  0:  set([\"HM\", \"LM\", \"HG\", \"LG\"]),\n",
    "  1: set(),\n",
    "  2: set(),\n",
    "  3:  set()\n",
    "}\n",
    "print(FrozenDict(dataT) == FrozenDict(solution))\n",
    "print(FrozenDict(dataT))\n",
    "print(FrozenDict(solution))"
   ]
  },
  {
   "cell_type": "code",
   "execution_count": 32,
   "id": "complimentary-windows",
   "metadata": {},
   "outputs": [],
   "source": [
    "import collections\n",
    "\n",
    "class FrozenDict(collections.Mapping):\n",
    "    \"\"\"Don't forget the docstrings!!\"\"\"\n",
    "\n",
    "    def __init__(self, *args, **kwargs):\n",
    "        self._d = dict(*args, **kwargs)\n",
    "        self._hash = None\n",
    "\n",
    "    def __iter__(self):\n",
    "        return iter(self._d)\n",
    "\n",
    "    def __len__(self):\n",
    "        return len(self._d)\n",
    "\n",
    "    def __getitem__(self, key):\n",
    "        return self._d[key]\n",
    "    \n",
    "    def __eq__(self, other):\n",
    "        return self.__hash__() == other.__hash__()\n",
    "\n",
    "    def __hash__(self):\n",
    "        # It would have been simpler and maybe more obvious to \n",
    "        # use hash(tuple(sorted(self._d.iteritems()))) from this discussion\n",
    "        # so far, but this solution is O(n). I don't know what kind of \n",
    "        # n we are going to run into, but sometimes it's hard to resist the \n",
    "        # urge to optimize when it will gain improved algorithmic performance.\n",
    "        if self._hash is None:\n",
    "            #print(\"hashing\")\n",
    "            hash_ = 0\n",
    "            for pair in self.items():\n",
    "                #print(pair)\n",
    "                pair = (pair[0], tuple(pair[1]))\n",
    "                hash_ ^= hash(pair)\n",
    "            self._hash = hash_\n",
    "        return self._hash"
   ]
  },
  {
   "cell_type": "code",
   "execution_count": 87,
   "id": "cubic-promise",
   "metadata": {},
   "outputs": [
    {
     "data": {
      "text/plain": [
       "{0: {'HG', 'HM', 'LG', 'LM'}, 1: {'FD'}, 2: set(), 3: set()}"
      ]
     },
     "execution_count": 87,
     "metadata": {},
     "output_type": "execute_result"
    }
   ],
   "source": [
    "dict(FrozenDict(dataT))"
   ]
  },
  {
   "cell_type": "code",
   "execution_count": 152,
   "id": "alert-clothing",
   "metadata": {},
   "outputs": [
    {
     "data": {
      "text/plain": [
       "(array([], dtype=int64),)"
      ]
     },
     "execution_count": 152,
     "metadata": {},
     "output_type": "execute_result"
    }
   ],
   "source": []
  },
  {
   "cell_type": "code",
   "execution_count": 27,
   "id": "experienced-toddler",
   "metadata": {},
   "outputs": [
    {
     "data": {
      "text/plain": [
       "False"
      ]
     },
     "execution_count": 27,
     "metadata": {},
     "output_type": "execute_result"
    }
   ],
   "source": [
    "seen = set()\n",
    "seen.add((6,((1,1,1),(2,2,2)),1,5))\n",
    "(7,((1,1,1),(2,2,2)),1,5) in seen"
   ]
  },
  {
   "cell_type": "code",
   "execution_count": null,
   "id": "convenient-wings",
   "metadata": {},
   "outputs": [],
   "source": []
  }
 ],
 "metadata": {
  "kernelspec": {
   "display_name": "Python 3",
   "language": "python",
   "name": "python3"
  },
  "language_info": {
   "codemirror_mode": {
    "name": "ipython",
    "version": 3
   },
   "file_extension": ".py",
   "mimetype": "text/x-python",
   "name": "python",
   "nbconvert_exporter": "python",
   "pygments_lexer": "ipython3",
   "version": "3.7.9"
  }
 },
 "nbformat": 4,
 "nbformat_minor": 5
}
