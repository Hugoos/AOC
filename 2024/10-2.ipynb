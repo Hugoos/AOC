{
 "cells": [
  {
   "cell_type": "code",
   "execution_count": 2,
   "id": "promotional-brook",
   "metadata": {},
   "outputs": [],
   "source": [
    "import helpers\n",
    "import numpy as np\n",
    "import re \n",
    "\n",
    "#helpers.npNicePrint(arr)\n",
    "\n",
    "data = \"\"\"89010123\n",
    "78121874\n",
    "87430965\n",
    "96549874\n",
    "45678903\n",
    "32019012\n",
    "01329801\n",
    "10456732\"\"\"\n",
    "with open(\"input_10.txt\", 'r') as f:\n",
    "    data = f.read()\n",
    "\n",
    "\n",
    "def safe_get(grid, index):\n",
    "    try:\n",
    "        return grid[tuple(index)]\n",
    "    except:\n",
    "        return \"\"\n",
    "    \n",
    "#changeDict = {\"forward\": np.array([1,0]), \"down\": np.array([0,1]), \"up\": np.array([0,-1])}\n",
    "#data = [changeDict[x.split(\" \")[0]] * int(x.split(\" \")[1]) for x in data.split(\"\\n\") if x]\n",
    "#data = [\n",
    "#    [int(match.group(1)), list(map(int, match.group(2).split()))]\n",
    "#    for line in data.split(\"\\n\")\n",
    "#    if (match := re.match(r'^(\\d+):\\s*(\\d+(?:\\s+\\d+)*)', line))\n",
    "#]\n",
    "#np.prod(sum(data))    \n",
    "#data = [list(map(int, x.split(\" \"))) for x in data.split('\\n') if not x == \"\"]\n",
    "grid = {(x,y): int(val) for y, r in enumerate(data.split('\\n')) for x, val in enumerate(r)}\n",
    "#grid\n"
   ]
  },
  {
   "cell_type": "code",
   "execution_count": 3,
   "id": "c3d6e61e",
   "metadata": {},
   "outputs": [
    {
     "data": {
      "text/plain": [
       "[((2, 1), 1), ((2, 3), 5), ((1, 2), 3), ((3, 2), 5)]"
      ]
     },
     "execution_count": 3,
     "metadata": {},
     "output_type": "execute_result"
    }
   ],
   "source": [
    "def get_neighbours(grid, i):\n",
    "    directions = [(0, -1), (0, 1), (-1, 0), (1, 0)]\n",
    "    return [(tuple(i_n), safe_get(grid,tuple(i_n))) for i_n in np.array(i) + directions if safe_get(grid,tuple(i_n))]\n",
    "\n",
    "get_neighbours(grid, (2,2))"
   ]
  },
  {
   "cell_type": "code",
   "execution_count": 4,
   "id": "1e1b4c30",
   "metadata": {},
   "outputs": [
    {
     "data": {
      "text/plain": [
       "1483"
      ]
     },
     "execution_count": 4,
     "metadata": {},
     "output_type": "execute_result"
    }
   ],
   "source": [
    "def find_max(grid, pos, val):\n",
    "    max_pos = 0\n",
    "    if val == 9:\n",
    "        return 1\n",
    "    \n",
    "    for neigh_pos, neigh_val in get_neighbours(grid, pos):\n",
    "        #print(neigh_pos, neigh_val)\n",
    "        if neigh_val == (val + 1):\n",
    "            max_pos += find_max(grid, neigh_pos, neigh_val)\n",
    "    return max_pos\n",
    "ans = 0\n",
    "for k,v in grid.items():\n",
    "    if v == 0:\n",
    "        ans += find_max(grid, k, v)\n",
    "ans        \n"
   ]
  },
  {
   "cell_type": "code",
   "execution_count": null,
   "id": "d2d174d6",
   "metadata": {},
   "outputs": [],
   "source": []
  },
  {
   "cell_type": "code",
   "execution_count": null,
   "id": "5e675ab2",
   "metadata": {},
   "outputs": [],
   "source": []
  }
 ],
 "metadata": {
  "kernelspec": {
   "display_name": "Python 3 (ipykernel)",
   "language": "python",
   "name": "python3"
  },
  "language_info": {
   "codemirror_mode": {
    "name": "ipython",
    "version": 3
   },
   "file_extension": ".py",
   "mimetype": "text/x-python",
   "name": "python",
   "nbconvert_exporter": "python",
   "pygments_lexer": "ipython3",
   "version": "3.9.7"
  }
 },
 "nbformat": 4,
 "nbformat_minor": 5
}
