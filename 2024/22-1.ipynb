{
 "cells": [
  {
   "cell_type": "code",
   "execution_count": 12,
   "id": "4973c9f7",
   "metadata": {},
   "outputs": [],
   "source": [
    "import helpers\n",
    "import numpy as np\n",
    "import re \n",
    "\n",
    "#helpers.npNicePrint(arr)\n",
    "\n",
    "data = \"\"\"1\n",
    "10\n",
    "100\n",
    "2024\"\"\"\n",
    "\n",
    "with open(\"input_22.txt\", 'r') as f:\n",
    "    data = f.read().rstrip()\n",
    "\n",
    "#print(colors, designs)\n",
    "\n",
    "\n",
    "def safe_get(grid, index):\n",
    "    try:\n",
    "        return grid[tuple(index)]\n",
    "    except:\n",
    "        return \"\"\n",
    "    \n",
    "#changeDict = {\"forward\": np.array([1,0]), \"down\": np.array([0,1]), \"up\": np.array([0,-1])}\n",
    "#data = [changeDict[x.split(\" \")[0]] * int(x.split(\" \")[1]) for x in data.split(\"\\n\") if x]\n",
    "\n",
    "#np.prod(sum(data))    \n",
    "#data = [list(map(int, x.split(\" \"))) for x in data.split('\\n') if not x == \"\"]\n",
    "\n",
    "#data = [(int(row.split(\",\")[0]),int(row.split(\",\")[1])) for row in data.split(\"\\n\")]\n",
    "\n",
    "#grid, moves = data.split(\"\\n\\n\")\n",
    "#moves = moves.replace(\"\\n\", \"\")\n",
    "\n",
    "#grid = {(x,y): str(val) for y, r in enumerate(data.split('\\n')) for x, val in enumerate(r)}\n",
    "#grid\n",
    "data = [int(x) for x in data.split(\"\\n\")]\n",
    "#data\n",
    "\n",
    "# Output the parsed data\n",
    "#print(data)\n",
    "\n",
    "\n",
    "#grid = {(x,y): \".\" for x in range(max_coor+1) for y in range(max_coor+1)}\n",
    "\n",
    "#helpers.visualize_dict_grid(grid) "
   ]
  },
  {
   "cell_type": "code",
   "execution_count": 13,
   "id": "900060fa",
   "metadata": {},
   "outputs": [
    {
     "data": {
      "text/plain": [
       "18694566361"
      ]
     },
     "execution_count": 13,
     "metadata": {},
     "output_type": "execute_result"
    }
   ],
   "source": [
    "#let's just do it the naive way first, I'm sure they ask us to do it for lots of iterations in pt2 if past years were any indicator\n",
    "pruner = 16777216\n",
    "\n",
    "secret_number = 123\n",
    "\n",
    "iterations = 2000\n",
    "ans = 0\n",
    "for secret_number in data:\n",
    "    for x in range(iterations):\n",
    "        secret_number = ((secret_number * 64) ^ secret_number) % pruner\n",
    "        secret_number = ((secret_number // 32) ^ secret_number) % pruner\n",
    "        secret_number = ((secret_number * 2048) ^ secret_number) % pruner\n",
    "    ans += secret_number\n",
    "ans\n",
    "    "
   ]
  },
  {
   "cell_type": "code",
   "execution_count": null,
   "id": "06853ee4",
   "metadata": {},
   "outputs": [],
   "source": []
  }
 ],
 "metadata": {
  "kernelspec": {
   "display_name": "Python 3 (ipykernel)",
   "language": "python",
   "name": "python3"
  },
  "language_info": {
   "codemirror_mode": {
    "name": "ipython",
    "version": 3
   },
   "file_extension": ".py",
   "mimetype": "text/x-python",
   "name": "python",
   "nbconvert_exporter": "python",
   "pygments_lexer": "ipython3",
   "version": "3.9.7"
  }
 },
 "nbformat": 4,
 "nbformat_minor": 5
}
