{
 "cells": [
  {
   "cell_type": "code",
   "execution_count": 51,
   "id": "22f61057",
   "metadata": {},
   "outputs": [],
   "source": [
    "import helpers\n",
    "import numpy as np\n",
    "import re \n",
    "\n",
    "#helpers.npNicePrint(arr)\n",
    "\n",
    "data = \"\"\"Button A: X+94, Y+34\n",
    "Button B: X+22, Y+67\n",
    "Prize: X=8400, Y=5400\n",
    "\n",
    "Button A: X+26, Y+66\n",
    "Button B: X+67, Y+21\n",
    "Prize: X=12748, Y=12176\n",
    "\n",
    "Button A: X+17, Y+86\n",
    "Button B: X+84, Y+37\n",
    "Prize: X=7870, Y=6450\n",
    "\n",
    "Button A: X+69, Y+23\n",
    "Button B: X+27, Y+71\n",
    "Prize: X=18641, Y=10279\"\"\"\n",
    "#data = \"\"\"125 17\"\"\"\n",
    "with open(\"input_13.txt\", 'r') as f:\n",
    "    data = f.read()\n",
    "\n",
    "\n",
    "def safe_get(grid, index):\n",
    "    try:\n",
    "        return grid[tuple(index)]\n",
    "    except:\n",
    "        return \"\"\n",
    "    \n",
    "#changeDict = {\"forward\": np.array([1,0]), \"down\": np.array([0,1]), \"up\": np.array([0,-1])}\n",
    "#data = [changeDict[x.split(\" \")[0]] * int(x.split(\" \")[1]) for x in data.split(\"\\n\") if x]\n",
    "#data = [\n",
    "#    [int(match.group(1)), list(map(int, match.group(2).split()))]\n",
    "#    for line in data.split(\"\\n\")\n",
    "#    if (match := re.match(r'^(\\d+):\\s*(\\d+(?:\\s+\\d+)*)', line))\n",
    "#]\n",
    "#np.prod(sum(data))    \n",
    "#data = [list(map(int, x.split(\" \"))) for x in data.split('\\n') if not x == \"\"]\n",
    "#grid = {(x,y): str(val) for y, r in enumerate(data.split('\\n')) for x, val in enumerate(r)}\n",
    "#grid\n",
    "#data = [int(x) for x in data.split(\" \")]\n",
    "\n",
    "# Regex to capture the data\n",
    "pattern = r\"Button A: X\\+(\\d+), Y\\+(\\d+)\\s+Button B: X\\+(\\d+), Y\\+(\\d+)\\s+Prize: X=(\\d+), Y=(\\d+)\"\n",
    "matches = re.findall(pattern, data)\n",
    "\n",
    "# Parse the data into numpy-compatible format\n",
    "data = [\n",
    "    np.array([(int(a_x), int(a_y)), (int(b_x), int(b_y)), (int(p_x), int(p_y))])\n",
    "    for a_x, a_y, b_x, b_y, p_x, p_y in matches\n",
    "]\n",
    "\n",
    "# Output the parsed data\n",
    "#print(data)\n",
    "\n"
   ]
  },
  {
   "cell_type": "code",
   "execution_count": 52,
   "id": "58b92b9f",
   "metadata": {},
   "outputs": [],
   "source": [
    "# Generate all possibilities in a 100x100 grid\n",
    "grid_size = 100\n",
    "all_possibilities = [[(x, y), x * 3 + y] for x in range(grid_size) for y in range(grid_size)]"
   ]
  },
  {
   "cell_type": "code",
   "execution_count": 53,
   "id": "ae45c99e",
   "metadata": {},
   "outputs": [
    {
     "data": {
      "text/plain": [
       "26599"
      ]
     },
     "execution_count": 53,
     "metadata": {},
     "output_type": "execute_result"
    }
   ],
   "source": [
    "ans = 0 \n",
    "for A, B, target in data:\n",
    "    min_coins = [coins for presses, coins in all_possibilities if np.array_equal((A.copy() * presses[0] + B.copy() * presses[1]),target)]\n",
    "    if min_coins:\n",
    "        ans += min(min_coins)\n",
    "ans\n",
    "        "
   ]
  },
  {
   "cell_type": "code",
   "execution_count": null,
   "id": "cdb1ee29",
   "metadata": {},
   "outputs": [],
   "source": []
  },
  {
   "cell_type": "code",
   "execution_count": 20,
   "id": "23b7cfd0",
   "metadata": {},
   "outputs": [
    {
     "name": "stdout",
     "output_type": "stream",
     "text": [
      "[ 9778 15506]\n",
      "[ 9722 15483]\n",
      "[ 9666 15460]\n",
      "[ 9610 15437]\n",
      "[ 9554 15414]\n",
      "[ 9498 15391]\n",
      "[ 9442 15368]\n",
      "[ 9386 15345]\n"
     ]
    },
    {
     "data": {
      "text/plain": [
       "8"
      ]
     },
     "execution_count": 20,
     "metadata": {},
     "output_type": "execute_result"
    }
   ],
   "source": [
    "A, B, target = data[0]\n",
    "tokens = 0\n",
    "while not target[0] % A[0] == 0 and not target[1] % A[1] == 0:\n",
    "    print(target)\n",
    "    target -= B\n",
    "    tokens += 1\n",
    "tokens"
   ]
  }
 ],
 "metadata": {
  "kernelspec": {
   "display_name": "Python 3 (ipykernel)",
   "language": "python",
   "name": "python3"
  },
  "language_info": {
   "codemirror_mode": {
    "name": "ipython",
    "version": 3
   },
   "file_extension": ".py",
   "mimetype": "text/x-python",
   "name": "python",
   "nbconvert_exporter": "python",
   "pygments_lexer": "ipython3",
   "version": "3.9.7"
  }
 },
 "nbformat": 4,
 "nbformat_minor": 5
}
