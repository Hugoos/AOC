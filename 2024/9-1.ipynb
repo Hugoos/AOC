{
 "cells": [
  {
   "cell_type": "code",
   "execution_count": 156,
   "id": "promotional-brook",
   "metadata": {},
   "outputs": [],
   "source": [
    "import helpers\n",
    "import numpy as np\n",
    "import re \n",
    "\n",
    "#helpers.npNicePrint(arr)\n",
    "\n",
    "data = \"\"\"2333133121414131402\"\"\"\n",
    "with open(\"input_9.txt\", 'r') as f:\n",
    "    data = f.read()\n",
    "\n",
    "data = data.rstrip() + \"0\" #so it's even\n",
    "\n",
    "def safe_get(grid, index):\n",
    "    try:\n",
    "        return grid[tuple(index)]\n",
    "    except:\n",
    "        return \"\"\n",
    "    \n",
    "#changeDict = {\"forward\": np.array([1,0]), \"down\": np.array([0,1]), \"up\": np.array([0,-1])}\n",
    "#data = [changeDict[x.split(\" \")[0]] * int(x.split(\" \")[1]) for x in data.split(\"\\n\") if x]\n",
    "#data = [\n",
    "#    [int(match.group(1)), list(map(int, match.group(2).split()))]\n",
    "#    for line in data.split(\"\\n\")\n",
    "#    if (match := re.match(r'^(\\d+):\\s*(\\d+(?:\\s+\\d+)*)', line))\n",
    "#]\n",
    "#np.prod(sum(data))    \n",
    "#data = [list(map(int, x.split(\" \"))) for x in data.split('\\n') if not x == \"\"]\n",
    "#grid = {(x,y): val for y, r in enumerate(data.split('\\n')) for x, val in enumerate(r)}\n",
    "#grid\n"
   ]
  },
  {
   "cell_type": "code",
   "execution_count": 158,
   "id": "70cd3781",
   "metadata": {},
   "outputs": [],
   "source": [
    "class popList:\n",
    "    def __init__(self, elements):\n",
    "        self.elements = list(elements)\n",
    "        self.i = 0\n",
    "        self.last_i = (len(str(data)) // 2) - 1\n",
    "        \n",
    "    def current_block(self):\n",
    "        return self.i\n",
    "    \n",
    "    def last_block(self):\n",
    "        return self.last_i\n",
    "    \n",
    "    def pop_first(self):\n",
    "        if len(self.elements) < 2:\n",
    "            raise ValueError(\"Not enough elements to pop the first two\")\n",
    "        self.i += 1\n",
    "        block_size = int(self.elements.pop(0))\n",
    "        empty_size = int(self.elements.pop(0))\n",
    "        return self.current_block()-1, block_size, empty_size\n",
    "    \n",
    "    def pop_last(self):\n",
    "        if len(self.elements) < 2:\n",
    "            raise ValueError(\"Not enough elements to pop the last two\")\n",
    "        self.last_i -= 1\n",
    "        empty_size = int(self.elements.pop())\n",
    "        block_size = int(self.elements.pop())\n",
    "        return self.last_block()+1, block_size, empty_size\n",
    "    \n",
    "    def __str__(self):\n",
    "        return ''.join(self.elements)  # Optional: To display as a string\n",
    "    \n",
    "def sum_between_points(a,b):\n",
    "    return int((b-a+1)/2 * (a+b))\n",
    "    \n",
    "data = popList(data)"
   ]
  },
  {
   "cell_type": "code",
   "execution_count": 159,
   "id": "69fdfdd7",
   "metadata": {},
   "outputs": [
    {
     "name": "stdout",
     "output_type": "stream",
     "text": [
      "1\n"
     ]
    },
    {
     "data": {
      "text/plain": [
       "(6384282079460, '')"
      ]
     },
     "execution_count": 159,
     "metadata": {},
     "output_type": "execute_result"
    }
   ],
   "source": [
    "#I can't believe this works...\n",
    "ans = 0\n",
    "position = 0\n",
    "fid_start, block_size_start, empty_size_start = data.pop_first()\n",
    "position_end = position + int(block_size_start)-1\n",
    "ans += sum_between_points(position,position_end) * fid_start\n",
    "position = position_end+1\n",
    "fid_end, block_size_end, empty_size_end = data.pop_last() \n",
    "#print(ans, str(data))\n",
    "while len(str(data)) > 0:\n",
    "    if empty_size_start > 0:\n",
    "        if block_size_end <= empty_size_start:\n",
    "            #print(f\"ess, <=, {fid_end}\")\n",
    "            empty_size_start -= block_size_end\n",
    "            position_end = position + int(block_size_end)-1\n",
    "            ans += sum_between_points(position,position_end) * fid_end\n",
    "            position = position_end+1\n",
    "            if len(str(data)) > 2:\n",
    "                fid_end, block_size_end, empty_size_end = data.pop_last()\n",
    "            else:\n",
    "                block_size_end = 0\n",
    "        else:\n",
    "            #print(f\"ess, >, {fid_end}\")\n",
    "            position_end = position + int(empty_size_start)-1\n",
    "            ans += sum_between_points(position,position_end) * fid_end\n",
    "            position = position_end+1\n",
    "            block_size_end -= empty_size_start\n",
    "            empty_size_start = 0\n",
    "            \n",
    "    else:\n",
    "        #print(f\"empty size empty, {fid_start}\")\n",
    "        fid_start, block_size_start, empty_size_start = data.pop_first()\n",
    "        position_end = position + int(block_size_start)-1\n",
    "        ans += sum_between_points(position,position_end) * fid_start\n",
    "        position = position_end+1\n",
    "    #print(ans, str(data))\n",
    "    \n",
    "if block_size_end > 0:\n",
    "    position_end = position + int(block_size_end)-1\n",
    "    ans += sum_between_points(position,position_end) * fid_end\n",
    "    \n",
    "print(block_size_end)    \n",
    "    \n",
    "ans, str(data)"
   ]
  }
 ],
 "metadata": {
  "kernelspec": {
   "display_name": "Python 3 (ipykernel)",
   "language": "python",
   "name": "python3"
  },
  "language_info": {
   "codemirror_mode": {
    "name": "ipython",
    "version": 3
   },
   "file_extension": ".py",
   "mimetype": "text/x-python",
   "name": "python",
   "nbconvert_exporter": "python",
   "pygments_lexer": "ipython3",
   "version": "3.9.7"
  }
 },
 "nbformat": 4,
 "nbformat_minor": 5
}
