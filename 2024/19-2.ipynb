{
 "cells": [
  {
   "cell_type": "code",
   "execution_count": 19,
   "metadata": {},
   "outputs": [],
   "source": [
    "import helpers\n",
    "import numpy as np\n",
    "import re \n",
    "\n",
    "#helpers.npNicePrint(arr)\n",
    "\n",
    "data = \"\"\"r, wr, b, g, bwu, rb, gb, br\n",
    "\n",
    "brwrr\n",
    "bggr\n",
    "gbbr\n",
    "rrbgbr\n",
    "ubwu\n",
    "bwurrg\n",
    "brgr\n",
    "bbrgwb\"\"\"\n",
    "\n",
    "with open(\"input_19.txt\", 'r') as f:\n",
    "    data = f.read().rstrip()\n",
    "\n",
    "colors, designs = data.split(\"\\n\\n\")\n",
    "\n",
    "colors = sorted([x for x in colors.split(\", \")], key=len, reverse=True)\n",
    "designs = [x for x in designs.split(\"\\n\")]\n",
    "\n",
    "#print(colors, designs)\n",
    "\n",
    "\n",
    "def safe_get(grid, index):\n",
    "    try:\n",
    "        return grid[tuple(index)]\n",
    "    except:\n",
    "        return \"\"\n",
    "    \n",
    "#changeDict = {\"forward\": np.array([1,0]), \"down\": np.array([0,1]), \"up\": np.array([0,-1])}\n",
    "#data = [changeDict[x.split(\" \")[0]] * int(x.split(\" \")[1]) for x in data.split(\"\\n\") if x]\n",
    "#data = [\n",
    "#    [int(match.group(1)), list(map(int, match.group(2).split()))]\n",
    "#    for line in data.split(\"\\n\")\n",
    "#    if (match := re.match(r'^(\\d+):\\s*(\\d+(?:\\s+\\d+)*)', line))\n",
    "#]\n",
    "#np.prod(sum(data))    \n",
    "#data = [list(map(int, x.split(\" \"))) for x in data.split('\\n') if not x == \"\"]\n",
    "\n",
    "#data = [(int(row.split(\",\")[0]),int(row.split(\",\")[1])) for row in data.split(\"\\n\")]\n",
    "\n",
    "#grid, moves = data.split(\"\\n\\n\")\n",
    "#moves = moves.replace(\"\\n\", \"\")\n",
    "\n",
    "#grid = {(x,y): str(val) for y, r in enumerate(data.split('\\n')) for x, val in enumerate(r)}\n",
    "#grid\n",
    "#data = [int(x) for x in data.split(\" \")]\n",
    "\n",
    "\n",
    "# Output the parsed data\n",
    "#print(data)\n",
    "\n",
    "\n",
    "#grid = {(x,y): \".\" for x in range(max_coor+1) for y in range(max_coor+1)}\n",
    "\n",
    "#helpers.visualize_dict_grid(grid) "
   ]
  },
  {
   "cell_type": "code",
   "execution_count": 20,
   "metadata": {},
   "outputs": [
    {
     "data": {
      "text/plain": [
       "691316989225259"
      ]
     },
     "execution_count": 20,
     "metadata": {},
     "output_type": "execute_result"
    }
   ],
   "source": [
    "from functools import lru_cache\n",
    "\n",
    "@lru_cache(maxsize=None) #good old memoization to the rescue\n",
    "def check_possible(design, colors):\n",
    "    num_possible = 0\n",
    "    if not design:\n",
    "        return 1\n",
    "    for color in colors:\n",
    "        if design.startswith(color):\n",
    "            num_possible += check_possible(design[len(color):], tuple(colors))\n",
    "    return num_possible\n",
    "ans = 0\n",
    "for design in designs:\n",
    "    ans += check_possible(design, tuple(colors))\n",
    "ans"
   ]
  }
 ],
 "metadata": {
  "kernelspec": {
   "display_name": "Python 3",
   "language": "python",
   "name": "python3"
  },
  "language_info": {
   "codemirror_mode": {
    "name": "ipython",
    "version": 3
   },
   "file_extension": ".py",
   "mimetype": "text/x-python",
   "name": "python",
   "nbconvert_exporter": "python",
   "pygments_lexer": "ipython3",
   "version": "3.7.3"
  }
 },
 "nbformat": 4,
 "nbformat_minor": 5
}
