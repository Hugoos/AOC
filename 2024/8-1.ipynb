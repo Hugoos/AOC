{
 "cells": [
  {
   "cell_type": "code",
   "execution_count": 39,
   "id": "promotional-brook",
   "metadata": {},
   "outputs": [],
   "source": [
    "import helpers\n",
    "import numpy as np\n",
    "import re \n",
    "\n",
    "#helpers.npNicePrint(arr)\n",
    "\n",
    "data = \"\"\"............\n",
    "........0...\n",
    ".....0......\n",
    ".......0....\n",
    "....0.......\n",
    "......A.....\n",
    "............\n",
    "............\n",
    "........A...\n",
    ".........A..\n",
    "............\n",
    "............\"\"\"\n",
    "with open(\"input_8.txt\", 'r') as f:\n",
    "    data = f.read()\n",
    "\n",
    "def safe_get(grid, index):\n",
    "    try:\n",
    "        return grid[tuple(index)]\n",
    "    except:\n",
    "        return \"\"\n",
    "    \n",
    "#changeDict = {\"forward\": np.array([1,0]), \"down\": np.array([0,1]), \"up\": np.array([0,-1])}\n",
    "#data = [changeDict[x.split(\" \")[0]] * int(x.split(\" \")[1]) for x in data.split(\"\\n\") if x]\n",
    "#data = [\n",
    "#    [int(match.group(1)), list(map(int, match.group(2).split()))]\n",
    "#    for line in data.split(\"\\n\")\n",
    "#    if (match := re.match(r'^(\\d+):\\s*(\\d+(?:\\s+\\d+)*)', line))\n",
    "#]\n",
    "#np.prod(sum(data))    \n",
    "#data = [list(map(int, x.split(\" \"))) for x in data.split('\\n') if not x == \"\"]\n",
    "grid = {(x,y): val for y, r in enumerate(data.split('\\n')) for x, val in enumerate(r)}\n",
    "#grid\n"
   ]
  },
  {
   "cell_type": "code",
   "execution_count": 42,
   "id": "1c6da957",
   "metadata": {},
   "outputs": [],
   "source": [
    "grid\n",
    "sensor_grid = {}\n",
    "#for every type for sensor, create a list of locations\n",
    "for k,v in grid.items():\n",
    "    if not v == \".\":\n",
    "        if not v in sensor_grid.keys():\n",
    "            sensor_grid[v] = []\n",
    "        sensor_grid[v].append(k)\n",
    "#sensor_grid"
   ]
  },
  {
   "cell_type": "code",
   "execution_count": 43,
   "id": "15a1eb62",
   "metadata": {},
   "outputs": [
    {
     "data": {
      "text/plain": [
       "301"
      ]
     },
     "execution_count": 43,
     "metadata": {},
     "output_type": "execute_result"
    }
   ],
   "source": [
    "from itertools import combinations\n",
    "antiPoints = set()\n",
    "for k,v in sensor_grid.items():\n",
    "    for p1,p2 in list(combinations(v, 2)):\n",
    "        existing_points = set({p1,p2})\n",
    "        difference = np.array(p1)-np.array(p2)\n",
    "        all_points = set({tuple(p1-difference), tuple(p1+difference), tuple(p2-difference), tuple(p2+difference)})\n",
    "        #Too lazy to find the order, get the 4 possibilities, set difference with the points we are considering\n",
    "        #Then make sure the points are not out of bounds with the grid\n",
    "        antiPoints = antiPoints | ((all_points - existing_points) & grid.keys())\n",
    "len(antiPoints)"
   ]
  }
 ],
 "metadata": {
  "kernelspec": {
   "display_name": "Python 3 (ipykernel)",
   "language": "python",
   "name": "python3"
  },
  "language_info": {
   "codemirror_mode": {
    "name": "ipython",
    "version": 3
   },
   "file_extension": ".py",
   "mimetype": "text/x-python",
   "name": "python",
   "nbconvert_exporter": "python",
   "pygments_lexer": "ipython3",
   "version": "3.9.7"
  }
 },
 "nbformat": 4,
 "nbformat_minor": 5
}
