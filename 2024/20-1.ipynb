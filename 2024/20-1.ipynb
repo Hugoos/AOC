{
 "cells": [
  {
   "cell_type": "code",
   "execution_count": 103,
   "id": "4973c9f7",
   "metadata": {},
   "outputs": [],
   "source": [
    "import helpers\n",
    "import numpy as np\n",
    "import re \n",
    "\n",
    "#helpers.npNicePrint(arr)\n",
    "\n",
    "data = \"\"\"###############\n",
    "#...#...#.....#\n",
    "#.#.#.#.#.###.#\n",
    "#S#...#.#.#...#\n",
    "#######.#.#.###\n",
    "#######.#.#...#\n",
    "#######.#.###.#\n",
    "###..E#...#...#\n",
    "###.#######.###\n",
    "#...###...#...#\n",
    "#.#####.#.###.#\n",
    "#.#...#.#.#...#\n",
    "#.#.#.#.#.#.###\n",
    "#...#...#...###\n",
    "###############\"\"\"\n",
    "\n",
    "with open(\"input_20.txt\", 'r') as f:\n",
    "    data = f.read().rstrip()\n",
    "\n",
    "#print(colors, designs)\n",
    "\n",
    "\n",
    "def safe_get(grid, index):\n",
    "    try:\n",
    "        return grid[tuple(index)]\n",
    "    except:\n",
    "        return \"\"\n",
    "    \n",
    "#changeDict = {\"forward\": np.array([1,0]), \"down\": np.array([0,1]), \"up\": np.array([0,-1])}\n",
    "#data = [changeDict[x.split(\" \")[0]] * int(x.split(\" \")[1]) for x in data.split(\"\\n\") if x]\n",
    "\n",
    "#np.prod(sum(data))    \n",
    "#data = [list(map(int, x.split(\" \"))) for x in data.split('\\n') if not x == \"\"]\n",
    "\n",
    "#data = [(int(row.split(\",\")[0]),int(row.split(\",\")[1])) for row in data.split(\"\\n\")]\n",
    "\n",
    "#grid, moves = data.split(\"\\n\\n\")\n",
    "#moves = moves.replace(\"\\n\", \"\")\n",
    "\n",
    "grid = {(x,y): str(val) for y, r in enumerate(data.split('\\n')) for x, val in enumerate(r)}\n",
    "#grid\n",
    "#data = [int(x) for x in data.split(\" \")]\n",
    "\n",
    "\n",
    "# Output the parsed data\n",
    "#print(data)\n",
    "\n",
    "\n",
    "#grid = {(x,y): \".\" for x in range(max_coor+1) for y in range(max_coor+1)}\n",
    "\n",
    "#helpers.visualize_dict_grid(grid) "
   ]
  },
  {
   "cell_type": "code",
   "execution_count": 98,
   "id": "bc922f1b",
   "metadata": {},
   "outputs": [],
   "source": [
    "import heapq\n",
    "\n",
    "def heuristic(a, b):\n",
    "    \"\"\"Calculate Manhattan distance as the heuristic.\"\"\"\n",
    "    return abs(a[0] - b[0]) + abs(a[1] - b[1])\n",
    "\n",
    "def astar(grid, start, goal):\n",
    "    \"\"\"A* algorithm to find the shortest path in a grid.\"\"\"\n",
    "    if grid[start] == '#' or grid[goal] == '#':\n",
    "        return None  # Start or goal is blocked\n",
    "\n",
    "    # Priority queue for the open set\n",
    "    open_set = []\n",
    "    heapq.heappush(open_set, (0, start))\n",
    "\n",
    "    # Came from map for reconstructing the path\n",
    "    came_from = {}\n",
    "\n",
    "    # Cost from start to current node\n",
    "    g_score = {node: float('inf') for node in grid}\n",
    "    g_score[start] = 0\n",
    "\n",
    "    # Total cost of the current node\n",
    "    f_score = {node: float('inf') for node in grid}\n",
    "    f_score[start] = heuristic(start, goal)\n",
    "\n",
    "    while open_set:\n",
    "        current = heapq.heappop(open_set)[1]\n",
    "\n",
    "        if current == goal:\n",
    "            # Reconstruct path\n",
    "            path = []\n",
    "            while current in came_from:\n",
    "                path.append(current)\n",
    "                current = came_from[current]\n",
    "            path.append(start)\n",
    "            return path[::-1]\n",
    "\n",
    "        # Check neighbors\n",
    "        neighbors = [\n",
    "            (current[0] + dx, current[1] + dy)\n",
    "            for dx, dy in [(-1, 0), (1, 0), (0, -1), (0, 1)]\n",
    "        ]\n",
    "        for neighbor in neighbors:\n",
    "            if neighbor not in grid or grid[neighbor] == '#':\n",
    "                continue\n",
    "\n",
    "            tentative_g_score = g_score[current] + 1  # Assume uniform cost grid\n",
    "\n",
    "            if tentative_g_score < g_score[neighbor]:\n",
    "                # This path to neighbor is better\n",
    "                came_from[neighbor] = current\n",
    "                g_score[neighbor] = tentative_g_score\n",
    "                f_score[neighbor] = tentative_g_score + heuristic(neighbor, goal)\n",
    "                if neighbor not in [item[1] for item in open_set]:\n",
    "                    heapq.heappush(open_set, (f_score[neighbor], neighbor))\n",
    "\n",
    "    return None  # No path found"
   ]
  },
  {
   "cell_type": "code",
   "execution_count": 99,
   "id": "114862a7",
   "metadata": {},
   "outputs": [],
   "source": [
    "start = [k for k,v in grid.items() if v == \"S\"][0]\n",
    "goal = [k for k,v in grid.items() if v == \"E\"][0]\n",
    "golden_path = astar(grid, start, goal)\n",
    "golden_path_len = len(golden_path)\n",
    "\n"
   ]
  },
  {
   "cell_type": "code",
   "execution_count": 100,
   "id": "75a3ea06",
   "metadata": {},
   "outputs": [],
   "source": [
    "# Find the boundary coordinates\n",
    "min_x = min(coord[0] for coord in grid.keys())\n",
    "max_x = max(coord[0] for coord in grid.keys())\n",
    "min_y = min(coord[1] for coord in grid.keys())\n",
    "max_y = max(coord[1] for coord in grid.keys())\n",
    "\n",
    "# Collect edge coordinates\n",
    "edges = set([\n",
    "    coord for coord in grid.keys()\n",
    "    if coord[0] == min_x or coord[0] == max_x or coord[1] == min_y or coord[1] == max_y\n",
    "])\n",
    "\n",
    "def get_neighbours(node):\n",
    "    return  [(node[0] + dx, node[1] + dy)\n",
    "                for dx, dy in [(-1, 0), (1, 0), (0, -1), (0, 1)]]\n",
    "\n",
    "cheats = set()\n",
    "\n",
    "for node in golden_path[:-1]:\n",
    "    for neighbor in get_neighbours(node):\n",
    "        if neighbor in edges or grid[neighbor] == '.':\n",
    "            continue\n",
    "        if sum([grid[neighbor2] in {\".\", \"E\", \"S\"} for neighbor2 in get_neighbours(neighbor) if not neighbor2 in edges]) >= 2:\n",
    "            for neighbor2 in get_neighbours(neighbor):\n",
    "                if not (neighbor2 in edges) and not (neighbor2 == node) and not (grid[neighbor2] == \"#\") and not (neighbor2, neighbor, node) in cheats:\n",
    "                        cheats.add((node, neighbor, neighbor2))"
   ]
  },
  {
   "cell_type": "code",
   "execution_count": 101,
   "id": "e97ab6a5",
   "metadata": {},
   "outputs": [
    {
     "data": {
      "text/plain": [
       "1393"
      ]
     },
     "execution_count": 101,
     "metadata": {},
     "output_type": "execute_result"
    }
   ],
   "source": [
    "times = {}\n",
    "\n",
    "for i, x in enumerate(reversed(golden_path)):\n",
    "    times[x] = (golden_path_len-i-1, i) #(s moved thus far, s until goal)\n",
    "times\n",
    "\n",
    "cheats_valid = set()\n",
    "\n",
    "for c1,c2,c3 in cheats:\n",
    "    cheats_valid.add((c1,c3))\n",
    "cheats_valid\n",
    "\n",
    "cheat_lengths = []\n",
    "\n",
    "for cheat in cheats_valid:\n",
    "    #print(cheat)\n",
    "    #print(golden_path_len - (times[cheat[0]][0] + times[cheat[2]][1]))\n",
    "    time_saved = golden_path_len-1 - (times[cheat[0]][0] + times[cheat[1]][1] + 2)\n",
    "    if time_saved > 0:\n",
    "        cheat_lengths.append(time_saved)\n",
    "    \n",
    "cheat_counts = dict(sorted(Counter(cheat_lengths).items(), key=lambda x: x[0]))\n",
    "ans = 0\n",
    "for k,v in cheat_counts.items():\n",
    "    if k >= 100:\n",
    "        ans += v\n",
    "ans"
   ]
  },
  {
   "cell_type": "code",
   "execution_count": 92,
   "id": "a00321b4",
   "metadata": {},
   "outputs": [
    {
     "data": {
      "text/plain": [
       "{((1, 2), (2, 1)),\n",
       " ((1, 2), (3, 2)),\n",
       " ((1, 3), (3, 3)),\n",
       " ((1, 10), (2, 9)),\n",
       " ((2, 1), (3, 2)),\n",
       " ((2, 9), (3, 8)),\n",
       " ((2, 13), (1, 12)),\n",
       " ((3, 1), (5, 1)),\n",
       " ((3, 2), (4, 3)),\n",
       " ((3, 2), (5, 2)),\n",
       " ((3, 8), (4, 7)),\n",
       " ((3, 11), (1, 11)),\n",
       " ((3, 11), (3, 9)),\n",
       " ((3, 12), (1, 12)),\n",
       " ((3, 12), (2, 13)),\n",
       " ((4, 3), (5, 2)),\n",
       " ((4, 11), (3, 12)),\n",
       " ((5, 2), (6, 1)),\n",
       " ((5, 2), (7, 2)),\n",
       " ((5, 3), (7, 3)),\n",
       " ((5, 12), (3, 12)),\n",
       " ((5, 12), (4, 11)),\n",
       " ((5, 13), (3, 13)),\n",
       " ((6, 1), (7, 2)),\n",
       " ((6, 13), (5, 12)),\n",
       " ((7, 1), (9, 1)),\n",
       " ((7, 2), (9, 2)),\n",
       " ((7, 3), (9, 3)),\n",
       " ((7, 4), (9, 4)),\n",
       " ((7, 5), (9, 5)),\n",
       " ((7, 6), (8, 7)),\n",
       " ((7, 6), (9, 6)),\n",
       " ((7, 7), (5, 7)),\n",
       " ((7, 7), (7, 9)),\n",
       " ((7, 11), (5, 11)),\n",
       " ((7, 12), (5, 12)),\n",
       " ((7, 12), (6, 13)),\n",
       " ((8, 7), (8, 9)),\n",
       " ((8, 7), (9, 6)),\n",
       " ((8, 9), (7, 10)),\n",
       " ((9, 2), (10, 1)),\n",
       " ((9, 3), (11, 3)),\n",
       " ((9, 4), (11, 4)),\n",
       " ((9, 5), (11, 5)),\n",
       " ((9, 7), (9, 9)),\n",
       " ((9, 7), (11, 7)),\n",
       " ((9, 10), (7, 10)),\n",
       " ((9, 10), (8, 9)),\n",
       " ((9, 11), (7, 11)),\n",
       " ((9, 12), (7, 12)),\n",
       " ((9, 13), (7, 13)),\n",
       " ((10, 13), (9, 12)),\n",
       " ((11, 1), (11, 3)),\n",
       " ((11, 4), (12, 5)),\n",
       " ((11, 5), (11, 7)),\n",
       " ((11, 8), (12, 9)),\n",
       " ((11, 9), (9, 9)),\n",
       " ((11, 9), (11, 11)),\n",
       " ((11, 11), (9, 11)),\n",
       " ((11, 12), (9, 12)),\n",
       " ((11, 12), (10, 13)),\n",
       " ((12, 1), (12, 3)),\n",
       " ((12, 1), (13, 2)),\n",
       " ((12, 3), (11, 4)),\n",
       " ((12, 3), (12, 5)),\n",
       " ((12, 5), (12, 7)),\n",
       " ((12, 5), (13, 6)),\n",
       " ((12, 7), (11, 8)),\n",
       " ((12, 7), (12, 9)),\n",
       " ((12, 9), (12, 11)),\n",
       " ((12, 9), (13, 10)),\n",
       " ((12, 11), (11, 12)),\n",
       " ((13, 2), (12, 3)),\n",
       " ((13, 3), (13, 5)),\n",
       " ((13, 6), (12, 7)),\n",
       " ((13, 7), (13, 9)),\n",
       " ((13, 10), (12, 11))}"
      ]
     },
     "execution_count": 92,
     "metadata": {},
     "output_type": "execute_result"
    }
   ],
   "source": [
    "There are 14 cheats that save 2 picoseconds.\n",
    "There are 14 cheats that save 4 picoseconds.\n",
    "There are 2 cheats that save 6 picoseconds.\n",
    "There are 4 cheats that save 8 picoseconds.\n",
    "There are 2 cheats that save 10 picoseconds.\n",
    "There are 3 cheats that save 12 picoseconds.\n",
    "There is one cheat that saves 20 picoseconds.\n",
    "There is one cheat that saves 36 picoseconds.\n",
    "There is one cheat that saves 38 picoseconds.\n",
    "There is one cheat that saves 40 picoseconds.\n",
    "There is one cheat that saves 64 picoseconds."
   ]
  },
  {
   "cell_type": "markdown",
   "id": "da33e674",
   "metadata": {},
   "source": [
    "# Old method, when I didn't realize it was only one path... slow"
   ]
  },
  {
   "cell_type": "code",
   "execution_count": 72,
   "id": "50c84ba7",
   "metadata": {},
   "outputs": [],
   "source": [
    "# Find the boundary coordinates\n",
    "min_x = min(coord[0] for coord in grid.keys())\n",
    "max_x = max(coord[0] for coord in grid.keys())\n",
    "min_y = min(coord[1] for coord in grid.keys())\n",
    "max_y = max(coord[1] for coord in grid.keys())\n",
    "\n",
    "# Collect edge coordinates\n",
    "edges = set([\n",
    "    coord for coord in grid.keys()\n",
    "    if coord[0] == min_x or coord[0] == max_x or coord[1] == min_y or coord[1] == max_y\n",
    "])\n",
    "\n",
    "def get_neighbours(node):\n",
    "    return  [(node[0] + dx, node[1] + dy)\n",
    "                for dx, dy in [(-1, 0), (1, 0), (0, -1), (0, 1)]]\n",
    "\n",
    "cheats = set()\n",
    "\n",
    "for node in golden_path[:-1]:\n",
    "    for neighbor in get_neighbours(node):\n",
    "        if neighbor in edges or grid[neighbor] == '.':\n",
    "            continue\n",
    "        if sum([grid[neighbor2] in {\".\", \"E\", \"S\"} for neighbor2 in get_neighbours(neighbor) if not neighbor2 in edges]) >= 2:\n",
    "            for neighbor2 in get_neighbours(neighbor):\n",
    "                if not (neighbor2 in edges) and not (neighbor2 == node) and not (grid[neighbor2] == \"#\") and not (neighbor2, neighbor, node) in cheats:\n",
    "                        cheats.add((node, neighbor, neighbor2))\n",
    "\n",
    "#print(edges)"
   ]
  },
  {
   "cell_type": "code",
   "execution_count": 73,
   "id": "80a2ae6a",
   "metadata": {},
   "outputs": [],
   "source": [
    "def get_neighbours(node):\n",
    "    return  [(node[0] + dx, node[1] + dy)\n",
    "                for dx, dy in [(-1, 0), (1, 0), (0, -1), (0, 1)]]\n",
    "\n",
    "cheats = set()\n",
    "\n",
    "for node in golden_path[:-1]:\n",
    "    for neighbor in get_neighbours(node):\n",
    "        if neighbor in edges or grid[neighbor] == '.':\n",
    "            continue\n",
    "        if sum([grid[neighbor2] in {\".\", \"E\", \"S\"} for neighbor2 in get_neighbours(neighbor) if not neighbor2 in edges]) >= 2:\n",
    "            for neighbor2 in get_neighbours(neighbor):\n",
    "                if not (neighbor2 in edges) and not (neighbor2 == node) and not (grid[neighbor2] == \"#\") and not (neighbor2, neighbor, node) in cheats:\n",
    "                        cheats.add((node, neighbor, neighbor2))\n",
    "                \n",
    "        "
   ]
  },
  {
   "cell_type": "code",
   "execution_count": 74,
   "id": "fba03e79",
   "metadata": {},
   "outputs": [
    {
     "data": {
      "text/plain": [
       "77"
      ]
     },
     "execution_count": 74,
     "metadata": {},
     "output_type": "execute_result"
    }
   ],
   "source": [
    "cheats_deletes = set([x[1] for x in cheats])\n",
    "\n",
    "len(cheats)\n",
    "#len(cheats_deletes)"
   ]
  },
  {
   "cell_type": "code",
   "execution_count": 65,
   "id": "29a25d4c",
   "metadata": {},
   "outputs": [
    {
     "name": "stderr",
     "output_type": "stream",
     "text": [
      "100%|██████████████████████████████████████████████████████████████████████████████| 7826/7826 [04:55<00:00, 26.46it/s]\n"
     ]
    },
    {
     "data": {
      "text/plain": [
       "1393"
      ]
     },
     "execution_count": 65,
     "metadata": {},
     "output_type": "execute_result"
    }
   ],
   "source": [
    "from collections import Counter\n",
    "from tqdm import tqdm\n",
    "\n",
    "golden_path_length = len(golden_path)\n",
    "\n",
    "cheat_lengths = []\n",
    "\n",
    "for cheat in tqdm(cheats_deletes):\n",
    "    n_grid = grid.copy()\n",
    "    n_grid[cheat] = \".\"\n",
    "    n_path_length = len(astar(n_grid, start, goal))\n",
    "    if n_path_length < golden_path_length:\n",
    "        cheat_lengths.append(golden_path_length-n_path_length)\n",
    "        \n",
    "\n",
    "cheat_counts = dict(sorted(Counter(cheat_lengths).items(), key=lambda x: x[0]))\n",
    "ans = 0\n",
    "for k,v in cheat_counts.items():\n",
    "    if k >= 100:\n",
    "        ans += v\n",
    "ans"
   ]
  },
  {
   "cell_type": "code",
   "execution_count": 28,
   "id": "e3f5c3c6",
   "metadata": {},
   "outputs": [
    {
     "data": {
      "text/plain": [
       "85"
      ]
     },
     "execution_count": 28,
     "metadata": {},
     "output_type": "execute_result"
    }
   ],
   "source": [
    "There are 14 cheats that save 2 picoseconds.\n",
    "There are 14 cheats that save 4 picoseconds.\n",
    "There are 2 cheats that save 6 picoseconds.\n",
    "There are 4 cheats that save 8 picoseconds.\n",
    "There are 2 cheats that save 10 picoseconds.\n",
    "There are 3 cheats that save 12 picoseconds.\n",
    "There is one cheat that saves 20 picoseconds.\n",
    "There is one cheat that saves 36 picoseconds.\n",
    "There is one cheat that saves 38 picoseconds.\n",
    "There is one cheat that saves 40 picoseconds.\n",
    "There is one cheat that saves 64 picoseconds."
   ]
  },
  {
   "cell_type": "code",
   "execution_count": 54,
   "id": "cdf18a7b",
   "metadata": {},
   "outputs": [
    {
     "name": "stdout",
     "output_type": "stream",
     "text": [
      "# # # # # # # # # # # # # # #\n",
      "# . . . O . . . O . . . . . #\n",
      "# . O . O . O . O . O O O . #\n",
      "# S O . . . O . O . O . . . #\n",
      "# # # # # # # . O . O . O O #\n",
      "# # # # # # # . O . O . . . #\n",
      "# # # # # # # . O . # O O . #\n",
      "# # # . . E O . . . O . . . #\n",
      "# # O . O # # O O O # . O O #\n",
      "# . . . # # # . . . O . . . #\n",
      "# . O O # # # . O . # O O . #\n",
      "# . O . . . O . O . O . . . #\n",
      "# . O . O . O . O . O . O # #\n",
      "# . . . O . . . O . . . # # #\n",
      "# # # # # # # # # # # # # # #\n"
     ]
    }
   ],
   "source": [
    "n_grid = grid.copy()\n",
    "for c in cheats_deletes:\n",
    "    n_grid[c] = \"O\"\n",
    "    \n",
    "helpers.visualize_dict_grid(n_grid)     "
   ]
  },
  {
   "cell_type": "code",
   "execution_count": null,
   "id": "faba71c0",
   "metadata": {},
   "outputs": [],
   "source": []
  }
 ],
 "metadata": {
  "kernelspec": {
   "display_name": "Python 3 (ipykernel)",
   "language": "python",
   "name": "python3"
  },
  "language_info": {
   "codemirror_mode": {
    "name": "ipython",
    "version": 3
   },
   "file_extension": ".py",
   "mimetype": "text/x-python",
   "name": "python",
   "nbconvert_exporter": "python",
   "pygments_lexer": "ipython3",
   "version": "3.9.7"
  }
 },
 "nbformat": 4,
 "nbformat_minor": 5
}
