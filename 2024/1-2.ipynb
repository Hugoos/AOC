{
 "cells": [
  {
   "cell_type": "code",
   "execution_count": 9,
   "id": "promotional-brook",
   "metadata": {},
   "outputs": [],
   "source": [
    "import helpers\n",
    "import numpy as np\n",
    "\n",
    "#helpers.npNicePrint(arr)\n",
    "\n",
    "data = \"\"\"3   4\n",
    "4   3\n",
    "2   5\n",
    "1   3\n",
    "3   9\n",
    "3   3\n",
    "\"\"\"\n",
    "with open(\"input_1.txt\", 'r') as f:\n",
    "    data = f.read()\n",
    "    \n",
    "#changeDict = {\"forward\": np.array([1,0]), \"down\": np.array([0,1]), \"up\": np.array([0,-1])}\n",
    "#data = [changeDict[x.split(\" \")[0]] * int(x.split(\" \")[1]) for x in data.split(\"\\n\") if x]\n",
    "#data = [x.split(' ') for x in data.split('\\n') if x]\n",
    "#np.prod(sum(data))    \n",
    "data = [x for x in data.split('\\n') if not x == \"\"]\n",
    "list_l = []\n",
    "list_r = []\n",
    "for element in data:\n",
    "    list_l.append(int(element.split(\"   \")[0]))\n",
    "    list_r.append(int(element.split(\"   \")[1]))\n",
    "list_r.sort()\n",
    "list_l.sort()"
   ]
  },
  {
   "cell_type": "code",
   "execution_count": 10,
   "id": "559cbb0d",
   "metadata": {},
   "outputs": [],
   "source": [
    "from collections import Counter\n",
    "count_r = Counter(list_r)"
   ]
  },
  {
   "cell_type": "code",
   "execution_count": 11,
   "id": "8a0aac51",
   "metadata": {},
   "outputs": [
    {
     "data": {
      "text/plain": [
       "19437052"
      ]
     },
     "execution_count": 11,
     "metadata": {},
     "output_type": "execute_result"
    }
   ],
   "source": [
    "ans = 0\n",
    "for i in list_l:\n",
    "    ans += (i * count_r[i])\n",
    "ans"
   ]
  },
  {
   "cell_type": "code",
   "execution_count": null,
   "id": "29026999",
   "metadata": {},
   "outputs": [],
   "source": []
  }
 ],
 "metadata": {
  "kernelspec": {
   "display_name": "Python 3 (ipykernel)",
   "language": "python",
   "name": "python3"
  },
  "language_info": {
   "codemirror_mode": {
    "name": "ipython",
    "version": 3
   },
   "file_extension": ".py",
   "mimetype": "text/x-python",
   "name": "python",
   "nbconvert_exporter": "python",
   "pygments_lexer": "ipython3",
   "version": "3.9.7"
  }
 },
 "nbformat": 4,
 "nbformat_minor": 5
}
