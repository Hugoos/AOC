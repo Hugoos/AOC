{
 "cells": [
  {
   "cell_type": "code",
   "execution_count": 68,
   "id": "4973c9f7",
   "metadata": {},
   "outputs": [
    {
     "name": "stdout",
     "output_type": "stream",
     "text": [
      "2240\n"
     ]
    }
   ],
   "source": [
    "import helpers\n",
    "import numpy as np\n",
    "import re \n",
    "\n",
    "#helpers.npNicePrint(arr)\n",
    "\n",
    "data = \"\"\"1\n",
    "2\n",
    "3\n",
    "2024\"\"\"\n",
    "\n",
    "with open(\"input_22.txt\", 'r') as f:\n",
    "    data = f.read().rstrip()\n",
    "\n",
    "#print(colors, designs)\n",
    "\n",
    "\n",
    "def safe_get(grid, index):\n",
    "    try:\n",
    "        return grid[tuple(index)]\n",
    "    except:\n",
    "        return \"\"\n",
    "    \n",
    "#changeDict = {\"forward\": np.array([1,0]), \"down\": np.array([0,1]), \"up\": np.array([0,-1])}\n",
    "#data = [changeDict[x.split(\" \")[0]] * int(x.split(\" \")[1]) for x in data.split(\"\\n\") if x]\n",
    "\n",
    "#np.prod(sum(data))    \n",
    "#data = [list(map(int, x.split(\" \"))) for x in data.split('\\n') if not x == \"\"]\n",
    "\n",
    "#data = [(int(row.split(\",\")[0]),int(row.split(\",\")[1])) for row in data.split(\"\\n\")]\n",
    "\n",
    "#grid, moves = data.split(\"\\n\\n\")\n",
    "#moves = moves.replace(\"\\n\", \"\")\n",
    "\n",
    "#grid = {(x,y): str(val) for y, r in enumerate(data.split('\\n')) for x, val in enumerate(r)}\n",
    "#grid\n",
    "data = [int(x) for x in data.split(\"\\n\")]\n",
    "data\n",
    "\n",
    "# Output the parsed data\n",
    "print(len(data))\n",
    "\n",
    "\n",
    "#grid = {(x,y): \".\" for x in range(max_coor+1) for y in range(max_coor+1)}\n",
    "\n",
    "#helpers.visualize_dict_grid(grid) "
   ]
  },
  {
   "cell_type": "code",
   "execution_count": 69,
   "id": "900060fa",
   "metadata": {},
   "outputs": [
    {
     "name": "stderr",
     "output_type": "stream",
     "text": [
      "100%|█████████████████████████████████████████████████████████████████████████████| 2240/2240 [00:07<00:00, 296.85it/s]\n"
     ]
    }
   ],
   "source": [
    "from tqdm import tqdm\n",
    "#let's just do it the naive way first, I'm sure they ask us to do it for lots of iterations in pt2 if past years were any indicator\n",
    "#Okay, Eric is tricking us, so it's just brute force again!\n",
    "pruner = 16777216\n",
    "\n",
    "#data = [123]\n",
    "\n",
    "iterations = 2000\n",
    "prizes_changes = []\n",
    "numbers = []\n",
    "for secret_number in tqdm(data):\n",
    "    current_prices = []\n",
    "    current_numbers = []\n",
    "    for x in range(iterations):\n",
    "        current_prize = int(str(secret_number)[-1])\n",
    "        secret_number = ((secret_number * 64) ^ secret_number) % pruner\n",
    "        secret_number = ((secret_number // 32) ^ secret_number) % pruner\n",
    "        secret_number = ((secret_number * 2048) ^ secret_number) % pruner\n",
    "        current_prices.append(int(str(secret_number)[-1]) - current_prize)\n",
    "        current_numbers.append(int(str(secret_number)[-1]))\n",
    "    prizes_changes.append(current_prices)\n",
    "    numbers.append(current_numbers)\n",
    "#prizes_changes"
   ]
  },
  {
   "cell_type": "code",
   "execution_count": 70,
   "id": "291660b0",
   "metadata": {},
   "outputs": [
    {
     "name": "stderr",
     "output_type": "stream",
     "text": [
      "2240it [00:04, 452.67it/s]\n"
     ]
    },
    {
     "data": {
      "text/plain": [
       "2100"
      ]
     },
     "execution_count": 70,
     "metadata": {},
     "output_type": "execute_result"
    }
   ],
   "source": [
    "import itertools\n",
    "\n",
    "# Generate all combinations of 4 digits from -9 to 9\n",
    "range_of_digits = list(range(-9, 10))\n",
    "combinations = list(itertools.product(range_of_digits, repeat=4))\n",
    "prizes = {}\n",
    "\n",
    "#set up the dictionary, so we don't have to later, I know some are unreachable\n",
    "for combo in combinations:\n",
    "    prizes[combo] = 0\n",
    "\n",
    "#for every 4-length sequence, if it was the first time it was seen by a monkey, add the value of the last index of the sequence\n",
    "#to the prizes dictionary under that sequence, we just loop through roughly 2000 sequences for every monkey O(n), it's not that \n",
    "#much. Finally just look for the highest amount of bananas that exist in the values of the dictionary.\n",
    "\n",
    "for j, pc in tqdm(enumerate(prizes_changes)):\n",
    "    seen = set()\n",
    "    for i in range(0, len(pc) - 3):  \n",
    "        sequence = tuple(pc[i:i + 4])  \n",
    "        last_index = i + 3  \n",
    "        if not sequence in seen: # only first counts\n",
    "            prizes[sequence] += numbers[j][last_index]\n",
    "        seen.add(sequence)\n",
    "max(list(prizes.values()))"
   ]
  },
  {
   "cell_type": "code",
   "execution_count": 48,
   "id": "c93f5324",
   "metadata": {},
   "outputs": [
    {
     "data": {
      "text/plain": [
       "130321"
      ]
     },
     "execution_count": 48,
     "metadata": {},
     "output_type": "execute_result"
    }
   ],
   "source": [
    "19 * 19 * 19 * 19"
   ]
  },
  {
   "cell_type": "code",
   "execution_count": 12,
   "id": "22bf56e3",
   "metadata": {},
   "outputs": [
    {
     "data": {
      "text/plain": [
       "583838080000"
      ]
     },
     "execution_count": 12,
     "metadata": {},
     "output_type": "execute_result"
    }
   ],
   "source": [
    "130321 * 4480000"
   ]
  }
 ],
 "metadata": {
  "kernelspec": {
   "display_name": "Python 3 (ipykernel)",
   "language": "python",
   "name": "python3"
  },
  "language_info": {
   "codemirror_mode": {
    "name": "ipython",
    "version": 3
   },
   "file_extension": ".py",
   "mimetype": "text/x-python",
   "name": "python",
   "nbconvert_exporter": "python",
   "pygments_lexer": "ipython3",
   "version": "3.9.7"
  }
 },
 "nbformat": 4,
 "nbformat_minor": 5
}
