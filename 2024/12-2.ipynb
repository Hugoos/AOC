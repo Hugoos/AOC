{
 "cells": [
  {
   "cell_type": "code",
   "execution_count": 162,
   "id": "22f61057",
   "metadata": {},
   "outputs": [
    {
     "data": {
      "text/plain": [
       "{(0, 0): 'E',\n",
       " (1, 0): 'E',\n",
       " (2, 0): 'E',\n",
       " (3, 0): 'E',\n",
       " (4, 0): 'E',\n",
       " (0, 1): 'E',\n",
       " (1, 1): 'X',\n",
       " (2, 1): 'X',\n",
       " (3, 1): 'X',\n",
       " (4, 1): 'X',\n",
       " (0, 2): 'E',\n",
       " (1, 2): 'E',\n",
       " (2, 2): 'E',\n",
       " (3, 2): 'E',\n",
       " (4, 2): 'E',\n",
       " (0, 3): 'E',\n",
       " (1, 3): 'X',\n",
       " (2, 3): 'X',\n",
       " (3, 3): 'X',\n",
       " (4, 3): 'X',\n",
       " (0, 4): 'E',\n",
       " (1, 4): 'E',\n",
       " (2, 4): 'E',\n",
       " (3, 4): 'E',\n",
       " (4, 4): 'E'}"
      ]
     },
     "execution_count": 162,
     "metadata": {},
     "output_type": "execute_result"
    }
   ],
   "source": [
    "import helpers\n",
    "import numpy as np\n",
    "import re \n",
    "\n",
    "#helpers.npNicePrint(arr)\n",
    "\n",
    "data = \"\"\"EEEEE\n",
    "EXXXX\n",
    "EEEEE\n",
    "EXXXX\n",
    "EEEEE\"\"\"\n",
    "#data = \"\"\"125 17\"\"\"\n",
    "#with open(\"input_12.txt\", 'r') as f:\n",
    "#    data = f.read()\n",
    "\n",
    "\n",
    "def safe_get(grid, index):\n",
    "    try:\n",
    "        return grid[tuple(index)]\n",
    "    except:\n",
    "        return \"\"\n",
    "    \n",
    "#changeDict = {\"forward\": np.array([1,0]), \"down\": np.array([0,1]), \"up\": np.array([0,-1])}\n",
    "#data = [changeDict[x.split(\" \")[0]] * int(x.split(\" \")[1]) for x in data.split(\"\\n\") if x]\n",
    "#data = [\n",
    "#    [int(match.group(1)), list(map(int, match.group(2).split()))]\n",
    "#    for line in data.split(\"\\n\")\n",
    "#    if (match := re.match(r'^(\\d+):\\s*(\\d+(?:\\s+\\d+)*)', line))\n",
    "#]\n",
    "#np.prod(sum(data))    \n",
    "#data = [list(map(int, x.split(\" \"))) for x in data.split('\\n') if not x == \"\"]\n",
    "grid = {(x,y): str(val) for y, r in enumerate(data.split('\\n')) for x, val in enumerate(r)}\n",
    "grid\n",
    "#data = [int(x) for x in data.split(\" \")]\n"
   ]
  },
  {
   "cell_type": "code",
   "execution_count": 163,
   "id": "dc42aa3f",
   "metadata": {},
   "outputs": [
    {
     "name": "stdout",
     "output_type": "stream",
     "text": [
      "Nodes: [((0, 0), {'value': 'E'}), ((1, 0), {'value': 'E'}), ((0, 1), {'value': 'E'}), ((2, 0), {'value': 'E'}), ((3, 0), {'value': 'E'}), ((4, 0), {'value': 'E'}), ((0, 2), {'value': 'E'}), ((1, 1), {'value': 'X'}), ((2, 1), {'value': 'X'}), ((3, 1), {'value': 'X'}), ((4, 1), {'value': 'X'}), ((1, 2), {'value': 'E'}), ((0, 3), {'value': 'E'}), ((2, 2), {'value': 'E'}), ((3, 2), {'value': 'E'}), ((4, 2), {'value': 'E'}), ((0, 4), {'value': 'E'}), ((1, 3), {'value': 'X'}), ((2, 3), {'value': 'X'}), ((3, 3), {'value': 'X'}), ((4, 3), {'value': 'X'}), ((1, 4), {'value': 'E'}), ((2, 4), {'value': 'E'}), ((3, 4), {'value': 'E'}), ((4, 4), {'value': 'E'})]\n",
      "Edges: [((0, 0), (1, 0), {}), ((0, 0), (0, 1), {}), ((1, 0), (2, 0), {}), ((0, 1), (0, 2), {}), ((2, 0), (3, 0), {}), ((3, 0), (4, 0), {}), ((0, 2), (1, 2), {}), ((0, 2), (0, 3), {}), ((1, 1), (2, 1), {}), ((2, 1), (3, 1), {}), ((3, 1), (4, 1), {}), ((1, 2), (2, 2), {}), ((0, 3), (0, 4), {}), ((2, 2), (3, 2), {}), ((3, 2), (4, 2), {}), ((0, 4), (1, 4), {}), ((1, 3), (2, 3), {}), ((2, 3), (3, 3), {}), ((3, 3), (4, 3), {}), ((1, 4), (2, 4), {}), ((2, 4), (3, 4), {}), ((3, 4), (4, 4), {})]\n"
     ]
    }
   ],
   "source": [
    "import networkx as nx\n",
    "\n",
    "# Create a graph\n",
    "G = nx.Graph()\n",
    "\n",
    "# Iterate through the dictionary to add nodes and edges\n",
    "for coord, val in grid.items():\n",
    "    # Add the node\n",
    "    G.add_node(coord, value=grid[coord])\n",
    "    \n",
    "    # Check neighbors and add edges\n",
    "    neighbors = [\n",
    "        (coord[0] + 1, coord[1]),  # Right\n",
    "        (coord[0] - 1, coord[1]),  # Left\n",
    "        (coord[0], coord[1] + 1),  # Up\n",
    "        (coord[0], coord[1] - 1),  # Down\n",
    "    ]\n",
    "    for neighbor in neighbors:\n",
    "        if neighbor in grid:\n",
    "            if grid[neighbor] == val:\n",
    "                G.add_edge(coord, neighbor)\n",
    "\n",
    "# Visualize or analyze the graph\n",
    "print(\"Nodes:\", G.nodes(data=True))\n",
    "print(\"Edges:\", G.edges(data=True))\n",
    "\n",
    "# If you want, you can draw the graph using matplotlib\n",
    "#import matplotlib.pyplot as plt\n",
    "#pos = {node: node for node in G.nodes()}  # Use coordinates as positions\n",
    "#nx.draw(G, pos, with_labels=True, node_color='lightblue', font_weight='bold')\n",
    "#plt.show()"
   ]
  },
  {
   "cell_type": "code",
   "execution_count": 164,
   "id": "0dd0765c",
   "metadata": {},
   "outputs": [],
   "source": [
    "def integer_perimeter_nodes(grid_points):\n",
    "    perimeter_nodes = set()\n",
    "    # Define possible directions for neighbors\n",
    "    directions = [(0, 1), (1, 0), (0, -1), (-1, 0), (1,1), (-1,-1), (1,-1), (-1,1)]  # Up, Right, Down, Left\n",
    "    perimeter = 0\n",
    "\n",
    "    for x, y in grid_points:\n",
    "        for dx, dy in directions:\n",
    "            neighbor = (x + dx, y + dy)\n",
    "            # If neighbor is not in the grid, it's a boundary edge\n",
    "            if neighbor not in grid_points:\n",
    "                perimeter_nodes.add(neighbor)\n",
    "    return perimeter_nodes"
   ]
  },
  {
   "cell_type": "code",
   "execution_count": 169,
   "id": "97382406",
   "metadata": {},
   "outputs": [
    {
     "name": "stdout",
     "output_type": "stream",
     "text": [
      "Nodes: [(3, -1), (4, -1), (2, -1), (4, 3), (5, 3), (3, 3), (3, 1), (4, 1), (2, 1), (5, -1), (5, 0), (5, 4), (5, 5), (5, 1), (5, 2), (0, 5), (1, 5), (-1, 5), (2, 5), (3, 5), (1, 3), (2, 3), (-1, -1), (0, -1), (-1, 0), (-1, 4), (-1, 3), (-1, 1), (-1, 2), (4, 5), (1, -1), (1, 1)]\n",
      "Edges: [((3, -1), (4, -1)), ((3, -1), (2, -1)), ((4, -1), (5, -1)), ((2, -1), (1, -1)), ((4, 3), (5, 3)), ((4, 3), (3, 3)), ((5, 3), (5, 4)), ((5, 3), (5, 2)), ((3, 3), (2, 3)), ((3, 1), (4, 1)), ((3, 1), (2, 1)), ((4, 1), (5, 1)), ((2, 1), (1, 1)), ((5, -1), (5, 0)), ((5, 0), (5, 1)), ((5, 4), (5, 5)), ((5, 5), (4, 5)), ((5, 1), (5, 2)), ((0, 5), (1, 5)), ((0, 5), (-1, 5)), ((1, 5), (2, 5)), ((-1, 5), (-1, 4)), ((2, 5), (3, 5)), ((3, 5), (4, 5)), ((1, 3), (2, 3)), ((-1, -1), (0, -1)), ((-1, -1), (-1, 0)), ((0, -1), (1, -1)), ((-1, 0), (-1, 1)), ((-1, 4), (-1, 3)), ((-1, 3), (-1, 2)), ((-1, 1), (-1, 2))]\n",
      "1\n"
     ]
    },
    {
     "data": {
      "image/png": "[encoded data removed]",
      "text/plain": [
       "<Figure size 576x576 with 1 Axes>"
      ]
     },
     "metadata": {},
     "output_type": "display_data"
    }
   ],
   "source": [
    "import matplotlib.pyplot as plt\n",
    "perimeter_nodes = integer_perimeter_nodes([(0, 0), (1, 0), (0, 1), (2, 0), (3, 0), (4, 0), (0, 2), (1, 2), (0, 3), (2, 2), (3, 2), (4, 2), (0, 4), (1, 4), (2, 4), (3, 4), (4, 4)])\n",
    "\n",
    "# Create a graph\n",
    "G_test = nx.Graph()\n",
    "\n",
    "# Iterate through the dictionary to add nodes and edges\n",
    "for coord in perimeter_nodes:\n",
    "    # Add the node\n",
    "    G_test.add_node(coord)\n",
    "    \n",
    "    # Check neighbors and add edges\n",
    "    neighbors = [\n",
    "        (coord[0] + 1, coord[1]),  # Right\n",
    "        (coord[0] - 1, coord[1]),  # Left\n",
    "        (coord[0], coord[1] + 1),  # Up\n",
    "        (coord[0], coord[1] - 1),  # Down\n",
    "        \n",
    "        #(coord[0] + 1, coord[1] +1),  # Right\n",
    "        #(coord[0] - 1, coord[1] +1),  # Left\n",
    "        #(coord[0] +1, coord[1] - 1),  # Up\n",
    "        #(coord[0] - 1, coord[1] - 1),  # Down\n",
    "    ]\n",
    "    for neighbor in neighbors:\n",
    "        if neighbor in perimeter_nodes:\n",
    "                G_test.add_edge(coord, neighbor)\n",
    "\n",
    "# Visualize or analyze the graph\n",
    "print(\"Nodes:\", G_test.nodes())\n",
    "print(\"Edges:\", G_test.edges())\n",
    "\n",
    "print(len(list(nx.connected_components(G_test))))\n",
    "\n",
    "# Plot the graph\n",
    "plt.figure(figsize=(8, 8))\n",
    "pos = {node: node for node in G_test.nodes()}  # Position nodes by their coordinate values\n",
    "nx.draw(G_test, pos, with_labels=True, node_size=500, node_color='skyblue', font_size=10, font_weight='bold', edge_color='gray')\n",
    "plt.title(\"Graph Representation of Nodes with Distance 1 Connections\")\n",
    "plt.show()"
   ]
  },
  {
   "cell_type": "code",
   "execution_count": 166,
   "id": "b381abb6",
   "metadata": {},
   "outputs": [],
   "source": [
    "import networkx as nx\n",
    "\n",
    "# List of edges in the form (node1, node2, {})\n",
    "from collections import defaultdict\n",
    "\n",
    "def find_straight_lines(G):\n",
    "    # Store nodes by their coordinates (x, y)\n",
    "    nodes_by_x = defaultdict(set)\n",
    "    nodes_by_y = defaultdict(set)\n",
    "\n",
    "    # Populate the dictionaries\n",
    "    for node in G.nodes:\n",
    "        x, y = node  # Assuming nodes have 'coord' attribute with (x, y)\n",
    "        nodes_by_x[x].add(y)\n",
    "        nodes_by_y[y].add(x)\n",
    "    \n",
    "    horizontal_lines = 0\n",
    "    vertical_lines = 0\n",
    "    \n",
    "    # Check horizontal lines\n",
    "    for y in nodes_by_y:\n",
    "        sorted_xs = sorted(nodes_by_y[y])\n",
    "        # Look for consecutive x values with distance 1\n",
    "        count = 1  # At least one node is a valid starting point\n",
    "        for i in range(1, len(sorted_xs)):\n",
    "            if sorted_xs[i] == sorted_xs[i-1] + 1:\n",
    "                count += 1\n",
    "            else:\n",
    "                if count > 1:\n",
    "                    horizontal_lines += 1\n",
    "                count = 1  # Reset for the next sequence\n",
    "        if count > 1:\n",
    "            horizontal_lines += 1  # For the last sequence\n",
    "    \n",
    "    # Check vertical lines\n",
    "    for x in nodes_by_x:\n",
    "        sorted_ys = sorted(nodes_by_x[x])\n",
    "        # Look for consecutive y values with distance 1\n",
    "        count = 1  # At least one node is a valid starting point\n",
    "        for i in range(1, len(sorted_ys)):\n",
    "            if sorted_ys[i] == sorted_ys[i-1] + 1:\n",
    "                count += 1\n",
    "            else:\n",
    "                if count > 1:\n",
    "                    vertical_lines += 1\n",
    "                count = 1  # Reset for the next sequence\n",
    "        if count > 1:\n",
    "            vertical_lines += 1  # For the last sequence\n",
    "    \n",
    "    return horizontal_lines + vertical_lines\n",
    "\n",
    "# Extract continuous straight edges\n",
    "#horizontal_groups, vertical_groups = find_straight_lines(G)\n",
    "#print(horizontal_groups, vertical_groups)\n",
    "\n",
    "# Display the result\n",
    "#print(\"Horizontal continuous sections:\")\n",
    "#for group in horizontal_groups:\n",
    "#    print(group)\n",
    "\n",
    "#print(\"\\nVertical continuous sections:\")\n",
    "#for group in vertical_groups:\n",
    "#    print(group)"
   ]
  },
  {
   "cell_type": "code",
   "execution_count": 146,
   "id": "c6b90275",
   "metadata": {},
   "outputs": [
    {
     "data": {
      "text/plain": [
       "12"
      ]
     },
     "execution_count": 146,
     "metadata": {},
     "output_type": "execute_result"
    }
   ],
   "source": [
    "# Extract continuous straight edges\n",
    "find_straight_lines(G)\n"
   ]
  },
  {
   "cell_type": "code",
   "execution_count": 159,
   "id": "674bafb7",
   "metadata": {},
   "outputs": [
    {
     "name": "stdout",
     "output_type": "stream",
     "text": [
      "Highest count per connected component: [2]\n"
     ]
    },
    {
     "data": {
      "text/plain": [
       "2"
      ]
     },
     "execution_count": 159,
     "metadata": {},
     "output_type": "execute_result"
    }
   ],
   "source": [
    "\n",
    "def get_max_count(orig_nodes):\n",
    "    # Initialize a graph\n",
    "    G_per = nx.Graph()\n",
    "\n",
    "    #orig_nodes = [(3, 2), (3, 3), (2, 1), (2, 2)]\n",
    "\n",
    "    # Example perimeter_nodes (list of coordinates)\n",
    "    perimeter_nodes = integer_perimeter_nodes(orig_nodes)\n",
    "\n",
    "    # Initialize node addition counts\n",
    "    for coord in perimeter_nodes:\n",
    "        # Add the node if it doesn't exist and initialize the count to 0\n",
    "        if not G_per.has_node(coord):\n",
    "            G_per.add_node(coord, count=0)  # Add the node with an attribute 'count' set to 0\n",
    "        # Increment the count each time the node is encountered\n",
    "        #G.nodes[coord]['count'] += 1\n",
    "\n",
    "        # Check neighbors and add edges\n",
    "        neighbors = [\n",
    "            (coord[0] + 1, coord[1]),  # Right\n",
    "            (coord[0] - 1, coord[1]),  # Left\n",
    "            (coord[0], coord[1] + 1),  # Up\n",
    "            (coord[0], coord[1] - 1),  # Down\n",
    "        ]\n",
    "\n",
    "        for neighbor in neighbors:\n",
    "\n",
    "            if neighbor in orig_nodes:\n",
    "                G_per.nodes[coord]['count'] += 1\n",
    "            if neighbor in perimeter_nodes:\n",
    "\n",
    "                if not G_per.has_node(neighbor):\n",
    "                    G_per.add_node(neighbor, count=0)  # Add neighbor if not already added\n",
    "                  # Increment count for the neighbor\n",
    "                G_per.add_edge(coord, neighbor)\n",
    "\n",
    "    # Count connected components and find the highest count in each subcomponent\n",
    "    connected_components = list(nx.connected_components(G_per))\n",
    "\n",
    "    # Iterate over each connected component and find the highest node count\n",
    "    max_counts_per_component = []\n",
    "    for component in connected_components:\n",
    "        # For each component, find the node with the highest count\n",
    "        max_count = max(G_per.nodes[node]['count'] for node in component)\n",
    "        #print(max_count)\n",
    "        max_counts_per_component.append(max_count)\n",
    "\n",
    "    # Print the highest count for each connected component\n",
    "    print(\"Highest count per connected component:\", max_counts_per_component)\n",
    "    return sum(max_counts_per_component)\n",
    "\n",
    "get_max_count([(3, 2), (3, 3), (2, 1), (2, 2)])"
   ]
  },
  {
   "cell_type": "code",
   "execution_count": 167,
   "id": "da1df162",
   "metadata": {},
   "outputs": [],
   "source": [
    "\n",
    "def get_perimeter_graph(orig_nodes):\n",
    "    perimeter_nodes = integer_perimeter_nodes(orig_nodes)\n",
    "\n",
    "    # Create a graph\n",
    "    G_per = nx.Graph()\n",
    "\n",
    "    # Iterate through the dictionary to add nodes and edges\n",
    "    for coord in perimeter_nodes:\n",
    "        # Add the node\n",
    "        G_per.add_node(coord)\n",
    "\n",
    "        # Check neighbors and add edges\n",
    "        neighbors = [\n",
    "            (coord[0] + 1, coord[1]),  # Right\n",
    "            (coord[0] - 1, coord[1]),  # Left\n",
    "            (coord[0], coord[1] + 1),  # Up\n",
    "            (coord[0], coord[1] - 1),  # Down\n",
    "\n",
    "            #(coord[0] + 1, coord[1] +1),  # Right\n",
    "            #(coord[0] - 1, coord[1] +1),  # Left\n",
    "            #(coord[0] +1, coord[1] - 1),  # Up\n",
    "            #(coord[0] - 1, coord[1] - 1),  # Down\n",
    "        ]\n",
    "        for neighbor in neighbors:\n",
    "            if neighbor in perimeter_nodes:\n",
    "                    G_per.add_edge(coord, neighbor)\n",
    "    return G_per\n",
    "\n",
    "    # Visualize or analyze the graph\n",
    "    #print(\"Nodes:\", G.nodes())\n",
    "    #print(\"Edges:\", G.edges())\n",
    "\n",
    "    #print(len(list(nx.connected_components(G))))"
   ]
  },
  {
   "cell_type": "code",
   "execution_count": 168,
   "id": "23e127ed",
   "metadata": {},
   "outputs": [
    {
     "name": "stdout",
     "output_type": "stream",
     "text": [
      "Subgraph 1 nodes: [(0, 0), (1, 0), (0, 1), (2, 0), (3, 0), (4, 0), (0, 2), (1, 2), (0, 3), (2, 2), (3, 2), (4, 2), (0, 4), (1, 4), (2, 4), (3, 4), (4, 4)]\n",
      "[(0, 0), (1, 0), (0, 1), (2, 0), (3, 0), (4, 0), (0, 2), (1, 2), (0, 3), (2, 2), (3, 2), (4, 2), (0, 4), (1, 4), (2, 4), (3, 4), (4, 4)] 6\n",
      "Subgraph 2 nodes: [(3, 1), (1, 1), (4, 1), (2, 1)]\n",
      "[(3, 1), (1, 1), (4, 1), (2, 1)] 4\n",
      "Subgraph 3 nodes: [(2, 3), (3, 3), (1, 3), (4, 3)]\n",
      "[(2, 3), (3, 3), (1, 3), (4, 3)] 4\n"
     ]
    },
    {
     "data": {
      "text/plain": [
       "134"
      ]
     },
     "execution_count": 168,
     "metadata": {},
     "output_type": "execute_result"
    }
   ],
   "source": [
    "ans = 0\n",
    "# Find connected components\n",
    "components = list(nx.connected_components(G))\n",
    "\n",
    "# Iterate over the components\n",
    "#for i, component in enumerate(components, start=1):\n",
    "#    print(f\"Component {i}: {component}\")\n",
    "\n",
    "# Optional: Create subgraphs for each component\n",
    "subgraphs = [G.subgraph(component) for component in components]\n",
    "for i, subgraph in enumerate(subgraphs, start=1):\n",
    "    print(f\"Subgraph {i} nodes: {list(subgraph.nodes())}\")\n",
    "    print(list(subgraph.nodes()), find_straight_lines(get_perimeter_graph(subgraph)))\n",
    "    ans += len(list(subgraph.nodes())) * find_straight_lines(get_perimeter_graph(subgraph))\n",
    "ans"
   ]
  },
  {
   "cell_type": "code",
   "execution_count": null,
   "id": "d336f0aa",
   "metadata": {},
   "outputs": [],
   "source": [
    "#736291 too low"
   ]
  },
  {
   "cell_type": "code",
   "execution_count": 136,
   "id": "1fb4f8d9",
   "metadata": {},
   "outputs": [
    {
     "name": "stdout",
     "output_type": "stream",
     "text": [
      "Nodes: [((3, -1), {'count': 1}), ((4, -1), {'count': 1}), ((2, -1), {'count': 1}), ((3, 1), {'count': 2}), ((4, 1), {'count': 2}), ((3, 2), {'count': 2}), ((5, -1), {'count': 1}), ((6, -1), {'count': 0}), ((4, 6), {'count': 1}), ((5, 6), {'count': 1}), ((3, 6), {'count': 1}), ((1, 6), {'count': 1}), ((2, 6), {'count': 1}), ((0, 6), {'count': 1}), ((1, 3), {'count': 2}), ((2, 3), {'count': 2}), ((1, 4), {'count': 2}), ((6, 2), {'count': 1}), ((6, 3), {'count': 1}), ((6, 1), {'count': 1}), ((-1, -1), {'count': 0}), ((0, -1), {'count': 1}), ((-1, 0), {'count': 1}), ((-1, 4), {'count': 1}), ((-1, 5), {'count': 1}), ((-1, 3), {'count': 1}), ((6, 5), {'count': 1}), ((6, 6), {'count': 0}), ((6, 4), {'count': 1}), ((-1, 1), {'count': 1}), ((-1, 2), {'count': 1}), ((4, 2), {'count': 2}), ((1, -1), {'count': 1}), ((2, 4), {'count': 2}), ((6, 0), {'count': 1}), ((-1, 6), {'count': 0})]\n",
      "Edges: [((3, -1), (4, -1), {}), ((3, -1), (2, -1), {}), ((4, -1), (5, -1), {}), ((2, -1), (1, -1), {}), ((3, 1), (4, 1), {}), ((3, 1), (3, 2), {}), ((4, 1), (4, 2), {}), ((3, 2), (4, 2), {}), ((5, -1), (6, -1), {}), ((6, -1), (6, 0), {}), ((4, 6), (5, 6), {}), ((4, 6), (3, 6), {}), ((5, 6), (6, 6), {}), ((3, 6), (2, 6), {}), ((1, 6), (2, 6), {}), ((1, 6), (0, 6), {}), ((0, 6), (-1, 6), {}), ((1, 3), (2, 3), {}), ((1, 3), (1, 4), {}), ((2, 3), (2, 4), {}), ((1, 4), (2, 4), {}), ((6, 2), (6, 3), {}), ((6, 2), (6, 1), {}), ((6, 3), (6, 4), {}), ((6, 1), (6, 0), {}), ((-1, -1), (0, -1), {}), ((-1, -1), (-1, 0), {}), ((0, -1), (1, -1), {}), ((-1, 0), (-1, 1), {}), ((-1, 4), (-1, 5), {}), ((-1, 4), (-1, 3), {}), ((-1, 5), (-1, 6), {}), ((-1, 3), (-1, 2), {}), ((6, 5), (6, 6), {}), ((6, 5), (6, 4), {}), ((-1, 1), (-1, 2), {})]\n",
      "Number of connected components: 3\n"
     ]
    },
    {
     "data": {
      "image/png": "[encoded data removed]",
      "text/plain": [
       "<Figure size 576x576 with 1 Axes>"
      ]
     },
     "metadata": {},
     "output_type": "display_data"
    }
   ],
   "source": [
    "import networkx as nx\n",
    "\n",
    "# Initialize a graph\n",
    "G = nx.Graph()\n",
    "\n",
    "orig_nodes = [(0, 0), (1, 0), (0, 1), (2, 0), (1, 1), (3, 0), (2, 1), (4, 0), (5, 0), (5, 1), (0, 2), (1, 2), (2, 2), (5, 2), (0, 3), (5, 3), (0, 4), (3, 3), (4, 3), (3, 4), (4, 4), (5, 4), (0, 5), (3, 5), (4, 5), (5, 5), (1, 5), (2, 5)]\n",
    "\n",
    "# Example perimeter_nodes (list of coordinates)\n",
    "perimeter_nodes = integer_perimeter_nodes(orig_nodes)\n",
    "\n",
    "# Initialize node addition counts\n",
    "for coord in perimeter_nodes:\n",
    "    # Add the node if it doesn't exist and initialize the count to 0\n",
    "    if not G.has_node(coord):\n",
    "        G.add_node(coord, count=0)  # Add the node with an attribute 'count' set to 0\n",
    "    # Increment the count each time the node is encountered\n",
    "    #G.nodes[coord]['count'] += 1\n",
    "\n",
    "    # Check neighbors and add edges\n",
    "    neighbors = [\n",
    "        (coord[0] + 1, coord[1]),  # Right\n",
    "        (coord[0] - 1, coord[1]),  # Left\n",
    "        (coord[0], coord[1] + 1),  # Up\n",
    "        (coord[0], coord[1] - 1),  # Down\n",
    "    ]\n",
    "    \n",
    "    for neighbor in neighbors:\n",
    "\n",
    "        if neighbor in orig_nodes:\n",
    "            G.nodes[coord]['count'] += 1\n",
    "        if neighbor in perimeter_nodes:\n",
    "            \n",
    "            if not G.has_node(neighbor):\n",
    "                G.add_node(neighbor, count=0)  # Add neighbor if not already added\n",
    "              # Increment count for the neighbor\n",
    "            G.add_edge(coord, neighbor)\n",
    "\n",
    "# Visualize or analyze the graph\n",
    "print(\"Nodes:\", G.nodes(data=True))\n",
    "print(\"Edges:\", G.edges(data=True))\n",
    "\n",
    "# Count connected components\n",
    "print(\"Number of connected components:\", len(list(nx.connected_components(G))))\n",
    "\n",
    "# Plot the graph\n",
    "plt.figure(figsize=(8, 8))\n",
    "pos = {node: node for node in G.nodes()}  # Position nodes by their coordinate values\n",
    "nx.draw(G, pos, with_labels=True, node_size=500, node_color='skyblue', font_size=10, font_weight='bold', edge_color='gray')\n",
    "plt.title(\"Graph Representation of Nodes with Distance 1 Connections\")\n",
    "plt.show()"
   ]
  },
  {
   "cell_type": "code",
   "execution_count": null,
   "id": "fe6c6cbb",
   "metadata": {},
   "outputs": [],
   "source": []
  },
  {
   "cell_type": "code",
   "execution_count": 108,
   "id": "8e559bac",
   "metadata": {},
   "outputs": [
    {
     "name": "stdout",
     "output_type": "stream",
     "text": [
      "Number of exterior edges: 9\n",
      "Number of interior edges: 0\n"
     ]
    }
   ],
   "source": [
    "from shapely.geometry import Polygon\n",
    "\n",
    "# Example points (these should be in the form of a list of tuples)\n",
    "points = [(0, 0), (1, 0), (2, 0), (0, 1), (1, 1), (2, 1), (0, 2), (1, 2), (2, 2)]\n",
    "\n",
    "# Create a Polygon\n",
    "polygon = Polygon(points)\n",
    "\n",
    "# Get exterior edges (the boundary of the shape)\n",
    "exterior_edges = list(polygon.exterior.coords)\n",
    "\n",
    "# Count the number of exterior edges\n",
    "num_exterior_edges = len(exterior_edges) - 1  # minus 1 because the last point connects to the first one\n",
    "\n",
    "print(f\"Number of exterior edges: {num_exterior_edges}\")\n",
    "\n",
    "# Interior edges would be trickier to calculate, but you can access them using interior property\n",
    "interior_edges = polygon.interiors  # This is a list of holes, if any\n",
    "print(f\"Number of interior edges: {len(interior_edges)}\")"
   ]
  },
  {
   "cell_type": "code",
   "execution_count": 116,
   "id": "cd87ce37",
   "metadata": {},
   "outputs": [
    {
     "name": "stdout",
     "output_type": "stream",
     "text": [
      "0.0 1.0\n",
      "horizontal\n",
      "1.0 2.0\n",
      "horizontal\n",
      "0.0 1.0\n",
      "horizontal\n",
      "1.0 2.0\n",
      "horizontal\n",
      "0.0 1.0\n",
      "horizontal\n",
      "1.0 2.0\n",
      "horizontal\n",
      "Number of direction changes: 0\n"
     ]
    }
   ],
   "source": [
    "# Initialize direction\n",
    "prev_direction = None\n",
    "direction_changes = 0\n",
    "\n",
    "# Iterate through the points\n",
    "for i in range(1, len(exterior_edges)):\n",
    "    x1, y1 = exterior_edges[i - 1]\n",
    "    x2, y2 = exterior_edges[i]\n",
    "    \n",
    "    if x1 != x2 and y1 != y2:  # Skip points that aren't straight (diagonal or non-connected points)\n",
    "        continue\n",
    "    print(x1,x2)\n",
    "    # Determine the direction (horizontal or vertical)\n",
    "    if x1 == x2:\n",
    "        current_direction = 'vertical'\n",
    "    else:\n",
    "        current_direction = 'horizontal'\n",
    "    print(current_direction)\n",
    "    \n",
    "    # Check if the direction changes\n",
    "    if prev_direction and prev_direction != current_direction:\n",
    "        direction_changes += 1\n",
    "    \n",
    "    # Update the previous direction\n",
    "    prev_direction = current_direction\n",
    "\n",
    "# Output the result\n",
    "print(f\"Number of direction changes: {direction_changes}\")"
   ]
  },
  {
   "cell_type": "code",
   "execution_count": 118,
   "id": "e0066684",
   "metadata": {},
   "outputs": [
    {
     "data": {
      "text/plain": [
       "1"
      ]
     },
     "execution_count": 118,
     "metadata": {},
     "output_type": "execute_result"
    }
   ],
   "source": [
    "# Function to count straight sections\n",
    "def count_straight_sections(points):\n",
    "    if not points:\n",
    "        return 0\n",
    "\n",
    "    # Initialize the section count\n",
    "    straight_sections = 1  # Start with the first section\n",
    "    prev_direction = None  # To track the previous direction\n",
    "\n",
    "    # Traverse through the points\n",
    "    for i in range(1, len(points)):\n",
    "        x1, y1 = points[i - 1]\n",
    "        x2, y2 = points[i]\n",
    "\n",
    "        if x1 == x2 and y1 == y2:\n",
    "            continue  # Skip duplicate points (optional, if you want to handle them)\n",
    "\n",
    "        # Determine if this is a horizontal or vertical line\n",
    "        if x1 == x2:\n",
    "            current_direction = 'vertical'\n",
    "        elif y1 == y2:\n",
    "            current_direction = 'horizontal'\n",
    "        else:\n",
    "            continue  # This is a diagonal or non-straight line, so we skip it\n",
    "\n",
    "        # If the direction changes, increase the straight section count\n",
    "        if prev_direction and prev_direction != current_direction:\n",
    "            straight_sections += 1\n",
    "\n",
    "        # Update the previous direction\n",
    "        prev_direction = current_direction\n",
    "\n",
    "    return straight_sections\n",
    "\n",
    "count_straight_sections(sorted(exterior_edges))"
   ]
  },
  {
   "cell_type": "code",
   "execution_count": 121,
   "id": "1d462ced",
   "metadata": {},
   "outputs": [
    {
     "data": {
      "text/plain": [
       "18"
      ]
     },
     "execution_count": 121,
     "metadata": {},
     "output_type": "execute_result"
    }
   ],
   "source": [
    "def count_straight_edges(points):\n",
    "    # Convert the list of points to a set for fast lookups\n",
    "    points_set = set(tuple(point) for point in points)\n",
    "    \n",
    "    horizontal_edges = 0\n",
    "    vertical_edges = 0\n",
    "    \n",
    "    # Check horizontal edges (rows)\n",
    "    # We loop over unique y-values and check consecutive x-values for each y\n",
    "    visited_rows = set()\n",
    "    for (x, y) in points:\n",
    "        if y not in visited_rows:\n",
    "            # Get all x-coordinates for the current row (y-coordinate)\n",
    "            row_blocks = sorted([x for (x_check, y_check) in points if y_check == y])\n",
    "            horizontal_edges += count_consecutive_edges(row_blocks)\n",
    "            visited_rows.add(y)\n",
    "    \n",
    "    # Check vertical edges (columns)\n",
    "    # We loop over unique x-values and check consecutive y-values for each x\n",
    "    visited_columns = set()\n",
    "    for (x, y) in points:\n",
    "        if x not in visited_columns:\n",
    "            # Get all y-coordinates for the current column (x-coordinate)\n",
    "            column_blocks = sorted([y for (x_check, y_check) in points if x_check == x])\n",
    "            vertical_edges += count_consecutive_edges(column_blocks)\n",
    "            visited_columns.add(x)\n",
    "    \n",
    "    # Total edges is the sum of horizontal and vertical edges\n",
    "    total_edges = horizontal_edges + vertical_edges\n",
    "    return total_edges\n",
    "\n",
    "def count_consecutive_edges(blocks):\n",
    "    \"\"\"Helper function to count consecutive edges in a sorted list of blocks.\"\"\"\n",
    "    if not blocks:\n",
    "        return 0\n",
    "    edges = 0\n",
    "    for i in range(1, len(blocks)):\n",
    "        # If consecutive blocks are found, it means we are continuing the same edge\n",
    "        if blocks[i] != blocks[i - 1] + 1:\n",
    "            edges += 1\n",
    "    edges += 1  # Count the first segment\n",
    "    return edges\n",
    "\n",
    "count_straight_edges([(0, 0), (1, 0), (2, 0), (0, 1), (1, 1), (2, 1), (0, 2), (1, 2), (2, 2)])"
   ]
  },
  {
   "cell_type": "code",
   "execution_count": null,
   "id": "6dfdeb76",
   "metadata": {},
   "outputs": [],
   "source": []
  }
 ],
 "metadata": {
  "kernelspec": {
   "display_name": "Python 3 (ipykernel)",
   "language": "python",
   "name": "python3"
  },
  "language_info": {
   "codemirror_mode": {
    "name": "ipython",
    "version": 3
   },
   "file_extension": ".py",
   "mimetype": "text/x-python",
   "name": "python",
   "nbconvert_exporter": "python",
   "pygments_lexer": "ipython3",
   "version": "3.9.7"
  }
 },
 "nbformat": 4,
 "nbformat_minor": 5
}
