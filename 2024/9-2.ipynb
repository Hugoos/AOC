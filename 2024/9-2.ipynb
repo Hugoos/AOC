{
 "cells": [
  {
   "cell_type": "code",
   "execution_count": 125,
   "id": "promotional-brook",
   "metadata": {},
   "outputs": [],
   "source": [
    "import helpers\n",
    "import numpy as np\n",
    "import re \n",
    "\n",
    "#helpers.npNicePrint(arr)\n",
    "\n",
    "data = \"\"\"2333133121414131402\"\"\"\n",
    "with open(\"input_9.txt\", 'r') as f:\n",
    "    data = f.read()\n",
    "\n",
    "data = data.rstrip() + \"0\" #so it's even\n",
    "\n",
    "def safe_get(grid, index):\n",
    "    try:\n",
    "        return grid[tuple(index)]\n",
    "    except:\n",
    "        return \"\"\n",
    "    \n",
    "#changeDict = {\"forward\": np.array([1,0]), \"down\": np.array([0,1]), \"up\": np.array([0,-1])}\n",
    "#data = [changeDict[x.split(\" \")[0]] * int(x.split(\" \")[1]) for x in data.split(\"\\n\") if x]\n",
    "#data = [\n",
    "#    [int(match.group(1)), list(map(int, match.group(2).split()))]\n",
    "#    for line in data.split(\"\\n\")\n",
    "#    if (match := re.match(r'^(\\d+):\\s*(\\d+(?:\\s+\\d+)*)', line))\n",
    "#]\n",
    "#np.prod(sum(data))    \n",
    "#data = [list(map(int, x.split(\" \"))) for x in data.split('\\n') if not x == \"\"]\n",
    "#grid = {(x,y): val for y, r in enumerate(data.split('\\n')) for x, val in enumerate(r)}\n",
    "#grid\n"
   ]
  },
  {
   "cell_type": "code",
   "execution_count": 126,
   "id": "b05413ac",
   "metadata": {},
   "outputs": [],
   "source": [
    "blocks = []\n",
    "fid = 0\n",
    "for i in range(0, len(data), 2):\n",
    "    pair = data[i:i+2]  # Take two characters at a time\n",
    "    #print(pair)\n",
    "    blocks.append([fid, int(pair[0]), int(pair[1])])\n",
    "    fid += 1\n",
    "#blocks"
   ]
  },
  {
   "cell_type": "code",
   "execution_count": 127,
   "id": "d1683fc5",
   "metadata": {},
   "outputs": [],
   "source": [
    "#FML\n",
    "\n",
    "last_blocks = \"\"               \n",
    "i = 0\n",
    "current_block = blocks[-1][0]\n",
    "while current_block > 0:\n",
    "    #print(current_block)\n",
    "    finished = False\n",
    "    for j, block in enumerate(reversed(blocks)):\n",
    "        if block[0] == current_block:\n",
    "            if finished: \n",
    "                continue\n",
    "            for i, block_orig in enumerate(blocks[:len(blocks)-j-1]):\n",
    "                #print(block_orig)\n",
    "                if block[1] <= block_orig[2]:\n",
    "                    blocks[len(blocks)-j-2][2] += block[1] + block[2]\n",
    "                    block[2] = block_orig[2] - block[1]\n",
    "                    block_orig[2] = 0\n",
    "                    #print(f\"after block: {len(blocks)-j-2, blocks[len(blocks)-j-2]}\")\n",
    "                    element = blocks.pop(len(blocks)-j-1)\n",
    "                    blocks.insert(i+1, element)\n",
    "                    finished = True\n",
    "                    break\n",
    "    current_block -= 1\n",
    "    #print(blocks)\n",
    "        \n",
    "                \n",
    "#blocks        \n",
    "#0099.111...2...333.44.5555.6666.777.8888.."
   ]
  },
  {
   "cell_type": "code",
   "execution_count": 128,
   "id": "b7363da3",
   "metadata": {},
   "outputs": [
    {
     "data": {
      "text/plain": [
       "6408966547049"
      ]
     },
     "execution_count": 128,
     "metadata": {},
     "output_type": "execute_result"
    }
   ],
   "source": [
    "def sum_between_points(a,b):\n",
    "    return int((b-a+1)/2 * (a+b))\n",
    "\n",
    "position = 0\n",
    "ans = 0 \n",
    "for block in blocks:\n",
    "    position_end = position + block[1] - 1\n",
    "    ans += sum_between_points(position,position_end) * block[0]\n",
    "    position = position_end + 1 + block[2]\n",
    "ans"
   ]
  },
  {
   "cell_type": "code",
   "execution_count": null,
   "id": "09354299",
   "metadata": {},
   "outputs": [],
   "source": []
  }
 ],
 "metadata": {
  "kernelspec": {
   "display_name": "Python 3 (ipykernel)",
   "language": "python",
   "name": "python3"
  },
  "language_info": {
   "codemirror_mode": {
    "name": "ipython",
    "version": 3
   },
   "file_extension": ".py",
   "mimetype": "text/x-python",
   "name": "python",
   "nbconvert_exporter": "python",
   "pygments_lexer": "ipython3",
   "version": "3.9.7"
  }
 },
 "nbformat": 4,
 "nbformat_minor": 5
}
