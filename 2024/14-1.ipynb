{
 "cells": [
  {
   "cell_type": "code",
   "execution_count": 18,
   "id": "22f61057",
   "metadata": {},
   "outputs": [],
   "source": [
    "import helpers\n",
    "import numpy as np\n",
    "import re \n",
    "\n",
    "#helpers.npNicePrint(arr)\n",
    "\n",
    "data = \"\"\"p=0,4 v=3,-3\n",
    "p=6,3 v=-1,-3\n",
    "p=10,3 v=-1,2\n",
    "p=2,0 v=2,-1\n",
    "p=0,0 v=1,3\n",
    "p=3,0 v=-2,-2\n",
    "p=7,6 v=-1,-3\n",
    "p=3,0 v=-1,-2\n",
    "p=9,3 v=2,3\n",
    "p=7,3 v=-1,2\n",
    "p=2,4 v=2,-3\n",
    "p=9,5 v=-3,-3\"\"\"\n",
    "#data = \"\"\"125 17\"\"\"\n",
    "with open(\"input_14.txt\", 'r') as f:\n",
    "    data = f.read()\n",
    "\n",
    "\n",
    "def safe_get(grid, index):\n",
    "    try:\n",
    "        return grid[tuple(index)]\n",
    "    except:\n",
    "        return \"\"\n",
    "    \n",
    "#changeDict = {\"forward\": np.array([1,0]), \"down\": np.array([0,1]), \"up\": np.array([0,-1])}\n",
    "#data = [changeDict[x.split(\" \")[0]] * int(x.split(\" \")[1]) for x in data.split(\"\\n\") if x]\n",
    "#data = [\n",
    "#    [int(match.group(1)), list(map(int, match.group(2).split()))]\n",
    "#    for line in data.split(\"\\n\")\n",
    "#    if (match := re.match(r'^(\\d+):\\s*(\\d+(?:\\s+\\d+)*)', line))\n",
    "#]\n",
    "#np.prod(sum(data))    \n",
    "#data = [list(map(int, x.split(\" \"))) for x in data.split('\\n') if not x == \"\"]\n",
    "#grid = {(x,y): str(val) for y, r in enumerate(data.split('\\n')) for x, val in enumerate(r)}\n",
    "#grid\n",
    "#data = [int(x) for x in data.split(\" \")]\n",
    "\n",
    "# Parsing data\n",
    "robots =[]\n",
    "\n",
    "for line in data.splitlines():\n",
    "    # Split on spaces and extract p and v values\n",
    "    p, v = line.split()\n",
    "    # Extract the numbers from p and v and convert to tuples\n",
    "    robots.append([np.array(tuple(map(int, p[2:].split(',')))), np.array(tuple(map(int, v[2:].split(','))))])\n",
    "\n",
    "# Print results\n",
    "#print(\"Robots:\", robots)\n",
    "\n",
    "\n",
    "# Output the parsed data\n",
    "#print(data)\n",
    "\n"
   ]
  },
  {
   "cell_type": "code",
   "execution_count": 19,
   "id": "7c62313e",
   "metadata": {},
   "outputs": [
    {
     "data": {
      "text/plain": [
       "224554908"
      ]
     },
     "execution_count": 19,
     "metadata": {},
     "output_type": "execute_result"
    }
   ],
   "source": [
    "from functools import reduce\n",
    "\n",
    "moves = 100\n",
    "w,h = 101,103\n",
    "#p,v = robots[0]\n",
    "\n",
    "q_w = w // 2\n",
    "q_h = h // 2\n",
    "\n",
    "quadrants = [[0,0],[0,0]]\n",
    "\n",
    "for p,v in robots:\n",
    "    new_p = p + 100*v\n",
    "    #print(new_p)\n",
    "    new_p[0] %= w\n",
    "    new_p[1] %= h\n",
    "    #print(new_p)\n",
    "    #this will probably get harder in pt 2, but hard coding for now\n",
    "    if new_p[0] < q_w and new_p[1] < q_h:\n",
    "        quadrants[0][0] += 1\n",
    "    elif new_p[0] > q_w and new_p[1] < q_h:\n",
    "        quadrants[0][1] += 1\n",
    "    elif new_p[0] < q_w and new_p[1] > q_h:\n",
    "        quadrants[1][0] += 1\n",
    "    elif new_p[0] > q_w and new_p[1] > q_h:\n",
    "        quadrants[1][1] += 1\n",
    "        \n",
    "ans = reduce(lambda x, y: x * y, [item for sublist in quadrants for item in sublist])\n",
    "ans"
   ]
  }
 ],
 "metadata": {
  "kernelspec": {
   "display_name": "Python 3 (ipykernel)",
   "language": "python",
   "name": "python3"
  },
  "language_info": {
   "codemirror_mode": {
    "name": "ipython",
    "version": 3
   },
   "file_extension": ".py",
   "mimetype": "text/x-python",
   "name": "python",
   "nbconvert_exporter": "python",
   "pygments_lexer": "ipython3",
   "version": "3.9.7"
  }
 },
 "nbformat": 4,
 "nbformat_minor": 5
}
