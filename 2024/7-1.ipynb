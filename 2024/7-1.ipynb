{
 "cells": [
  {
   "cell_type": "code",
   "execution_count": 84,
   "id": "promotional-brook",
   "metadata": {},
   "outputs": [],
   "source": [
    "import helpers\n",
    "import numpy as np\n",
    "import re \n",
    "\n",
    "#helpers.npNicePrint(arr)\n",
    "\n",
    "data = \"\"\"190: 10 19\n",
    "3267: 81 40 27\n",
    "83: 17 5\n",
    "156: 15 6\n",
    "7290: 6 8 6 15\n",
    "161011: 16 10 13\n",
    "192: 17 8 14\n",
    "21037: 9 7 18 13\n",
    "292: 11 6 16 20\"\"\"\n",
    "with open(\"input_7.txt\", 'r') as f:\n",
    "    data = f.read()\n",
    "\n",
    "def safe_get(grid, index):\n",
    "    try:\n",
    "        return grid[tuple(index)]\n",
    "    except:\n",
    "        return \"\"\n",
    "    \n",
    "#changeDict = {\"forward\": np.array([1,0]), \"down\": np.array([0,1]), \"up\": np.array([0,-1])}\n",
    "#data = [changeDict[x.split(\" \")[0]] * int(x.split(\" \")[1]) for x in data.split(\"\\n\") if x]\n",
    "data = [\n",
    "    [int(match.group(1)), list(map(int, match.group(2).split()))]\n",
    "    for line in data.split(\"\\n\")\n",
    "    if (match := re.match(r'^(\\d+):\\s*(\\d+(?:\\s+\\d+)*)', line))\n",
    "]\n",
    "#np.prod(sum(data))    \n",
    "#data = [list(map(int, x.split(\" \"))) for x in data.split('\\n') if not x == \"\"]\n",
    "#grid = {(x,y): val for y, r in enumerate(data.split('\\n')) for x, val in enumerate(r)}\n",
    "#grid\n"
   ]
  },
  {
   "cell_type": "code",
   "execution_count": 85,
   "id": "84c902c9",
   "metadata": {},
   "outputs": [],
   "source": [
    "def find_number(current, target, next_vals):\n",
    "    #print(next_vals, current, target)\n",
    "    if current == target and len(next_vals) == 0:\n",
    "        return True\n",
    "    elif current > target:\n",
    "        return False\n",
    "    if len(next_vals) == 0:\n",
    "        return False\n",
    "    next_val = next_vals.pop(0)\n",
    "    return find_number(current*next_val, target, next_vals.copy()) or find_number(current+next_val, target, next_vals.copy())\n"
   ]
  },
  {
   "cell_type": "code",
   "execution_count": 86,
   "id": "edfae4ee",
   "metadata": {},
   "outputs": [
    {
     "data": {
      "text/plain": [
       "945512582195"
      ]
     },
     "execution_count": 86,
     "metadata": {},
     "output_type": "execute_result"
    }
   ],
   "source": [
    "ans = 0 \n",
    "data_unsolved = []\n",
    "for line in data:\n",
    "    target = line[0]\n",
    "    current = line[1][0]\n",
    "    next_vals = line[1][1:]\n",
    "    if find_number(current, target, next_vals):\n",
    "        ans += target\n",
    "ans"
   ]
  }
 ],
 "metadata": {
  "kernelspec": {
   "display_name": "Python 3 (ipykernel)",
   "language": "python",
   "name": "python3"
  },
  "language_info": {
   "codemirror_mode": {
    "name": "ipython",
    "version": 3
   },
   "file_extension": ".py",
   "mimetype": "text/x-python",
   "name": "python",
   "nbconvert_exporter": "python",
   "pygments_lexer": "ipython3",
   "version": "3.9.7"
  }
 },
 "nbformat": 4,
 "nbformat_minor": 5
}
