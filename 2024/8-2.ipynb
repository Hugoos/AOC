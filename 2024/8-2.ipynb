{
 "cells": [
  {
   "cell_type": "code",
   "execution_count": 11,
   "id": "promotional-brook",
   "metadata": {},
   "outputs": [],
   "source": [
    "import helpers\n",
    "import numpy as np\n",
    "import re \n",
    "\n",
    "#helpers.npNicePrint(arr)\n",
    "\n",
    "data = \"\"\"............\n",
    "........0...\n",
    ".....0......\n",
    ".......0....\n",
    "....0.......\n",
    "......A.....\n",
    "............\n",
    "............\n",
    "........A...\n",
    ".........A..\n",
    "............\n",
    "............\"\"\"\n",
    "with open(\"input_8.txt\", 'r') as f:\n",
    "    data = f.read()\n",
    "\n",
    "def safe_get(grid, index):\n",
    "    try:\n",
    "        return grid[tuple(index)]\n",
    "    except:\n",
    "        return \"\"\n",
    "    \n",
    "#changeDict = {\"forward\": np.array([1,0]), \"down\": np.array([0,1]), \"up\": np.array([0,-1])}\n",
    "#data = [changeDict[x.split(\" \")[0]] * int(x.split(\" \")[1]) for x in data.split(\"\\n\") if x]\n",
    "#data = [\n",
    "#    [int(match.group(1)), list(map(int, match.group(2).split()))]\n",
    "#    for line in data.split(\"\\n\")\n",
    "#    if (match := re.match(r'^(\\d+):\\s*(\\d+(?:\\s+\\d+)*)', line))\n",
    "#]\n",
    "#np.prod(sum(data))    \n",
    "#data = [list(map(int, x.split(\" \"))) for x in data.split('\\n') if not x == \"\"]\n",
    "grid = {(x,y): val for y, r in enumerate(data.split('\\n')) for x, val in enumerate(r)}\n",
    "#grid\n"
   ]
  },
  {
   "cell_type": "code",
   "execution_count": 12,
   "id": "1c6da957",
   "metadata": {},
   "outputs": [],
   "source": [
    "grid\n",
    "sensor_grid = {}\n",
    "#for every type for sensor, create a list of locations\n",
    "for k,v in grid.items():\n",
    "    if not v == \".\":\n",
    "        if not v in sensor_grid.keys():\n",
    "            sensor_grid[v] = []\n",
    "        sensor_grid[v].append(k)\n",
    "#sensor_grid"
   ]
  },
  {
   "cell_type": "code",
   "execution_count": 13,
   "id": "15a1eb62",
   "metadata": {},
   "outputs": [
    {
     "data": {
      "text/plain": [
       "1019"
      ]
     },
     "execution_count": 13,
     "metadata": {},
     "output_type": "execute_result"
    }
   ],
   "source": [
    "from itertools import combinations\n",
    "antiPoints = set() #set assures unique coordinates\n",
    "for k,v in sensor_grid.items(): \n",
    "    for p1,p2 in list(combinations(v, 2)):\n",
    "        existing_points = set({p1,p2})\n",
    "        difference = np.array(p1)-np.array(p2)\n",
    "        current_point = p1\n",
    "        while tuple(current_point) in grid.keys(): #forward, while in bounds\n",
    "            antiPoints.add(tuple(current_point))\n",
    "            current_point += difference\n",
    "        current_point = p1    \n",
    "        while tuple(current_point) in grid.keys(): #backwards, while in bounds\n",
    "            antiPoints.add(tuple(current_point))\n",
    "            current_point -= difference\n",
    "len(antiPoints)"
   ]
  },
  {
   "cell_type": "code",
   "execution_count": null,
   "id": "000a95db",
   "metadata": {},
   "outputs": [],
   "source": []
  }
 ],
 "metadata": {
  "kernelspec": {
   "display_name": "Python 3 (ipykernel)",
   "language": "python",
   "name": "python3"
  },
  "language_info": {
   "codemirror_mode": {
    "name": "ipython",
    "version": 3
   },
   "file_extension": ".py",
   "mimetype": "text/x-python",
   "name": "python",
   "nbconvert_exporter": "python",
   "pygments_lexer": "ipython3",
   "version": "3.9.7"
  }
 },
 "nbformat": 4,
 "nbformat_minor": 5
}
