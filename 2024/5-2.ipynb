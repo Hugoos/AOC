{
 "cells": [
  {
   "cell_type": "code",
   "execution_count": 27,
   "id": "promotional-brook",
   "metadata": {},
   "outputs": [],
   "source": [
    "import helpers\n",
    "import numpy as np\n",
    "\n",
    "#helpers.npNicePrint(arr)\n",
    "\n",
    "data = \"\"\"47|53\n",
    "97|13\n",
    "97|61\n",
    "97|47\n",
    "75|29\n",
    "61|13\n",
    "75|53\n",
    "29|13\n",
    "97|29\n",
    "53|29\n",
    "61|53\n",
    "97|53\n",
    "61|29\n",
    "47|13\n",
    "75|47\n",
    "97|75\n",
    "47|61\n",
    "75|61\n",
    "47|29\n",
    "75|13\n",
    "53|13\n",
    "\n",
    "75,47,61,53,29\n",
    "97,61,53,29,13\n",
    "75,29,13\n",
    "75,97,47,61,53\n",
    "61,13,29\n",
    "97,13,75,29,47\"\"\"\n",
    "with open(\"input_5.txt\", 'r') as f:\n",
    "    data = f.read()\n",
    "    \n",
    "#changeDict = {\"forward\": np.array([1,0]), \"down\": np.array([0,1]), \"up\": np.array([0,-1])}\n",
    "#data = [changeDict[x.split(\" \")[0]] * int(x.split(\" \")[1]) for x in data.split(\"\\n\") if x]\n",
    "#data = [x.split(' ') for x in data.split('\\n') if x]\n",
    "#np.prod(sum(data))    \n",
    "#data = [list(map(int, x.split(\" \"))) for x in data.split('\\n') if not x == \"\"]\n",
    "#grid = {(x,y): val for y, r in enumerate(data.split('\\n')) for x, val in enumerate(r)}\n",
    "#grid\n",
    "\n",
    "rules, instructions = data.split(\"\\n\\n\")\n",
    "rules = rules.split(\"\\n\")\n",
    "rules = [(list(map(int,r.split(\"|\")))) for r in rules]\n",
    "instructions = instructions.split(\"\\n\")\n",
    "instructions= [(list(map(int,r.split(\",\")))) for r in instructions]"
   ]
  },
  {
   "cell_type": "code",
   "execution_count": null,
   "id": "2173304f",
   "metadata": {},
   "outputs": [],
   "source": [
    "import networkx as nx\n",
    "import matplotlib.pyplot as plt\n",
    "\n",
    "\n",
    "    \n",
    "# Create a directed graph\n",
    "G = nx.DiGraph()\n",
    "G.add_edges_from(rules)\n",
    "\n",
    "# Draw the directed graph\n",
    "plt.figure(figsize=(10, 8))\n",
    "pos = nx.spectral_layout(G)  # Layout for better visualization\n",
    "nx.draw(G, pos, with_labels=True, node_size=700, node_color=\"skyblue\", font_size=10, font_weight=\"bold\", arrowstyle=\"->\", arrowsize=15)\n",
    "plt.title(\"Directed Graph\")\n",
    "plt.show()"
   ]
  },
  {
   "cell_type": "code",
   "execution_count": null,
   "id": "5bbc050e",
   "metadata": {},
   "outputs": [],
   "source": [
    "ans = 0\n",
    "incorrectly_ordered = []\n",
    "for instruction in instructions:\n",
    "    for i in range(len(instruction)):\n",
    "        past = set(instruction[:i])  # All elements before the current one\n",
    "        current = instruction[i]  \n",
    "        if not past == (past & set(G.predecessors(current))):\n",
    "            incorrectly_ordered.append(instruction)\n",
    "            break\n",
    "        if i == len(instruction)-1:\n",
    "            ans += instruction[len(instruction)//2] # should be uneven\n",
    "ans"
   ]
  },
  {
   "cell_type": "code",
   "execution_count": null,
   "id": "efa365b3",
   "metadata": {},
   "outputs": [],
   "source": [
    "def is_incorrectly_ordered(instruction):\n",
    "    for i in range(len(instruction)):\n",
    "        past = set(instruction[:i])  # All elements before the current one\n",
    "        current = instruction[i]  \n",
    "        if not past == (past & set(G.predecessors(current))):\n",
    "            return True\n",
    "    return False"
   ]
  },
  {
   "cell_type": "code",
   "execution_count": 26,
   "id": "a5fd8772",
   "metadata": {},
   "outputs": [
    {
     "name": "stdout",
     "output_type": "stream",
     "text": [
      "[75]\n",
      "[61, 13]\n",
      "[97, 13]\n",
      "[97, 75, 13]\n",
      "[97, 75, 29, 13]\n"
     ]
    },
    {
     "data": {
      "text/plain": [
       "123"
      ]
     },
     "execution_count": 26,
     "metadata": {},
     "output_type": "execute_result"
    }
   ],
   "source": [
    "\n",
    "ans = 0 \n",
    "for instruction in incorrectly_ordered:\n",
    "    new_order = []\n",
    "    for current in instruction:\n",
    "        new_order.append(current)\n",
    "        if is_incorrectly_ordered(new_order):\n",
    "            new_order = new_order[:-1]\n",
    "            print(new_order)\n",
    "            for i in range(len(new_order)):  # +1 to include inserting at the end\n",
    "                new_combination = new_order[:i] + [current] + new_order[i:]\n",
    "                #print(f\"nc: {new_combination}\")\n",
    "                if not is_incorrectly_ordered(new_combination):\n",
    "                    new_order = new_combination\n",
    "                    #print(f\"no: {new_order}\")\n",
    "                    break\n",
    "    #print(f\"answer: {new_order}\")\n",
    "    ans += new_order[len(new_order)//2]\n",
    "ans"
   ]
  },
  {
   "cell_type": "code",
   "execution_count": 21,
   "id": "87f4c5bc",
   "metadata": {},
   "outputs": [
    {
     "data": {
      "text/plain": [
       "True"
      ]
     },
     "execution_count": 21,
     "metadata": {},
     "output_type": "execute_result"
    }
   ],
   "source": [
    "is_incorrectly_ordered([61, 75])"
   ]
  },
  {
   "cell_type": "code",
   "execution_count": null,
   "id": "fd7ede05",
   "metadata": {},
   "outputs": [],
   "source": []
  }
 ],
 "metadata": {
  "kernelspec": {
   "display_name": "Python 3 (ipykernel)",
   "language": "python",
   "name": "python3"
  },
  "language_info": {
   "codemirror_mode": {
    "name": "ipython",
    "version": 3
   },
   "file_extension": ".py",
   "mimetype": "text/x-python",
   "name": "python",
   "nbconvert_exporter": "python",
   "pygments_lexer": "ipython3",
   "version": "3.9.7"
  }
 },
 "nbformat": 4,
 "nbformat_minor": 5
}
