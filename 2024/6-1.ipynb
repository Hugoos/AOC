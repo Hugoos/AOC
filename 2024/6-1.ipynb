{
 "cells": [
  {
   "cell_type": "code",
   "execution_count": 33,
   "id": "promotional-brook",
   "metadata": {},
   "outputs": [],
   "source": [
    "import helpers\n",
    "import numpy as np\n",
    "\n",
    "#helpers.npNicePrint(arr)\n",
    "\n",
    "data = \"\"\"....#.....\n",
    ".........#\n",
    "..........\n",
    "..#.......\n",
    ".......#..\n",
    "..........\n",
    ".#..^.....\n",
    "........#.\n",
    "#.........\n",
    "......#...\"\"\"\n",
    "with open(\"input_6.txt\", 'r') as f:\n",
    "    data = f.read()\n",
    "\n",
    "def safe_get(grid, index):\n",
    "    try:\n",
    "        return grid[tuple(index)]\n",
    "    except:\n",
    "        return \"\"\n",
    "    \n",
    "#changeDict = {\"forward\": np.array([1,0]), \"down\": np.array([0,1]), \"up\": np.array([0,-1])}\n",
    "#data = [changeDict[x.split(\" \")[0]] * int(x.split(\" \")[1]) for x in data.split(\"\\n\") if x]\n",
    "#data = [x.split(' ') for x in data.split('\\n') if x]\n",
    "#np.prod(sum(data))    \n",
    "#data = [list(map(int, x.split(\" \"))) for x in data.split('\\n') if not x == \"\"]\n",
    "grid = {(x,y): val for y, r in enumerate(data.split('\\n')) for x, val in enumerate(r)}\n",
    "#grid\n"
   ]
  },
  {
   "cell_type": "code",
   "execution_count": 34,
   "id": "fd7ede05",
   "metadata": {},
   "outputs": [],
   "source": [
    "directions = {\"N\": np.array((0,-1)), \"E\": np.array((1,0)), \"S\": np.array((0,1)), \"W\": np.array((-1,0))}\n",
    "d_change = {\"N\": \"E\", \"E\": \"S\", \"S\": \"W\", \"W\": \"N\"}"
   ]
  },
  {
   "cell_type": "code",
   "execution_count": 35,
   "id": "bf57ae90",
   "metadata": {},
   "outputs": [
    {
     "data": {
      "text/plain": [
       "4778"
      ]
     },
     "execution_count": 35,
     "metadata": {},
     "output_type": "execute_result"
    }
   ],
   "source": [
    "location = [k for k,v in grid.items() if v == \"^\"][0]\n",
    "current_direction = \"N\"\n",
    "visited = set()\n",
    "visited.add(location)\n",
    "next_location = location + directions[current_direction]\n",
    "next_value = safe_get(grid, next_location)\n",
    "\n",
    "while next_value:\n",
    "    \n",
    "    if next_value == \"#\":\n",
    "        current_direction = d_change[current_direction]\n",
    "    else:\n",
    "        location = next_location\n",
    "        visited.add(tuple(next_location)) \n",
    "    next_location = location + directions[current_direction]\n",
    "    next_value = safe_get(grid, next_location)\n",
    "\n",
    "len(visited)"
   ]
  },
  {
   "cell_type": "code",
   "execution_count": null,
   "id": "edfae4ee",
   "metadata": {},
   "outputs": [],
   "source": []
  }
 ],
 "metadata": {
  "kernelspec": {
   "display_name": "Python 3 (ipykernel)",
   "language": "python",
   "name": "python3"
  },
  "language_info": {
   "codemirror_mode": {
    "name": "ipython",
    "version": 3
   },
   "file_extension": ".py",
   "mimetype": "text/x-python",
   "name": "python",
   "nbconvert_exporter": "python",
   "pygments_lexer": "ipython3",
   "version": "3.9.7"
  }
 },
 "nbformat": 4,
 "nbformat_minor": 5
}
