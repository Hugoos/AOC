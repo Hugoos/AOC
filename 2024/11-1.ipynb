{
 "cells": [
  {
   "cell_type": "code",
   "execution_count": 33,
   "metadata": {},
   "outputs": [],
   "source": [
    "import helpers\n",
    "import numpy as np\n",
    "import re \n",
    "\n",
    "#helpers.npNicePrint(arr)\n",
    "\n",
    "data = \"\"\"0 1 10 99 999\"\"\"\n",
    "with open(\"input_11.txt\", 'r') as f:\n",
    "    data = f.read()\n",
    "\n",
    "\n",
    "def safe_get(grid, index):\n",
    "    try:\n",
    "        return grid[tuple(index)]\n",
    "    except:\n",
    "        return \"\"\n",
    "    \n",
    "#changeDict = {\"forward\": np.array([1,0]), \"down\": np.array([0,1]), \"up\": np.array([0,-1])}\n",
    "#data = [changeDict[x.split(\" \")[0]] * int(x.split(\" \")[1]) for x in data.split(\"\\n\") if x]\n",
    "#data = [\n",
    "#    [int(match.group(1)), list(map(int, match.group(2).split()))]\n",
    "#    for line in data.split(\"\\n\")\n",
    "#    if (match := re.match(r'^(\\d+):\\s*(\\d+(?:\\s+\\d+)*)', line))\n",
    "#]\n",
    "#np.prod(sum(data))    \n",
    "#data = [list(map(int, x.split(\" \"))) for x in data.split('\\n') if not x == \"\"]\n",
    "#grid = {(x,y): int(val) for y, r in enumerate(data.split('\\n')) for x, val in enumerate(r)}\n",
    "#grid\n",
    "data = [int(x) for x in data.split(\" \")]\n"
   ]
  },
  {
   "cell_type": "code",
   "execution_count": 34,
   "metadata": {},
   "outputs": [
    {
     "name": "stdout",
     "output_type": "stream",
     "text": [
      "8\n"
     ]
    }
   ],
   "source": [
    "# Define a Node class\n",
    "class Node:\n",
    "    def __init__(self, data):\n",
    "        self.data = data\n",
    "        self.next = None\n",
    "\n",
    "# Function to create a linked list from a list of numbers\n",
    "def create_linked_list(numbers):\n",
    "    if not numbers:  # If the list is empty\n",
    "        return None\n",
    "    head = Node(numbers[0])\n",
    "    current = head\n",
    "    for num in numbers[1:]:\n",
    "        current.next = Node(num)\n",
    "        current = current.next\n",
    "    return head\n",
    "\n",
    "# Function to print the linked list\n",
    "def print_linked_list(head):\n",
    "    num = 0\n",
    "    current = head\n",
    "    while current:\n",
    "        #print(current.data, end=\" -> \")\n",
    "        current = current.next\n",
    "        num += 1\n",
    "    #print(\"None\")\n",
    "    print(num)\n",
    "\n",
    "linked_list_head = create_linked_list(data)\n",
    "\n",
    "# Print the linked list\n",
    "print_linked_list(linked_list_head)"
   ]
  },
  {
   "cell_type": "code",
   "execution_count": 35,
   "metadata": {},
   "outputs": [
    {
     "data": {
      "text/plain": [
       "(20, 24)"
      ]
     },
     "execution_count": 35,
     "metadata": {},
     "output_type": "execute_result"
    }
   ],
   "source": [
    "def split_number_in_half(number):\n",
    "    # Convert the number to a string\n",
    "    num_str = str(number)\n",
    "    # Find the middle index\n",
    "    mid_index = len(num_str) // 2\n",
    "    # Split the number into two halves\n",
    "    first_half = int(num_str[:mid_index])\n",
    "    second_half = int(num_str[mid_index:])\n",
    "    return first_half, second_half\n",
    "split_number_in_half(2024)"
   ]
  },
  {
   "cell_type": "code",
   "execution_count": 36,
   "metadata": {},
   "outputs": [
    {
     "name": "stdout",
     "output_type": "stream",
     "text": [
      "183484\n"
     ]
    }
   ],
   "source": [
    "def split_number_in_half(number):\n",
    "    # Convert the number to a string\n",
    "    num_str = str(number)\n",
    "    # Find the middle index\n",
    "    mid_index = len(num_str) // 2\n",
    "    # Split the number into two halves\n",
    "    first_half = int(num_str[:mid_index])\n",
    "    second_half = int(num_str[mid_index:])\n",
    "    return first_half, second_half\n",
    "\n",
    "def blink(head):\n",
    "    current = head\n",
    "    while current:\n",
    "        if current.data == 0:\n",
    "            current.data = 1\n",
    "            current = current.next\n",
    "        elif len(str(current.data)) % 2 == 0: #even\n",
    "            half_1, half_2 = split_number_in_half(current.data)\n",
    "            current.data = half_1\n",
    "            next_node = Node(half_2)\n",
    "            next_node.next = current.next\n",
    "            current.next = next_node\n",
    "            current = next_node.next\n",
    "        else:\n",
    "            current.data *= 2024\n",
    "            current = current.next\n",
    "for x in range(25):\n",
    "    blink(linked_list_head)\n",
    "print_linked_list(linked_list_head)"
   ]
  }
 ],
 "metadata": {
  "kernelspec": {
   "display_name": "Python 3",
   "language": "python",
   "name": "python3"
  },
  "language_info": {
   "codemirror_mode": {
    "name": "ipython",
    "version": 3
   },
   "file_extension": ".py",
   "mimetype": "text/x-python",
   "name": "python",
   "nbconvert_exporter": "python",
   "pygments_lexer": "ipython3",
   "version": "3.7.3"
  }
 },
 "nbformat": 4,
 "nbformat_minor": 5
}
