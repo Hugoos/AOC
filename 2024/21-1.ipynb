{
 "cells": [
  {
   "cell_type": "code",
   "execution_count": 40,
   "id": "4973c9f7",
   "metadata": {},
   "outputs": [
    {
     "data": {
      "text/plain": [
       "['129A', '540A', '789A', '596A', '582A']"
      ]
     },
     "execution_count": 40,
     "metadata": {},
     "output_type": "execute_result"
    }
   ],
   "source": [
    "import helpers\n",
    "import numpy as np\n",
    "import re \n",
    "\n",
    "#helpers.npNicePrint(arr)\n",
    "\n",
    "data = \"\"\"029A\n",
    "980A\n",
    "179A\n",
    "456A\n",
    "379A\"\"\"\n",
    "\n",
    "with open(\"input_21.txt\", 'r') as f:\n",
    "    data = f.read().rstrip()\n",
    "\n",
    "#print(colors, designs)\n",
    "\n",
    "\n",
    "def safe_get(grid, index):\n",
    "    try:\n",
    "        return grid[tuple(index)]\n",
    "    except:\n",
    "        return \"\"\n",
    "    \n",
    "#changeDict = {\"forward\": np.array([1,0]), \"down\": np.array([0,1]), \"up\": np.array([0,-1])}\n",
    "#data = [changeDict[x.split(\" \")[0]] * int(x.split(\" \")[1]) for x in data.split(\"\\n\") if x]\n",
    "\n",
    "#np.prod(sum(data))    \n",
    "#data = [list(map(int, x.split(\" \"))) for x in data.split('\\n') if not x == \"\"]\n",
    "\n",
    "#data = [(int(row.split(\",\")[0]),int(row.split(\",\")[1])) for row in data.split(\"\\n\")]\n",
    "\n",
    "#grid, moves = data.split(\"\\n\\n\")\n",
    "#moves = moves.replace(\"\\n\", \"\")\n",
    "\n",
    "#grid = {(x,y): str(val) for y, r in enumerate(data.split('\\n')) for x, val in enumerate(r)}\n",
    "#grid\n",
    "data = [str(x) for x in data.split(\"\\n\")]\n",
    "data\n",
    "\n",
    "# Output the parsed data\n",
    "#print(data)\n",
    "\n",
    "\n",
    "#grid = {(x,y): \".\" for x in range(max_coor+1) for y in range(max_coor+1)}\n",
    "\n",
    "#helpers.visualize_dict_grid(grid) "
   ]
  },
  {
   "cell_type": "code",
   "execution_count": 41,
   "id": "3b78279e",
   "metadata": {},
   "outputs": [
    {
     "name": "stdout",
     "output_type": "stream",
     "text": [
      "{'0': {'0': {'A'},\n",
      "       '1': {'^<A'},\n",
      "       '2': {'^A'},\n",
      "       '3': {'>^A', '^>A'},\n",
      "       '4': {'^^<A', '^<^A'},\n",
      "       '5': {'^^A'},\n",
      "       '6': {'^>^A', '>^^A', '^^>A'},\n",
      "       '7': {'^^^<A', '^^<^A', '^<^^A'},\n",
      "       '8': {'^^^A'},\n",
      "       '9': {'^^^>A', '^>^^A', '^^>^A', '>^^^A'},\n",
      "       'A': {'>A'}},\n",
      " '1': {'0': {'>vA'},\n",
      "       '1': {'A'},\n",
      "       '2': {'>A'},\n",
      "       '3': {'>>A'},\n",
      "       '4': {'^A'},\n",
      "       '5': {'>^A', '^>A'},\n",
      "       '6': {'>>^A', '>^>A', '^>>A'},\n",
      "       '7': {'^^A'},\n",
      "       '8': {'^>^A', '>^^A', '^^>A'},\n",
      "       '9': {'^>>^A', '^>^>A', '>>^^A', '^^>>A', '>^^>A', '>^>^A'},\n",
      "       'A': {'>v>A', '>>vA'}},\n",
      " '2': {'0': {'vA'},\n",
      "       '1': {'<A'},\n",
      "       '2': {'A'},\n",
      "       '3': {'>A'},\n",
      "       '4': {'^<A', '<^A'},\n",
      "       '5': {'^A'},\n",
      "       '6': {'>^A', '^>A'},\n",
      "       '7': {'^^<A', '^<^A', '<^^A'},\n",
      "       '8': {'^^A'},\n",
      "       '9': {'^>^A', '>^^A', '^^>A'},\n",
      "       'A': {'v>A', '>vA'}},\n",
      " '3': {'0': {'v<A', '<vA'},\n",
      "       '1': {'<<A'},\n",
      "       '2': {'<A'},\n",
      "       '3': {'A'},\n",
      "       '4': {'<^<A', '^<<A', '<<^A'},\n",
      "       '5': {'^<A', '<^A'},\n",
      "       '6': {'^A'},\n",
      "       '7': {'<<^^A', '^^<<A', '<^^<A', '<^<^A', '^<^<A', '^<<^A'},\n",
      "       '8': {'^^<A', '^<^A', '<^^A'},\n",
      "       '9': {'^^A'},\n",
      "       'A': {'vA'}},\n",
      " '4': {'0': {'>vvA', 'v>vA'},\n",
      "       '1': {'vA'},\n",
      "       '2': {'v>A', '>vA'},\n",
      "       '3': {'>v>A', '>>vA', 'v>>A'},\n",
      "       '4': {'A'},\n",
      "       '5': {'>A'},\n",
      "       '6': {'>>A'},\n",
      "       '7': {'^A'},\n",
      "       '8': {'>^A', '^>A'},\n",
      "       '9': {'>>^A', '>^>A', '^>>A'},\n",
      "       'A': {'>vv>A', '>v>vA', '>>vvA', 'v>v>A', 'v>>vA'}},\n",
      " '5': {'0': {'vvA'},\n",
      "       '1': {'v<A', '<vA'},\n",
      "       '2': {'vA'},\n",
      "       '3': {'v>A', '>vA'},\n",
      "       '4': {'<A'},\n",
      "       '5': {'A'},\n",
      "       '6': {'>A'},\n",
      "       '7': {'^<A', '<^A'},\n",
      "       '8': {'^A'},\n",
      "       '9': {'>^A', '^>A'},\n",
      "       'A': {'>vvA', 'vv>A', 'v>vA'}},\n",
      " '6': {'0': {'v<vA', '<vvA', 'vv<A'},\n",
      "       '1': {'v<<A', '<v<A', '<<vA'},\n",
      "       '2': {'v<A', '<vA'},\n",
      "       '3': {'vA'},\n",
      "       '4': {'<<A'},\n",
      "       '5': {'<A'},\n",
      "       '6': {'A'},\n",
      "       '7': {'<^<A', '^<<A', '<<^A'},\n",
      "       '8': {'^<A', '<^A'},\n",
      "       '9': {'^A'},\n",
      "       'A': {'vvA'}},\n",
      " '7': {'0': {'vv>vA', '>vvvA', 'v>vvA'},\n",
      "       '1': {'vvA'},\n",
      "       '2': {'>vvA', 'vv>A', 'v>vA'},\n",
      "       '3': {'>vv>A', '>v>vA', '>>vvA', 'v>v>A', 'v>>vA', 'vv>>A'},\n",
      "       '4': {'vA'},\n",
      "       '5': {'v>A', '>vA'},\n",
      "       '6': {'>v>A', '>>vA', 'v>>A'},\n",
      "       '7': {'A'},\n",
      "       '8': {'>A'},\n",
      "       '9': {'>>A'},\n",
      "       'A': {'>>vvvA',\n",
      "             '>v>vvA',\n",
      "             '>vv>vA',\n",
      "             '>vvv>A',\n",
      "             'v>>vvA',\n",
      "             'v>v>vA',\n",
      "             'v>vv>A',\n",
      "             'vv>>vA',\n",
      "             'vv>v>A'}},\n",
      " '8': {'0': {'vvvA'},\n",
      "       '1': {'v<vA', '<vvA', 'vv<A'},\n",
      "       '2': {'vvA'},\n",
      "       '3': {'>vvA', 'vv>A', 'v>vA'},\n",
      "       '4': {'v<A', '<vA'},\n",
      "       '5': {'vA'},\n",
      "       '6': {'v>A', '>vA'},\n",
      "       '7': {'<A'},\n",
      "       '8': {'A'},\n",
      "       '9': {'>A'},\n",
      "       'A': {'vv>vA', '>vvvA', 'v>vvA', 'vvv>A'}},\n",
      " '9': {'0': {'vv<vA', 'v<vvA', '<vvvA', 'vvv<A'},\n",
      "       '1': {'v<<vA', 'v<v<A', '<v<vA', 'vv<<A', '<<vvA', '<vv<A'},\n",
      "       '2': {'v<vA', '<vvA', 'vv<A'},\n",
      "       '3': {'vvA'},\n",
      "       '4': {'v<<A', '<v<A', '<<vA'},\n",
      "       '5': {'v<A', '<vA'},\n",
      "       '6': {'vA'},\n",
      "       '7': {'<<A'},\n",
      "       '8': {'<A'},\n",
      "       '9': {'A'},\n",
      "       'A': {'vvvA'}},\n",
      " 'A': {'0': {'<A'},\n",
      "       '1': {'<^<A', '^<<A'},\n",
      "       '2': {'^<A', '<^A'},\n",
      "       '3': {'^A'},\n",
      "       '4': {'^^<<A', '<^^<A', '<^<^A', '^<^<A', '^<<^A'},\n",
      "       '5': {'^^<A', '^<^A', '<^^A'},\n",
      "       '6': {'^^A'},\n",
      "       '7': {'<^<^^A',\n",
      "             '<^^<^A',\n",
      "             '<^^^<A',\n",
      "             '^<<^^A',\n",
      "             '^<^<^A',\n",
      "             '^<^^<A',\n",
      "             '^^<<^A',\n",
      "             '^^<^<A',\n",
      "             '^^^<<A'},\n",
      "       '8': {'^^^<A', '<^^^A', '^^<^A', '^<^^A'},\n",
      "       '9': {'^^^A'},\n",
      "       'A': {'A'}}}\n"
     ]
    }
   ],
   "source": [
    "from collections import deque\n",
    "\n",
    "# Updated grid layout\n",
    "grid = {\n",
    "    '7': (0, 0), '8': (1, 0), '9': (2, 0),\n",
    "    '4': (0, 1), '5': (1, 1), '6': (2, 1),\n",
    "    '1': (0, 2), '2': (1, 2), '3': (2, 2),\n",
    "                 '0': (1, 3), 'A': (2, 3)\n",
    "}\n",
    "\n",
    "# Directions for movement and their corresponding symbols\n",
    "directions = {\n",
    "    (0, -1): '^',  # Up\n",
    "    (0, 1): 'v',   # Down\n",
    "    (-1, 0): '<',  # Left\n",
    "    (1, 0): '>'    # Right\n",
    "}\n",
    "\n",
    "# BFS to find all shortest paths\n",
    "def bfs_all_shortest_paths(start, end, grid):\n",
    "    start_coord = grid[start]\n",
    "    end_coord = grid[end]\n",
    "    queue = deque([(start_coord, [])])  # (current position, path taken)\n",
    "    visited = set()\n",
    "    shortest_paths = []\n",
    "    shortest_length = None\n",
    "\n",
    "    while queue:\n",
    "        current, path = queue.popleft()\n",
    "\n",
    "        # Stop exploring paths longer than the shortest found\n",
    "        if shortest_length is not None and len(path) > shortest_length:\n",
    "            continue\n",
    "\n",
    "        # If we reach the destination\n",
    "        if current == end_coord:\n",
    "            if shortest_length is None:\n",
    "                shortest_length = len(path)  # Record the shortest path length\n",
    "            shortest_paths.append(path)\n",
    "            continue\n",
    "\n",
    "        # Mark current as visited\n",
    "        visited.add(current)\n",
    "\n",
    "        # Explore all valid neighbors\n",
    "        for move, symbol in directions.items():\n",
    "            neighbor = (current[0] + move[0], current[1] + move[1])\n",
    "            if neighbor in grid.values() and neighbor not in visited:\n",
    "                queue.append((neighbor, path + [symbol]))\n",
    "\n",
    "    return set([''.join(path)+\"A\" for path in shortest_paths])\n",
    "\n",
    "# Generate all shortest routes dictionary\n",
    "num_grid = {\n",
    "    key1: {\n",
    "        key2: bfs_all_shortest_paths(key1, key2, grid) if key1 != key2 else []\n",
    "        for key2 in grid\n",
    "    }\n",
    "    for key1 in grid\n",
    "}\n",
    "for k, v in num_grid.items():\n",
    "    num_grid[k][k]= set(\"A\")\n",
    "    \n",
    "\n",
    "# Example usage: Pretty print the all shortest routes\n",
    "from pprint import pprint\n",
    "pprint(num_grid)\n"
   ]
  },
  {
   "cell_type": "code",
   "execution_count": 42,
   "id": "da1e6b08",
   "metadata": {},
   "outputs": [
    {
     "name": "stdout",
     "output_type": "stream",
     "text": [
      "{'<': {'<': {'A'},\n",
      "       '>': {'>>A'},\n",
      "       'A': {'>>^A', '>^>A'},\n",
      "       '^': {'>^A'},\n",
      "       'v': {'>A'}},\n",
      " '>': {'<': {'<<A'}, '>': {'A'}, 'A': {'^A'}, '^': {'^<A', '<^A'}, 'v': {'<A'}},\n",
      " 'A': {'<': {'v<<A', '<v<A'},\n",
      "       '>': {'vA'},\n",
      "       'A': {'A'},\n",
      "       '^': {'<A'},\n",
      "       'v': {'v<A', '<vA'}},\n",
      " '^': {'<': {'v<A'}, '>': {'v>A', '>vA'}, 'A': {'>A'}, '^': {'A'}, 'v': {'vA'}},\n",
      " 'v': {'<': {'<A'}, '>': {'>A'}, 'A': {'>^A', '^>A'}, '^': {'^A'}, 'v': {'A'}}}\n"
     ]
    }
   ],
   "source": [
    "key_pad_grid = {\n",
    "                 '^': (1, 0), 'A': (2, 0),\n",
    "    '<': (0, 1), 'v': (1, 1), '>': (2, 1)\n",
    "}\n",
    "\n",
    "key_pad = {\n",
    "    key1: {\n",
    "        key2: bfs_all_shortest_paths(key1, key2, key_pad_grid) if key1 != key2 else []\n",
    "        for key2 in key_pad_grid\n",
    "    }\n",
    "    for key1 in key_pad_grid\n",
    "}\n",
    "\n",
    "\n",
    "for k, v in key_pad.items():\n",
    "    key_pad[k][k] = set(\"A\")\n",
    "    \n",
    "\n",
    "# Example usage: Pretty print the all shortest routes\n",
    "from pprint import pprint\n",
    "pprint(key_pad)"
   ]
  },
  {
   "cell_type": "code",
   "execution_count": 43,
   "id": "3ed6f084",
   "metadata": {},
   "outputs": [
    {
     "name": "stdout",
     "output_type": "stream",
     "text": [
      "129A\n",
      "540A\n",
      "789A\n",
      "596A\n",
      "582A\n"
     ]
    },
    {
     "data": {
      "text/plain": [
       "184180"
      ]
     },
     "execution_count": 43,
     "metadata": {},
     "output_type": "execute_result"
    }
   ],
   "source": [
    "from functools import lru_cache\n",
    "\n",
    "ans = 0\n",
    "\n",
    "def filter_by_min_length(input_set):\n",
    "    # Find the minimum length of the elements in the set\n",
    "    min_length = min(len(element) for element in input_set)\n",
    "\n",
    "    # Filter the set to only include elements of the minimum length\n",
    "    return {element for element in input_set if len(element) == min_length}\n",
    "\n",
    "#@lru_cache(maxsize=None)  # Cache all calls (unbounded cache)\n",
    "def create_string_num_pad(to_go, route = \"\", pos=\"A\"):\n",
    "    #print(to_go)\n",
    "    routes = set()\n",
    "    if not to_go:\n",
    "        return set([route])\n",
    "    for r in num_grid[pos][to_go[0]]:\n",
    "        #print(r)\n",
    "        routes = routes | create_string_num_pad(to_go[1:], route + r, to_go[0])\n",
    "    return routes\n",
    "\n",
    "#@lru_cache(maxsize=None)  # Cache all calls (unbounded cache)\n",
    "def create_string_key_pad(to_go, route = \"\", pos=\"A\",greedy = 1000):\n",
    "    #print(to_go)\n",
    "    routes = set()\n",
    "    if not to_go:\n",
    "        return set([route])\n",
    "    for r in key_pad[pos][to_go[0]]:\n",
    "        #print(r)\n",
    "        routes = filter_by_min_length(routes | create_string_key_pad(to_go[1:], route + r, to_go[0]))\n",
    "        #if len(routes) > greedy:\n",
    "        #    return routes\n",
    "    return routes\n",
    "\n",
    "for word in data:\n",
    "    print(word)\n",
    "    routes_A = set()\n",
    "    for ro in create_string_num_pad(word):\n",
    "        routes_A = routes_A | create_string_key_pad(ro)\n",
    "\n",
    "    #print(len(routes_A))\n",
    "\n",
    "    routes_B = set()\n",
    "    for ro in routes_A:\n",
    "        routes_B = routes_B | create_string_key_pad(ro)\n",
    "\n",
    "    #print(len(routes_B))    \n",
    "    ans += len(sorted(routes_B, key=len, reverse=False)[0]) * int(''.join(re.findall(r'\\d+', word)))\n",
    "ans\n",
    "#N = 150\n",
    "#routes_B = sorted(routes_B, key=len)[:N]    \n",
    "\n",
    "#routes_C = set()\n",
    "#for ro in routes_B:\n",
    "#    routes_C = routes_C | create_string_key_pad(ro) \n",
    "\n",
    "#len(routes_C)"
   ]
  },
  {
   "cell_type": "code",
   "execution_count": 37,
   "id": "2f4e3f18",
   "metadata": {},
   "outputs": [
    {
     "data": {
      "text/plain": [
       "['029A', '980A', '179A', '456A', '379A']"
      ]
     },
     "execution_count": 37,
     "metadata": {},
     "output_type": "execute_result"
    }
   ],
   "source": [
    "data"
   ]
  },
  {
   "cell_type": "code",
   "execution_count": 31,
   "id": "5ec730b1",
   "metadata": {},
   "outputs": [
    {
     "data": {
      "text/plain": [
       "68"
      ]
     },
     "execution_count": 31,
     "metadata": {},
     "output_type": "execute_result"
    }
   ],
   "source": [
    "len(sorted(routes_B, key=len, reverse=False)[0])"
   ]
  },
  {
   "cell_type": "code",
   "execution_count": 32,
   "id": "457584ba",
   "metadata": {},
   "outputs": [
    {
     "data": {
      "text/plain": [
       "68"
      ]
     },
     "execution_count": 32,
     "metadata": {},
     "output_type": "execute_result"
    }
   ],
   "source": [
    "len(\"<vA<AA>>^AvAA<^A>A<v<A>>^AvA^A<vA>^A<v<A>^A>AAvA^A<v<A>A>^AAAvA<^A>A\")"
   ]
  },
  {
   "cell_type": "code",
   "execution_count": 34,
   "id": "603507ad",
   "metadata": {},
   "outputs": [
    {
     "data": {
      "text/plain": [
       "29"
      ]
     },
     "execution_count": 34,
     "metadata": {},
     "output_type": "execute_result"
    }
   ],
   "source": [
    "\n"
   ]
  },
  {
   "cell_type": "code",
   "execution_count": 24,
   "id": "33459224",
   "metadata": {},
   "outputs": [
    {
     "data": {
      "text/plain": [
       "68"
      ]
     },
     "execution_count": 24,
     "metadata": {},
     "output_type": "execute_result"
    }
   ],
   "source": [
    "len(list(filter_by_min_length(routes_B))[0])"
   ]
  },
  {
   "cell_type": "code",
   "execution_count": 25,
   "id": "0a74dda4",
   "metadata": {},
   "outputs": [
    {
     "data": {
      "text/plain": [
       "{'<v<A>>^A<A>A<A>vA<^A>A<vAAA>^A',\n",
       " '<v<A>>^A<A>A<A>vA<^A>A<vAAA^>A',\n",
       " '<v<A>>^A<A>A<A>vA<^A>Av<AAA>^A',\n",
       " '<v<A>>^A<A>A<A>vA<^A>Av<AAA^>A',\n",
       " '<v<A>>^A<A>A<A>vA^<A>A<vAAA>^A',\n",
       " '<v<A>>^A<A>A<A>vA^<A>A<vAAA^>A',\n",
       " '<v<A>>^A<A>A<A>vA^<A>Av<AAA>^A',\n",
       " '<v<A>>^A<A>A<A>vA^<A>Av<AAA^>A',\n",
       " '<v<A>>^A<A>A<AA>vA^A<vAAA>^A',\n",
       " '<v<A>>^A<A>A<AA>vA^A<vAAA^>A',\n",
       " '<v<A>>^A<A>A<AA>vA^Av<AAA>^A',\n",
       " '<v<A>>^A<A>A<AA>vA^Av<AAA^>A',\n",
       " '<v<A>>^A<A>A<AAv>A^A<vAAA>^A',\n",
       " '<v<A>>^A<A>A<AAv>A^A<vAAA^>A',\n",
       " '<v<A>>^A<A>A<AAv>A^Av<AAA>^A',\n",
       " '<v<A>>^A<A>A<AAv>A^Av<AAA^>A',\n",
       " '<v<A>>^A<A>A<Av>A<^A>A<vAAA>^A',\n",
       " '<v<A>>^A<A>A<Av>A<^A>A<vAAA^>A',\n",
       " '<v<A>>^A<A>A<Av>A<^A>Av<AAA>^A',\n",
       " '<v<A>>^A<A>A<Av>A<^A>Av<AAA^>A',\n",
       " '<v<A>>^A<A>A<Av>A^<A>A<vAAA>^A',\n",
       " '<v<A>>^A<A>A<Av>A^<A>A<vAAA^>A',\n",
       " '<v<A>>^A<A>A<Av>A^<A>Av<AAA>^A',\n",
       " '<v<A>>^A<A>A<Av>A^<A>Av<AAA^>A',\n",
       " '<v<A>>^A<A>AvA<^AA>A<vAAA>^A',\n",
       " '<v<A>>^A<A>AvA<^AA>A<vAAA^>A',\n",
       " '<v<A>>^A<A>AvA<^AA>Av<AAA>^A',\n",
       " '<v<A>>^A<A>AvA<^AA>Av<AAA^>A',\n",
       " '<v<A>>^A<A>AvA^<AA>A<vAAA>^A',\n",
       " '<v<A>>^A<A>AvA^<AA>A<vAAA^>A',\n",
       " '<v<A>>^A<A>AvA^<AA>Av<AAA>^A',\n",
       " '<v<A>>^A<A>AvA^<AA>Av<AAA^>A',\n",
       " '<v<A>^>A<A>A<A>vA<^A>A<vAAA>^A',\n",
       " '<v<A>^>A<A>A<A>vA<^A>A<vAAA^>A',\n",
       " '<v<A>^>A<A>A<A>vA<^A>Av<AAA>^A',\n",
       " '<v<A>^>A<A>A<A>vA<^A>Av<AAA^>A',\n",
       " '<v<A>^>A<A>A<A>vA^<A>A<vAAA>^A',\n",
       " '<v<A>^>A<A>A<A>vA^<A>A<vAAA^>A',\n",
       " '<v<A>^>A<A>A<A>vA^<A>Av<AAA>^A',\n",
       " '<v<A>^>A<A>A<A>vA^<A>Av<AAA^>A',\n",
       " '<v<A>^>A<A>A<AA>vA^A<vAAA>^A',\n",
       " '<v<A>^>A<A>A<AA>vA^A<vAAA^>A',\n",
       " '<v<A>^>A<A>A<AA>vA^Av<AAA>^A',\n",
       " '<v<A>^>A<A>A<AA>vA^Av<AAA^>A',\n",
       " '<v<A>^>A<A>A<AAv>A^A<vAAA>^A',\n",
       " '<v<A>^>A<A>A<AAv>A^A<vAAA^>A',\n",
       " '<v<A>^>A<A>A<AAv>A^Av<AAA>^A',\n",
       " '<v<A>^>A<A>A<AAv>A^Av<AAA^>A',\n",
       " '<v<A>^>A<A>A<Av>A<^A>A<vAAA>^A',\n",
       " '<v<A>^>A<A>A<Av>A<^A>A<vAAA^>A',\n",
       " '<v<A>^>A<A>A<Av>A<^A>Av<AAA>^A',\n",
       " '<v<A>^>A<A>A<Av>A<^A>Av<AAA^>A',\n",
       " '<v<A>^>A<A>A<Av>A^<A>A<vAAA>^A',\n",
       " '<v<A>^>A<A>A<Av>A^<A>A<vAAA^>A',\n",
       " '<v<A>^>A<A>A<Av>A^<A>Av<AAA>^A',\n",
       " '<v<A>^>A<A>A<Av>A^<A>Av<AAA^>A',\n",
       " '<v<A>^>A<A>AvA<^AA>A<vAAA>^A',\n",
       " '<v<A>^>A<A>AvA<^AA>A<vAAA^>A',\n",
       " '<v<A>^>A<A>AvA<^AA>Av<AAA>^A',\n",
       " '<v<A>^>A<A>AvA<^AA>Av<AAA^>A',\n",
       " '<v<A>^>A<A>AvA^<AA>A<vAAA>^A',\n",
       " '<v<A>^>A<A>AvA^<AA>A<vAAA^>A',\n",
       " '<v<A>^>A<A>AvA^<AA>Av<AAA>^A',\n",
       " '<v<A>^>A<A>AvA^<AA>Av<AAA^>A',\n",
       " 'v<<A>>^A<A>A<A>vA<^A>A<vAAA>^A',\n",
       " 'v<<A>>^A<A>A<A>vA<^A>A<vAAA^>A',\n",
       " 'v<<A>>^A<A>A<A>vA<^A>Av<AAA>^A',\n",
       " 'v<<A>>^A<A>A<A>vA<^A>Av<AAA^>A',\n",
       " 'v<<A>>^A<A>A<A>vA^<A>A<vAAA>^A',\n",
       " 'v<<A>>^A<A>A<A>vA^<A>A<vAAA^>A',\n",
       " 'v<<A>>^A<A>A<A>vA^<A>Av<AAA>^A',\n",
       " 'v<<A>>^A<A>A<A>vA^<A>Av<AAA^>A',\n",
       " 'v<<A>>^A<A>A<AA>vA^A<vAAA>^A',\n",
       " 'v<<A>>^A<A>A<AA>vA^A<vAAA^>A',\n",
       " 'v<<A>>^A<A>A<AA>vA^Av<AAA>^A',\n",
       " 'v<<A>>^A<A>A<AA>vA^Av<AAA^>A',\n",
       " 'v<<A>>^A<A>A<AAv>A^A<vAAA>^A',\n",
       " 'v<<A>>^A<A>A<AAv>A^A<vAAA^>A',\n",
       " 'v<<A>>^A<A>A<AAv>A^Av<AAA>^A',\n",
       " 'v<<A>>^A<A>A<AAv>A^Av<AAA^>A',\n",
       " 'v<<A>>^A<A>A<Av>A<^A>A<vAAA>^A',\n",
       " 'v<<A>>^A<A>A<Av>A<^A>A<vAAA^>A',\n",
       " 'v<<A>>^A<A>A<Av>A<^A>Av<AAA>^A',\n",
       " 'v<<A>>^A<A>A<Av>A<^A>Av<AAA^>A',\n",
       " 'v<<A>>^A<A>A<Av>A^<A>A<vAAA>^A',\n",
       " 'v<<A>>^A<A>A<Av>A^<A>A<vAAA^>A',\n",
       " 'v<<A>>^A<A>A<Av>A^<A>Av<AAA>^A',\n",
       " 'v<<A>>^A<A>A<Av>A^<A>Av<AAA^>A',\n",
       " 'v<<A>>^A<A>AvA<^AA>A<vAAA>^A',\n",
       " 'v<<A>>^A<A>AvA<^AA>A<vAAA^>A',\n",
       " 'v<<A>>^A<A>AvA<^AA>Av<AAA>^A',\n",
       " 'v<<A>>^A<A>AvA<^AA>Av<AAA^>A',\n",
       " 'v<<A>>^A<A>AvA^<AA>A<vAAA>^A',\n",
       " 'v<<A>>^A<A>AvA^<AA>A<vAAA^>A',\n",
       " 'v<<A>>^A<A>AvA^<AA>Av<AAA>^A',\n",
       " 'v<<A>>^A<A>AvA^<AA>Av<AAA^>A',\n",
       " 'v<<A>^>A<A>A<A>vA<^A>A<vAAA>^A',\n",
       " 'v<<A>^>A<A>A<A>vA<^A>A<vAAA^>A',\n",
       " 'v<<A>^>A<A>A<A>vA<^A>Av<AAA>^A',\n",
       " 'v<<A>^>A<A>A<A>vA<^A>Av<AAA^>A',\n",
       " 'v<<A>^>A<A>A<A>vA^<A>A<vAAA>^A',\n",
       " 'v<<A>^>A<A>A<A>vA^<A>A<vAAA^>A',\n",
       " 'v<<A>^>A<A>A<A>vA^<A>Av<AAA>^A',\n",
       " 'v<<A>^>A<A>A<A>vA^<A>Av<AAA^>A',\n",
       " 'v<<A>^>A<A>A<AA>vA^A<vAAA>^A',\n",
       " 'v<<A>^>A<A>A<AA>vA^A<vAAA^>A',\n",
       " 'v<<A>^>A<A>A<AA>vA^Av<AAA>^A',\n",
       " 'v<<A>^>A<A>A<AA>vA^Av<AAA^>A',\n",
       " 'v<<A>^>A<A>A<AAv>A^A<vAAA>^A',\n",
       " 'v<<A>^>A<A>A<AAv>A^A<vAAA^>A',\n",
       " 'v<<A>^>A<A>A<AAv>A^Av<AAA>^A',\n",
       " 'v<<A>^>A<A>A<AAv>A^Av<AAA^>A',\n",
       " 'v<<A>^>A<A>A<Av>A<^A>A<vAAA>^A',\n",
       " 'v<<A>^>A<A>A<Av>A<^A>A<vAAA^>A',\n",
       " 'v<<A>^>A<A>A<Av>A<^A>Av<AAA>^A',\n",
       " 'v<<A>^>A<A>A<Av>A<^A>Av<AAA^>A',\n",
       " 'v<<A>^>A<A>A<Av>A^<A>A<vAAA>^A',\n",
       " 'v<<A>^>A<A>A<Av>A^<A>A<vAAA^>A',\n",
       " 'v<<A>^>A<A>A<Av>A^<A>Av<AAA>^A',\n",
       " 'v<<A>^>A<A>A<Av>A^<A>Av<AAA^>A',\n",
       " 'v<<A>^>A<A>AvA<^AA>A<vAAA>^A',\n",
       " 'v<<A>^>A<A>AvA<^AA>A<vAAA^>A',\n",
       " 'v<<A>^>A<A>AvA<^AA>Av<AAA>^A',\n",
       " 'v<<A>^>A<A>AvA<^AA>Av<AAA^>A',\n",
       " 'v<<A>^>A<A>AvA^<AA>A<vAAA>^A',\n",
       " 'v<<A>^>A<A>AvA^<AA>A<vAAA^>A',\n",
       " 'v<<A>^>A<A>AvA^<AA>Av<AAA>^A',\n",
       " 'v<<A>^>A<A>AvA^<AA>Av<AAA^>A'}"
      ]
     },
     "execution_count": 25,
     "metadata": {},
     "output_type": "execute_result"
    }
   ],
   "source": [
    "routes_A"
   ]
  },
  {
   "cell_type": "code",
   "execution_count": 26,
   "id": "661b5c8c",
   "metadata": {},
   "outputs": [
    {
     "data": {
      "text/plain": [
       "{'<A^A>^^AvvvA', '<A^A^>^AvvvA', '<A^A^^>AvvvA'}"
      ]
     },
     "execution_count": 26,
     "metadata": {},
     "output_type": "execute_result"
    }
   ],
   "source": [
    "create_string_num_pad('029A')"
   ]
  },
  {
   "cell_type": "code",
   "execution_count": null,
   "id": "7b5de58f",
   "metadata": {},
   "outputs": [],
   "source": []
  }
 ],
 "metadata": {
  "kernelspec": {
   "display_name": "Python 3 (ipykernel)",
   "language": "python",
   "name": "python3"
  },
  "language_info": {
   "codemirror_mode": {
    "name": "ipython",
    "version": 3
   },
   "file_extension": ".py",
   "mimetype": "text/x-python",
   "name": "python",
   "nbconvert_exporter": "python",
   "pygments_lexer": "ipython3",
   "version": "3.9.7"
  }
 },
 "nbformat": 4,
 "nbformat_minor": 5
}
