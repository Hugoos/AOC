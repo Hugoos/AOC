{
 "cells": [
  {
   "cell_type": "code",
   "execution_count": 122,
   "id": "married-bobby",
   "metadata": {},
   "outputs": [],
   "source": [
    "import numpy as np\n",
    "cardKey = 2084668\n",
    "doorKey = 3704642\n",
    "\n",
    "#cardKey = 5764801\n",
    "#doorKey = 17807724"
   ]
  },
  {
   "cell_type": "code",
   "execution_count": 123,
   "id": "temporal-screen",
   "metadata": {},
   "outputs": [],
   "source": [
    "subjectNumber = 7"
   ]
  },
  {
   "cell_type": "code",
   "execution_count": 124,
   "id": "general-america",
   "metadata": {},
   "outputs": [],
   "source": [
    "def handshake(value, subjectNumber):\n",
    "    value = value * subjectNumber\n",
    "    value = value % 20201227 \n",
    "    return value"
   ]
  },
  {
   "cell_type": "code",
   "execution_count": 125,
   "id": "dominant-territory",
   "metadata": {},
   "outputs": [
    {
     "name": "stdout",
     "output_type": "stream",
     "text": [
      "12419160 2115361\n"
     ]
    }
   ],
   "source": [
    "value = 1\n",
    "loop_size_key = 0\n",
    "loop_size_door = 0\n",
    "while not value == cardKey:\n",
    "    loop_size_key += 1\n",
    "    value = handshake(value,subjectNumber)\n",
    "value = 1\n",
    "while not value == doorKey:\n",
    "    loop_size_door += 1\n",
    "    value = handshake(value,subjectNumber)\n",
    "    \n",
    "print(loop_size_key, loop_size_door)"
   ]
  },
  {
   "cell_type": "code",
   "execution_count": 126,
   "id": "american-probability",
   "metadata": {},
   "outputs": [],
   "source": [
    "encryptionKeyDoor = 1\n",
    "encryptionKeyKey = 1\n",
    "for x in range(loop_size_door):\n",
    "    encryptionKeyDoor = handshake(encryptionKeyDoor, cardKey)\n",
    "for x in range(loop_size_key):\n",
    "    encryptionKeyKey = handshake(encryptionKeyKey, doorKey)"
   ]
  },
  {
   "cell_type": "code",
   "execution_count": 127,
   "id": "identical-happiness",
   "metadata": {},
   "outputs": [
    {
     "name": "stdout",
     "output_type": "stream",
     "text": [
      "42668 42668\n"
     ]
    }
   ],
   "source": [
    "print(encryptionKeyDoor, encryptionKeyKey)"
   ]
  },
  {
   "cell_type": "code",
   "execution_count": null,
   "id": "multiple-seating",
   "metadata": {},
   "outputs": [],
   "source": []
  }
 ],
 "metadata": {
  "kernelspec": {
   "display_name": "Python 3",
   "language": "python",
   "name": "python3"
  },
  "language_info": {
   "codemirror_mode": {
    "name": "ipython",
    "version": 3
   },
   "file_extension": ".py",
   "mimetype": "text/x-python",
   "name": "python",
   "nbconvert_exporter": "python",
   "pygments_lexer": "ipython3",
   "version": "3.7.9"
  }
 },
 "nbformat": 4,
 "nbformat_minor": 5
}
