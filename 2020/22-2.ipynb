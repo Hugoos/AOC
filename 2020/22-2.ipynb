{
 "cells": [
  {
   "cell_type": "code",
   "execution_count": 102,
   "id": "economic-messenger",
   "metadata": {},
   "outputs": [],
   "source": [
    "test = \"\"\"\n",
    "Player 1:\n",
    "9\n",
    "2\n",
    "6\n",
    "3\n",
    "1\n",
    "\n",
    "Player 2:\n",
    "5\n",
    "8\n",
    "4\n",
    "7\n",
    "10\n",
    "\"\"\"\n",
    "\n",
    "test = \"\"\"\n",
    "Player 1:\n",
    "43\n",
    "19\n",
    "\n",
    "Player 2:\n",
    "2\n",
    "29\n",
    "14\n",
    "\"\"\"\n",
    "\n",
    "with open(\"input_22.txt\", 'r') as f:\n",
    "    test = f.read()"
   ]
  },
  {
   "cell_type": "code",
   "execution_count": 103,
   "id": "regional-effect",
   "metadata": {},
   "outputs": [],
   "source": [
    "pid = 1\n",
    "deckDict = {}\n",
    "for player in test.split(\"\\n\\n\"):\n",
    "    deckDict[pid] = []\n",
    "    for item in [ x for x in player.split(\"\\n\") if not x == \"\"][1:]:\n",
    "        deckDict[pid].append(int(item))\n",
    "    pid += 1"
   ]
  },
  {
   "cell_type": "code",
   "execution_count": 104,
   "id": "deluxe-highway",
   "metadata": {},
   "outputs": [
    {
     "data": {
      "text/plain": [
       "{1: [45,\n",
       "  10,\n",
       "  43,\n",
       "  46,\n",
       "  25,\n",
       "  36,\n",
       "  16,\n",
       "  38,\n",
       "  30,\n",
       "  15,\n",
       "  26,\n",
       "  34,\n",
       "  9,\n",
       "  2,\n",
       "  44,\n",
       "  1,\n",
       "  4,\n",
       "  40,\n",
       "  5,\n",
       "  24,\n",
       "  49,\n",
       "  3,\n",
       "  41,\n",
       "  19,\n",
       "  13],\n",
       " 2: [28,\n",
       "  50,\n",
       "  37,\n",
       "  20,\n",
       "  6,\n",
       "  42,\n",
       "  32,\n",
       "  47,\n",
       "  39,\n",
       "  22,\n",
       "  14,\n",
       "  7,\n",
       "  21,\n",
       "  17,\n",
       "  27,\n",
       "  8,\n",
       "  48,\n",
       "  11,\n",
       "  23,\n",
       "  12,\n",
       "  18,\n",
       "  35,\n",
       "  29,\n",
       "  33,\n",
       "  31]}"
      ]
     },
     "execution_count": 104,
     "metadata": {},
     "output_type": "execute_result"
    }
   ],
   "source": [
    "deckDict"
   ]
  },
  {
   "cell_type": "code",
   "execution_count": 105,
   "id": "waiting-strength",
   "metadata": {},
   "outputs": [],
   "source": [
    "p1_deck = deckDict[1]\n",
    "p2_deck = deckDict[2]"
   ]
  },
  {
   "cell_type": "code",
   "execution_count": 106,
   "id": "tribal-colon",
   "metadata": {},
   "outputs": [],
   "source": [
    "#winning card -> losing card\n",
    "def game(p1_deck, p2_deck):\n",
    "    seenList = []\n",
    "    while len(p1_deck) > 0 and len(p2_deck) > 0:\n",
    "        if (p1_deck, p2_deck) in seenList:\n",
    "            #print(\"loop rule, player 1 wins\")\n",
    "            return 1, p1_deck.copy()\n",
    "        seenList.append((p1_deck.copy(), p2_deck.copy()))\n",
    "        p1_card = p1_deck.pop(0)\n",
    "        p2_card = p2_deck.pop(0)\n",
    "        \n",
    "        if len(p1_deck) >= p1_card and len(p2_deck) >= p2_card:\n",
    "            #print(\"recursing\")\n",
    "            winner, _ = game(p1_deck[:p1_card].copy(),p2_deck[:p2_card].copy())    \n",
    "        elif p1_card > p2_card:\n",
    "            #print(\"player 1 wins round\")\n",
    "            winner = 1    \n",
    "        elif p2_card > p1_card:\n",
    "            #print(\"player 2 wins round\")\n",
    "            winner = 2\n",
    "        else:\n",
    "            print(\"error\")\n",
    "            \n",
    "        if winner == 1:\n",
    "            p1_deck.extend([p1_card,p2_card])\n",
    "        elif winner == 2:\n",
    "            p2_deck.extend([p2_card,p1_card])\n",
    "        else:\n",
    "            print(\"error\")\n",
    "\n",
    "    if len(p1_deck) > 0:\n",
    "        #print(\"p1 wins\")\n",
    "        return 1, p1_deck.copy()\n",
    "    elif len(p2_deck) > 0:\n",
    "        #print(\"p2 wins\")\n",
    "        return 2, p2_deck.copy()\n",
    "    else:\n",
    "        print(\"error\")\n",
    "winner, winning_deck = game(p1_deck.copy(), p2_deck.copy())"
   ]
  },
  {
   "cell_type": "code",
   "execution_count": 107,
   "id": "cubic-lingerie",
   "metadata": {},
   "outputs": [
    {
     "data": {
      "text/plain": [
       "[43,\n",
       " 29,\n",
       " 37,\n",
       " 7,\n",
       " 13,\n",
       " 3,\n",
       " 34,\n",
       " 31,\n",
       " 9,\n",
       " 11,\n",
       " 49,\n",
       " 24,\n",
       " 42,\n",
       " 15,\n",
       " 47,\n",
       " 41,\n",
       " 35,\n",
       " 21,\n",
       " 10,\n",
       " 1,\n",
       " 48,\n",
       " 19,\n",
       " 36,\n",
       " 17,\n",
       " 45,\n",
       " 25,\n",
       " 30,\n",
       " 12,\n",
       " 46,\n",
       " 40,\n",
       " 27,\n",
       " 23,\n",
       " 44,\n",
       " 33,\n",
       " 14,\n",
       " 6,\n",
       " 39,\n",
       " 8,\n",
       " 18,\n",
       " 4,\n",
       " 38,\n",
       " 32,\n",
       " 50,\n",
       " 28,\n",
       " 26,\n",
       " 2,\n",
       " 22,\n",
       " 20,\n",
       " 16,\n",
       " 5]"
      ]
     },
     "execution_count": 107,
     "metadata": {},
     "output_type": "execute_result"
    }
   ],
   "source": [
    "winning_deck"
   ]
  },
  {
   "cell_type": "code",
   "execution_count": 108,
   "id": "attractive-certificate",
   "metadata": {},
   "outputs": [
    {
     "name": "stdout",
     "output_type": "stream",
     "text": [
      "33745\n"
     ]
    }
   ],
   "source": [
    "scores = [x for x in reversed(range(1,len(winning_deck)+1))]\n",
    "ans = 0\n",
    "for i in range(len(winning_deck)):\n",
    "    ans += scores[i] * winning_deck[i]\n",
    "    \n",
    "print(ans)"
   ]
  }
 ],
 "metadata": {
  "kernelspec": {
   "display_name": "Python 3",
   "language": "python",
   "name": "python3"
  },
  "language_info": {
   "codemirror_mode": {
    "name": "ipython",
    "version": 3
   },
   "file_extension": ".py",
   "mimetype": "text/x-python",
   "name": "python",
   "nbconvert_exporter": "python",
   "pygments_lexer": "ipython3",
   "version": "3.7.9"
  }
 },
 "nbformat": 4,
 "nbformat_minor": 5
}
