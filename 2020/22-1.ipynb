{
 "cells": [
  {
   "cell_type": "code",
   "execution_count": 22,
   "id": "vocational-conditions",
   "metadata": {},
   "outputs": [],
   "source": [
    "test = \"\"\"\n",
    "Player 1:\n",
    "9\n",
    "2\n",
    "6\n",
    "3\n",
    "1\n",
    "\n",
    "Player 2:\n",
    "5\n",
    "8\n",
    "4\n",
    "7\n",
    "10\n",
    "\"\"\"\n",
    "\n",
    "with open(\"input_22.txt\", 'r') as f:\n",
    "    test = f.read()"
   ]
  },
  {
   "cell_type": "code",
   "execution_count": 23,
   "id": "dimensional-basic",
   "metadata": {},
   "outputs": [],
   "source": [
    "pid = 1\n",
    "deckDict = {}\n",
    "for player in test.split(\"\\n\\n\"):\n",
    "    deckDict[pid] = []\n",
    "    for item in [ x for x in player.split(\"\\n\") if not x == \"\"][1:]:\n",
    "        deckDict[pid].append(int(item))\n",
    "    pid += 1"
   ]
  },
  {
   "cell_type": "code",
   "execution_count": 24,
   "id": "conventional-calibration",
   "metadata": {},
   "outputs": [
    {
     "data": {
      "text/plain": [
       "{1: [45,\n",
       "  10,\n",
       "  43,\n",
       "  46,\n",
       "  25,\n",
       "  36,\n",
       "  16,\n",
       "  38,\n",
       "  30,\n",
       "  15,\n",
       "  26,\n",
       "  34,\n",
       "  9,\n",
       "  2,\n",
       "  44,\n",
       "  1,\n",
       "  4,\n",
       "  40,\n",
       "  5,\n",
       "  24,\n",
       "  49,\n",
       "  3,\n",
       "  41,\n",
       "  19,\n",
       "  13],\n",
       " 2: [28,\n",
       "  50,\n",
       "  37,\n",
       "  20,\n",
       "  6,\n",
       "  42,\n",
       "  32,\n",
       "  47,\n",
       "  39,\n",
       "  22,\n",
       "  14,\n",
       "  7,\n",
       "  21,\n",
       "  17,\n",
       "  27,\n",
       "  8,\n",
       "  48,\n",
       "  11,\n",
       "  23,\n",
       "  12,\n",
       "  18,\n",
       "  35,\n",
       "  29,\n",
       "  33,\n",
       "  31]}"
      ]
     },
     "execution_count": 24,
     "metadata": {},
     "output_type": "execute_result"
    }
   ],
   "source": [
    "deckDict"
   ]
  },
  {
   "cell_type": "code",
   "execution_count": 25,
   "id": "naked-brake",
   "metadata": {},
   "outputs": [],
   "source": [
    "p1_deck = deckDict[1]\n",
    "p2_deck = deckDict[2]"
   ]
  },
  {
   "cell_type": "code",
   "execution_count": 26,
   "id": "scenic-appliance",
   "metadata": {},
   "outputs": [
    {
     "name": "stdout",
     "output_type": "stream",
     "text": [
      "p2 wins\n",
      "[15, 12, 43, 37, 33, 20, 48, 46, 39, 18, 29, 9, 24, 6, 11, 4, 21, 13, 49, 35, 42, 16, 10, 3, 40, 28, 22, 19, 45, 23, 41, 2, 36, 32, 44, 31, 38, 27, 50, 14, 26, 7, 47, 30, 25, 5, 34, 8, 17, 1]\n"
     ]
    }
   ],
   "source": [
    "while len(p1_deck) > 0 and len(p2_deck) > 0:\n",
    "    p1_card = p1_deck.pop(0)\n",
    "    p2_card = p2_deck.pop(0)\n",
    "    if p1_card > p2_card:\n",
    "        p1_deck.extend([p1_card,p2_card])\n",
    "    else:\n",
    "        p2_deck.extend([p2_card,p1_card])\n",
    "\n",
    "if len(p1_deck) > 0:\n",
    "    print(\"p1 wins\")\n",
    "    winning_deck = p1_deck\n",
    "elif len(p2_deck) > 0:\n",
    "    print(\"p2 wins\")\n",
    "    winning_deck = p2_deck\n",
    "else:\n",
    "    print(\"error\")\n",
    "print(winning_deck)"
   ]
  },
  {
   "cell_type": "code",
   "execution_count": 27,
   "id": "federal-nature",
   "metadata": {},
   "outputs": [
    {
     "name": "stdout",
     "output_type": "stream",
     "text": [
      "1585\n"
     ]
    }
   ],
   "source": [
    "scores = [x for x in reversed(range(1,len(winning_deck)))]\n",
    "ans = 0\n",
    "for i in range(10):\n",
    "    ans += scores[i] * winning_deck[i]\n",
    "    \n",
    "print(ans)"
   ]
  },
  {
   "cell_type": "code",
   "execution_count": null,
   "id": "lesbian-unemployment",
   "metadata": {},
   "outputs": [],
   "source": [
    "1585 too low"
   ]
  }
 ],
 "metadata": {
  "kernelspec": {
   "display_name": "Python 3",
   "language": "python",
   "name": "python3"
  },
  "language_info": {
   "codemirror_mode": {
    "name": "ipython",
    "version": 3
   },
   "file_extension": ".py",
   "mimetype": "text/x-python",
   "name": "python",
   "nbconvert_exporter": "python",
   "pygments_lexer": "ipython3",
   "version": "3.7.9"
  }
 },
 "nbformat": 4,
 "nbformat_minor": 5
}
