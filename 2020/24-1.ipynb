{
 "cells": [
  {
   "cell_type": "code",
   "execution_count": 36,
   "id": "intellectual-labor",
   "metadata": {},
   "outputs": [],
   "source": [
    "import numpy as np\n",
    "test = \"\"\"\n",
    "sesenwnenenewseeswwswswwnenewsewsw\n",
    "neeenesenwnwwswnenewnwwsewnenwseswesw\n",
    "seswneswswsenwwnwse\n",
    "nwnwneseeswswnenewneswwnewseswneseene\n",
    "swweswneswnenwsewnwneneseenw\n",
    "eesenwseswswnenwswnwnwsewwnwsene\n",
    "sewnenenenesenwsewnenwwwse\n",
    "wenwwweseeeweswwwnwwe\n",
    "wsweesenenewnwwnwsenewsenwwsesesenwne\n",
    "neeswseenwwswnwswswnw\n",
    "nenwswwsewswnenenewsenwsenwnesesenew\n",
    "enewnwewneswsewnwswenweswnenwsenwsw\n",
    "sweneswneswneneenwnewenewwneswswnese\n",
    "swwesenesewenwneswnwwneseswwne\n",
    "enesenwswwswneneswsenwnewswseenwsese\n",
    "wnwnesenesenenwwnenwsewesewsesesew\n",
    "nenewswnwewswnenesenwnesewesw\n",
    "eneswnwswnwsenenwnwnwwseeswneewsenese\n",
    "neswnwewnwnwseenwseesewsenwsweewe\n",
    "wseweeenwnesenwwwswnew\n",
    "\"\"\"\n",
    "\n",
    "with open(\"input_24.txt\", 'r') as f:\n",
    "    test = f.read()"
   ]
  },
  {
   "cell_type": "code",
   "execution_count": 1,
   "id": "chicken-advocacy",
   "metadata": {},
   "outputs": [
    {
     "data": {
      "text/plain": [
       "1.0"
      ]
     },
     "execution_count": 1,
     "metadata": {},
     "output_type": "execute_result"
    }
   ],
   "source": [
    "hexaDistance = {\"se\" : [1,-1,0],\"s\": [0,-1,1], \"sw\": [-1,0,1],\n",
    "                \"nw\": [-1,1,0], \"ne\": [1,0,-1], \"n\": [0,1,-1]}\n",
    "color = {0: \"white\", 1: \"black\"}\n"
   ]
  },
  {
   "cell_type": "code",
   "execution_count": 38,
   "id": "broken-corner",
   "metadata": {},
   "outputs": [],
   "source": [
    "tileDict = {}\n",
    "move = \"\"\n",
    "for line in [x for x in test.split(\"\\n\") if not x == \"\"]:\n",
    "    position = (0,0,0)\n",
    "    for char in line:\n",
    "        move += char\n",
    "        if move in hexaDistance.keys():\n",
    "            position = tuple(np.add(list(position), hexaDistance[move]))\n",
    "            move = \"\"\n",
    "    if position in tileDict:\n",
    "        tileDict[position] = (tileDict[position]+1)%2\n",
    "    else:\n",
    "        tileDict[position] = 1"
   ]
  },
  {
   "cell_type": "code",
   "execution_count": 39,
   "id": "prompt-today",
   "metadata": {},
   "outputs": [
    {
     "data": {
      "text/plain": [
       "512"
      ]
     },
     "execution_count": 39,
     "metadata": {},
     "output_type": "execute_result"
    }
   ],
   "source": [
    "sum([1 for x in tileDict.keys() if tileDict[x] == 1])"
   ]
  },
  {
   "cell_type": "code",
   "execution_count": null,
   "id": "charitable-delivery",
   "metadata": {},
   "outputs": [],
   "source": []
  }
 ],
 "metadata": {
  "kernelspec": {
   "display_name": "Python 3",
   "language": "python",
   "name": "python3"
  },
  "language_info": {
   "codemirror_mode": {
    "name": "ipython",
    "version": 3
   },
   "file_extension": ".py",
   "mimetype": "text/x-python",
   "name": "python",
   "nbconvert_exporter": "python",
   "pygments_lexer": "ipython3",
   "version": "3.7.9"
  }
 },
 "nbformat": 4,
 "nbformat_minor": 5
}
