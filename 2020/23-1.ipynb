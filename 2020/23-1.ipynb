{
 "cells": [
  {
   "cell_type": "code",
   "execution_count": 151,
   "id": "failing-pennsylvania",
   "metadata": {},
   "outputs": [],
   "source": [
    "test = \"389125467\"\n",
    "\n",
    "test = \"916438275\""
   ]
  },
  {
   "cell_type": "code",
   "execution_count": 152,
   "id": "special-manual",
   "metadata": {},
   "outputs": [],
   "source": [
    "from collections import deque\n",
    "ring = [int(x) for x in test]\n",
    "[x+]1000000\n",
    "ring = deque([int(x) for x in test])"
   ]
  },
  {
   "cell_type": "code",
   "execution_count": 153,
   "id": "greater-defense",
   "metadata": {},
   "outputs": [
    {
     "data": {
      "text/plain": [
       "deque([9, 1, 6, 4, 3, 8, 2, 7, 5])"
      ]
     },
     "execution_count": 153,
     "metadata": {},
     "output_type": "execute_result"
    }
   ],
   "source": [
    "ring"
   ]
  },
  {
   "cell_type": "code",
   "execution_count": 154,
   "id": "loving-phase",
   "metadata": {},
   "outputs": [],
   "source": [
    "def rotateR(ring,target):\n",
    "    while not ring[-1] == target:\n",
    "        ring.rotate(-1)\n",
    "    return ring\n",
    "\n",
    "def rotateL(ring,target):\n",
    "    while not ring[0] == target:\n",
    "        ring.rotate(-1)\n",
    "    return ring\n",
    "\n",
    "def move(ring):\n",
    "    cup = ring[0]\n",
    "    target = cup -1\n",
    "    if target == 0:\n",
    "        target = 9\n",
    "    ring.rotate(-1)\n",
    "    pickedUp = [ring.popleft() for i in range(3)]\n",
    "    while target in pickedUp:\n",
    "        target = target - 1 \n",
    "        if target == 0:\n",
    "            target = 9\n",
    "    ring = rotateR(ring,target)\n",
    "\n",
    "    ring.extend(pickedUp)\n",
    "    ring = rotateL(ring,cup)\n",
    "    ring.rotate(-1)\n",
    "    return ring"
   ]
  },
  {
   "cell_type": "code",
   "execution_count": 155,
   "id": "hindu-dynamics",
   "metadata": {},
   "outputs": [],
   "source": [
    "for x in range(10000000):\n",
    "    ring = move(ring)"
   ]
  },
  {
   "cell_type": "code",
   "execution_count": 149,
   "id": "flying-short",
   "metadata": {},
   "outputs": [],
   "source": [
    "ans = list(rotateL(ring,1))[1:]"
   ]
  },
  {
   "cell_type": "code",
   "execution_count": 150,
   "id": "municipal-escape",
   "metadata": {},
   "outputs": [
    {
     "data": {
      "text/plain": [
       "'39564287'"
      ]
     },
     "execution_count": 150,
     "metadata": {},
     "output_type": "execute_result"
    }
   ],
   "source": [
    "sol = \"\"\n",
    "for x in ans:\n",
    "    sol += str(x)\n",
    "sol"
   ]
  },
  {
   "cell_type": "code",
   "execution_count": null,
   "id": "peripheral-longer",
   "metadata": {},
   "outputs": [],
   "source": []
  }
 ],
 "metadata": {
  "kernelspec": {
   "display_name": "Python 3",
   "language": "python",
   "name": "python3"
  },
  "language_info": {
   "codemirror_mode": {
    "name": "ipython",
    "version": 3
   },
   "file_extension": ".py",
   "mimetype": "text/x-python",
   "name": "python",
   "nbconvert_exporter": "python",
   "pygments_lexer": "ipython3",
   "version": "3.7.9"
  }
 },
 "nbformat": 4,
 "nbformat_minor": 5
}
