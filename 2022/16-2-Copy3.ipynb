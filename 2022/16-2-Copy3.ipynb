{
 "cells": [
  {
   "cell_type": "code",
   "execution_count": 17,
   "id": "promotional-brook",
   "metadata": {},
   "outputs": [
    {
     "name": "stdout",
     "output_type": "stream",
     "text": [
      "{'valves_on': {'VR': False, 'UV': True, 'OH': True, 'GD': True, 'NS': True, 'KZ': False, 'AH': True, 'SA': True, 'VK': True, 'GB': True, 'AJ': False, 'PJ': True, 'KO': True, 'AA': True, 'TW': True, 'VG': False, 'BP': True, 'XH': True, 'TX': True, 'IR': False, 'TU': True, 'KC': True, 'LN': True, 'HD': True, 'KE': True, 'VY': True, 'LH': True, 'EM': True, 'SO': False, 'EC': True, 'KV': True, 'FE': True, 'TI': True, 'SC': False, 'ZP': True, 'RO': False, 'ZR': True, 'JL': False, 'PW': False, 'UL': True, 'GN': True, 'TN': True, 'NV': True, 'DI': False, 'IC': True, 'JF': True, 'LE': True, 'BS': True, 'JD': False, 'SP': False, 'NY': True, 'OM': False, 'GH': True, 'RI': False}}\n",
      "{'VR': 11, 'UV': 0, 'OH': 0, 'GD': 0, 'NS': 0, 'KZ': 18, 'AH': 0, 'SA': 0, 'VK': 0, 'GB': 0, 'AJ': 6, 'PJ': 0, 'KO': 0, 'AA': 0, 'TW': 0, 'VG': 25, 'BP': 0, 'XH': 0, 'TX': 0, 'IR': 10, 'TU': 0, 'KC': 0, 'LN': 0, 'HD': 0, 'KE': 0, 'VY': 0, 'LH': 0, 'EM': 0, 'SO': 22, 'EC': 0, 'KV': 0, 'FE': 0, 'TI': 0, 'SC': 14, 'ZP': 0, 'RO': 19, 'ZR': 0, 'JL': 21, 'PW': 9, 'UL': 0, 'GN': 0, 'TN': 0, 'NV': 0, 'DI': 23, 'IC': 0, 'JF': 0, 'LE': 0, 'BS': 0, 'JD': 15, 'SP': 24, 'NY': 0, 'OM': 7, 'GH': 0, 'RI': 3}\n"
     ]
    },
    {
     "data": {
      "text/plain": [
       "{'VR': ['LH', 'KV', 'BP'],\n",
       " 'UV': ['GH', 'RO'],\n",
       " 'OH': ['AJ', 'NY'],\n",
       " 'GD': ['TX', 'PW'],\n",
       " 'NS': ['AJ', 'AA'],\n",
       " 'KZ': ['KO', 'VK', 'PJ'],\n",
       " 'AH': ['ZP', 'DI'],\n",
       " 'SA': ['VG', 'JF'],\n",
       " 'VK': ['RO', 'KZ'],\n",
       " 'GB': ['XH', 'AA'],\n",
       " 'AJ': ['IC', 'OH', 'ZR', 'NS', 'EM'],\n",
       " 'PJ': ['KZ', 'SP'],\n",
       " 'KO': ['KZ', 'LE'],\n",
       " 'AA': ['TW', 'GB', 'TI', 'NS', 'UL'],\n",
       " 'TW': ['TU', 'AA'],\n",
       " 'VG': ['SA'],\n",
       " 'BP': ['RO', 'VR'],\n",
       " 'XH': ['GB', 'RI'],\n",
       " 'TX': ['RI', 'GD'],\n",
       " 'IR': ['TN', 'NY', 'JF'],\n",
       " 'TU': ['JD', 'TW'],\n",
       " 'KC': ['SP', 'RO'],\n",
       " 'LN': ['EM', 'RI'],\n",
       " 'HD': ['FE', 'SC'],\n",
       " 'KE': ['OM', 'RI'],\n",
       " 'VY': ['PW', 'BS'],\n",
       " 'LH': ['OM', 'VR'],\n",
       " 'EM': ['AJ', 'LN'],\n",
       " 'SO': ['ZP', 'FE'],\n",
       " 'EC': ['OM', 'UL'],\n",
       " 'KV': ['SP', 'VR'],\n",
       " 'FE': ['SO', 'HD'],\n",
       " 'TI': ['AA', 'PW'],\n",
       " 'SC': ['HD'],\n",
       " 'ZP': ['SO', 'AH'],\n",
       " 'RO': ['UV', 'BP', 'VK', 'KC'],\n",
       " 'ZR': ['OM', 'AJ'],\n",
       " 'JL': ['GN', 'TN'],\n",
       " 'PW': ['TI', 'GN', 'VY', 'GD', 'IC'],\n",
       " 'UL': ['EC', 'AA'],\n",
       " 'GN': ['JL', 'PW'],\n",
       " 'TN': ['JL', 'IR'],\n",
       " 'NV': ['RI', 'JD'],\n",
       " 'DI': ['LE', 'AH'],\n",
       " 'IC': ['PW', 'AJ'],\n",
       " 'JF': ['SA', 'IR'],\n",
       " 'LE': ['DI', 'KO'],\n",
       " 'BS': ['JD', 'VY'],\n",
       " 'JD': ['NV', 'TU', 'BS'],\n",
       " 'SP': ['KC', 'KV', 'PJ'],\n",
       " 'NY': ['IR', 'OH'],\n",
       " 'OM': ['EC', 'GH', 'KE', 'ZR', 'LH'],\n",
       " 'GH': ['OM', 'UV'],\n",
       " 'RI': ['NV', 'KE', 'LN', 'XH', 'TX']}"
      ]
     },
     "execution_count": 17,
     "metadata": {},
     "output_type": "execute_result"
    }
   ],
   "source": [
    "import helpers\n",
    "import numpy as np\n",
    "import math\n",
    "import re\n",
    "from copy import deepcopy\n",
    "\n",
    "data = \"\"\"Valve AA has flow rate=0; tunnels lead to valves DD, II, BB\n",
    "Valve BB has flow rate=13; tunnels lead to valves CC, AA\n",
    "Valve CC has flow rate=2; tunnels lead to valves DD, BB\n",
    "Valve DD has flow rate=20; tunnels lead to valves CC, AA, EE\n",
    "Valve EE has flow rate=3; tunnels lead to valves FF, DD\n",
    "Valve FF has flow rate=0; tunnels lead to valves EE, GG\n",
    "Valve GG has flow rate=0; tunnels lead to valves FF, HH\n",
    "Valve HH has flow rate=22; tunnel leads to valve GG\n",
    "Valve II has flow rate=0; tunnels lead to valves AA, JJ\n",
    "Valve JJ has flow rate=21; tunnel leads to valve II\"\"\"\n",
    "with open(\"input_16.txt\", 'r') as f:\n",
    "    data = f.read().rstrip()\n",
    "    \n",
    "#changeDict = {\"forward\": np.array([1,0]), \"down\": np.array([0,1]), \"up\": np.array([0,-1])}\n",
    "#data = [changeDict[x.split(\" \")[0]] * int(x.split(\" \")[1]) for x in data.split(\"\\n\") if x]\n",
    "#data = [x.split('\\n') for x in data.split('\\n\\n') if x]\n",
    "#np.prod(sum(data))    \n",
    "state = {}\n",
    "flow_dictionary = {}\n",
    "connected_dictionary = {}\n",
    "state['valves_on'] = {}\n",
    "for line in data.split('\\n'):\n",
    "    valves = line.split('valve')[1].replace(',', '')\n",
    "    valves = [x for x in valves.split(' ') if len(x) > 1]\n",
    "    split_line = line.split(' ')\n",
    "    valve = split_line[1]\n",
    "    flow = int(split_line[4].replace(';', '').split('=')[1])\n",
    "    flow_dictionary[valve] = flow\n",
    "    connected_dictionary[valve] = valves\n",
    "    if flow == 0:\n",
    "        state['valves_on'][valve] = True\n",
    "    else:\n",
    "        state['valves_on'][valve] = False\n",
    "print(state)  \n",
    "print(flow_dictionary)\n",
    "connected_dictionary\n",
    "    "
   ]
  },
  {
   "cell_type": "code",
   "execution_count": 21,
   "id": "e6d41e66",
   "metadata": {},
   "outputs": [
    {
     "name": "stdout",
     "output_type": "stream",
     "text": [
      "{0: 50000, 1: 50000, 2: 50000, 3: 50000, 4: 50000, 5: 50000, 6: 50000, 7: 50000, 8: 50000, 9: 50000, 10: 50000, 11: 50000, 12: 50000, 13: 50000, 14: 50000, 15: 50000, 16: 50000, 17: 50000, 18: 50000, 19: 50000, 20: 50000, 21: 50000, 22: 50000, 23: 50000, 24: 50000, 25: 50000, 26: 50000, 27: 50000, 28: 50000, 29: 50000, 30: 50000}\n",
      "1350\n",
      "1364\n",
      "1373\n"
     ]
    },
    {
     "ename": "KeyboardInterrupt",
     "evalue": "",
     "output_type": "error",
     "traceback": [
      "\u001b[1;31m---------------------------------------------------------------------------\u001b[0m",
      "\u001b[1;31mKeyboardInterrupt\u001b[0m                         Traceback (most recent call last)",
      "\u001b[1;32m~\\AppData\\Local\\Temp/ipykernel_14036/2426410516.py\u001b[0m in \u001b[0;36m<module>\u001b[1;34m\u001b[0m\n\u001b[0;32m     64\u001b[0m \u001b[1;33m\u001b[0m\u001b[0m\n\u001b[0;32m     65\u001b[0m \u001b[1;33m\u001b[0m\u001b[0m\n\u001b[1;32m---> 66\u001b[1;33m \u001b[0mmove\u001b[0m\u001b[1;33m(\u001b[0m\u001b[0mstate\u001b[0m\u001b[1;33m,\u001b[0m \u001b[1;33m[\u001b[0m\u001b[1;34m\"AA\"\u001b[0m\u001b[1;33m,\u001b[0m\u001b[1;34m\"AA\"\u001b[0m\u001b[1;33m]\u001b[0m\u001b[1;33m,\u001b[0m \u001b[1;33m[\u001b[0m\u001b[1;34m\"\"\u001b[0m\u001b[1;33m,\u001b[0m \u001b[1;34m\"\"\u001b[0m\u001b[1;33m]\u001b[0m\u001b[1;33m)\u001b[0m\u001b[1;33m\u001b[0m\u001b[1;33m\u001b[0m\u001b[0m\n\u001b[0m\u001b[0;32m     67\u001b[0m \u001b[1;33m\u001b[0m\u001b[0m\n\u001b[0;32m     68\u001b[0m \u001b[0mmax_pressure\u001b[0m\u001b[1;33m\u001b[0m\u001b[1;33m\u001b[0m\u001b[0m\n",
      "\u001b[1;32m~\\AppData\\Local\\Temp/ipykernel_14036/2426410516.py\u001b[0m in \u001b[0;36mmove\u001b[1;34m(state, position, cameFrom)\u001b[0m\n\u001b[0;32m     35\u001b[0m             \u001b[0mcameFrom\u001b[0m\u001b[1;33m[\u001b[0m\u001b[1;36m0\u001b[0m\u001b[1;33m]\u001b[0m \u001b[1;33m=\u001b[0m \u001b[0mposition\u001b[0m\u001b[1;33m[\u001b[0m\u001b[1;36m0\u001b[0m\u001b[1;33m]\u001b[0m\u001b[1;33m\u001b[0m\u001b[1;33m\u001b[0m\u001b[0m\n\u001b[0;32m     36\u001b[0m             \u001b[0mnum_allowed_minute\u001b[0m\u001b[1;33m[\u001b[0m\u001b[0mstate2\u001b[0m\u001b[1;33m[\u001b[0m\u001b[1;34m'time'\u001b[0m\u001b[1;33m]\u001b[0m\u001b[1;33m]\u001b[0m \u001b[1;33m-=\u001b[0m \u001b[1;36m1\u001b[0m\u001b[1;33m\u001b[0m\u001b[1;33m\u001b[0m\u001b[0m\n\u001b[1;32m---> 37\u001b[1;33m             \u001b[0melephant_move\u001b[0m\u001b[1;33m(\u001b[0m\u001b[0mstate2\u001b[0m\u001b[1;33m,\u001b[0m \u001b[0mposition\u001b[0m\u001b[1;33m,\u001b[0m \u001b[0mposition\u001b[0m\u001b[1;33m)\u001b[0m\u001b[1;33m\u001b[0m\u001b[1;33m\u001b[0m\u001b[0m\n\u001b[0m\u001b[0;32m     38\u001b[0m \u001b[1;33m\u001b[0m\u001b[0m\n\u001b[0;32m     39\u001b[0m \u001b[1;33m\u001b[0m\u001b[0m\n",
      "\u001b[1;32m~\\AppData\\Local\\Temp/ipykernel_14036/2426410516.py\u001b[0m in \u001b[0;36melephant_move\u001b[1;34m(state, position, cameFrom)\u001b[0m\n\u001b[0;32m     61\u001b[0m             \u001b[0mcameFrom\u001b[0m\u001b[1;33m[\u001b[0m\u001b[1;36m1\u001b[0m\u001b[1;33m]\u001b[0m \u001b[1;33m=\u001b[0m \u001b[0mposition\u001b[0m\u001b[1;33m[\u001b[0m\u001b[1;36m0\u001b[0m\u001b[1;33m]\u001b[0m\u001b[1;33m\u001b[0m\u001b[1;33m\u001b[0m\u001b[0m\n\u001b[0;32m     62\u001b[0m             \u001b[0mnum_allowed_minute\u001b[0m\u001b[1;33m[\u001b[0m\u001b[0mstate2\u001b[0m\u001b[1;33m[\u001b[0m\u001b[1;34m'time'\u001b[0m\u001b[1;33m]\u001b[0m\u001b[1;33m]\u001b[0m \u001b[1;33m-=\u001b[0m \u001b[1;36m1\u001b[0m\u001b[1;33m\u001b[0m\u001b[1;33m\u001b[0m\u001b[0m\n\u001b[1;32m---> 63\u001b[1;33m             \u001b[0mmove\u001b[0m\u001b[1;33m(\u001b[0m\u001b[0mstate2\u001b[0m\u001b[1;33m,\u001b[0m \u001b[0mposition\u001b[0m\u001b[1;33m,\u001b[0m \u001b[0mposition\u001b[0m\u001b[1;33m)\u001b[0m\u001b[1;33m\u001b[0m\u001b[1;33m\u001b[0m\u001b[0m\n\u001b[0m\u001b[0;32m     64\u001b[0m \u001b[1;33m\u001b[0m\u001b[0m\n\u001b[0;32m     65\u001b[0m \u001b[1;33m\u001b[0m\u001b[0m\n",
      "\u001b[1;32m~\\AppData\\Local\\Temp/ipykernel_14036/2426410516.py\u001b[0m in \u001b[0;36mmove\u001b[1;34m(state, position, cameFrom)\u001b[0m\n\u001b[0;32m     35\u001b[0m             \u001b[0mcameFrom\u001b[0m\u001b[1;33m[\u001b[0m\u001b[1;36m0\u001b[0m\u001b[1;33m]\u001b[0m \u001b[1;33m=\u001b[0m \u001b[0mposition\u001b[0m\u001b[1;33m[\u001b[0m\u001b[1;36m0\u001b[0m\u001b[1;33m]\u001b[0m\u001b[1;33m\u001b[0m\u001b[1;33m\u001b[0m\u001b[0m\n\u001b[0;32m     36\u001b[0m             \u001b[0mnum_allowed_minute\u001b[0m\u001b[1;33m[\u001b[0m\u001b[0mstate2\u001b[0m\u001b[1;33m[\u001b[0m\u001b[1;34m'time'\u001b[0m\u001b[1;33m]\u001b[0m\u001b[1;33m]\u001b[0m \u001b[1;33m-=\u001b[0m \u001b[1;36m1\u001b[0m\u001b[1;33m\u001b[0m\u001b[1;33m\u001b[0m\u001b[0m\n\u001b[1;32m---> 37\u001b[1;33m             \u001b[0melephant_move\u001b[0m\u001b[1;33m(\u001b[0m\u001b[0mstate2\u001b[0m\u001b[1;33m,\u001b[0m \u001b[0mposition\u001b[0m\u001b[1;33m,\u001b[0m \u001b[0mposition\u001b[0m\u001b[1;33m)\u001b[0m\u001b[1;33m\u001b[0m\u001b[1;33m\u001b[0m\u001b[0m\n\u001b[0m\u001b[0;32m     38\u001b[0m \u001b[1;33m\u001b[0m\u001b[0m\n\u001b[0;32m     39\u001b[0m \u001b[1;33m\u001b[0m\u001b[0m\n",
      "\u001b[1;32m~\\AppData\\Local\\Temp/ipykernel_14036/2426410516.py\u001b[0m in \u001b[0;36melephant_move\u001b[1;34m(state, position, cameFrom)\u001b[0m\n\u001b[0;32m     61\u001b[0m             \u001b[0mcameFrom\u001b[0m\u001b[1;33m[\u001b[0m\u001b[1;36m1\u001b[0m\u001b[1;33m]\u001b[0m \u001b[1;33m=\u001b[0m \u001b[0mposition\u001b[0m\u001b[1;33m[\u001b[0m\u001b[1;36m0\u001b[0m\u001b[1;33m]\u001b[0m\u001b[1;33m\u001b[0m\u001b[1;33m\u001b[0m\u001b[0m\n\u001b[0;32m     62\u001b[0m             \u001b[0mnum_allowed_minute\u001b[0m\u001b[1;33m[\u001b[0m\u001b[0mstate2\u001b[0m\u001b[1;33m[\u001b[0m\u001b[1;34m'time'\u001b[0m\u001b[1;33m]\u001b[0m\u001b[1;33m]\u001b[0m \u001b[1;33m-=\u001b[0m \u001b[1;36m1\u001b[0m\u001b[1;33m\u001b[0m\u001b[1;33m\u001b[0m\u001b[0m\n\u001b[1;32m---> 63\u001b[1;33m             \u001b[0mmove\u001b[0m\u001b[1;33m(\u001b[0m\u001b[0mstate2\u001b[0m\u001b[1;33m,\u001b[0m \u001b[0mposition\u001b[0m\u001b[1;33m,\u001b[0m \u001b[0mposition\u001b[0m\u001b[1;33m)\u001b[0m\u001b[1;33m\u001b[0m\u001b[1;33m\u001b[0m\u001b[0m\n\u001b[0m\u001b[0;32m     64\u001b[0m \u001b[1;33m\u001b[0m\u001b[0m\n\u001b[0;32m     65\u001b[0m \u001b[1;33m\u001b[0m\u001b[0m\n",
      "\u001b[1;32m~\\AppData\\Local\\Temp/ipykernel_14036/2426410516.py\u001b[0m in \u001b[0;36mmove\u001b[1;34m(state, position, cameFrom)\u001b[0m\n\u001b[0;32m     25\u001b[0m         \u001b[0mcameFrom\u001b[0m\u001b[1;33m[\u001b[0m\u001b[1;36m0\u001b[0m\u001b[1;33m]\u001b[0m \u001b[1;33m=\u001b[0m \u001b[1;34m\"\"\u001b[0m\u001b[1;33m\u001b[0m\u001b[1;33m\u001b[0m\u001b[0m\n\u001b[0;32m     26\u001b[0m         \u001b[0mnum_allowed_minute\u001b[0m\u001b[1;33m[\u001b[0m\u001b[0mstate2\u001b[0m\u001b[1;33m[\u001b[0m\u001b[1;34m'time'\u001b[0m\u001b[1;33m]\u001b[0m\u001b[1;33m]\u001b[0m \u001b[1;33m-=\u001b[0m \u001b[1;36m1\u001b[0m\u001b[1;33m\u001b[0m\u001b[1;33m\u001b[0m\u001b[0m\n\u001b[1;32m---> 27\u001b[1;33m         \u001b[0melephant_move\u001b[0m\u001b[1;33m(\u001b[0m\u001b[0mstate2\u001b[0m\u001b[1;33m,\u001b[0m \u001b[0mposition\u001b[0m\u001b[1;33m,\u001b[0m \u001b[0mcameFrom\u001b[0m\u001b[1;33m)\u001b[0m\u001b[1;33m\u001b[0m\u001b[1;33m\u001b[0m\u001b[0m\n\u001b[0m\u001b[0;32m     28\u001b[0m     \u001b[1;32mfor\u001b[0m \u001b[0mmovement\u001b[0m \u001b[1;32min\u001b[0m \u001b[0mget_best_routes\u001b[0m\u001b[1;33m(\u001b[0m\u001b[0mstate\u001b[0m\u001b[1;33m,\u001b[0m \u001b[0mposition\u001b[0m\u001b[1;33m[\u001b[0m\u001b[1;36m0\u001b[0m\u001b[1;33m]\u001b[0m\u001b[1;33m)\u001b[0m\u001b[1;33m:\u001b[0m\u001b[1;33m\u001b[0m\u001b[1;33m\u001b[0m\u001b[0m\n\u001b[0;32m     29\u001b[0m         \u001b[0mposition\u001b[0m \u001b[1;33m=\u001b[0m \u001b[0mdeepcopy\u001b[0m\u001b[1;33m(\u001b[0m\u001b[0mposition\u001b[0m\u001b[1;33m)\u001b[0m\u001b[1;33m\u001b[0m\u001b[1;33m\u001b[0m\u001b[0m\n",
      "\u001b[1;32m~\\AppData\\Local\\Temp/ipykernel_14036/2426410516.py\u001b[0m in \u001b[0;36melephant_move\u001b[1;34m(state, position, cameFrom)\u001b[0m\n\u001b[0;32m     61\u001b[0m             \u001b[0mcameFrom\u001b[0m\u001b[1;33m[\u001b[0m\u001b[1;36m1\u001b[0m\u001b[1;33m]\u001b[0m \u001b[1;33m=\u001b[0m \u001b[0mposition\u001b[0m\u001b[1;33m[\u001b[0m\u001b[1;36m0\u001b[0m\u001b[1;33m]\u001b[0m\u001b[1;33m\u001b[0m\u001b[1;33m\u001b[0m\u001b[0m\n\u001b[0;32m     62\u001b[0m             \u001b[0mnum_allowed_minute\u001b[0m\u001b[1;33m[\u001b[0m\u001b[0mstate2\u001b[0m\u001b[1;33m[\u001b[0m\u001b[1;34m'time'\u001b[0m\u001b[1;33m]\u001b[0m\u001b[1;33m]\u001b[0m \u001b[1;33m-=\u001b[0m \u001b[1;36m1\u001b[0m\u001b[1;33m\u001b[0m\u001b[1;33m\u001b[0m\u001b[0m\n\u001b[1;32m---> 63\u001b[1;33m             \u001b[0mmove\u001b[0m\u001b[1;33m(\u001b[0m\u001b[0mstate2\u001b[0m\u001b[1;33m,\u001b[0m \u001b[0mposition\u001b[0m\u001b[1;33m,\u001b[0m \u001b[0mposition\u001b[0m\u001b[1;33m)\u001b[0m\u001b[1;33m\u001b[0m\u001b[1;33m\u001b[0m\u001b[0m\n\u001b[0m\u001b[0;32m     64\u001b[0m \u001b[1;33m\u001b[0m\u001b[0m\n\u001b[0;32m     65\u001b[0m \u001b[1;33m\u001b[0m\u001b[0m\n",
      "\u001b[1;32m~\\AppData\\Local\\Temp/ipykernel_14036/2426410516.py\u001b[0m in \u001b[0;36mmove\u001b[1;34m(state, position, cameFrom)\u001b[0m\n\u001b[0;32m     35\u001b[0m             \u001b[0mcameFrom\u001b[0m\u001b[1;33m[\u001b[0m\u001b[1;36m0\u001b[0m\u001b[1;33m]\u001b[0m \u001b[1;33m=\u001b[0m \u001b[0mposition\u001b[0m\u001b[1;33m[\u001b[0m\u001b[1;36m0\u001b[0m\u001b[1;33m]\u001b[0m\u001b[1;33m\u001b[0m\u001b[1;33m\u001b[0m\u001b[0m\n\u001b[0;32m     36\u001b[0m             \u001b[0mnum_allowed_minute\u001b[0m\u001b[1;33m[\u001b[0m\u001b[0mstate2\u001b[0m\u001b[1;33m[\u001b[0m\u001b[1;34m'time'\u001b[0m\u001b[1;33m]\u001b[0m\u001b[1;33m]\u001b[0m \u001b[1;33m-=\u001b[0m \u001b[1;36m1\u001b[0m\u001b[1;33m\u001b[0m\u001b[1;33m\u001b[0m\u001b[0m\n\u001b[1;32m---> 37\u001b[1;33m             \u001b[0melephant_move\u001b[0m\u001b[1;33m(\u001b[0m\u001b[0mstate2\u001b[0m\u001b[1;33m,\u001b[0m \u001b[0mposition\u001b[0m\u001b[1;33m,\u001b[0m \u001b[0mposition\u001b[0m\u001b[1;33m)\u001b[0m\u001b[1;33m\u001b[0m\u001b[1;33m\u001b[0m\u001b[0m\n\u001b[0m\u001b[0;32m     38\u001b[0m \u001b[1;33m\u001b[0m\u001b[0m\n\u001b[0;32m     39\u001b[0m \u001b[1;33m\u001b[0m\u001b[0m\n",
      "\u001b[1;32m~\\AppData\\Local\\Temp/ipykernel_14036/2426410516.py\u001b[0m in \u001b[0;36melephant_move\u001b[1;34m(state, position, cameFrom)\u001b[0m\n\u001b[0;32m     61\u001b[0m             \u001b[0mcameFrom\u001b[0m\u001b[1;33m[\u001b[0m\u001b[1;36m1\u001b[0m\u001b[1;33m]\u001b[0m \u001b[1;33m=\u001b[0m \u001b[0mposition\u001b[0m\u001b[1;33m[\u001b[0m\u001b[1;36m0\u001b[0m\u001b[1;33m]\u001b[0m\u001b[1;33m\u001b[0m\u001b[1;33m\u001b[0m\u001b[0m\n\u001b[0;32m     62\u001b[0m             \u001b[0mnum_allowed_minute\u001b[0m\u001b[1;33m[\u001b[0m\u001b[0mstate2\u001b[0m\u001b[1;33m[\u001b[0m\u001b[1;34m'time'\u001b[0m\u001b[1;33m]\u001b[0m\u001b[1;33m]\u001b[0m \u001b[1;33m-=\u001b[0m \u001b[1;36m1\u001b[0m\u001b[1;33m\u001b[0m\u001b[1;33m\u001b[0m\u001b[0m\n\u001b[1;32m---> 63\u001b[1;33m             \u001b[0mmove\u001b[0m\u001b[1;33m(\u001b[0m\u001b[0mstate2\u001b[0m\u001b[1;33m,\u001b[0m \u001b[0mposition\u001b[0m\u001b[1;33m,\u001b[0m \u001b[0mposition\u001b[0m\u001b[1;33m)\u001b[0m\u001b[1;33m\u001b[0m\u001b[1;33m\u001b[0m\u001b[0m\n\u001b[0m\u001b[0;32m     64\u001b[0m \u001b[1;33m\u001b[0m\u001b[0m\n\u001b[0;32m     65\u001b[0m \u001b[1;33m\u001b[0m\u001b[0m\n",
      "\u001b[1;32m~\\AppData\\Local\\Temp/ipykernel_14036/2426410516.py\u001b[0m in \u001b[0;36mmove\u001b[1;34m(state, position, cameFrom)\u001b[0m\n\u001b[0;32m     35\u001b[0m             \u001b[0mcameFrom\u001b[0m\u001b[1;33m[\u001b[0m\u001b[1;36m0\u001b[0m\u001b[1;33m]\u001b[0m \u001b[1;33m=\u001b[0m \u001b[0mposition\u001b[0m\u001b[1;33m[\u001b[0m\u001b[1;36m0\u001b[0m\u001b[1;33m]\u001b[0m\u001b[1;33m\u001b[0m\u001b[1;33m\u001b[0m\u001b[0m\n\u001b[0;32m     36\u001b[0m             \u001b[0mnum_allowed_minute\u001b[0m\u001b[1;33m[\u001b[0m\u001b[0mstate2\u001b[0m\u001b[1;33m[\u001b[0m\u001b[1;34m'time'\u001b[0m\u001b[1;33m]\u001b[0m\u001b[1;33m]\u001b[0m \u001b[1;33m-=\u001b[0m \u001b[1;36m1\u001b[0m\u001b[1;33m\u001b[0m\u001b[1;33m\u001b[0m\u001b[0m\n\u001b[1;32m---> 37\u001b[1;33m             \u001b[0melephant_move\u001b[0m\u001b[1;33m(\u001b[0m\u001b[0mstate2\u001b[0m\u001b[1;33m,\u001b[0m \u001b[0mposition\u001b[0m\u001b[1;33m,\u001b[0m \u001b[0mposition\u001b[0m\u001b[1;33m)\u001b[0m\u001b[1;33m\u001b[0m\u001b[1;33m\u001b[0m\u001b[0m\n\u001b[0m\u001b[0;32m     38\u001b[0m \u001b[1;33m\u001b[0m\u001b[0m\n\u001b[0;32m     39\u001b[0m \u001b[1;33m\u001b[0m\u001b[0m\n",
      "\u001b[1;32m~\\AppData\\Local\\Temp/ipykernel_14036/2426410516.py\u001b[0m in \u001b[0;36melephant_move\u001b[1;34m(state, position, cameFrom)\u001b[0m\n\u001b[0;32m     61\u001b[0m             \u001b[0mcameFrom\u001b[0m\u001b[1;33m[\u001b[0m\u001b[1;36m1\u001b[0m\u001b[1;33m]\u001b[0m \u001b[1;33m=\u001b[0m \u001b[0mposition\u001b[0m\u001b[1;33m[\u001b[0m\u001b[1;36m0\u001b[0m\u001b[1;33m]\u001b[0m\u001b[1;33m\u001b[0m\u001b[1;33m\u001b[0m\u001b[0m\n\u001b[0;32m     62\u001b[0m             \u001b[0mnum_allowed_minute\u001b[0m\u001b[1;33m[\u001b[0m\u001b[0mstate2\u001b[0m\u001b[1;33m[\u001b[0m\u001b[1;34m'time'\u001b[0m\u001b[1;33m]\u001b[0m\u001b[1;33m]\u001b[0m \u001b[1;33m-=\u001b[0m \u001b[1;36m1\u001b[0m\u001b[1;33m\u001b[0m\u001b[1;33m\u001b[0m\u001b[0m\n\u001b[1;32m---> 63\u001b[1;33m             \u001b[0mmove\u001b[0m\u001b[1;33m(\u001b[0m\u001b[0mstate2\u001b[0m\u001b[1;33m,\u001b[0m \u001b[0mposition\u001b[0m\u001b[1;33m,\u001b[0m \u001b[0mposition\u001b[0m\u001b[1;33m)\u001b[0m\u001b[1;33m\u001b[0m\u001b[1;33m\u001b[0m\u001b[0m\n\u001b[0m\u001b[0;32m     64\u001b[0m \u001b[1;33m\u001b[0m\u001b[0m\n\u001b[0;32m     65\u001b[0m \u001b[1;33m\u001b[0m\u001b[0m\n",
      "\u001b[1;32m~\\AppData\\Local\\Temp/ipykernel_14036/2426410516.py\u001b[0m in \u001b[0;36mmove\u001b[1;34m(state, position, cameFrom)\u001b[0m\n\u001b[0;32m     35\u001b[0m             \u001b[0mcameFrom\u001b[0m\u001b[1;33m[\u001b[0m\u001b[1;36m0\u001b[0m\u001b[1;33m]\u001b[0m \u001b[1;33m=\u001b[0m \u001b[0mposition\u001b[0m\u001b[1;33m[\u001b[0m\u001b[1;36m0\u001b[0m\u001b[1;33m]\u001b[0m\u001b[1;33m\u001b[0m\u001b[1;33m\u001b[0m\u001b[0m\n\u001b[0;32m     36\u001b[0m             \u001b[0mnum_allowed_minute\u001b[0m\u001b[1;33m[\u001b[0m\u001b[0mstate2\u001b[0m\u001b[1;33m[\u001b[0m\u001b[1;34m'time'\u001b[0m\u001b[1;33m]\u001b[0m\u001b[1;33m]\u001b[0m \u001b[1;33m-=\u001b[0m \u001b[1;36m1\u001b[0m\u001b[1;33m\u001b[0m\u001b[1;33m\u001b[0m\u001b[0m\n\u001b[1;32m---> 37\u001b[1;33m             \u001b[0melephant_move\u001b[0m\u001b[1;33m(\u001b[0m\u001b[0mstate2\u001b[0m\u001b[1;33m,\u001b[0m \u001b[0mposition\u001b[0m\u001b[1;33m,\u001b[0m \u001b[0mposition\u001b[0m\u001b[1;33m)\u001b[0m\u001b[1;33m\u001b[0m\u001b[1;33m\u001b[0m\u001b[0m\n\u001b[0m\u001b[0;32m     38\u001b[0m \u001b[1;33m\u001b[0m\u001b[0m\n\u001b[0;32m     39\u001b[0m \u001b[1;33m\u001b[0m\u001b[0m\n",
      "\u001b[1;32m~\\AppData\\Local\\Temp/ipykernel_14036/2426410516.py\u001b[0m in \u001b[0;36melephant_move\u001b[1;34m(state, position, cameFrom)\u001b[0m\n\u001b[0;32m     61\u001b[0m             \u001b[0mcameFrom\u001b[0m\u001b[1;33m[\u001b[0m\u001b[1;36m1\u001b[0m\u001b[1;33m]\u001b[0m \u001b[1;33m=\u001b[0m \u001b[0mposition\u001b[0m\u001b[1;33m[\u001b[0m\u001b[1;36m0\u001b[0m\u001b[1;33m]\u001b[0m\u001b[1;33m\u001b[0m\u001b[1;33m\u001b[0m\u001b[0m\n\u001b[0;32m     62\u001b[0m             \u001b[0mnum_allowed_minute\u001b[0m\u001b[1;33m[\u001b[0m\u001b[0mstate2\u001b[0m\u001b[1;33m[\u001b[0m\u001b[1;34m'time'\u001b[0m\u001b[1;33m]\u001b[0m\u001b[1;33m]\u001b[0m \u001b[1;33m-=\u001b[0m \u001b[1;36m1\u001b[0m\u001b[1;33m\u001b[0m\u001b[1;33m\u001b[0m\u001b[0m\n\u001b[1;32m---> 63\u001b[1;33m             \u001b[0mmove\u001b[0m\u001b[1;33m(\u001b[0m\u001b[0mstate2\u001b[0m\u001b[1;33m,\u001b[0m \u001b[0mposition\u001b[0m\u001b[1;33m,\u001b[0m \u001b[0mposition\u001b[0m\u001b[1;33m)\u001b[0m\u001b[1;33m\u001b[0m\u001b[1;33m\u001b[0m\u001b[0m\n\u001b[0m\u001b[0;32m     64\u001b[0m \u001b[1;33m\u001b[0m\u001b[0m\n\u001b[0;32m     65\u001b[0m \u001b[1;33m\u001b[0m\u001b[0m\n",
      "\u001b[1;32m~\\AppData\\Local\\Temp/ipykernel_14036/2426410516.py\u001b[0m in \u001b[0;36mmove\u001b[1;34m(state, position, cameFrom)\u001b[0m\n\u001b[0;32m     35\u001b[0m             \u001b[0mcameFrom\u001b[0m\u001b[1;33m[\u001b[0m\u001b[1;36m0\u001b[0m\u001b[1;33m]\u001b[0m \u001b[1;33m=\u001b[0m \u001b[0mposition\u001b[0m\u001b[1;33m[\u001b[0m\u001b[1;36m0\u001b[0m\u001b[1;33m]\u001b[0m\u001b[1;33m\u001b[0m\u001b[1;33m\u001b[0m\u001b[0m\n\u001b[0;32m     36\u001b[0m             \u001b[0mnum_allowed_minute\u001b[0m\u001b[1;33m[\u001b[0m\u001b[0mstate2\u001b[0m\u001b[1;33m[\u001b[0m\u001b[1;34m'time'\u001b[0m\u001b[1;33m]\u001b[0m\u001b[1;33m]\u001b[0m \u001b[1;33m-=\u001b[0m \u001b[1;36m1\u001b[0m\u001b[1;33m\u001b[0m\u001b[1;33m\u001b[0m\u001b[0m\n\u001b[1;32m---> 37\u001b[1;33m             \u001b[0melephant_move\u001b[0m\u001b[1;33m(\u001b[0m\u001b[0mstate2\u001b[0m\u001b[1;33m,\u001b[0m \u001b[0mposition\u001b[0m\u001b[1;33m,\u001b[0m \u001b[0mposition\u001b[0m\u001b[1;33m)\u001b[0m\u001b[1;33m\u001b[0m\u001b[1;33m\u001b[0m\u001b[0m\n\u001b[0m\u001b[0;32m     38\u001b[0m \u001b[1;33m\u001b[0m\u001b[0m\n\u001b[0;32m     39\u001b[0m \u001b[1;33m\u001b[0m\u001b[0m\n",
      "\u001b[1;32m~\\AppData\\Local\\Temp/ipykernel_14036/2426410516.py\u001b[0m in \u001b[0;36melephant_move\u001b[1;34m(state, position, cameFrom)\u001b[0m\n\u001b[0;32m     61\u001b[0m             \u001b[0mcameFrom\u001b[0m\u001b[1;33m[\u001b[0m\u001b[1;36m1\u001b[0m\u001b[1;33m]\u001b[0m \u001b[1;33m=\u001b[0m \u001b[0mposition\u001b[0m\u001b[1;33m[\u001b[0m\u001b[1;36m0\u001b[0m\u001b[1;33m]\u001b[0m\u001b[1;33m\u001b[0m\u001b[1;33m\u001b[0m\u001b[0m\n\u001b[0;32m     62\u001b[0m             \u001b[0mnum_allowed_minute\u001b[0m\u001b[1;33m[\u001b[0m\u001b[0mstate2\u001b[0m\u001b[1;33m[\u001b[0m\u001b[1;34m'time'\u001b[0m\u001b[1;33m]\u001b[0m\u001b[1;33m]\u001b[0m \u001b[1;33m-=\u001b[0m \u001b[1;36m1\u001b[0m\u001b[1;33m\u001b[0m\u001b[1;33m\u001b[0m\u001b[0m\n\u001b[1;32m---> 63\u001b[1;33m             \u001b[0mmove\u001b[0m\u001b[1;33m(\u001b[0m\u001b[0mstate2\u001b[0m\u001b[1;33m,\u001b[0m \u001b[0mposition\u001b[0m\u001b[1;33m,\u001b[0m \u001b[0mposition\u001b[0m\u001b[1;33m)\u001b[0m\u001b[1;33m\u001b[0m\u001b[1;33m\u001b[0m\u001b[0m\n\u001b[0m\u001b[0;32m     64\u001b[0m \u001b[1;33m\u001b[0m\u001b[0m\n\u001b[0;32m     65\u001b[0m \u001b[1;33m\u001b[0m\u001b[0m\n",
      "\u001b[1;32m~\\AppData\\Local\\Temp/ipykernel_14036/2426410516.py\u001b[0m in \u001b[0;36mmove\u001b[1;34m(state, position, cameFrom)\u001b[0m\n\u001b[0;32m     35\u001b[0m             \u001b[0mcameFrom\u001b[0m\u001b[1;33m[\u001b[0m\u001b[1;36m0\u001b[0m\u001b[1;33m]\u001b[0m \u001b[1;33m=\u001b[0m \u001b[0mposition\u001b[0m\u001b[1;33m[\u001b[0m\u001b[1;36m0\u001b[0m\u001b[1;33m]\u001b[0m\u001b[1;33m\u001b[0m\u001b[1;33m\u001b[0m\u001b[0m\n\u001b[0;32m     36\u001b[0m             \u001b[0mnum_allowed_minute\u001b[0m\u001b[1;33m[\u001b[0m\u001b[0mstate2\u001b[0m\u001b[1;33m[\u001b[0m\u001b[1;34m'time'\u001b[0m\u001b[1;33m]\u001b[0m\u001b[1;33m]\u001b[0m \u001b[1;33m-=\u001b[0m \u001b[1;36m1\u001b[0m\u001b[1;33m\u001b[0m\u001b[1;33m\u001b[0m\u001b[0m\n\u001b[1;32m---> 37\u001b[1;33m             \u001b[0melephant_move\u001b[0m\u001b[1;33m(\u001b[0m\u001b[0mstate2\u001b[0m\u001b[1;33m,\u001b[0m \u001b[0mposition\u001b[0m\u001b[1;33m,\u001b[0m \u001b[0mposition\u001b[0m\u001b[1;33m)\u001b[0m\u001b[1;33m\u001b[0m\u001b[1;33m\u001b[0m\u001b[0m\n\u001b[0m\u001b[0;32m     38\u001b[0m \u001b[1;33m\u001b[0m\u001b[0m\n\u001b[0;32m     39\u001b[0m \u001b[1;33m\u001b[0m\u001b[0m\n",
      "\u001b[1;32m~\\AppData\\Local\\Temp/ipykernel_14036/2426410516.py\u001b[0m in \u001b[0;36melephant_move\u001b[1;34m(state, position, cameFrom)\u001b[0m\n\u001b[0;32m     57\u001b[0m         \u001b[0mcameFrom\u001b[0m \u001b[1;33m=\u001b[0m \u001b[0mdeepcopy\u001b[0m\u001b[1;33m(\u001b[0m\u001b[0mcameFrom\u001b[0m\u001b[1;33m)\u001b[0m\u001b[1;33m\u001b[0m\u001b[1;33m\u001b[0m\u001b[0m\n\u001b[0;32m     58\u001b[0m         \u001b[1;32mif\u001b[0m \u001b[1;32mnot\u001b[0m \u001b[0mmovement\u001b[0m \u001b[1;33m==\u001b[0m \u001b[0mcameFrom\u001b[0m\u001b[1;33m[\u001b[0m\u001b[1;36m1\u001b[0m\u001b[1;33m]\u001b[0m\u001b[1;33m:\u001b[0m\u001b[1;33m\u001b[0m\u001b[1;33m\u001b[0m\u001b[0m\n\u001b[1;32m---> 59\u001b[1;33m             \u001b[0mstate2\u001b[0m \u001b[1;33m=\u001b[0m \u001b[0mdeepcopy\u001b[0m\u001b[1;33m(\u001b[0m\u001b[0mstate\u001b[0m\u001b[1;33m)\u001b[0m\u001b[1;33m\u001b[0m\u001b[1;33m\u001b[0m\u001b[0m\n\u001b[0m\u001b[0;32m     60\u001b[0m             \u001b[0mposition\u001b[0m\u001b[1;33m[\u001b[0m\u001b[1;36m1\u001b[0m\u001b[1;33m]\u001b[0m \u001b[1;33m=\u001b[0m \u001b[0mmovement\u001b[0m\u001b[1;33m\u001b[0m\u001b[1;33m\u001b[0m\u001b[0m\n\u001b[0;32m     61\u001b[0m             \u001b[0mcameFrom\u001b[0m\u001b[1;33m[\u001b[0m\u001b[1;36m1\u001b[0m\u001b[1;33m]\u001b[0m \u001b[1;33m=\u001b[0m \u001b[0mposition\u001b[0m\u001b[1;33m[\u001b[0m\u001b[1;36m0\u001b[0m\u001b[1;33m]\u001b[0m\u001b[1;33m\u001b[0m\u001b[1;33m\u001b[0m\u001b[0m\n",
      "\u001b[1;32m~\\anaconda3\\envs\\aoc\\lib\\copy.py\u001b[0m in \u001b[0;36mdeepcopy\u001b[1;34m(x, memo, _nil)\u001b[0m\n\u001b[0;32m    144\u001b[0m     \u001b[0mcopier\u001b[0m \u001b[1;33m=\u001b[0m \u001b[0m_deepcopy_dispatch\u001b[0m\u001b[1;33m.\u001b[0m\u001b[0mget\u001b[0m\u001b[1;33m(\u001b[0m\u001b[0mcls\u001b[0m\u001b[1;33m)\u001b[0m\u001b[1;33m\u001b[0m\u001b[1;33m\u001b[0m\u001b[0m\n\u001b[0;32m    145\u001b[0m     \u001b[1;32mif\u001b[0m \u001b[0mcopier\u001b[0m \u001b[1;32mis\u001b[0m \u001b[1;32mnot\u001b[0m \u001b[1;32mNone\u001b[0m\u001b[1;33m:\u001b[0m\u001b[1;33m\u001b[0m\u001b[1;33m\u001b[0m\u001b[0m\n\u001b[1;32m--> 146\u001b[1;33m         \u001b[0my\u001b[0m \u001b[1;33m=\u001b[0m \u001b[0mcopier\u001b[0m\u001b[1;33m(\u001b[0m\u001b[0mx\u001b[0m\u001b[1;33m,\u001b[0m \u001b[0mmemo\u001b[0m\u001b[1;33m)\u001b[0m\u001b[1;33m\u001b[0m\u001b[1;33m\u001b[0m\u001b[0m\n\u001b[0m\u001b[0;32m    147\u001b[0m     \u001b[1;32melse\u001b[0m\u001b[1;33m:\u001b[0m\u001b[1;33m\u001b[0m\u001b[1;33m\u001b[0m\u001b[0m\n\u001b[0;32m    148\u001b[0m         \u001b[1;32mif\u001b[0m \u001b[0missubclass\u001b[0m\u001b[1;33m(\u001b[0m\u001b[0mcls\u001b[0m\u001b[1;33m,\u001b[0m \u001b[0mtype\u001b[0m\u001b[1;33m)\u001b[0m\u001b[1;33m:\u001b[0m\u001b[1;33m\u001b[0m\u001b[1;33m\u001b[0m\u001b[0m\n",
      "\u001b[1;32m~\\anaconda3\\envs\\aoc\\lib\\copy.py\u001b[0m in \u001b[0;36m_deepcopy_dict\u001b[1;34m(x, memo, deepcopy)\u001b[0m\n\u001b[0;32m    228\u001b[0m     \u001b[0mmemo\u001b[0m\u001b[1;33m[\u001b[0m\u001b[0mid\u001b[0m\u001b[1;33m(\u001b[0m\u001b[0mx\u001b[0m\u001b[1;33m)\u001b[0m\u001b[1;33m]\u001b[0m \u001b[1;33m=\u001b[0m \u001b[0my\u001b[0m\u001b[1;33m\u001b[0m\u001b[1;33m\u001b[0m\u001b[0m\n\u001b[0;32m    229\u001b[0m     \u001b[1;32mfor\u001b[0m \u001b[0mkey\u001b[0m\u001b[1;33m,\u001b[0m \u001b[0mvalue\u001b[0m \u001b[1;32min\u001b[0m \u001b[0mx\u001b[0m\u001b[1;33m.\u001b[0m\u001b[0mitems\u001b[0m\u001b[1;33m(\u001b[0m\u001b[1;33m)\u001b[0m\u001b[1;33m:\u001b[0m\u001b[1;33m\u001b[0m\u001b[1;33m\u001b[0m\u001b[0m\n\u001b[1;32m--> 230\u001b[1;33m         \u001b[0my\u001b[0m\u001b[1;33m[\u001b[0m\u001b[0mdeepcopy\u001b[0m\u001b[1;33m(\u001b[0m\u001b[0mkey\u001b[0m\u001b[1;33m,\u001b[0m \u001b[0mmemo\u001b[0m\u001b[1;33m)\u001b[0m\u001b[1;33m]\u001b[0m \u001b[1;33m=\u001b[0m \u001b[0mdeepcopy\u001b[0m\u001b[1;33m(\u001b[0m\u001b[0mvalue\u001b[0m\u001b[1;33m,\u001b[0m \u001b[0mmemo\u001b[0m\u001b[1;33m)\u001b[0m\u001b[1;33m\u001b[0m\u001b[1;33m\u001b[0m\u001b[0m\n\u001b[0m\u001b[0;32m    231\u001b[0m     \u001b[1;32mreturn\u001b[0m \u001b[0my\u001b[0m\u001b[1;33m\u001b[0m\u001b[1;33m\u001b[0m\u001b[0m\n\u001b[0;32m    232\u001b[0m \u001b[0md\u001b[0m\u001b[1;33m[\u001b[0m\u001b[0mdict\u001b[0m\u001b[1;33m]\u001b[0m \u001b[1;33m=\u001b[0m \u001b[0m_deepcopy_dict\u001b[0m\u001b[1;33m\u001b[0m\u001b[1;33m\u001b[0m\u001b[0m\n",
      "\u001b[1;32m~\\anaconda3\\envs\\aoc\\lib\\copy.py\u001b[0m in \u001b[0;36mdeepcopy\u001b[1;34m(x, memo, _nil)\u001b[0m\n\u001b[0;32m    144\u001b[0m     \u001b[0mcopier\u001b[0m \u001b[1;33m=\u001b[0m \u001b[0m_deepcopy_dispatch\u001b[0m\u001b[1;33m.\u001b[0m\u001b[0mget\u001b[0m\u001b[1;33m(\u001b[0m\u001b[0mcls\u001b[0m\u001b[1;33m)\u001b[0m\u001b[1;33m\u001b[0m\u001b[1;33m\u001b[0m\u001b[0m\n\u001b[0;32m    145\u001b[0m     \u001b[1;32mif\u001b[0m \u001b[0mcopier\u001b[0m \u001b[1;32mis\u001b[0m \u001b[1;32mnot\u001b[0m \u001b[1;32mNone\u001b[0m\u001b[1;33m:\u001b[0m\u001b[1;33m\u001b[0m\u001b[1;33m\u001b[0m\u001b[0m\n\u001b[1;32m--> 146\u001b[1;33m         \u001b[0my\u001b[0m \u001b[1;33m=\u001b[0m \u001b[0mcopier\u001b[0m\u001b[1;33m(\u001b[0m\u001b[0mx\u001b[0m\u001b[1;33m,\u001b[0m \u001b[0mmemo\u001b[0m\u001b[1;33m)\u001b[0m\u001b[1;33m\u001b[0m\u001b[1;33m\u001b[0m\u001b[0m\n\u001b[0m\u001b[0;32m    147\u001b[0m     \u001b[1;32melse\u001b[0m\u001b[1;33m:\u001b[0m\u001b[1;33m\u001b[0m\u001b[1;33m\u001b[0m\u001b[0m\n\u001b[0;32m    148\u001b[0m         \u001b[1;32mif\u001b[0m \u001b[0missubclass\u001b[0m\u001b[1;33m(\u001b[0m\u001b[0mcls\u001b[0m\u001b[1;33m,\u001b[0m \u001b[0mtype\u001b[0m\u001b[1;33m)\u001b[0m\u001b[1;33m:\u001b[0m\u001b[1;33m\u001b[0m\u001b[1;33m\u001b[0m\u001b[0m\n",
      "\u001b[1;32m~\\anaconda3\\envs\\aoc\\lib\\copy.py\u001b[0m in \u001b[0;36m_deepcopy_dict\u001b[1;34m(x, memo, deepcopy)\u001b[0m\n\u001b[0;32m    228\u001b[0m     \u001b[0mmemo\u001b[0m\u001b[1;33m[\u001b[0m\u001b[0mid\u001b[0m\u001b[1;33m(\u001b[0m\u001b[0mx\u001b[0m\u001b[1;33m)\u001b[0m\u001b[1;33m]\u001b[0m \u001b[1;33m=\u001b[0m \u001b[0my\u001b[0m\u001b[1;33m\u001b[0m\u001b[1;33m\u001b[0m\u001b[0m\n\u001b[0;32m    229\u001b[0m     \u001b[1;32mfor\u001b[0m \u001b[0mkey\u001b[0m\u001b[1;33m,\u001b[0m \u001b[0mvalue\u001b[0m \u001b[1;32min\u001b[0m \u001b[0mx\u001b[0m\u001b[1;33m.\u001b[0m\u001b[0mitems\u001b[0m\u001b[1;33m(\u001b[0m\u001b[1;33m)\u001b[0m\u001b[1;33m:\u001b[0m\u001b[1;33m\u001b[0m\u001b[1;33m\u001b[0m\u001b[0m\n\u001b[1;32m--> 230\u001b[1;33m         \u001b[0my\u001b[0m\u001b[1;33m[\u001b[0m\u001b[0mdeepcopy\u001b[0m\u001b[1;33m(\u001b[0m\u001b[0mkey\u001b[0m\u001b[1;33m,\u001b[0m \u001b[0mmemo\u001b[0m\u001b[1;33m)\u001b[0m\u001b[1;33m]\u001b[0m \u001b[1;33m=\u001b[0m \u001b[0mdeepcopy\u001b[0m\u001b[1;33m(\u001b[0m\u001b[0mvalue\u001b[0m\u001b[1;33m,\u001b[0m \u001b[0mmemo\u001b[0m\u001b[1;33m)\u001b[0m\u001b[1;33m\u001b[0m\u001b[1;33m\u001b[0m\u001b[0m\n\u001b[0m\u001b[0;32m    231\u001b[0m     \u001b[1;32mreturn\u001b[0m \u001b[0my\u001b[0m\u001b[1;33m\u001b[0m\u001b[1;33m\u001b[0m\u001b[0m\n\u001b[0;32m    232\u001b[0m \u001b[0md\u001b[0m\u001b[1;33m[\u001b[0m\u001b[0mdict\u001b[0m\u001b[1;33m]\u001b[0m \u001b[1;33m=\u001b[0m \u001b[0m_deepcopy_dict\u001b[0m\u001b[1;33m\u001b[0m\u001b[1;33m\u001b[0m\u001b[0m\n",
      "\u001b[1;32m~\\anaconda3\\envs\\aoc\\lib\\copy.py\u001b[0m in \u001b[0;36mdeepcopy\u001b[1;34m(x, memo, _nil)\u001b[0m\n\u001b[0;32m    140\u001b[0m         \u001b[1;32mreturn\u001b[0m \u001b[0my\u001b[0m\u001b[1;33m\u001b[0m\u001b[1;33m\u001b[0m\u001b[0m\n\u001b[0;32m    141\u001b[0m \u001b[1;33m\u001b[0m\u001b[0m\n\u001b[1;32m--> 142\u001b[1;33m     \u001b[0mcls\u001b[0m \u001b[1;33m=\u001b[0m \u001b[0mtype\u001b[0m\u001b[1;33m(\u001b[0m\u001b[0mx\u001b[0m\u001b[1;33m)\u001b[0m\u001b[1;33m\u001b[0m\u001b[1;33m\u001b[0m\u001b[0m\n\u001b[0m\u001b[0;32m    143\u001b[0m \u001b[1;33m\u001b[0m\u001b[0m\n\u001b[0;32m    144\u001b[0m     \u001b[0mcopier\u001b[0m \u001b[1;33m=\u001b[0m \u001b[0m_deepcopy_dispatch\u001b[0m\u001b[1;33m.\u001b[0m\u001b[0mget\u001b[0m\u001b[1;33m(\u001b[0m\u001b[0mcls\u001b[0m\u001b[1;33m)\u001b[0m\u001b[1;33m\u001b[0m\u001b[1;33m\u001b[0m\u001b[0m\n",
      "\u001b[1;31mKeyboardInterrupt\u001b[0m: "
     ]
    }
   ],
   "source": [
    "state['time'] = 26\n",
    "state['pressure'] = 0\n",
    "max_pressure = 0\n",
    "num_allowed_minute = {k: 50000  for k in range(0,31)}\n",
    "print(num_allowed_minute)\n",
    "def move(state, position, cameFrom):\n",
    "    global num_allowed_minute\n",
    "    #print(state['time'])\n",
    "    global max_pressure\n",
    "    state = deepcopy(state)\n",
    "    if state['time'] == 0 or all(i for i in state['valves_on'].values()) or ((max_score(state, state['time']) + state['pressure']) <= max_pressure) or num_allowed_minute[state['time']] <= 0:\n",
    "        if state['pressure'] > max_pressure:\n",
    "            max_pressure = state['pressure']\n",
    "            print(max_pressure)\n",
    "        return\n",
    "    \n",
    "    if not state['valves_on'][position[0]]:\n",
    "        state2 = deepcopy(state)\n",
    "        position = deepcopy(position)\n",
    "        #print(position)\n",
    "        cameFrom = deepcopy(cameFrom)\n",
    "        state2['valves_on'][position[0]] = True\n",
    "        state2['time'] -= 1\n",
    "        state2['pressure'] += state2['time'] * flow_dictionary[position[0]]\n",
    "        cameFrom[0] = \"\"\n",
    "        num_allowed_minute[state2['time']] -= 1\n",
    "        elephant_move(state2, position, cameFrom)\n",
    "    for movement in get_best_routes(state, position[0]):\n",
    "        position = deepcopy(position)\n",
    "        cameFrom = deepcopy(cameFrom)\n",
    "        if not movement == cameFrom[0]:\n",
    "            state2 = deepcopy(state)\n",
    "            state2['time'] -= 1\n",
    "            position[0] = movement\n",
    "            cameFrom[0] = position[0]\n",
    "            num_allowed_minute[state2['time']] -= 1\n",
    "            elephant_move(state2, position, position)\n",
    "            \n",
    "            \n",
    "def elephant_move(state, position, cameFrom):\n",
    "    global num_allowed_minute\n",
    "    state = deepcopy(state)\n",
    "    if all(i for i in state['valves_on'].values()) or num_allowed_minute[state['time']] <= 0:\n",
    "        return\n",
    "    if not state['valves_on'][position[1]]:\n",
    "        state2 = deepcopy(state)\n",
    "        position = deepcopy(position)\n",
    "        cameFrom = deepcopy(cameFrom)\n",
    "        state2['valves_on'][position[1]] = True\n",
    "        state2['pressure'] += state2['time'] * flow_dictionary[position[1]]\n",
    "        cameFrom[1] = \"\"\n",
    "        num_allowed_minute[state2['time']] -= 1\n",
    "        move(state2, position, cameFrom)\n",
    "        \n",
    "    for movement in get_best_routes(state, position[1]):\n",
    "        position = deepcopy(position)\n",
    "        cameFrom = deepcopy(cameFrom)\n",
    "        if not movement == cameFrom[1]:\n",
    "            state2 = deepcopy(state)\n",
    "            position[1] = movement\n",
    "            cameFrom[1] = position[0]\n",
    "            num_allowed_minute[state2['time']] -= 1\n",
    "            move(state2, position, position)\n",
    "    \n",
    "        \n",
    "move(state, [\"AA\",\"AA\"], [\"\", \"\"])        \n",
    "        \n",
    "max_pressure"
   ]
  },
  {
   "cell_type": "code",
   "execution_count": null,
   "id": "a5be230a",
   "metadata": {},
   "outputs": [],
   "source": [
    "1451 too low\n",
    "1705 too low"
   ]
  },
  {
   "cell_type": "code",
   "execution_count": 18,
   "id": "87185a7a",
   "metadata": {},
   "outputs": [],
   "source": [
    "def max_score(state, time):\n",
    "    state = deepcopy(state)\n",
    "    scores = []\n",
    "    for k,v in state['valves_on'].items():\n",
    "        if not v:\n",
    "            scores.append(flow_dictionary[k])\n",
    "    scores.sort()\n",
    "    scores = list(reversed(scores))\n",
    "    score = 0\n",
    "    if not len(scores) % 2 == 0:\n",
    "        scores.append(0)\n",
    "    for val1, val2 in zip(scores[::2], scores[1::2]):\n",
    "        if time <= 0:\n",
    "            break\n",
    "        time -= 1\n",
    "        score += time * val1\n",
    "        score += time * val2\n",
    "        time -= 1\n",
    "    return(score)"
   ]
  },
  {
   "cell_type": "code",
   "execution_count": 3,
   "id": "08c27e72",
   "metadata": {},
   "outputs": [
    {
     "data": {
      "text/plain": [
       "86"
      ]
     },
     "execution_count": 3,
     "metadata": {},
     "output_type": "execute_result"
    }
   ],
   "source": [
    "max_score(state, 3)"
   ]
  },
  {
   "cell_type": "code",
   "execution_count": 19,
   "id": "e2bce575",
   "metadata": {},
   "outputs": [],
   "source": [
    "import networkx as nx\n",
    "G = nx.Graph()\n",
    "\n",
    "\n",
    "# Add the nodes to the graph\n",
    "G.add_nodes_from(connected_dictionary.keys())\n",
    "\n",
    "# Add the edges to the graph\n",
    "for node, neighbors in connected_dictionary.items():\n",
    "    for neighbor in neighbors:\n",
    "        #print(neighbor)\n",
    "        G.add_edge(node, neighbor)\n",
    "\n",
    "# Print the graph\n",
    "#nx.draw(G)\n",
    "\n",
    "#routes = {k: v for k,v in nx.single_source_shortest_path(G, \"DD\").items() if not state['valves_on'][k]}\n",
    "def get_best_routes(state, pos):\n",
    "    routes = {k: [len(v), flow_dictionary[k], v[1]] for k,v in nx.single_source_shortest_path(G, pos).items() if not state['valves_on'][k] and len(v) > 1 }\n",
    "    #print(routes)\n",
    "    sorted_routes = [v[2] for k, v in sorted(routes.items(), key=lambda item: (item[1][0], -item[1][1]))]\n",
    "\n",
    "    # Print the sorted dictionary\n",
    "    #print(sorted_routes)\n",
    "    return sorted(set(sorted_routes), key=lambda x: sorted_routes.index(x))\n",
    "\n",
    "def get_best_routes_len(state, pos):\n",
    "    routes = {k: [len(v), flow_dictionary[k], v[1]] for k,v in nx.single_source_shortest_path(G, pos).items() if not state['valves_on'][k] and len(v) > 1 }\n",
    "    print(routes)\n",
    "    sorted_routes = [[v[2], v[0]] for k, v in sorted(routes.items(), key=lambda item: (item[1][0], -item[1][1]))]\n",
    "\n",
    "    # Print the sorted dictionary\n",
    "    print(sorted_routes)\n",
    "    return sorted(set(sorted_routes), key=lambda x: sorted_routes.index(x))\n",
    "            \n",
    "get_best_routes(state, \"AA\")\n",
    "\n",
    "node_dict = {x: i for i,x in enumerate(G.nodes())}\n",
    "distance_matrix = nx.floyd_warshall_numpy(G)\n",
    "def get_distance(n1, n2):\n",
    "    return int(distance_matrix[node_dict[n1], node_dict[n2]])\n",
    "#get_best_routes_len(state, \"AA\")"
   ]
  },
  {
   "cell_type": "code",
   "execution_count": 5,
   "id": "ecd57e6f",
   "metadata": {},
   "outputs": [
    {
     "data": {
      "text/plain": [
       "{'valves_on': {'AA': True,\n",
       "  'BB': False,\n",
       "  'CC': False,\n",
       "  'DD': False,\n",
       "  'EE': False,\n",
       "  'FF': True,\n",
       "  'GG': True,\n",
       "  'HH': False,\n",
       "  'II': True,\n",
       "  'JJ': False}}"
      ]
     },
     "execution_count": 5,
     "metadata": {},
     "output_type": "execute_result"
    }
   ],
   "source": [
    "state"
   ]
  },
  {
   "cell_type": "code",
   "execution_count": 73,
   "id": "ca60fada",
   "metadata": {},
   "outputs": [
    {
     "data": {
      "image/png": "[encoded data removed]",
      "text/plain": [
       "<Figure size 432x288 with 1 Axes>"
      ]
     },
     "metadata": {},
     "output_type": "display_data"
    }
   ],
   "source": [
    "nx.draw(G, with_labels=True)"
   ]
  },
  {
   "cell_type": "code",
   "execution_count": 76,
   "id": "541c4c41",
   "metadata": {},
   "outputs": [
    {
     "data": {
      "text/plain": [
       "22"
      ]
     },
     "execution_count": 76,
     "metadata": {},
     "output_type": "execute_result"
    }
   ],
   "source": [
    "get_distance(\"VG\", \"SC\")"
   ]
  },
  {
   "cell_type": "code",
   "execution_count": null,
   "id": "c1306ab5",
   "metadata": {},
   "outputs": [],
   "source": [
    "{'DD': [2, 20, 'DD'], 'BB': [2, 13, 'BB'], 'JJ': [3, 21, 'II'], 'EE': [3, 3, 'DD'], 'CC': [3, 2, 'DD'], 'HH': [6, 22, 'DD']}\n"
   ]
  },
  {
   "cell_type": "code",
   "execution_count": null,
   "id": "2c636b67",
   "metadata": {},
   "outputs": [],
   "source": [
    "import itertools as it\n",
    "#list(it.permutations('ABCD', 2))\n",
    "to_visit = [x for x in state['valves_on'].keys() if not state['valves_on'][x]]\n",
    "len(list(it.permutations(to_visit, len(to_visit))))"
   ]
  },
  {
   "cell_type": "code",
   "execution_count": 22,
   "id": "004a8940",
   "metadata": {},
   "outputs": [
    {
     "data": {
      "text/plain": [
       "array([[0., 3., 5., ..., 2., 3., 4.],\n",
       "       [3., 0., 5., ..., 2., 1., 4.],\n",
       "       [5., 5., 0., ..., 3., 4., 4.],\n",
       "       ...,\n",
       "       [2., 2., 3., ..., 0., 1., 2.],\n",
       "       [3., 1., 4., ..., 1., 0., 3.],\n",
       "       [4., 4., 4., ..., 2., 3., 0.]])"
      ]
     },
     "execution_count": 22,
     "metadata": {},
     "output_type": "execute_result"
    }
   ],
   "source": [
    "distance_matrix = nx.floyd_warshall_numpy(G)\n",
    "distance_matrix"
   ]
  },
  {
   "cell_type": "code",
   "execution_count": 42,
   "id": "8f7e7cac",
   "metadata": {},
   "outputs": [
    {
     "ename": "KeyError",
     "evalue": "'VR'",
     "output_type": "error",
     "traceback": [
      "\u001b[1;31m---------------------------------------------------------------------------\u001b[0m",
      "\u001b[1;31mKeyError\u001b[0m                                  Traceback (most recent call last)",
      "\u001b[1;32m~\\AppData\\Local\\Temp/ipykernel_14036/3150208848.py\u001b[0m in \u001b[0;36m<module>\u001b[1;34m\u001b[0m\n\u001b[0;32m      4\u001b[0m     \u001b[1;32mreturn\u001b[0m \u001b[0mint\u001b[0m\u001b[1;33m(\u001b[0m\u001b[0mdistance_matrix\u001b[0m\u001b[1;33m[\u001b[0m\u001b[0mnode_dict\u001b[0m\u001b[1;33m[\u001b[0m\u001b[0mn1\u001b[0m\u001b[1;33m]\u001b[0m\u001b[1;33m,\u001b[0m \u001b[0mnode_dict\u001b[0m\u001b[1;33m[\u001b[0m\u001b[0mn2\u001b[0m\u001b[1;33m]\u001b[0m\u001b[1;33m]\u001b[0m\u001b[1;33m)\u001b[0m\u001b[1;33m\u001b[0m\u001b[1;33m\u001b[0m\u001b[0m\n\u001b[0;32m      5\u001b[0m \u001b[1;33m\u001b[0m\u001b[0m\n\u001b[1;32m----> 6\u001b[1;33m \u001b[0mget_distance\u001b[0m\u001b[1;33m(\u001b[0m\u001b[1;34m\"VR\"\u001b[0m\u001b[1;33m,\u001b[0m \u001b[1;34m\"AA\"\u001b[0m\u001b[1;33m)\u001b[0m\u001b[1;33m\u001b[0m\u001b[1;33m\u001b[0m\u001b[0m\n\u001b[0m",
      "\u001b[1;32m~\\AppData\\Local\\Temp/ipykernel_14036/3150208848.py\u001b[0m in \u001b[0;36mget_distance\u001b[1;34m(n1, n2)\u001b[0m\n\u001b[0;32m      2\u001b[0m \u001b[0mdistance_matrix\u001b[0m \u001b[1;33m=\u001b[0m \u001b[0mnx\u001b[0m\u001b[1;33m.\u001b[0m\u001b[0mfloyd_warshall_numpy\u001b[0m\u001b[1;33m(\u001b[0m\u001b[0mG\u001b[0m\u001b[1;33m)\u001b[0m\u001b[1;33m\u001b[0m\u001b[1;33m\u001b[0m\u001b[0m\n\u001b[0;32m      3\u001b[0m \u001b[1;32mdef\u001b[0m \u001b[0mget_distance\u001b[0m\u001b[1;33m(\u001b[0m\u001b[0mn1\u001b[0m\u001b[1;33m,\u001b[0m \u001b[0mn2\u001b[0m\u001b[1;33m)\u001b[0m\u001b[1;33m:\u001b[0m\u001b[1;33m\u001b[0m\u001b[1;33m\u001b[0m\u001b[0m\n\u001b[1;32m----> 4\u001b[1;33m     \u001b[1;32mreturn\u001b[0m \u001b[0mint\u001b[0m\u001b[1;33m(\u001b[0m\u001b[0mdistance_matrix\u001b[0m\u001b[1;33m[\u001b[0m\u001b[0mnode_dict\u001b[0m\u001b[1;33m[\u001b[0m\u001b[0mn1\u001b[0m\u001b[1;33m]\u001b[0m\u001b[1;33m,\u001b[0m \u001b[0mnode_dict\u001b[0m\u001b[1;33m[\u001b[0m\u001b[0mn2\u001b[0m\u001b[1;33m]\u001b[0m\u001b[1;33m]\u001b[0m\u001b[1;33m)\u001b[0m\u001b[1;33m\u001b[0m\u001b[1;33m\u001b[0m\u001b[0m\n\u001b[0m\u001b[0;32m      5\u001b[0m \u001b[1;33m\u001b[0m\u001b[0m\n\u001b[0;32m      6\u001b[0m \u001b[0mget_distance\u001b[0m\u001b[1;33m(\u001b[0m\u001b[1;34m\"VR\"\u001b[0m\u001b[1;33m,\u001b[0m \u001b[1;34m\"AA\"\u001b[0m\u001b[1;33m)\u001b[0m\u001b[1;33m\u001b[0m\u001b[1;33m\u001b[0m\u001b[0m\n",
      "\u001b[1;31mKeyError\u001b[0m: 'VR'"
     ]
    }
   ],
   "source": [
    "node_dict = {x: i for i,x in enumerate(G.nodes())}\n",
    "distance_matrix = nx.floyd_warshall_numpy(G)\n",
    "def get_distance(n1, n2):\n",
    "    return int(distance_matrix[node_dict[n1], node_dict[n2]])\n",
    "\n",
    "get_distance(\"VR\", \"AA\")"
   ]
  },
  {
   "cell_type": "code",
   "execution_count": null,
   "id": "17d574d3",
   "metadata": {},
   "outputs": [
    {
     "name": "stdout",
     "output_type": "stream",
     "text": [
      "{0: 50000, 1: 50000, 2: 50000, 3: 50000, 4: 50000, 5: 50000, 6: 50000, 7: 50000, 8: 50000, 9: 50000, 10: 50000, 11: 50000, 12: 50000, 13: 50000, 14: 50000, 15: 50000, 16: 50000, 17: 50000, 18: 50000, 19: 50000, 20: 50000, 21: 50000, 22: 50000, 23: 50000, 24: 50000, 25: 50000, 26: 50000, 27: 50000, 28: 50000, 29: 50000, 30: 50000}\n",
      "1871\n",
      "1964\n",
      "1982\n",
      "1994\n",
      "1997\n",
      "2298\n",
      "2319\n",
      "2362\n",
      "2383\n",
      "2398\n",
      "2400\n",
      "2408\n"
     ]
    }
   ],
   "source": [
    "state['time'] = {}\n",
    "state['time']['man'] = 26\n",
    "state['time']['elephant'] = 26\n",
    "state['pressure'] = 0\n",
    "max_pressure = 0\n",
    "num_allowed_minute = {k: 50000  for k in range(0,31)}\n",
    "print(num_allowed_minute)\n",
    "def move(state, position):\n",
    "    global num_allowed_minute\n",
    "    #print(state['time'])\n",
    "    global max_pressure\n",
    "    state = deepcopy(state)\n",
    "    #or ((max_score(state, state['time']) + state['pressure']) <= max_pressure)\n",
    "    if all(i for i in state['valves_on'].values()): #or num_allowed_minute[state['time']] <= 0:\n",
    "        if state['pressure'] > max_pressure:\n",
    "            max_pressure = state['pressure']\n",
    "            print(max_pressure)\n",
    "        return\n",
    "    for possible_move in get_best_deluxe(state, position[0]):\n",
    "        state2 = deepcopy(state)\n",
    "        position2 = deepcopy(position)\n",
    "        state2['time']['man'] -= (get_distance(position2[0], possible_move) + 1)\n",
    "        if state2['time']['man'] <= 0:\n",
    "            continue\n",
    "        position2[0] = possible_move\n",
    "        state2['valves_on'][possible_move] = True\n",
    "        state2['pressure'] += state2['time']['man'] * flow_dictionary[possible_move]\n",
    "        \n",
    "        if state2['time']['man'] >= state2['time']['elephant']:\n",
    "            move(state2, position2)\n",
    "        if state2['time']['elephant'] >= state2['time']['man']:\n",
    "            elephant_move(state2, position2)\n",
    "    \n",
    "    if state['pressure'] > max_pressure:\n",
    "        max_pressure = state['pressure']\n",
    "        print(max_pressure)\n",
    "    \n",
    "            \n",
    "            \n",
    "def elephant_move(state, position):\n",
    "    global num_allowed_minute\n",
    "    global max_pressure\n",
    "    state = deepcopy(state)\n",
    "    if all(i for i in state['valves_on'].values()): #or num_allowed_minute[state['time']] <= 0:\n",
    "        if state['pressure'] > max_pressure:\n",
    "            max_pressure = state['pressure']\n",
    "            print(max_pressure)\n",
    "        return\n",
    "    for possible_move in get_best_deluxe(state, position[1]):\n",
    "        state2 = deepcopy(state)\n",
    "        position2 = deepcopy(position)\n",
    "        state2['time']['elephant'] -= (get_distance(position2[1], possible_move) + 1)\n",
    "        if state2['time']['elephant'] <= 0:\n",
    "            continue\n",
    "        position2[1] = possible_move\n",
    "        state2['valves_on'][possible_move] = True\n",
    "        state2['pressure'] += state2['time']['elephant'] * flow_dictionary[possible_move]\n",
    "        if state2['time']['man'] >= state2['time']['elephant']:\n",
    "            move(state2, position2)\n",
    "        if state2['time']['elephant'] >= state2['time']['man']:\n",
    "            elephant_move(state2, position2)\n",
    "            \n",
    "    if state['pressure'] > max_pressure:\n",
    "        max_pressure = state['pressure']\n",
    "        print(max_pressure)\n",
    "    \n",
    "        \n",
    "move(state, [\"AA\",\"AA\"])        \n",
    "        \n",
    "max_pressure"
   ]
  },
  {
   "cell_type": "code",
   "execution_count": 20,
   "id": "646b65a6",
   "metadata": {},
   "outputs": [],
   "source": [
    "def get_best_deluxe(state, position):\n",
    "    sorted_routes = [[get_distance(position, k), k, flow_dictionary[k]] for k,v in state['valves_on'].items() if not v]\n",
    "    sorted_routes = [x[1] for x in list(sorted(sorted_routes, key=lambda x: (x[0], x[2])))]\n",
    "    return(sorted_routes)\n",
    "    #sorted(set(sorted_routes), key=lambda x: sorted_routes.index(x))"
   ]
  },
  {
   "cell_type": "code",
   "execution_count": null,
   "id": "3f328f5e",
   "metadata": {},
   "outputs": [],
   "source": [
    "#2498 too low"
   ]
  }
 ],
 "metadata": {
  "kernelspec": {
   "display_name": "Python 3 (ipykernel)",
   "language": "python",
   "name": "python3"
  },
  "language_info": {
   "codemirror_mode": {
    "name": "ipython",
    "version": 3
   },
   "file_extension": ".py",
   "mimetype": "text/x-python",
   "name": "python",
   "nbconvert_exporter": "python",
   "pygments_lexer": "ipython3",
   "version": "3.9.7"
  }
 },
 "nbformat": 4,
 "nbformat_minor": 5
}
