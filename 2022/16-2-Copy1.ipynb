{
 "cells": [
  {
   "cell_type": "code",
   "execution_count": 44,
   "id": "promotional-brook",
   "metadata": {},
   "outputs": [
    {
     "name": "stdout",
     "output_type": "stream",
     "text": [
      "{'valves_on': {'VR': False, 'UV': True, 'OH': True, 'GD': True, 'NS': True, 'KZ': False, 'AH': True, 'SA': True, 'VK': True, 'GB': True, 'AJ': False, 'PJ': True, 'KO': True, 'AA': True, 'TW': True, 'VG': False, 'BP': True, 'XH': True, 'TX': True, 'IR': False, 'TU': True, 'KC': True, 'LN': True, 'HD': True, 'KE': True, 'VY': True, 'LH': True, 'EM': True, 'SO': False, 'EC': True, 'KV': True, 'FE': True, 'TI': True, 'SC': False, 'ZP': True, 'RO': False, 'ZR': True, 'JL': False, 'PW': False, 'UL': True, 'GN': True, 'TN': True, 'NV': True, 'DI': False, 'IC': True, 'JF': True, 'LE': True, 'BS': True, 'JD': False, 'SP': False, 'NY': True, 'OM': False, 'GH': True, 'RI': False}}\n",
      "{'VR': 11, 'UV': 0, 'OH': 0, 'GD': 0, 'NS': 0, 'KZ': 18, 'AH': 0, 'SA': 0, 'VK': 0, 'GB': 0, 'AJ': 6, 'PJ': 0, 'KO': 0, 'AA': 0, 'TW': 0, 'VG': 25, 'BP': 0, 'XH': 0, 'TX': 0, 'IR': 10, 'TU': 0, 'KC': 0, 'LN': 0, 'HD': 0, 'KE': 0, 'VY': 0, 'LH': 0, 'EM': 0, 'SO': 22, 'EC': 0, 'KV': 0, 'FE': 0, 'TI': 0, 'SC': 14, 'ZP': 0, 'RO': 19, 'ZR': 0, 'JL': 21, 'PW': 9, 'UL': 0, 'GN': 0, 'TN': 0, 'NV': 0, 'DI': 23, 'IC': 0, 'JF': 0, 'LE': 0, 'BS': 0, 'JD': 15, 'SP': 24, 'NY': 0, 'OM': 7, 'GH': 0, 'RI': 3}\n"
     ]
    },
    {
     "data": {
      "text/plain": [
       "{'VR': ['LH', 'KV', 'BP'],\n",
       " 'UV': ['GH', 'RO'],\n",
       " 'OH': ['AJ', 'NY'],\n",
       " 'GD': ['TX', 'PW'],\n",
       " 'NS': ['AJ', 'AA'],\n",
       " 'KZ': ['KO', 'VK', 'PJ'],\n",
       " 'AH': ['ZP', 'DI'],\n",
       " 'SA': ['VG', 'JF'],\n",
       " 'VK': ['RO', 'KZ'],\n",
       " 'GB': ['XH', 'AA'],\n",
       " 'AJ': ['IC', 'OH', 'ZR', 'NS', 'EM'],\n",
       " 'PJ': ['KZ', 'SP'],\n",
       " 'KO': ['KZ', 'LE'],\n",
       " 'AA': ['TW', 'GB', 'TI', 'NS', 'UL'],\n",
       " 'TW': ['TU', 'AA'],\n",
       " 'VG': ['SA'],\n",
       " 'BP': ['RO', 'VR'],\n",
       " 'XH': ['GB', 'RI'],\n",
       " 'TX': ['RI', 'GD'],\n",
       " 'IR': ['TN', 'NY', 'JF'],\n",
       " 'TU': ['JD', 'TW'],\n",
       " 'KC': ['SP', 'RO'],\n",
       " 'LN': ['EM', 'RI'],\n",
       " 'HD': ['FE', 'SC'],\n",
       " 'KE': ['OM', 'RI'],\n",
       " 'VY': ['PW', 'BS'],\n",
       " 'LH': ['OM', 'VR'],\n",
       " 'EM': ['AJ', 'LN'],\n",
       " 'SO': ['ZP', 'FE'],\n",
       " 'EC': ['OM', 'UL'],\n",
       " 'KV': ['SP', 'VR'],\n",
       " 'FE': ['SO', 'HD'],\n",
       " 'TI': ['AA', 'PW'],\n",
       " 'SC': ['HD'],\n",
       " 'ZP': ['SO', 'AH'],\n",
       " 'RO': ['UV', 'BP', 'VK', 'KC'],\n",
       " 'ZR': ['OM', 'AJ'],\n",
       " 'JL': ['GN', 'TN'],\n",
       " 'PW': ['TI', 'GN', 'VY', 'GD', 'IC'],\n",
       " 'UL': ['EC', 'AA'],\n",
       " 'GN': ['JL', 'PW'],\n",
       " 'TN': ['JL', 'IR'],\n",
       " 'NV': ['RI', 'JD'],\n",
       " 'DI': ['LE', 'AH'],\n",
       " 'IC': ['PW', 'AJ'],\n",
       " 'JF': ['SA', 'IR'],\n",
       " 'LE': ['DI', 'KO'],\n",
       " 'BS': ['JD', 'VY'],\n",
       " 'JD': ['NV', 'TU', 'BS'],\n",
       " 'SP': ['KC', 'KV', 'PJ'],\n",
       " 'NY': ['IR', 'OH'],\n",
       " 'OM': ['EC', 'GH', 'KE', 'ZR', 'LH'],\n",
       " 'GH': ['OM', 'UV'],\n",
       " 'RI': ['NV', 'KE', 'LN', 'XH', 'TX']}"
      ]
     },
     "execution_count": 44,
     "metadata": {},
     "output_type": "execute_result"
    }
   ],
   "source": [
    "import helpers\n",
    "import numpy as np\n",
    "import math\n",
    "import re\n",
    "from copy import deepcopy\n",
    "\n",
    "data = \"\"\"Valve AA has flow rate=0; tunnels lead to valves DD, II, BB\n",
    "Valve BB has flow rate=13; tunnels lead to valves CC, AA\n",
    "Valve CC has flow rate=2; tunnels lead to valves DD, BB\n",
    "Valve DD has flow rate=20; tunnels lead to valves CC, AA, EE\n",
    "Valve EE has flow rate=3; tunnels lead to valves FF, DD\n",
    "Valve FF has flow rate=0; tunnels lead to valves EE, GG\n",
    "Valve GG has flow rate=0; tunnels lead to valves FF, HH\n",
    "Valve HH has flow rate=22; tunnel leads to valve GG\n",
    "Valve II has flow rate=0; tunnels lead to valves AA, JJ\n",
    "Valve JJ has flow rate=21; tunnel leads to valve II\"\"\"\n",
    "with open(\"input_16.txt\", 'r') as f:\n",
    "    data = f.read().rstrip()\n",
    "    \n",
    "#changeDict = {\"forward\": np.array([1,0]), \"down\": np.array([0,1]), \"up\": np.array([0,-1])}\n",
    "#data = [changeDict[x.split(\" \")[0]] * int(x.split(\" \")[1]) for x in data.split(\"\\n\") if x]\n",
    "#data = [x.split('\\n') for x in data.split('\\n\\n') if x]\n",
    "#np.prod(sum(data))    \n",
    "state = {}\n",
    "flow_dictionary = {}\n",
    "connected_dictionary = {}\n",
    "state['valves_on'] = {}\n",
    "for line in data.split('\\n'):\n",
    "    valves = line.split('valve')[1].replace(',', '')\n",
    "    valves = [x for x in valves.split(' ') if len(x) > 1]\n",
    "    split_line = line.split(' ')\n",
    "    valve = split_line[1]\n",
    "    flow = int(split_line[4].replace(';', '').split('=')[1])\n",
    "    flow_dictionary[valve] = flow\n",
    "    connected_dictionary[valve] = valves\n",
    "    if flow == 0:\n",
    "        state['valves_on'][valve] = True\n",
    "    else:\n",
    "        state['valves_on'][valve] = False\n",
    "print(state)  \n",
    "print(flow_dictionary)\n",
    "connected_dictionary\n",
    "    "
   ]
  },
  {
   "cell_type": "code",
   "execution_count": null,
   "id": "e6d41e66",
   "metadata": {},
   "outputs": [
    {
     "name": "stdout",
     "output_type": "stream",
     "text": [
      "1350\n",
      "1364\n",
      "1373\n",
      "1404\n",
      "1423\n",
      "1437\n",
      "1446\n",
      "1448\n",
      "1451\n",
      "1521\n",
      "1533\n",
      "1537\n",
      "1546\n",
      "1550\n",
      "1555\n",
      "1560\n",
      "1563\n",
      "1566\n",
      "1567\n",
      "1655\n",
      "1665\n",
      "1673\n",
      "1674\n",
      "1676\n",
      "1677\n",
      "1679\n",
      "1682\n",
      "1687\n",
      "1697\n",
      "1705\n"
     ]
    }
   ],
   "source": [
    "state['time'] = 26\n",
    "state['pressure'] = 0\n",
    "max_pressure = 0\n",
    "\n",
    "def move(state, position, cameFrom):\n",
    "    #print(state['time'])\n",
    "    global max_pressure\n",
    "    state = deepcopy(state)\n",
    "    if state['time'] == 0 or all(i for i in state['valves_on'].values()) or ((max_score(state, state['time']) + state['pressure']) <= max_pressure):\n",
    "        if state['pressure'] > max_pressure:\n",
    "            max_pressure = state['pressure']\n",
    "            print(max_pressure)\n",
    "        return\n",
    "    \n",
    "    if not state['valves_on'][position[0]]:\n",
    "        state2 = deepcopy(state)\n",
    "        position = deepcopy(position)\n",
    "        #print(position)\n",
    "        cameFrom = deepcopy(cameFrom)\n",
    "        state2['valves_on'][position[0]] = True\n",
    "        state2['time'] -= 1\n",
    "        state2['pressure'] += state2['time'] * flow_dictionary[position[0]]\n",
    "        cameFrom[0] = \"\"\n",
    "        elephant_move(state2, position, cameFrom)\n",
    "    for movement in get_best_routes(state, position[0]):\n",
    "        position = deepcopy(position)\n",
    "        cameFrom = deepcopy(cameFrom)\n",
    "        if not movement == cameFrom[0]:\n",
    "            state2 = deepcopy(state)\n",
    "            state2['time'] -= 1\n",
    "            position[0] = movement\n",
    "            cameFrom[0] = position[0]\n",
    "            elephant_move(state2, position, position)\n",
    "            \n",
    "            \n",
    "def elephant_move(state, position, cameFrom):\n",
    "    state = deepcopy(state)\n",
    "    if all(i for i in state['valves_on'].values()):\n",
    "        return\n",
    "    if not state['valves_on'][position[1]]:\n",
    "        state2 = deepcopy(state)\n",
    "        position = deepcopy(position)\n",
    "        cameFrom = deepcopy(cameFrom)\n",
    "        state2['valves_on'][position[1]] = True\n",
    "        state2['pressure'] += state2['time'] * flow_dictionary[position[1]]\n",
    "        cameFrom[1] = \"\"\n",
    "        move(state2, position, cameFrom)\n",
    "        \n",
    "    for movement in get_best_routes(state, position[1]):\n",
    "        position = deepcopy(position)\n",
    "        cameFrom = deepcopy(cameFrom)\n",
    "        if not movement == cameFrom[1]:\n",
    "            state2 = deepcopy(state)\n",
    "            position[1] = movement\n",
    "            cameFrom[1] = position[0]\n",
    "            move(state2, position, position)\n",
    "    \n",
    "        \n",
    "move(state, [\"AA\",\"AA\"], [\"\", \"\"])        \n",
    "        \n",
    "max_pressure"
   ]
  },
  {
   "cell_type": "code",
   "execution_count": null,
   "id": "a5be230a",
   "metadata": {},
   "outputs": [],
   "source": [
    "1451 too low\n",
    "1705 too low"
   ]
  },
  {
   "cell_type": "code",
   "execution_count": 42,
   "id": "87185a7a",
   "metadata": {},
   "outputs": [],
   "source": [
    "def max_score(state, time):\n",
    "    scores = []\n",
    "    for k,v in state['valves_on'].items():\n",
    "        if not v:\n",
    "            scores.append(flow_dictionary[k])\n",
    "    scores.sort()\n",
    "    scores = list(reversed(scores))\n",
    "    score = 0\n",
    "    if not len(scores) % 2 == 0:\n",
    "        scores.append(0)\n",
    "    for val1, val2 in zip(scores[::2], scores[1::2]):\n",
    "        if time <= 0:\n",
    "            break\n",
    "        time -= 1\n",
    "        score += time * val1\n",
    "        score += time * val2\n",
    "        time -= 1\n",
    "    return(score)"
   ]
  },
  {
   "cell_type": "code",
   "execution_count": 29,
   "id": "08c27e72",
   "metadata": {},
   "outputs": [
    {
     "data": {
      "text/plain": [
       "86"
      ]
     },
     "execution_count": 29,
     "metadata": {},
     "output_type": "execute_result"
    }
   ],
   "source": [
    "max_score(state, 3)"
   ]
  },
  {
   "cell_type": "code",
   "execution_count": 51,
   "id": "36ec959f",
   "metadata": {},
   "outputs": [],
   "source": [
    "import networkx as nx\n",
    "G = nx.Graph()\n",
    "\n",
    "\n",
    "# Add the nodes to the graph\n",
    "G.add_nodes_from(connected_dictionary.keys())\n",
    "\n",
    "# Add the edges to the graph\n",
    "for node, neighbors in connected_dictionary.items():\n",
    "    for neighbor in neighbors:\n",
    "        #print(neighbor)\n",
    "        G.add_edge(node, neighbor)\n",
    "\n",
    "# Print the graph\n",
    "#nx.draw(G)\n",
    "\n",
    "#routes = {k: v for k,v in nx.single_source_shortest_path(G, \"DD\").items() if not state['valves_on'][k]}\n"
   ]
  },
  {
   "cell_type": "code",
   "execution_count": 54,
   "id": "08a92148",
   "metadata": {},
   "outputs": [
    {
     "data": {
      "text/plain": [
       "['TI', 'NS', 'TW', 'UL', 'GB']"
      ]
     },
     "execution_count": 54,
     "metadata": {},
     "output_type": "execute_result"
    }
   ],
   "source": [
    "\n",
    "def get_best_routes(state, pos):\n",
    "    routes = {k: [len(v), flow_dictionary[k], v[1]] for k,v in nx.single_source_shortest_path(G, pos).items() if not state['valves_on'][k] and len(v) > 1 }\n",
    "    #print(routes)\n",
    "    sorted_routes = [v[2] for k, v in sorted(routes.items(), key=lambda item: (item[1][0], -item[1][1]))]\n",
    "\n",
    "    # Print the sorted dictionary\n",
    "    #print(sorted_routes)\n",
    "    return sorted(set(sorted_routes), key=lambda x: sorted_routes.index(x))\n",
    "            \n",
    "get_best_routes(state, \"AA\")"
   ]
  },
  {
   "cell_type": "code",
   "execution_count": 49,
   "id": "fad16d8f",
   "metadata": {},
   "outputs": [
    {
     "data": {
      "text/plain": [
       "{'valves_on': {'VR': False,\n",
       "  'UV': True,\n",
       "  'OH': True,\n",
       "  'GD': True,\n",
       "  'NS': True,\n",
       "  'KZ': False,\n",
       "  'AH': True,\n",
       "  'SA': True,\n",
       "  'VK': True,\n",
       "  'GB': True,\n",
       "  'AJ': False,\n",
       "  'PJ': True,\n",
       "  'KO': True,\n",
       "  'AA': True,\n",
       "  'TW': True,\n",
       "  'VG': False,\n",
       "  'BP': True,\n",
       "  'XH': True,\n",
       "  'TX': True,\n",
       "  'IR': False,\n",
       "  'TU': True,\n",
       "  'KC': True,\n",
       "  'LN': True,\n",
       "  'HD': True,\n",
       "  'KE': True,\n",
       "  'VY': True,\n",
       "  'LH': True,\n",
       "  'EM': True,\n",
       "  'SO': False,\n",
       "  'EC': True,\n",
       "  'KV': True,\n",
       "  'FE': True,\n",
       "  'TI': True,\n",
       "  'SC': False,\n",
       "  'ZP': True,\n",
       "  'RO': False,\n",
       "  'ZR': True,\n",
       "  'JL': False,\n",
       "  'PW': False,\n",
       "  'UL': True,\n",
       "  'GN': True,\n",
       "  'TN': True,\n",
       "  'NV': True,\n",
       "  'DI': False,\n",
       "  'IC': True,\n",
       "  'JF': True,\n",
       "  'LE': True,\n",
       "  'BS': True,\n",
       "  'JD': False,\n",
       "  'SP': False,\n",
       "  'NY': True,\n",
       "  'OM': False,\n",
       "  'GH': True,\n",
       "  'RI': False},\n",
       " 'time': 26,\n",
       " 'pressure': 0}"
      ]
     },
     "execution_count": 49,
     "metadata": {},
     "output_type": "execute_result"
    }
   ],
   "source": [
    "state"
   ]
  },
  {
   "cell_type": "code",
   "execution_count": 18,
   "id": "95ec2cf3",
   "metadata": {},
   "outputs": [
    {
     "data": {
      "image/png": "[encoded data removed]",
      "text/plain": [
       "<Figure size 432x288 with 1 Axes>"
      ]
     },
     "metadata": {},
     "output_type": "display_data"
    }
   ],
   "source": [
    "nx.draw(G)"
   ]
  },
  {
   "cell_type": "code",
   "execution_count": null,
   "id": "62d3ac23",
   "metadata": {},
   "outputs": [],
   "source": [
    "{'DD': [2, 20, 'DD'], 'BB': [2, 13, 'BB'], 'JJ': [3, 21, 'II'], 'EE': [3, 3, 'DD'], 'CC': [3, 2, 'DD'], 'HH': [6, 22, 'DD']}\n"
   ]
  }
 ],
 "metadata": {
  "kernelspec": {
   "display_name": "Python 3 (ipykernel)",
   "language": "python",
   "name": "python3"
  },
  "language_info": {
   "codemirror_mode": {
    "name": "ipython",
    "version": 3
   },
   "file_extension": ".py",
   "mimetype": "text/x-python",
   "name": "python",
   "nbconvert_exporter": "python",
   "pygments_lexer": "ipython3",
   "version": "3.9.7"
  }
 },
 "nbformat": 4,
 "nbformat_minor": 5
}
