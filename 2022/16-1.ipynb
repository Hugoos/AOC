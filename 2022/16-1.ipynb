{
 "cells": [
  {
   "cell_type": "code",
   "execution_count": 58,
   "id": "promotional-brook",
   "metadata": {},
   "outputs": [
    {
     "name": "stdout",
     "output_type": "stream",
     "text": [
      "{'valves_on': {'VR': False, 'UV': True, 'OH': True, 'GD': True, 'NS': True, 'KZ': False, 'AH': True, 'SA': True, 'VK': True, 'GB': True, 'AJ': False, 'PJ': True, 'KO': True, 'AA': True, 'TW': True, 'VG': False, 'BP': True, 'XH': True, 'TX': True, 'IR': False, 'TU': True, 'KC': True, 'LN': True, 'HD': True, 'KE': True, 'VY': True, 'LH': True, 'EM': True, 'SO': False, 'EC': True, 'KV': True, 'FE': True, 'TI': True, 'SC': False, 'ZP': True, 'RO': False, 'ZR': True, 'JL': False, 'PW': False, 'UL': True, 'GN': True, 'TN': True, 'NV': True, 'DI': False, 'IC': True, 'JF': True, 'LE': True, 'BS': True, 'JD': False, 'SP': False, 'NY': True, 'OM': False, 'GH': True, 'RI': False}}\n",
      "{'VR': 11, 'UV': 0, 'OH': 0, 'GD': 0, 'NS': 0, 'KZ': 18, 'AH': 0, 'SA': 0, 'VK': 0, 'GB': 0, 'AJ': 6, 'PJ': 0, 'KO': 0, 'AA': 0, 'TW': 0, 'VG': 25, 'BP': 0, 'XH': 0, 'TX': 0, 'IR': 10, 'TU': 0, 'KC': 0, 'LN': 0, 'HD': 0, 'KE': 0, 'VY': 0, 'LH': 0, 'EM': 0, 'SO': 22, 'EC': 0, 'KV': 0, 'FE': 0, 'TI': 0, 'SC': 14, 'ZP': 0, 'RO': 19, 'ZR': 0, 'JL': 21, 'PW': 9, 'UL': 0, 'GN': 0, 'TN': 0, 'NV': 0, 'DI': 23, 'IC': 0, 'JF': 0, 'LE': 0, 'BS': 0, 'JD': 15, 'SP': 24, 'NY': 0, 'OM': 7, 'GH': 0, 'RI': 3}\n"
     ]
    },
    {
     "data": {
      "text/plain": [
       "{'VR': ['LH', 'KV', 'BP'],\n",
       " 'UV': ['GH', 'RO'],\n",
       " 'OH': ['AJ', 'NY'],\n",
       " 'GD': ['TX', 'PW'],\n",
       " 'NS': ['AJ', 'AA'],\n",
       " 'KZ': ['KO', 'VK', 'PJ'],\n",
       " 'AH': ['ZP', 'DI'],\n",
       " 'SA': ['VG', 'JF'],\n",
       " 'VK': ['RO', 'KZ'],\n",
       " 'GB': ['XH', 'AA'],\n",
       " 'AJ': ['IC', 'OH', 'ZR', 'NS', 'EM'],\n",
       " 'PJ': ['KZ', 'SP'],\n",
       " 'KO': ['KZ', 'LE'],\n",
       " 'AA': ['TW', 'GB', 'TI', 'NS', 'UL'],\n",
       " 'TW': ['TU', 'AA'],\n",
       " 'VG': ['SA'],\n",
       " 'BP': ['RO', 'VR'],\n",
       " 'XH': ['GB', 'RI'],\n",
       " 'TX': ['RI', 'GD'],\n",
       " 'IR': ['TN', 'NY', 'JF'],\n",
       " 'TU': ['JD', 'TW'],\n",
       " 'KC': ['SP', 'RO'],\n",
       " 'LN': ['EM', 'RI'],\n",
       " 'HD': ['FE', 'SC'],\n",
       " 'KE': ['OM', 'RI'],\n",
       " 'VY': ['PW', 'BS'],\n",
       " 'LH': ['OM', 'VR'],\n",
       " 'EM': ['AJ', 'LN'],\n",
       " 'SO': ['ZP', 'FE'],\n",
       " 'EC': ['OM', 'UL'],\n",
       " 'KV': ['SP', 'VR'],\n",
       " 'FE': ['SO', 'HD'],\n",
       " 'TI': ['AA', 'PW'],\n",
       " 'SC': ['HD'],\n",
       " 'ZP': ['SO', 'AH'],\n",
       " 'RO': ['UV', 'BP', 'VK', 'KC'],\n",
       " 'ZR': ['OM', 'AJ'],\n",
       " 'JL': ['GN', 'TN'],\n",
       " 'PW': ['TI', 'GN', 'VY', 'GD', 'IC'],\n",
       " 'UL': ['EC', 'AA'],\n",
       " 'GN': ['JL', 'PW'],\n",
       " 'TN': ['JL', 'IR'],\n",
       " 'NV': ['RI', 'JD'],\n",
       " 'DI': ['LE', 'AH'],\n",
       " 'IC': ['PW', 'AJ'],\n",
       " 'JF': ['SA', 'IR'],\n",
       " 'LE': ['DI', 'KO'],\n",
       " 'BS': ['JD', 'VY'],\n",
       " 'JD': ['NV', 'TU', 'BS'],\n",
       " 'SP': ['KC', 'KV', 'PJ'],\n",
       " 'NY': ['IR', 'OH'],\n",
       " 'OM': ['EC', 'GH', 'KE', 'ZR', 'LH'],\n",
       " 'GH': ['OM', 'UV'],\n",
       " 'RI': ['NV', 'KE', 'LN', 'XH', 'TX']}"
      ]
     },
     "execution_count": 58,
     "metadata": {},
     "output_type": "execute_result"
    }
   ],
   "source": [
    "import helpers\n",
    "import numpy as np\n",
    "import math\n",
    "import re\n",
    "from copy import deepcopy\n",
    "\n",
    "data = \"\"\"Valve AA has flow rate=0; tunnels lead to valves DD, II, BB\n",
    "Valve BB has flow rate=13; tunnels lead to valves CC, AA\n",
    "Valve CC has flow rate=2; tunnels lead to valves DD, BB\n",
    "Valve DD has flow rate=20; tunnels lead to valves CC, AA, EE\n",
    "Valve EE has flow rate=3; tunnels lead to valves FF, DD\n",
    "Valve FF has flow rate=0; tunnels lead to valves EE, GG\n",
    "Valve GG has flow rate=0; tunnels lead to valves FF, HH\n",
    "Valve HH has flow rate=22; tunnel leads to valve GG\n",
    "Valve II has flow rate=0; tunnels lead to valves AA, JJ\n",
    "Valve JJ has flow rate=21; tunnel leads to valve II\"\"\"\n",
    "with open(\"input_16.txt\", 'r') as f:\n",
    "    data = f.read().rstrip()\n",
    "    \n",
    "#changeDict = {\"forward\": np.array([1,0]), \"down\": np.array([0,1]), \"up\": np.array([0,-1])}\n",
    "#data = [changeDict[x.split(\" \")[0]] * int(x.split(\" \")[1]) for x in data.split(\"\\n\") if x]\n",
    "#data = [x.split('\\n') for x in data.split('\\n\\n') if x]\n",
    "#np.prod(sum(data))    \n",
    "state = {}\n",
    "flow_dictionary = {}\n",
    "connected_dictionary = {}\n",
    "state['valves_on'] = {}\n",
    "for line in data.split('\\n'):\n",
    "    valves = line.split('valve')[1].replace(',', '')\n",
    "    valves = [x for x in valves.split(' ') if len(x) > 1]\n",
    "    split_line = line.split(' ')\n",
    "    valve = split_line[1]\n",
    "    flow = int(split_line[4].replace(';', '').split('=')[1])\n",
    "    flow_dictionary[valve] = flow\n",
    "    connected_dictionary[valve] = valves\n",
    "    if flow == 0:\n",
    "        state['valves_on'][valve] = True\n",
    "    else:\n",
    "        state['valves_on'][valve] = False\n",
    "print(state)  \n",
    "print(flow_dictionary)\n",
    "connected_dictionary\n",
    "    "
   ]
  },
  {
   "cell_type": "code",
   "execution_count": 59,
   "id": "e6d41e66",
   "metadata": {},
   "outputs": [
    {
     "name": "stdout",
     "output_type": "stream",
     "text": [
      "459\n",
      "468\n",
      "487\n",
      "493\n",
      "498\n",
      "522\n",
      "534\n",
      "606\n",
      "616\n",
      "666\n",
      "672\n",
      "696\n",
      "707\n",
      "717\n",
      "750\n",
      "798\n",
      "808\n",
      "833\n",
      "837\n",
      "851\n",
      "860\n",
      "876\n",
      "886\n",
      "890\n",
      "918\n",
      "927\n",
      "936\n",
      "948\n",
      "966\n",
      "980\n",
      "1061\n",
      "1086\n",
      "1097\n",
      "1191\n",
      "1217\n",
      "1253\n",
      "1286\n",
      "1298\n",
      "1304\n",
      "1399\n",
      "1481\n",
      "1533\n",
      "1577\n",
      "1621\n",
      "1622\n",
      "1658\n",
      "1732\n",
      "1760\n",
      "1766\n",
      "1796\n",
      "1852\n",
      "1880\n"
     ]
    },
    {
     "data": {
      "text/plain": [
       "1880"
      ]
     },
     "execution_count": 59,
     "metadata": {},
     "output_type": "execute_result"
    }
   ],
   "source": [
    "state['time'] = 30\n",
    "state['pressure'] = 0\n",
    "max_pressure = 0\n",
    "\n",
    "def move(state, position, cameFrom):\n",
    "    #print(state['time'])\n",
    "    global max_pressure\n",
    "    state = deepcopy(state)\n",
    "    if state['time'] == 0 or all(i for i in state['valves_on'].values()) or ((max_score(state, state['time']) + state['pressure']) <= max_pressure):\n",
    "        if state['pressure'] > max_pressure:\n",
    "            max_pressure = state['pressure']\n",
    "            print(max_pressure)\n",
    "        return\n",
    "    \n",
    "    if not state['valves_on'][position]:\n",
    "        state2 = deepcopy(state)\n",
    "        state2['valves_on'][position] = True\n",
    "        state2['time'] -= 1\n",
    "        state2['pressure'] += state2['time'] * flow_dictionary[position]\n",
    "        move(state2, position, \"\")\n",
    "        \n",
    "    for movement in connected_dictionary[position]:\n",
    "        if not movement == cameFrom:\n",
    "            state2 = deepcopy(state)\n",
    "            state2['time'] -= 1\n",
    "            move(state2, movement, position)\n",
    "    \n",
    "    \n",
    "        \n",
    "move(state, \"AA\", \"\")        \n",
    "        \n",
    "max_pressure"
   ]
  },
  {
   "cell_type": "code",
   "execution_count": null,
   "id": "a5be230a",
   "metadata": {},
   "outputs": [],
   "source": [
    "1577 too low"
   ]
  },
  {
   "cell_type": "code",
   "execution_count": 25,
   "id": "e2d4b51b",
   "metadata": {},
   "outputs": [
    {
     "data": {
      "text/plain": [
       "True"
      ]
     },
     "execution_count": 25,
     "metadata": {},
     "output_type": "execute_result"
    }
   ],
   "source": [
    "all(i for i in state['valves_on'].values())"
   ]
  },
  {
   "cell_type": "code",
   "execution_count": 43,
   "id": "87185a7a",
   "metadata": {},
   "outputs": [],
   "source": [
    "def max_score(state, time):\n",
    "    scores = []\n",
    "    for k,v in state['valves_on'].items():\n",
    "        if not v:\n",
    "            scores.append(flow_dictionary[k])\n",
    "    scores.sort()\n",
    "    scores = reversed(scores)\n",
    "    score = 0\n",
    "    for val in scores:\n",
    "        if time <= 0:\n",
    "            break\n",
    "        time -= 1\n",
    "        score += time * val\n",
    "        time -= 1\n",
    "    return(score)"
   ]
  },
  {
   "cell_type": "code",
   "execution_count": 55,
   "id": "08c27e72",
   "metadata": {},
   "outputs": [
    {
     "data": {
      "text/plain": [
       "487"
      ]
     },
     "execution_count": 55,
     "metadata": {},
     "output_type": "execute_result"
    }
   ],
   "source": [
    "max_score(state, 10)"
   ]
  },
  {
   "cell_type": "code",
   "execution_count": null,
   "id": "00cefb6f",
   "metadata": {},
   "outputs": [],
   "source": []
  }
 ],
 "metadata": {
  "kernelspec": {
   "display_name": "Python 3 (ipykernel)",
   "language": "python",
   "name": "python3"
  },
  "language_info": {
   "codemirror_mode": {
    "name": "ipython",
    "version": 3
   },
   "file_extension": ".py",
   "mimetype": "text/x-python",
   "name": "python",
   "nbconvert_exporter": "python",
   "pygments_lexer": "ipython3",
   "version": "3.9.7"
  }
 },
 "nbformat": 4,
 "nbformat_minor": 5
}
