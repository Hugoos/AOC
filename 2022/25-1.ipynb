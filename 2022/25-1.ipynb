{
 "cells": [
  {
   "cell_type": "code",
   "execution_count": 5,
   "id": "promotional-brook",
   "metadata": {},
   "outputs": [
    {
     "data": {
      "text/plain": [
       "['21-2-0=1-',\n",
       " '2-11220-==01==2',\n",
       " '1-2200=1=0--',\n",
       " '1-10--22=-=-2',\n",
       " '21120',\n",
       " '1=0==',\n",
       " '10=022',\n",
       " '222--0=10202-0=2',\n",
       " '1=01==1',\n",
       " '1021',\n",
       " '20--221-222000',\n",
       " '12-1=02--0221=-1',\n",
       " '11-=-1===2-',\n",
       " '1-101-=',\n",
       " '11-21100-===0=-',\n",
       " '1-',\n",
       " '2-=',\n",
       " '1=0=-0',\n",
       " '10011001=0',\n",
       " '2--',\n",
       " '2120=202121',\n",
       " '1=0',\n",
       " '10==-',\n",
       " '22=02102=2-',\n",
       " '11=0-',\n",
       " '1==0-1-1=0',\n",
       " '21===-=-0',\n",
       " '11220-=2-=20=201',\n",
       " '2=001',\n",
       " '1=20--=-',\n",
       " '1===00',\n",
       " '12-22012012-21=',\n",
       " '2=--=20-111=-',\n",
       " '221',\n",
       " '12=0-=-=',\n",
       " '2---102',\n",
       " '1=1',\n",
       " '202011021=',\n",
       " '21=0-0=--1102-1-',\n",
       " '1=--2102220-2==221=',\n",
       " '1=10021-=21',\n",
       " '11=2=202120021-=11',\n",
       " '1-1012=122=',\n",
       " '12-01=0=1=0-11=0--',\n",
       " '100-20=1=-',\n",
       " '110=0-',\n",
       " '1=-102',\n",
       " '2-221=2--010-01',\n",
       " '12-01220',\n",
       " '10--10====1-20=-00',\n",
       " '110',\n",
       " '1=00==22',\n",
       " '212-1-222010=2==2=1',\n",
       " '1=011=1=0',\n",
       " '1-0',\n",
       " '1-11221=000-=200221',\n",
       " '221-00=2=-1-',\n",
       " '122=1=2',\n",
       " '101',\n",
       " '1==2=11=-10',\n",
       " '220-1--=21=2-02==',\n",
       " '21--02--0-==1',\n",
       " '1==0=11012',\n",
       " '122',\n",
       " '1000=20=0012',\n",
       " '22-=0-011110=',\n",
       " '2=21-1-20212--=',\n",
       " '1-=202010',\n",
       " '1-0=-===21-100',\n",
       " '1-22--21',\n",
       " '1-12011122=02=-21',\n",
       " '1-01-2=1000-01=21-',\n",
       " '12-1-1=1=-=01=-1=',\n",
       " '202',\n",
       " '1==-1-00',\n",
       " '1201--=-=-',\n",
       " '1=-1--==1122=2=12',\n",
       " '201020',\n",
       " '1=-11-0111-00-2',\n",
       " '10==1==-1=2',\n",
       " '120=1002-00122',\n",
       " '1=12',\n",
       " '2122110',\n",
       " '1112-10=12==',\n",
       " '1=02--0-=',\n",
       " '2-0021-==112=10=',\n",
       " '2212-022-==10==',\n",
       " '1001200-1-=',\n",
       " '2=000-=00--11',\n",
       " '1==0122120',\n",
       " '1=1==-=2210-',\n",
       " '1-02===012',\n",
       " '12-21-11-1-10',\n",
       " '2=10==-=11=-',\n",
       " '22---2=2012-22100',\n",
       " '1=-0=--',\n",
       " '1=20--2=1212===12=',\n",
       " '1=',\n",
       " '2-',\n",
       " '1-=2=2-00211-2=0',\n",
       " '1=222---02=00211-',\n",
       " '112==10',\n",
       " '2-0=101-10=02',\n",
       " '11212101-',\n",
       " '10-=',\n",
       " '1=01=2=011=--0',\n",
       " '21=0-10==22-201',\n",
       " '1-20=-1=121-',\n",
       " '120=',\n",
       " '1-=01=-1-',\n",
       " '11--1-11=0=221',\n",
       " '1-=120==',\n",
       " '20--002=',\n",
       " '12--22',\n",
       " '200-=',\n",
       " '1=1--21=111=--=011-1',\n",
       " '12011=0=--11',\n",
       " '1-2',\n",
       " '121==1',\n",
       " '10220-==-']"
      ]
     },
     "execution_count": 5,
     "metadata": {},
     "output_type": "execute_result"
    }
   ],
   "source": [
    "import helpers\n",
    "import numpy as np\n",
    "import math\n",
    "import re\n",
    "from copy import deepcopy\n",
    "\n",
    "data = \"\"\"1=-0-2\n",
    "12111\n",
    "2=0=\n",
    "21\n",
    "2=01\n",
    "111\n",
    "20012\n",
    "112\n",
    "1=-1=\n",
    "1-12\n",
    "12\n",
    "1=\n",
    "122\"\"\"\n",
    "\n",
    "\n",
    "with open(\"input_25.txt\", 'r') as f:\n",
    "    data = f.read().rstrip()\n",
    "\n",
    "   \n",
    "data = data.split('\\n')\n",
    "data"
   ]
  },
  {
   "cell_type": "code",
   "execution_count": 6,
   "id": "2f5f017c",
   "metadata": {},
   "outputs": [
    {
     "name": "stdout",
     "output_type": "stream",
     "text": [
      "976\n"
     ]
    },
    {
     "data": {
      "text/plain": [
       "976"
      ]
     },
     "execution_count": 6,
     "metadata": {},
     "output_type": "execute_result"
    }
   ],
   "source": [
    "translation = {\"2\": 2, \"1\": 1, \"0\": 0, \"-\": -1, \"=\": -2}\n",
    "test = \"2=-01\"\n",
    "def SNAFU_2_decimal(num):\n",
    "    dec = 0\n",
    "    for i, val in enumerate(reversed(num)):\n",
    "        dec += translation[val] * 5**i\n",
    "        #print(dec)\n",
    "    print(dec)\n",
    "    return dec\n",
    "SNAFU_2_decimal(test)"
   ]
  },
  {
   "cell_type": "code",
   "execution_count": 87,
   "id": "2fd69403",
   "metadata": {},
   "outputs": [
    {
     "name": "stdout",
     "output_type": "stream",
     "text": [
      "849329\n",
      "11302618817\n",
      "43744119\n",
      "204645447\n",
      "1410\n",
      "363\n",
      "2887\n",
      "75387141742\n",
      "9441\n",
      "136\n",
      "2387570250\n",
      "41653835696\n",
      "11157834\n",
      "13143\n",
      "7189429739\n",
      "4\n",
      "43\n",
      "1820\n",
      "1971890\n",
      "44\n",
      "22240911\n",
      "15\n",
      "564\n",
      "22690834\n",
      "699\n",
      "1013015\n",
      "820445\n",
      "39537787301\n",
      "1001\n",
      "52964\n",
      "1575\n",
      "8418519928\n",
      "378278889\n",
      "61\n",
      "102943\n",
      "27402\n",
      "16\n",
      "4066303\n",
      "64644081479\n",
      "2119261664678\n",
      "6256711\n",
      "864768366081\n",
      "8223933\n",
      "1038311706619\n",
      "1943514\n",
      "3699\n",
      "1777\n",
      "11578813101\n",
      "106435\n",
      "727417255975\n",
      "30\n",
      "46587\n",
      "8672480832916\n",
      "237890\n",
      "20\n",
      "3249658100061\n",
      "118744729\n",
      "22892\n",
      "26\n",
      "5206605\n",
      "365172708788\n",
      "525527941\n",
      "1010132\n",
      "37\n",
      "48701882\n",
      "572191398\n",
      "10294694593\n",
      "287755\n",
      "954116150\n",
      "69861\n",
      "130676688486\n",
      "615634750429\n",
      "208526453478\n",
      "52\n",
      "40100\n",
      "2745964\n",
      "86354020832\n",
      "6385\n",
      "3474705622\n",
      "8836142\n",
      "1691434412\n",
      "82\n",
      "35905\n",
      "61264538\n",
      "239868\n",
      "55036191648\n",
      "14981383238\n",
      "9874893\n",
      "390515481\n",
      "1020285\n",
      "30292149\n",
      "1586007\n",
      "336268230\n",
      "79886389\n",
      "358724717150\n",
      "8694\n",
      "517414945408\n",
      "3\n",
      "9\n",
      "22380894290\n",
      "106629031529\n",
      "19705\n",
      "435950577\n",
      "504504\n",
      "118\n",
      "738909720\n",
      "12931460551\n",
      "42798929\n",
      "173\n",
      "281604\n",
      "1407899811\n",
      "57113\n",
      "152508\n",
      "4237\n",
      "1243\n",
      "12036924900146\n",
      "68795481\n",
      "22\n",
      "4441\n",
      "427939\n"
     ]
    },
    {
     "data": {
      "text/plain": [
       "31487399529835"
      ]
     },
     "execution_count": 87,
     "metadata": {},
     "output_type": "execute_result"
    }
   ],
   "source": [
    "ans = sum([SNAFU_2_decimal(x) for x in data])\n",
    "ans"
   ]
  },
  {
   "cell_type": "code",
   "execution_count": 20,
   "id": "4fb17bfc",
   "metadata": {},
   "outputs": [
    {
     "ename": "ValueError",
     "evalue": "invalid literal for int() with base 5: '4890'",
     "output_type": "error",
     "traceback": [
      "\u001b[1;31m---------------------------------------------------------------------------\u001b[0m",
      "\u001b[1;31mValueError\u001b[0m                                Traceback (most recent call last)",
      "\u001b[1;32m~\\AppData\\Local\\Temp/ipykernel_16364/3549420388.py\u001b[0m in \u001b[0;36m<module>\u001b[1;34m\u001b[0m\n\u001b[1;32m----> 1\u001b[1;33m \u001b[0mint\u001b[0m\u001b[1;33m(\u001b[0m\u001b[0mstr\u001b[0m\u001b[1;33m(\u001b[0m\u001b[0mans\u001b[0m\u001b[1;33m)\u001b[0m\u001b[1;33m,\u001b[0m \u001b[0mbase\u001b[0m\u001b[1;33m=\u001b[0m\u001b[1;36m5\u001b[0m\u001b[1;33m)\u001b[0m\u001b[1;33m\u001b[0m\u001b[1;33m\u001b[0m\u001b[0m\n\u001b[0m",
      "\u001b[1;31mValueError\u001b[0m: invalid literal for int() with base 5: '4890'"
     ]
    }
   ],
   "source": [
    "int(str(ans), base=5)"
   ]
  },
  {
   "cell_type": "code",
   "execution_count": 22,
   "id": "5ce48648",
   "metadata": {},
   "outputs": [
    {
     "data": {
      "text/plain": [
       "(978, 0)"
      ]
     },
     "execution_count": 22,
     "metadata": {},
     "output_type": "execute_result"
    }
   ],
   "source": [
    "divmod(ans, 5)"
   ]
  },
  {
   "cell_type": "code",
   "execution_count": 23,
   "id": "8dedbefe",
   "metadata": {},
   "outputs": [
    {
     "data": {
      "text/plain": [
       "(195, 3)"
      ]
     },
     "execution_count": 23,
     "metadata": {},
     "output_type": "execute_result"
    }
   ],
   "source": [
    "divmod(978, 5)"
   ]
  },
  {
   "cell_type": "code",
   "execution_count": 8,
   "id": "71a0a35d",
   "metadata": {},
   "outputs": [],
   "source": [
    "translation_reversed = {\"0\": \"0\", \"1\": \"1\", \"2\": \"2\", \"3\": \"1=\", \"4\": \"1-\", \"5\": \"10\", \"6\": \"11\", \"7\": \"12\", \"8\": \"2=\", \"9\" :\"2-\"}\n"
   ]
  },
  {
   "cell_type": "code",
   "execution_count": 73,
   "id": "bbcf7ee6",
   "metadata": {},
   "outputs": [
    {
     "data": {
      "text/plain": [
       "['1=', '1-', '1=', '1=', '1-', '0']"
      ]
     },
     "execution_count": 73,
     "metadata": {},
     "output_type": "execute_result"
    }
   ],
   "source": [
    "num = 12345\n",
    "def dec_2_SNAFU(num):\n",
    "    mods = []\n",
    "    while not num == 0:\n",
    "        num, mod = divmod(num, 5)\n",
    "        mods.append(mod)\n",
    "    #print(mods)\n",
    "    mods = list(reversed(mods))\n",
    "    skip_next = False\n",
    "    number = []\n",
    "    for i, x in enumerate(mods):\n",
    "        if skip_next:\n",
    "            skip_next = False\n",
    "            continue\n",
    "        if x <= 1 and (i+1) < len(mods):\n",
    "            number.append(translation_reversed[str(x*5 + mods[i+1])])\n",
    "            #print(translation_reversed[str(x*5 + mods[i+1])])\n",
    "            skip_next = True\n",
    "        else:\n",
    "            number.append(translation_reversed[str(x)])\n",
    "    return number\n",
    "            \n",
    "dec_2_SNAFU(num)"
   ]
  },
  {
   "cell_type": "code",
   "execution_count": 33,
   "id": "ba1bbfa3",
   "metadata": {},
   "outputs": [
    {
     "data": {
      "text/plain": [
       "(1, 5)"
      ]
     },
     "execution_count": 33,
     "metadata": {},
     "output_type": "execute_result"
    }
   ],
   "source": [
    "divmod(15, 10)"
   ]
  },
  {
   "cell_type": "code",
   "execution_count": 34,
   "id": "292afe13",
   "metadata": {},
   "outputs": [
    {
     "data": {
      "text/plain": [
       "(0, 5)"
      ]
     },
     "execution_count": 34,
     "metadata": {},
     "output_type": "execute_result"
    }
   ],
   "source": [
    "divmod(5, 10)"
   ]
  },
  {
   "cell_type": "code",
   "execution_count": 200,
   "id": "ecb2a8e2",
   "metadata": {},
   "outputs": [
    {
     "name": "stdout",
     "output_type": "stream",
     "text": [
      "31487399529835\n",
      "True\n",
      "31487399529835\n"
     ]
    },
    {
     "data": {
      "text/plain": [
       "True"
      ]
     },
     "execution_count": 200,
     "metadata": {},
     "output_type": "execute_result"
    }
   ],
   "source": [
    "num = \"2=112--220-=-00=-=20\"\n",
    "print(SNAFU_2_decimal(num) == 31487399529835)\n",
    "SNAFU_2_decimal(num) <= 31487399529835"
   ]
  },
  {
   "cell_type": "code",
   "execution_count": null,
   "id": "aa05c3d6",
   "metadata": {},
   "outputs": [],
   "source": [
    "31487399529835 "
   ]
  },
  {
   "cell_type": "code",
   "execution_count": 46,
   "id": "e3189c1e",
   "metadata": {},
   "outputs": [
    {
     "data": {
      "text/plain": [
       "'1==-2=2220=110'"
      ]
     },
     "execution_count": 46,
     "metadata": {},
     "output_type": "execute_result"
    }
   ],
   "source": [
    "tr = {-2: \"=\", -1: \"-\", 0: \"0\", 1: \"1\", 2: \"2\"}\n",
    "def add(num1, num2):\n",
    "    ans = []\n",
    "    rest = \"0\"\n",
    "    max_len = max([len(num1), len(num2)])\n",
    "    num1 = num1.rjust(max_len, \"0\")\n",
    "    num2 = num2.rjust(max_len, \"0\")\n",
    "    for x,y in zip(reversed(num1), reversed(num2)):        \n",
    "        #print(x,y)\n",
    "        su = (translation[rest] + translation[x] + translation[y]) \n",
    "        #print(su)\n",
    "        if su == -3:\n",
    "            rest = \"-\"\n",
    "        elif su == -4:\n",
    "            rest = \"-\"\n",
    "        elif su < -4:\n",
    "            rest = \"=\"\n",
    "        elif su == 3:\n",
    "            rest = \"1\"\n",
    "        elif su == 4:\n",
    "            rest = \"1\"\n",
    "        elif su > 4:\n",
    "            rest = \"2\"\n",
    "        else:\n",
    "            rest = \"0\"\n",
    "            \n",
    "        ans.append(tr[((su + 2) % 5) - 2])\n",
    "    if not rest == \"0\":\n",
    "        ans.append(rest)\n",
    "        \n",
    "    return \"\".join(reversed(ans))\n",
    "    \n",
    "add(\"1121-1110-1=0\", \"1121-1110-1=0\")\n",
    "    "
   ]
  },
  {
   "cell_type": "code",
   "execution_count": 28,
   "id": "2a94f848",
   "metadata": {},
   "outputs": [
    {
     "name": "stdout",
     "output_type": "stream",
     "text": [
      "628318530\n"
     ]
    },
    {
     "data": {
      "text/plain": [
       "628318530"
      ]
     },
     "execution_count": 28,
     "metadata": {},
     "output_type": "execute_result"
    }
   ],
   "source": [
    "SNAFU_2_decimal('1==-2=2220=110')"
   ]
  },
  {
   "cell_type": "code",
   "execution_count": null,
   "id": "caf41492",
   "metadata": {},
   "outputs": [],
   "source": [
    "628318530"
   ]
  },
  {
   "cell_type": "code",
   "execution_count": 29,
   "id": "9b220bd7",
   "metadata": {},
   "outputs": [
    {
     "data": {
      "text/plain": [
       "628318530"
      ]
     },
     "execution_count": 29,
     "metadata": {},
     "output_type": "execute_result"
    }
   ],
   "source": [
    "314159265 * 2"
   ]
  },
  {
   "cell_type": "code",
   "execution_count": 30,
   "id": "7da81c63",
   "metadata": {},
   "outputs": [
    {
     "name": "stdout",
     "output_type": "stream",
     "text": [
      "0 0\n",
      "0\n"
     ]
    },
    {
     "data": {
      "text/plain": [
       "'0'"
      ]
     },
     "execution_count": 30,
     "metadata": {},
     "output_type": "execute_result"
    }
   ],
   "source": [
    "add(\"0\", \"1121-1110-1=0\")"
   ]
  },
  {
   "cell_type": "code",
   "execution_count": 47,
   "id": "949badc9",
   "metadata": {},
   "outputs": [
    {
     "data": {
      "text/plain": [
       "'2=12=--210220-0=1=20'"
      ]
     },
     "execution_count": 47,
     "metadata": {},
     "output_type": "execute_result"
    }
   ],
   "source": [
    "num = data[0]\n",
    "for x in data[1:]:\n",
    "    num = add(num,x)\n",
    "num"
   ]
  },
  {
   "cell_type": "code",
   "execution_count": 38,
   "id": "e8135278",
   "metadata": {},
   "outputs": [
    {
     "data": {
      "text/plain": [
       "['21-2-0=1-',\n",
       " '2-11220-==01==2',\n",
       " '1-2200=1=0--',\n",
       " '1-10--22=-=-2',\n",
       " '21120',\n",
       " '1=0==',\n",
       " '10=022',\n",
       " '222--0=10202-0=2',\n",
       " '1=01==1',\n",
       " '1021',\n",
       " '20--221-222000',\n",
       " '12-1=02--0221=-1',\n",
       " '11-=-1===2-',\n",
       " '1-101-=',\n",
       " '11-21100-===0=-',\n",
       " '1-',\n",
       " '2-=',\n",
       " '1=0=-0',\n",
       " '10011001=0',\n",
       " '2--',\n",
       " '2120=202121',\n",
       " '1=0',\n",
       " '10==-',\n",
       " '22=02102=2-',\n",
       " '11=0-',\n",
       " '1==0-1-1=0',\n",
       " '21===-=-0',\n",
       " '11220-=2-=20=201',\n",
       " '2=001',\n",
       " '1=20--=-',\n",
       " '1===00',\n",
       " '12-22012012-21=',\n",
       " '2=--=20-111=-',\n",
       " '221',\n",
       " '12=0-=-=',\n",
       " '2---102',\n",
       " '1=1',\n",
       " '202011021=',\n",
       " '21=0-0=--1102-1-',\n",
       " '1=--2102220-2==221=',\n",
       " '1=10021-=21',\n",
       " '11=2=202120021-=11',\n",
       " '1-1012=122=',\n",
       " '12-01=0=1=0-11=0--',\n",
       " '100-20=1=-',\n",
       " '110=0-',\n",
       " '1=-102',\n",
       " '2-221=2--010-01',\n",
       " '12-01220',\n",
       " '10--10====1-20=-00',\n",
       " '110',\n",
       " '1=00==22',\n",
       " '212-1-222010=2==2=1',\n",
       " '1=011=1=0',\n",
       " '1-0',\n",
       " '1-11221=000-=200221',\n",
       " '221-00=2=-1-',\n",
       " '122=1=2',\n",
       " '101',\n",
       " '1==2=11=-10',\n",
       " '220-1--=21=2-02==',\n",
       " '21--02--0-==1',\n",
       " '1==0=11012',\n",
       " '122',\n",
       " '1000=20=0012',\n",
       " '22-=0-011110=',\n",
       " '2=21-1-20212--=',\n",
       " '1-=202010',\n",
       " '1-0=-===21-100',\n",
       " '1-22--21',\n",
       " '1-12011122=02=-21',\n",
       " '1-01-2=1000-01=21-',\n",
       " '12-1-1=1=-=01=-1=',\n",
       " '202',\n",
       " '1==-1-00',\n",
       " '1201--=-=-',\n",
       " '1=-1--==1122=2=12',\n",
       " '201020',\n",
       " '1=-11-0111-00-2',\n",
       " '10==1==-1=2',\n",
       " '120=1002-00122',\n",
       " '1=12',\n",
       " '2122110',\n",
       " '1112-10=12==',\n",
       " '1=02--0-=',\n",
       " '2-0021-==112=10=',\n",
       " '2212-022-==10==',\n",
       " '1001200-1-=',\n",
       " '2=000-=00--11',\n",
       " '1==0122120',\n",
       " '1=1==-=2210-',\n",
       " '1-02===012',\n",
       " '12-21-11-1-10',\n",
       " '2=10==-=11=-',\n",
       " '22---2=2012-22100',\n",
       " '1=-0=--',\n",
       " '1=20--2=1212===12=',\n",
       " '1=',\n",
       " '2-',\n",
       " '1-=2=2-00211-2=0',\n",
       " '1=222---02=00211-',\n",
       " '112==10',\n",
       " '2-0=101-10=02',\n",
       " '11212101-',\n",
       " '10-=',\n",
       " '1=01=2=011=--0',\n",
       " '21=0-10==22-201',\n",
       " '1-20=-1=121-',\n",
       " '120=',\n",
       " '1-=01=-1-',\n",
       " '11--1-11=0=221',\n",
       " '1-=120==',\n",
       " '20--002=',\n",
       " '12--22',\n",
       " '200-=',\n",
       " '1=1--21=111=--=011-1',\n",
       " '12011=0=--11',\n",
       " '1-2',\n",
       " '121==1',\n",
       " '10220-==-']"
      ]
     },
     "execution_count": 38,
     "metadata": {},
     "output_type": "execute_result"
    }
   ],
   "source": [
    "data"
   ]
  },
  {
   "cell_type": "code",
   "execution_count": 40,
   "id": "03a9e909",
   "metadata": {},
   "outputs": [
    {
     "data": {
      "text/plain": [
       "'0-120'"
      ]
     },
     "execution_count": 40,
     "metadata": {},
     "output_type": "execute_result"
    }
   ],
   "source": [
    "'-120'.rjust(5, \"0\")"
   ]
  },
  {
   "cell_type": "code",
   "execution_count": 45,
   "id": "181189c2",
   "metadata": {},
   "outputs": [
    {
     "data": {
      "text/plain": [
       "('00-120', '-=0012')"
      ]
     },
     "execution_count": 45,
     "metadata": {},
     "output_type": "execute_result"
    }
   ],
   "source": [
    "num1 = '-120'\n",
    "num2 = '-=0012'\n",
    "max_len = max([len(num1), len(num2)])\n",
    "num1 = num1.rjust(max_len, \"0\")\n",
    "num2 = num2.rjust(max_len, \"0\")\n",
    "num1, num2"
   ]
  },
  {
   "cell_type": "code",
   "execution_count": null,
   "id": "dcd5c7f2",
   "metadata": {},
   "outputs": [],
   "source": []
  }
 ],
 "metadata": {
  "kernelspec": {
   "display_name": "Python 3 (ipykernel)",
   "language": "python",
   "name": "python3"
  },
  "language_info": {
   "codemirror_mode": {
    "name": "ipython",
    "version": 3
   },
   "file_extension": ".py",
   "mimetype": "text/x-python",
   "name": "python",
   "nbconvert_exporter": "python",
   "pygments_lexer": "ipython3",
   "version": "3.9.7"
  }
 },
 "nbformat": 4,
 "nbformat_minor": 5
}
