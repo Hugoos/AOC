{
 "cells": [
  {
   "cell_type": "code",
   "execution_count": 139,
   "id": "promotional-brook",
   "metadata": {},
   "outputs": [
    {
     "data": {
      "text/plain": [
       "[['Monkey 0:',\n",
       "  '  Starting items: 72, 64, 51, 57, 93, 97, 68',\n",
       "  '  Operation: new = old * 19',\n",
       "  '  Test: divisible by 17',\n",
       "  '    If true: throw to monkey 4',\n",
       "  '    If false: throw to monkey 7'],\n",
       " ['Monkey 1:',\n",
       "  '  Starting items: 62',\n",
       "  '  Operation: new = old * 11',\n",
       "  '  Test: divisible by 3',\n",
       "  '    If true: throw to monkey 3',\n",
       "  '    If false: throw to monkey 2'],\n",
       " ['Monkey 2:',\n",
       "  '  Starting items: 57, 94, 69, 79, 72',\n",
       "  '  Operation: new = old + 6',\n",
       "  '  Test: divisible by 19',\n",
       "  '    If true: throw to monkey 0',\n",
       "  '    If false: throw to monkey 4'],\n",
       " ['Monkey 3:',\n",
       "  '  Starting items: 80, 64, 92, 93, 64, 56',\n",
       "  '  Operation: new = old + 5',\n",
       "  '  Test: divisible by 7',\n",
       "  '    If true: throw to monkey 2',\n",
       "  '    If false: throw to monkey 0'],\n",
       " ['Monkey 4:',\n",
       "  '  Starting items: 70, 88, 95, 99, 78, 72, 65, 94',\n",
       "  '  Operation: new = old + 7',\n",
       "  '  Test: divisible by 2',\n",
       "  '    If true: throw to monkey 7',\n",
       "  '    If false: throw to monkey 5'],\n",
       " ['Monkey 5:',\n",
       "  '  Starting items: 57, 95, 81, 61',\n",
       "  '  Operation: new = old * old',\n",
       "  '  Test: divisible by 5',\n",
       "  '    If true: throw to monkey 1',\n",
       "  '    If false: throw to monkey 6'],\n",
       " ['Monkey 6:',\n",
       "  '  Starting items: 79, 99',\n",
       "  '  Operation: new = old + 2',\n",
       "  '  Test: divisible by 11',\n",
       "  '    If true: throw to monkey 3',\n",
       "  '    If false: throw to monkey 1'],\n",
       " ['Monkey 7:',\n",
       "  '  Starting items: 68, 98, 62',\n",
       "  '  Operation: new = old + 3',\n",
       "  '  Test: divisible by 13',\n",
       "  '    If true: throw to monkey 5',\n",
       "  '    If false: throw to monkey 6',\n",
       "  '']]"
      ]
     },
     "execution_count": 139,
     "metadata": {},
     "output_type": "execute_result"
    }
   ],
   "source": [
    "import helpers\n",
    "import numpy as np\n",
    "import math\n",
    "\n",
    "data = \"\"\"Monkey 0:\n",
    "  Starting items: 79, 98\n",
    "  Operation: new = old * 19\n",
    "  Test: divisible by 23\n",
    "    If true: throw to monkey 2\n",
    "    If false: throw to monkey 3\n",
    "\n",
    "Monkey 1:\n",
    "  Starting items: 54, 65, 75, 74\n",
    "  Operation: new = old + 6\n",
    "  Test: divisible by 19\n",
    "    If true: throw to monkey 2\n",
    "    If false: throw to monkey 0\n",
    "\n",
    "Monkey 2:\n",
    "  Starting items: 79, 60, 97\n",
    "  Operation: new = old * old\n",
    "  Test: divisible by 13\n",
    "    If true: throw to monkey 1\n",
    "    If false: throw to monkey 3\n",
    "\n",
    "Monkey 3:\n",
    "  Starting items: 74\n",
    "  Operation: new = old + 3\n",
    "  Test: divisible by 17\n",
    "    If true: throw to monkey 0\n",
    "    If false: throw to monkey 1\"\"\"\n",
    "with open(\"input_11.txt\", 'r') as f:\n",
    "    data = f.read()\n",
    "    \n",
    "#changeDict = {\"forward\": np.array([1,0]), \"down\": np.array([0,1]), \"up\": np.array([0,-1])}\n",
    "#data = [changeDict[x.split(\" \")[0]] * int(x.split(\" \")[1]) for x in data.split(\"\\n\") if x]\n",
    "data = [x.split('\\n') for x in data.split('\\n\\n') if x]\n",
    "#np.prod(sum(data))    \n",
    "data\n"
   ]
  },
  {
   "cell_type": "code",
   "execution_count": 140,
   "id": "5a7f1b5b",
   "metadata": {},
   "outputs": [
    {
     "data": {
      "text/plain": [
       "[17, 3, 19, 7, 2, 5, 11, 13]"
      ]
     },
     "execution_count": 140,
     "metadata": {},
     "output_type": "execute_result"
    }
   ],
   "source": [
    "divisors = [int(row[3].split(' ')[-1]) for row in data]\n",
    "divisors"
   ]
  },
  {
   "cell_type": "code",
   "execution_count": 141,
   "id": "b92299cb",
   "metadata": {},
   "outputs": [
    {
     "data": {
      "text/plain": [
       "9699690"
      ]
     },
     "execution_count": 141,
     "metadata": {},
     "output_type": "execute_result"
    }
   ],
   "source": [
    "mon_lcm = math.lcm(*divisors)\n",
    "mon_lcm"
   ]
  },
  {
   "cell_type": "code",
   "execution_count": 142,
   "id": "2d4ce05f",
   "metadata": {},
   "outputs": [],
   "source": [
    "from helpers import npNicePrint\n",
    "from functools import partial\n",
    "import operator\n",
    "\n",
    "class monkey():\n",
    "    def __init__(self, items, opp_variables, test_val, throw_loc, mon_lcm):\n",
    "        self.items = items\n",
    "        self.create_operation(*opp_variables)\n",
    "        self.test_val = test_val\n",
    "        self.throw_loc = throw_loc\n",
    "        self.num_inspected = 0\n",
    "        self.mon_lcm = mon_lcm\n",
    "    def create_operation(self, op, val_2):\n",
    "        ops = {\n",
    "            '+': operator.add,\n",
    "            '-': operator.sub,\n",
    "            '*': operator.mul,\n",
    "            '/': operator.truediv,\n",
    "            '//': operator.floordiv,\n",
    "            '%': operator.mod,\n",
    "            '**': operator.pow\n",
    "        }\n",
    "        def opp(val_1, op, val_2):\n",
    "            return ops[op](val_1, val_2) % self.mon_lcm\n",
    "        def opp_2(val_1, op):\n",
    "            return ops[op](val_1, val_1) % self.mon_lcm\n",
    "        if val_2 == 'old':\n",
    "            self.operation = partial(opp_2, op=op)\n",
    "        else:\n",
    "            self.operation = partial(opp, op = op, val_2 = val_2)\n",
    "        \n",
    "    def turn(self):\n",
    "        while len(self.items) > 0:\n",
    "            item = self.items.pop(0)\n",
    "            item = self.inspect(item)\n",
    "            #item = item #% self.test_val\n",
    "            self.throw(item)\n",
    "            \n",
    "    def inspect(self, item):\n",
    "        self.num_inspected += 1\n",
    "        return self.operation(item)\n",
    "        \n",
    "    def throw(self, item):\n",
    "        if item % self.test_val == 0:\n",
    "            monkeys[self.throw_loc[0]].items.append(item)\n",
    "        else:\n",
    "            monkeys[self.throw_loc[1]].items.append(item) \n",
    "    def __str__(self):\n",
    "        return f\"{self.items}\""
   ]
  },
  {
   "cell_type": "code",
   "execution_count": 143,
   "id": "1c109f9e",
   "metadata": {},
   "outputs": [
    {
     "data": {
      "text/plain": [
       "[<__main__.monkey at 0x17593c5daf0>,\n",
       " <__main__.monkey at 0x17593c5da00>,\n",
       " <__main__.monkey at 0x17593c5d1c0>,\n",
       " <__main__.monkey at 0x17593c5da90>,\n",
       " <__main__.monkey at 0x17593c5d5b0>,\n",
       " <__main__.monkey at 0x17593c5d220>,\n",
       " <__main__.monkey at 0x17593c5d0d0>,\n",
       " <__main__.monkey at 0x17593c5dbe0>]"
      ]
     },
     "execution_count": 143,
     "metadata": {},
     "output_type": "execute_result"
    }
   ],
   "source": [
    "monkeys = []\n",
    "for row in data:\n",
    "    items = list(map(int, row[1].split(': ')[1].split(',')))\n",
    "    opp_variables = row[2].split(' ')[-2:]\n",
    "    if opp_variables[1].isnumeric():\n",
    "        opp_variables[1] = int(opp_variables[1])\n",
    "    test_val = int(row[3].split(' ')[-1])\n",
    "    throw_loc = [int(row[4].split(' ')[-1]), int(row[5].split(' ')[-1])]\n",
    "    monkeys.append(monkey(items, opp_variables, test_val, throw_loc, mon_lcm))\n",
    "monkeys"
   ]
  },
  {
   "cell_type": "code",
   "execution_count": 144,
   "id": "d5f192e3",
   "metadata": {},
   "outputs": [],
   "source": [
    "def monkey_round():\n",
    "    for monkey in monkeys:\n",
    "        monkey.turn()\n",
    "for x in range(10000):\n",
    "    monkey_round()"
   ]
  },
  {
   "cell_type": "code",
   "execution_count": 145,
   "id": "4d368622",
   "metadata": {},
   "outputs": [
    {
     "data": {
      "text/plain": [
       "[25869, 161523, 146733, 27041, 155504, 30343, 160567, 160360]"
      ]
     },
     "execution_count": 145,
     "metadata": {},
     "output_type": "execute_result"
    }
   ],
   "source": [
    "[monkey.num_inspected for monkey in monkeys]"
   ]
  },
  {
   "cell_type": "code",
   "execution_count": 146,
   "id": "538f8422",
   "metadata": {},
   "outputs": [
    {
     "data": {
      "text/plain": [
       "('[6001396, 9000854]',\n",
       " '[7329939, 8856151, 3192119, 8673749, 5201269, 7309463, 6465433, 3845827, 3845827, 5500777, 6522149, 5740907, 4787251, 4363881]',\n",
       " '[]',\n",
       " '[]')"
      ]
     },
     "execution_count": 146,
     "metadata": {},
     "output_type": "execute_result"
    }
   ],
   "source": [
    "str(monkeys[0]), str(monkeys[1]), str(monkeys[2]), str(monkeys[3])"
   ]
  },
  {
   "cell_type": "code",
   "execution_count": 147,
   "id": "f1fdc166",
   "metadata": {},
   "outputs": [
    {
     "data": {
      "text/plain": [
       "25935263541"
      ]
     },
     "execution_count": 147,
     "metadata": {},
     "output_type": "execute_result"
    }
   ],
   "source": [
    "operator.mul(*sorted([monkey.num_inspected for monkey in monkeys])[-2:])"
   ]
  },
  {
   "cell_type": "code",
   "execution_count": null,
   "id": "e6d41e66",
   "metadata": {},
   "outputs": [],
   "source": []
  }
 ],
 "metadata": {
  "kernelspec": {
   "display_name": "Python 3 (ipykernel)",
   "language": "python",
   "name": "python3"
  },
  "language_info": {
   "codemirror_mode": {
    "name": "ipython",
    "version": 3
   },
   "file_extension": ".py",
   "mimetype": "text/x-python",
   "name": "python",
   "nbconvert_exporter": "python",
   "pygments_lexer": "ipython3",
   "version": "3.9.7"
  }
 },
 "nbformat": 4,
 "nbformat_minor": 5
}
