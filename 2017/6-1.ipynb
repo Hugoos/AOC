{
 "cells": [
  {
   "cell_type": "code",
   "execution_count": 32,
   "id": "developed-mattress",
   "metadata": {},
   "outputs": [],
   "source": [
    "data = [0,2,7,0]\n",
    "with open(\"input_6.txt\", 'r') as f:\n",
    "    data = f.read()\n",
    "data = [int(x) for x in data.split(\"\\t\") if not x == \"\"]"
   ]
  },
  {
   "cell_type": "code",
   "execution_count": 34,
   "id": "stable-execution",
   "metadata": {},
   "outputs": [
    {
     "name": "stdout",
     "output_type": "stream",
     "text": [
      "[0, 14, 13, 12, 11, 10, 8, 8, 6, 6, 5, 3, 3, 2, 1, 10] 6681\n"
     ]
    }
   ],
   "source": [
    "seenSet = set()\n",
    "rounds = 0\n",
    "while not tuple(data) in seenSet:\n",
    "    rounds += 1\n",
    "    seenSet.add(tuple(data))\n",
    "    selected = data.index(max(data))\n",
    "    val = data[selected]\n",
    "    data[selected] = 0\n",
    "    while val > 0:\n",
    "        selected = (selected + 1) % len(data)\n",
    "        data[selected] += 1\n",
    "        val -= 1\n",
    "print(data, rounds)"
   ]
  },
  {
   "cell_type": "code",
   "execution_count": null,
   "id": "referenced-jefferson",
   "metadata": {},
   "outputs": [],
   "source": []
  }
 ],
 "metadata": {
  "kernelspec": {
   "display_name": "Python 3",
   "language": "python",
   "name": "python3"
  },
  "language_info": {
   "codemirror_mode": {
    "name": "ipython",
    "version": 3
   },
   "file_extension": ".py",
   "mimetype": "text/x-python",
   "name": "python",
   "nbconvert_exporter": "python",
   "pygments_lexer": "ipython3",
   "version": "3.7.9"
  }
 },
 "nbformat": 4,
 "nbformat_minor": 5
}
