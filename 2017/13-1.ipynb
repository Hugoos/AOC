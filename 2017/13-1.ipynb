{
 "cells": [
  {
   "cell_type": "code",
   "execution_count": 37,
   "id": "developed-mattress",
   "metadata": {},
   "outputs": [
    {
     "data": {
      "text/plain": [
       "[[0, 5],\n",
       " [1, 2],\n",
       " [2, 3],\n",
       " [4, 4],\n",
       " [6, 6],\n",
       " [8, 4],\n",
       " [10, 6],\n",
       " [12, 10],\n",
       " [14, 6],\n",
       " [16, 8],\n",
       " [18, 6],\n",
       " [20, 9],\n",
       " [22, 8],\n",
       " [24, 8],\n",
       " [26, 8],\n",
       " [28, 12],\n",
       " [30, 12],\n",
       " [32, 8],\n",
       " [34, 8],\n",
       " [36, 12],\n",
       " [38, 14],\n",
       " [40, 12],\n",
       " [42, 10],\n",
       " [44, 14],\n",
       " [46, 12],\n",
       " [48, 12],\n",
       " [50, 24],\n",
       " [52, 14],\n",
       " [54, 12],\n",
       " [56, 12],\n",
       " [58, 14],\n",
       " [60, 12],\n",
       " [62, 14],\n",
       " [64, 12],\n",
       " [66, 14],\n",
       " [68, 14],\n",
       " [72, 14],\n",
       " [74, 14],\n",
       " [80, 14],\n",
       " [82, 14],\n",
       " [86, 14],\n",
       " [90, 18],\n",
       " [92, 17]]"
      ]
     },
     "execution_count": 37,
     "metadata": {},
     "output_type": "execute_result"
    }
   ],
   "source": [
    "data = \"\"\"\n",
    "0: 3\n",
    "1: 2\n",
    "4: 4\n",
    "6: 4\n",
    "\"\"\"\n",
    "with open(\"input_13.txt\", 'r') as f:\n",
    "    data = f.read()\n",
    "#data= data.replace(\"\\n\", \"\")\n",
    "data = [[int(y) for y in x.split(\": \")] for x in data.split(\"\\n\") if not x == \"\"]\n",
    "data"
   ]
  },
  {
   "cell_type": "code",
   "execution_count": 38,
   "id": "bound-roller",
   "metadata": {},
   "outputs": [],
   "source": [
    "state = {}\n",
    "dx = {1: -1, 0: 1}\n",
    "# 0 = Down, 1 = Up\n",
    "for row in data:\n",
    "    pos = row[0]\n",
    "    ran = row[1]\n",
    "    state[pos] = {\"loc\": 0, \"range\": ran, \"direction\": 0}"
   ]
  },
  {
   "cell_type": "code",
   "execution_count": 39,
   "id": "settled-madness",
   "metadata": {},
   "outputs": [
    {
     "name": "stdout",
     "output_type": "stream",
     "text": [
      "788\n"
     ]
    }
   ],
   "source": [
    "def step():\n",
    "    for k,v in state.items():\n",
    "        loc = v[\"loc\"]\n",
    "        ran = v[\"range\"]\n",
    "        direction = v[\"direction\"]\n",
    "        loc += dx[direction]\n",
    "        if loc == ran:\n",
    "            direction = 1\n",
    "            loc += 2*dx[direction] \n",
    "        elif loc == -1:\n",
    "            direction = 0\n",
    "            loc += 2*dx[direction] \n",
    "        v[\"loc\"] = loc\n",
    "        v[\"direction\"] = direction\n",
    "\n",
    "severity = 0\n",
    "for x in range(max(state.keys())+1):\n",
    "    if not x in state.keys():\n",
    "        step()\n",
    "        continue\n",
    "    if state[x][\"loc\"] == 0:\n",
    "        severity += x * state[x][\"range\"]\n",
    "    step()\n",
    "print(severity)"
   ]
  },
  {
   "cell_type": "code",
   "execution_count": 40,
   "id": "civic-stick",
   "metadata": {},
   "outputs": [
    {
     "data": {
      "text/plain": [
       "{0: {'loc': 3, 'range': 5, 'direction': 1},\n",
       " 1: {'loc': 1, 'range': 2, 'direction': 0},\n",
       " 2: {'loc': 1, 'range': 3, 'direction': 0},\n",
       " 4: {'loc': 3, 'range': 4, 'direction': 0},\n",
       " 6: {'loc': 3, 'range': 6, 'direction': 0},\n",
       " 8: {'loc': 3, 'range': 4, 'direction': 0},\n",
       " 10: {'loc': 3, 'range': 6, 'direction': 0},\n",
       " 12: {'loc': 3, 'range': 10, 'direction': 0},\n",
       " 14: {'loc': 3, 'range': 6, 'direction': 0},\n",
       " 16: {'loc': 5, 'range': 8, 'direction': 1},\n",
       " 18: {'loc': 3, 'range': 6, 'direction': 0},\n",
       " 20: {'loc': 3, 'range': 9, 'direction': 1},\n",
       " 22: {'loc': 5, 'range': 8, 'direction': 1},\n",
       " 24: {'loc': 5, 'range': 8, 'direction': 1},\n",
       " 26: {'loc': 5, 'range': 8, 'direction': 1},\n",
       " 28: {'loc': 5, 'range': 12, 'direction': 0},\n",
       " 30: {'loc': 5, 'range': 12, 'direction': 0},\n",
       " 32: {'loc': 5, 'range': 8, 'direction': 1},\n",
       " 34: {'loc': 5, 'range': 8, 'direction': 1},\n",
       " 36: {'loc': 5, 'range': 12, 'direction': 0},\n",
       " 38: {'loc': 11, 'range': 14, 'direction': 1},\n",
       " 40: {'loc': 5, 'range': 12, 'direction': 0},\n",
       " 42: {'loc': 3, 'range': 10, 'direction': 0},\n",
       " 44: {'loc': 11, 'range': 14, 'direction': 1},\n",
       " 46: {'loc': 5, 'range': 12, 'direction': 0},\n",
       " 48: {'loc': 5, 'range': 12, 'direction': 0},\n",
       " 50: {'loc': 1, 'range': 24, 'direction': 0},\n",
       " 52: {'loc': 11, 'range': 14, 'direction': 1},\n",
       " 54: {'loc': 5, 'range': 12, 'direction': 0},\n",
       " 56: {'loc': 5, 'range': 12, 'direction': 0},\n",
       " 58: {'loc': 11, 'range': 14, 'direction': 1},\n",
       " 60: {'loc': 5, 'range': 12, 'direction': 0},\n",
       " 62: {'loc': 11, 'range': 14, 'direction': 1},\n",
       " 64: {'loc': 5, 'range': 12, 'direction': 0},\n",
       " 66: {'loc': 11, 'range': 14, 'direction': 1},\n",
       " 68: {'loc': 11, 'range': 14, 'direction': 1},\n",
       " 72: {'loc': 11, 'range': 14, 'direction': 1},\n",
       " 74: {'loc': 11, 'range': 14, 'direction': 1},\n",
       " 80: {'loc': 11, 'range': 14, 'direction': 1},\n",
       " 82: {'loc': 11, 'range': 14, 'direction': 1},\n",
       " 86: {'loc': 11, 'range': 14, 'direction': 1},\n",
       " 90: {'loc': 9, 'range': 18, 'direction': 1},\n",
       " 92: {'loc': 3, 'range': 17, 'direction': 1}}"
      ]
     },
     "execution_count": 40,
     "metadata": {},
     "output_type": "execute_result"
    }
   ],
   "source": [
    "state"
   ]
  },
  {
   "cell_type": "code",
   "execution_count": null,
   "id": "failing-preliminary",
   "metadata": {},
   "outputs": [],
   "source": []
  }
 ],
 "metadata": {
  "kernelspec": {
   "display_name": "Python 3",
   "language": "python",
   "name": "python3"
  },
  "language_info": {
   "codemirror_mode": {
    "name": "ipython",
    "version": 3
   },
   "file_extension": ".py",
   "mimetype": "text/x-python",
   "name": "python",
   "nbconvert_exporter": "python",
   "pygments_lexer": "ipython3",
   "version": "3.7.9"
  }
 },
 "nbformat": 4,
 "nbformat_minor": 5
}
