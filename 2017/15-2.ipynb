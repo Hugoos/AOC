{
 "cells": [
  {
   "cell_type": "code",
   "execution_count": 12,
   "id": "developed-mattress",
   "metadata": {},
   "outputs": [],
   "source": [
    "#with open(\"input_13.txt\", 'r') as f:\n",
    "#    data = f.read()\n",
    "#data= data.replace(\"\\n\", \"\")\n",
    "#data = [[int(y) for y in x.split(\": \")] for x in data.split(\"\\n\") if not x == \"\"]\n",
    "factor_A = 16807\n",
    "factor_B = 48271\n",
    "div = 2147483647\n",
    "#A = 65\n",
    "#B = 8921\n",
    "A = 783\n",
    "B = 325"
   ]
  },
  {
   "cell_type": "code",
   "execution_count": 13,
   "id": "indonesian-commodity",
   "metadata": {},
   "outputs": [],
   "source": [
    "def turn(A,B,num):\n",
    "    score = 0\n",
    "    for x in tqdm(range(num)):\n",
    "        A = (A * factor_A) % div\n",
    "        while not A % 4 == 0:\n",
    "            A = (A * factor_A) % div\n",
    "        B = (B * factor_B) % div\n",
    "        while not B % 8 == 0:\n",
    "            B = (B * factor_B) % div\n",
    "        if not (A ^ B) & 0b1111111111111111:\n",
    "            score += 1\n",
    "    \n",
    "    return A,B, score\n",
    "    "
   ]
  },
  {
   "cell_type": "code",
   "execution_count": 14,
   "id": "patent-insulin",
   "metadata": {
    "scrolled": true
   },
   "outputs": [
    {
     "name": "stderr",
     "output_type": "stream",
     "text": [
      "100%|████████████████████████████████████████████████████████████████████| 5000000/5000000 [00:16<00:00, 297056.07it/s]"
     ]
    },
    {
     "name": "stdout",
     "output_type": "stream",
     "text": [
      "336\n"
     ]
    },
    {
     "name": "stderr",
     "output_type": "stream",
     "text": [
      "\n"
     ]
    }
   ],
   "source": [
    "from tqdm import tqdm\n",
    "A,B,score = turn(A,B,5000000)\n",
    "print(score)"
   ]
  }
 ],
 "metadata": {
  "kernelspec": {
   "display_name": "Python 3",
   "language": "python",
   "name": "python3"
  },
  "language_info": {
   "codemirror_mode": {
    "name": "ipython",
    "version": 3
   },
   "file_extension": ".py",
   "mimetype": "text/x-python",
   "name": "python",
   "nbconvert_exporter": "python",
   "pygments_lexer": "ipython3",
   "version": "3.7.9"
  }
 },
 "nbformat": 4,
 "nbformat_minor": 5
}
