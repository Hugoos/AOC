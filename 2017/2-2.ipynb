{
 "cells": [
  {
   "cell_type": "code",
   "execution_count": 80,
   "id": "developed-mattress",
   "metadata": {},
   "outputs": [],
   "source": [
    "data = \"\"\"\n",
    "5 9 2 8\n",
    "9 4 7 3\n",
    "3 8 6 5\n",
    "\"\"\"\n",
    "\n",
    "with open(\"input_2.txt\", 'r') as f:\n",
    "    data = f.read()\n",
    "data = [x for x in data.split(\"\\n\") if not x == \"\"]"
   ]
  },
  {
   "cell_type": "code",
   "execution_count": 82,
   "id": "legitimate-armstrong",
   "metadata": {},
   "outputs": [
    {
     "name": "stdout",
     "output_type": "stream",
     "text": [
      "226.0\n"
     ]
    }
   ],
   "source": [
    "sumList = []\n",
    "for row in data:\n",
    "    digits = [int(x) for x in row.split(\"\\t\")]\n",
    "    digits.sort(reverse=True)\n",
    "    for d1 in digits:\n",
    "        for d2 in digits:\n",
    "            if not d1 == d2 and d1 % d2 == 0:\n",
    "                sumList.append(d1/d2)\n",
    "    #sumList.append(digits[-1] - digits[0])\n",
    "print(sum(sumList))"
   ]
  },
  {
   "cell_type": "code",
   "execution_count": 74,
   "id": "documentary-wrist",
   "metadata": {},
   "outputs": [
    {
     "ename": "SyntaxError",
     "evalue": "invalid syntax (<ipython-input-74-f295211a4050>, line 1)",
     "output_type": "error",
     "traceback": [
      "\u001b[1;36m  File \u001b[1;32m\"<ipython-input-74-f295211a4050>\"\u001b[1;36m, line \u001b[1;32m1\u001b[0m\n\u001b[1;33m    2670 too high\u001b[0m\n\u001b[1;37m           ^\u001b[0m\n\u001b[1;31mSyntaxError\u001b[0m\u001b[1;31m:\u001b[0m invalid syntax\n"
     ]
    }
   ],
   "source": [
    "2670 too high"
   ]
  },
  {
   "cell_type": "code",
   "execution_count": 79,
   "id": "vital-imaging",
   "metadata": {},
   "outputs": [
    {
     "data": {
      "text/plain": [
       "[4.0, 3.0, 2.0]"
      ]
     },
     "execution_count": 79,
     "metadata": {},
     "output_type": "execute_result"
    }
   ],
   "source": [
    "sumList"
   ]
  },
  {
   "cell_type": "code",
   "execution_count": null,
   "id": "acquired-validity",
   "metadata": {},
   "outputs": [],
   "source": []
  }
 ],
 "metadata": {
  "kernelspec": {
   "display_name": "Python 3",
   "language": "python",
   "name": "python3"
  },
  "language_info": {
   "codemirror_mode": {
    "name": "ipython",
    "version": 3
   },
   "file_extension": ".py",
   "mimetype": "text/x-python",
   "name": "python",
   "nbconvert_exporter": "python",
   "pygments_lexer": "ipython3",
   "version": "3.7.9"
  }
 },
 "nbformat": 4,
 "nbformat_minor": 5
}
