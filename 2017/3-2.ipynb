{
 "cells": [
  {
   "cell_type": "code",
   "execution_count": 1,
   "id": "developed-mattress",
   "metadata": {},
   "outputs": [
    {
     "ename": "FileNotFoundError",
     "evalue": "[Errno 2] No such file or directory: 'input_3.txt'",
     "output_type": "error",
     "traceback": [
      "\u001b[1;31m---------------------------------------------------------------------------\u001b[0m",
      "\u001b[1;31mFileNotFoundError\u001b[0m                         Traceback (most recent call last)",
      "\u001b[1;32m<ipython-input-1-06cc6ff45ab1>\u001b[0m in \u001b[0;36m<module>\u001b[1;34m\u001b[0m\n\u001b[0;32m      5\u001b[0m \"\"\"\n\u001b[0;32m      6\u001b[0m \u001b[1;33m\u001b[0m\u001b[0m\n\u001b[1;32m----> 7\u001b[1;33m \u001b[1;32mwith\u001b[0m \u001b[0mopen\u001b[0m\u001b[1;33m(\u001b[0m\u001b[1;34m\"input_3.txt\"\u001b[0m\u001b[1;33m,\u001b[0m \u001b[1;34m'r'\u001b[0m\u001b[1;33m)\u001b[0m \u001b[1;32mas\u001b[0m \u001b[0mf\u001b[0m\u001b[1;33m:\u001b[0m\u001b[1;33m\u001b[0m\u001b[1;33m\u001b[0m\u001b[0m\n\u001b[0m\u001b[0;32m      8\u001b[0m     \u001b[0mdata\u001b[0m \u001b[1;33m=\u001b[0m \u001b[0mf\u001b[0m\u001b[1;33m.\u001b[0m\u001b[0mread\u001b[0m\u001b[1;33m(\u001b[0m\u001b[1;33m)\u001b[0m\u001b[1;33m\u001b[0m\u001b[1;33m\u001b[0m\u001b[0m\n\u001b[0;32m      9\u001b[0m \u001b[0mdata\u001b[0m \u001b[1;33m=\u001b[0m \u001b[1;33m[\u001b[0m\u001b[0mx\u001b[0m \u001b[1;32mfor\u001b[0m \u001b[0mx\u001b[0m \u001b[1;32min\u001b[0m \u001b[0mdata\u001b[0m\u001b[1;33m.\u001b[0m\u001b[0msplit\u001b[0m\u001b[1;33m(\u001b[0m\u001b[1;34m\"\\n\"\u001b[0m\u001b[1;33m)\u001b[0m \u001b[1;32mif\u001b[0m \u001b[1;32mnot\u001b[0m \u001b[0mx\u001b[0m \u001b[1;33m==\u001b[0m \u001b[1;34m\"\"\u001b[0m\u001b[1;33m]\u001b[0m\u001b[1;33m\u001b[0m\u001b[1;33m\u001b[0m\u001b[0m\n",
      "\u001b[1;31mFileNotFoundError\u001b[0m: [Errno 2] No such file or directory: 'input_3.txt'"
     ]
    }
   ],
   "source": [
    "data = \"\"\"\n",
    "5 9 2 8\n",
    "9 4 7 3\n",
    "3 8 6 5\n",
    "\"\"\"\n",
    "\n",
    "with open(\"input_3.txt\", 'r') as f:\n",
    "    data = f.read()\n",
    "#data = [x for x in data.split(\"\\n\") if not x == \"\"]"
   ]
  },
  {
   "cell_type": "code",
   "execution_count": 78,
   "id": "renewable-basketball",
   "metadata": {},
   "outputs": [],
   "source": [
    "import itertools as it\n",
    "import numpy as np\n",
    "NORTH, S, W, E = (0, -1), (0, 1), (-1, 0), (1, 0) # directions\n",
    "turn_left = {NORTH: W, E: NORTH, S: E, W: S} # old -> new direction\n",
    "positionDict = {}\n",
    "def spiral(width, height):\n",
    "    if width < 1 or height < 1:\n",
    "        raise ValueError\n",
    "    x, y = (width // 2), (height // 2) # start near the center\n",
    "    dx, dy = S # initial direction\n",
    "    matrix = [[None] * width for _ in range(height)]\n",
    "    x_true, y_true = 0,0\n",
    "    count = 0\n",
    "    while True:\n",
    "        count += 1\n",
    "        matrix[y][x] = count # visit\n",
    "        positionDict[(x_true,y_true)] = getNeighbours((x_true,y_true))\n",
    "        if positionDict[(x_true,y_true)] > 347991:\n",
    "            print(f'ans: {positionDict[(x_true,y_true)]}')\n",
    "            return True\n",
    "        # try to turn right\n",
    "        new_dx, new_dy = turn_left[dx,dy]\n",
    "        new_x, new_y = x + new_dx, y + new_dy\n",
    "        new_true_x, new_true_y = x_true + new_dx, y_true - new_dy\n",
    "        if (0 <= new_x < width and 0 <= new_y < height and\n",
    "            matrix[new_y][new_x] is None): # can turn right\n",
    "            x, y = new_x, new_y\n",
    "            dx, dy = new_dx, new_dy\n",
    "            x_true, y_true = new_true_x, new_true_y\n",
    "        else: # try to move straight\n",
    "            x, y = x + dx, y + dy\n",
    "            x_true, y_true = x_true + dx, y_true - dy\n",
    "            if not (0 <= x < width and 0 <= y < height):\n",
    "                return matrix # nowhere to go\n",
    "def getNeighbours(cel):\n",
    "    if cel == (0,0):\n",
    "        return 1\n",
    "    neighs = list(it.product([-1,0,1], repeat=2))\n",
    "    neighs.remove((0,0))\n",
    "    neighbours = [tuple(np.add(cel, n)) for n in neighs]\n",
    "    return sum([positionDict[x] for x in neighbours if x in positionDict.keys()])\n",
    "    print(neighbours)\n",
    "\n",
    "def print_matrix(matrix):\n",
    "    width = len(str(max(el for row in matrix for el in row if el is not None)))\n",
    "    fmt = \"{:0%dd}\" % width\n",
    "    for row in matrix:\n",
    "        print(\" \".join(\"_\"*width if el is None else fmt.format(el) for el in row))            "
   ]
  },
  {
   "cell_type": "code",
   "execution_count": 79,
   "id": "advance-customer",
   "metadata": {},
   "outputs": [
    {
     "name": "stdout",
     "output_type": "stream",
     "text": [
      "ans: 349975\n"
     ]
    },
    {
     "ename": "TypeError",
     "evalue": "'bool' object is not iterable",
     "output_type": "error",
     "traceback": [
      "\u001b[1;31m---------------------------------------------------------------------------\u001b[0m",
      "\u001b[1;31mTypeError\u001b[0m                                 Traceback (most recent call last)",
      "\u001b[1;32m<ipython-input-79-a5a75c6dea20>\u001b[0m in \u001b[0;36m<module>\u001b[1;34m\u001b[0m\n\u001b[0;32m      1\u001b[0m \u001b[0mpositionDict\u001b[0m \u001b[1;33m=\u001b[0m \u001b[1;33m{\u001b[0m\u001b[1;33m}\u001b[0m\u001b[1;33m\u001b[0m\u001b[1;33m\u001b[0m\u001b[0m\n\u001b[1;32m----> 2\u001b[1;33m \u001b[0mprint_matrix\u001b[0m\u001b[1;33m(\u001b[0m\u001b[0mspiral\u001b[0m\u001b[1;33m(\u001b[0m\u001b[1;36m11\u001b[0m\u001b[1;33m,\u001b[0m\u001b[1;36m11\u001b[0m\u001b[1;33m)\u001b[0m\u001b[1;33m)\u001b[0m\u001b[1;33m\u001b[0m\u001b[1;33m\u001b[0m\u001b[0m\n\u001b[0m",
      "\u001b[1;32m<ipython-input-78-b32034b53fde>\u001b[0m in \u001b[0;36mprint_matrix\u001b[1;34m(matrix)\u001b[0m\n\u001b[0;32m     43\u001b[0m \u001b[1;33m\u001b[0m\u001b[0m\n\u001b[0;32m     44\u001b[0m \u001b[1;32mdef\u001b[0m \u001b[0mprint_matrix\u001b[0m\u001b[1;33m(\u001b[0m\u001b[0mmatrix\u001b[0m\u001b[1;33m)\u001b[0m\u001b[1;33m:\u001b[0m\u001b[1;33m\u001b[0m\u001b[1;33m\u001b[0m\u001b[0m\n\u001b[1;32m---> 45\u001b[1;33m     \u001b[0mwidth\u001b[0m \u001b[1;33m=\u001b[0m \u001b[0mlen\u001b[0m\u001b[1;33m(\u001b[0m\u001b[0mstr\u001b[0m\u001b[1;33m(\u001b[0m\u001b[0mmax\u001b[0m\u001b[1;33m(\u001b[0m\u001b[0mel\u001b[0m \u001b[1;32mfor\u001b[0m \u001b[0mrow\u001b[0m \u001b[1;32min\u001b[0m \u001b[0mmatrix\u001b[0m \u001b[1;32mfor\u001b[0m \u001b[0mel\u001b[0m \u001b[1;32min\u001b[0m \u001b[0mrow\u001b[0m \u001b[1;32mif\u001b[0m \u001b[0mel\u001b[0m \u001b[1;32mis\u001b[0m \u001b[1;32mnot\u001b[0m \u001b[1;32mNone\u001b[0m\u001b[1;33m)\u001b[0m\u001b[1;33m)\u001b[0m\u001b[1;33m)\u001b[0m\u001b[1;33m\u001b[0m\u001b[1;33m\u001b[0m\u001b[0m\n\u001b[0m\u001b[0;32m     46\u001b[0m     \u001b[0mfmt\u001b[0m \u001b[1;33m=\u001b[0m \u001b[1;34m\"{:0%dd}\"\u001b[0m \u001b[1;33m%\u001b[0m \u001b[0mwidth\u001b[0m\u001b[1;33m\u001b[0m\u001b[1;33m\u001b[0m\u001b[0m\n\u001b[0;32m     47\u001b[0m     \u001b[1;32mfor\u001b[0m \u001b[0mrow\u001b[0m \u001b[1;32min\u001b[0m \u001b[0mmatrix\u001b[0m\u001b[1;33m:\u001b[0m\u001b[1;33m\u001b[0m\u001b[1;33m\u001b[0m\u001b[0m\n",
      "\u001b[1;31mTypeError\u001b[0m: 'bool' object is not iterable"
     ]
    }
   ],
   "source": [
    "positionDict = {}\n",
    "print_matrix(spiral(11,11))"
   ]
  },
  {
   "cell_type": "code",
   "execution_count": 77,
   "id": "pacific-region",
   "metadata": {},
   "outputs": [
    {
     "data": {
      "text/plain": [
       "{(0, 0): 1,\n",
       " (1, 0): 1,\n",
       " (1, 1): 2,\n",
       " (0, 1): 4,\n",
       " (-1, 1): 5,\n",
       " (-1, 0): 10,\n",
       " (-1, -1): 11,\n",
       " (0, -1): 23,\n",
       " (1, -1): 25}"
      ]
     },
     "execution_count": 77,
     "metadata": {},
     "output_type": "execute_result"
    }
   ],
   "source": [
    "positionDict"
   ]
  },
  {
   "cell_type": "code",
   "execution_count": 45,
   "id": "working-washington",
   "metadata": {},
   "outputs": [
    {
     "data": {
      "text/plain": [
       "480"
      ]
     },
     "execution_count": 45,
     "metadata": {},
     "output_type": "execute_result"
    }
   ],
   "source": [
    "data = 347991\n",
    "ans = abs(positionDict[data][0]) + abs(positionDict[data][1])\n",
    "ans"
   ]
  },
  {
   "cell_type": "code",
   "execution_count": 73,
   "id": "caring-baseball",
   "metadata": {},
   "outputs": [
    {
     "data": {
      "text/plain": [
       "0"
      ]
     },
     "execution_count": 73,
     "metadata": {},
     "output_type": "execute_result"
    }
   ],
   "source": [
    "getNeighbours((1,1))"
   ]
  },
  {
   "cell_type": "code",
   "execution_count": null,
   "id": "cross-picture",
   "metadata": {},
   "outputs": [],
   "source": []
  }
 ],
 "metadata": {
  "kernelspec": {
   "display_name": "Python 3",
   "language": "python",
   "name": "python3"
  },
  "language_info": {
   "codemirror_mode": {
    "name": "ipython",
    "version": 3
   },
   "file_extension": ".py",
   "mimetype": "text/x-python",
   "name": "python",
   "nbconvert_exporter": "python",
   "pygments_lexer": "ipython3",
   "version": "3.7.9"
  }
 },
 "nbformat": 4,
 "nbformat_minor": 5
}
