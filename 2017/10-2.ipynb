{
 "cells": [
  {
   "cell_type": "code",
   "execution_count": 48,
   "id": "developed-mattress",
   "metadata": {},
   "outputs": [
    {
     "data": {
      "text/plain": [
       "[49,\n",
       " 56,\n",
       " 57,\n",
       " 44,\n",
       " 49,\n",
       " 44,\n",
       " 49,\n",
       " 49,\n",
       " 49,\n",
       " 44,\n",
       " 50,\n",
       " 52,\n",
       " 54,\n",
       " 44,\n",
       " 50,\n",
       " 53,\n",
       " 52,\n",
       " 44,\n",
       " 50,\n",
       " 44,\n",
       " 48,\n",
       " 44,\n",
       " 49,\n",
       " 50,\n",
       " 48,\n",
       " 44,\n",
       " 50,\n",
       " 49,\n",
       " 53,\n",
       " 44,\n",
       " 57,\n",
       " 51,\n",
       " 44,\n",
       " 50,\n",
       " 53,\n",
       " 53,\n",
       " 44,\n",
       " 53,\n",
       " 48,\n",
       " 44,\n",
       " 56,\n",
       " 52,\n",
       " 44,\n",
       " 49,\n",
       " 53,\n",
       " 44,\n",
       " 57,\n",
       " 52,\n",
       " 44,\n",
       " 54,\n",
       " 50,\n",
       " 17,\n",
       " 31,\n",
       " 73,\n",
       " 47,\n",
       " 23]"
      ]
     },
     "execution_count": 48,
     "metadata": {},
     "output_type": "execute_result"
    }
   ],
   "source": [
    "data_str = \"1,2,4\"\n",
    "data = []\n",
    "l = [x for x in range(256)]\n",
    "with open(\"input_10.txt\", 'r') as f:\n",
    "    data_str = f.read()\n",
    "    data_str = data_str.replace(\"\\n\", \"\")\n",
    "#print(repr(data_str))\n",
    "for char in data_str:\n",
    "    data.append(ord(char))\n",
    "data.extend([17, 31, 73, 47, 23])    \n",
    "data"
   ]
  },
  {
   "cell_type": "code",
   "execution_count": 49,
   "id": "widespread-making",
   "metadata": {},
   "outputs": [
    {
     "name": "stdout",
     "output_type": "stream",
     "text": [
      "9de8846431eef262be78f590e39a4848\n"
     ]
    }
   ],
   "source": [
    "from functools import reduce\n",
    "from operator import xor\n",
    "linked_list = {}\n",
    "for i, digit in enumerate(l):\n",
    "    linked_list[i] = {\"data\": int(digit), \"next_i\": (i+1)%(len(l))}\n",
    "\n",
    "current_position = 0\n",
    "skip_size = 0\n",
    "linked_list\n",
    "for x in range(64):\n",
    "    for length in data:\n",
    "        reversedList = list(reversed([linked_list[x]['data'] for x in [(current_position + y) % len(l) for y in range(length)]]))\n",
    "        for i, x in enumerate([(current_position + y) % len(l) for y in range(length)]):\n",
    "            linked_list[x]['data'] = reversedList[i]\n",
    "        current_position = (current_position + length + skip_size) % len(l)\n",
    "        skip_size += 1\n",
    "        \n",
    "spare_hash_list = []\n",
    "solution = \"\"\n",
    "for i in range(256):\n",
    "    spare_hash_list.append(linked_list[i]['data'])\n",
    "    if i % 16 == 15:\n",
    "        spare_hash_list\n",
    "        solution += format(reduce(xor, map(int, spare_hash_list)), '02x')\n",
    "        spare_hash_list = []\n",
    "print(solution)      "
   ]
  },
  {
   "cell_type": "code",
   "execution_count": 46,
   "id": "narrow-beatles",
   "metadata": {},
   "outputs": [
    {
     "data": {
      "text/plain": [
       "50"
      ]
     },
     "execution_count": 46,
     "metadata": {},
     "output_type": "execute_result"
    }
   ],
   "source": [
    "ord(\"2\")"
   ]
  },
  {
   "cell_type": "code",
   "execution_count": null,
   "id": "moral-lafayette",
   "metadata": {},
   "outputs": [],
   "source": []
  }
 ],
 "metadata": {
  "kernelspec": {
   "display_name": "Python 3",
   "language": "python",
   "name": "python3"
  },
  "language_info": {
   "codemirror_mode": {
    "name": "ipython",
    "version": 3
   },
   "file_extension": ".py",
   "mimetype": "text/x-python",
   "name": "python",
   "nbconvert_exporter": "python",
   "pygments_lexer": "ipython3",
   "version": "3.7.9"
  }
 },
 "nbformat": 4,
 "nbformat_minor": 5
}
