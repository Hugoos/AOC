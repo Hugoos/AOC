{
 "cells": [
  {
   "cell_type": "code",
   "execution_count": 48,
   "id": "developed-mattress",
   "metadata": {},
   "outputs": [],
   "source": [
    "#data = [3, 4, 1, 5]\n",
    "l = [x for x in range(256)]\n",
    "with open(\"input_10.txt\", 'r') as f:\n",
    "    data = f.read()\n",
    "data = [x.split(',') for x in data.split(\"\\n\") if not x == \"\"][0]\n",
    "data = [int(x) for x in data]"
   ]
  },
  {
   "cell_type": "code",
   "execution_count": 50,
   "id": "stopped-appendix",
   "metadata": {},
   "outputs": [],
   "source": [
    "linked_list = {}\n",
    "for i, digit in enumerate(l):\n",
    "    linked_list[i] = {\"data\": int(digit), \"next_i\": (i+1)%(len(l))}"
   ]
  },
  {
   "cell_type": "code",
   "execution_count": 51,
   "id": "widespread-making",
   "metadata": {},
   "outputs": [],
   "source": [
    "current_position = 0\n",
    "skip_size = 0\n",
    "linked_list\n",
    "\n",
    "for length in data:\n",
    "    reversedList = list(reversed([linked_list[x]['data'] for x in [(current_position + y) % len(l) for y in range(length)]]))\n",
    "    for i, x in enumerate([(current_position + y) % len(l) for y in range(length)]):\n",
    "        linked_list[x]['data'] = reversedList[i]\n",
    "    current_position = (current_position + length + skip_size) % len(l)\n",
    "    skip_size += 1\n",
    "    "
   ]
  },
  {
   "cell_type": "code",
   "execution_count": 52,
   "id": "dependent-being",
   "metadata": {},
   "outputs": [
    {
     "name": "stdout",
     "output_type": "stream",
     "text": [
      "{0: {'data': 197, 'next_i': 1}, 1: {'data': 195, 'next_i': 2}, 2: {'data': 194, 'next_i': 3}, 3: {'data': 193, 'next_i': 4}, 4: {'data': 192, 'next_i': 5}, 5: {'data': 191, 'next_i': 6}, 6: {'data': 142, 'next_i': 7}, 7: {'data': 141, 'next_i': 8}, 8: {'data': 199, 'next_i': 9}, 9: {'data': 200, 'next_i': 10}, 10: {'data': 201, 'next_i': 11}, 11: {'data': 202, 'next_i': 12}, 12: {'data': 203, 'next_i': 13}, 13: {'data': 204, 'next_i': 14}, 14: {'data': 205, 'next_i': 15}, 15: {'data': 206, 'next_i': 16}, 16: {'data': 207, 'next_i': 17}, 17: {'data': 208, 'next_i': 18}, 18: {'data': 209, 'next_i': 19}, 19: {'data': 210, 'next_i': 20}, 20: {'data': 211, 'next_i': 21}, 21: {'data': 212, 'next_i': 22}, 22: {'data': 213, 'next_i': 23}, 23: {'data': 214, 'next_i': 24}, 24: {'data': 215, 'next_i': 25}, 25: {'data': 216, 'next_i': 26}, 26: {'data': 217, 'next_i': 27}, 27: {'data': 218, 'next_i': 28}, 28: {'data': 5, 'next_i': 29}, 29: {'data': 6, 'next_i': 30}, 30: {'data': 126, 'next_i': 31}, 31: {'data': 125, 'next_i': 32}, 32: {'data': 124, 'next_i': 33}, 33: {'data': 123, 'next_i': 34}, 34: {'data': 122, 'next_i': 35}, 35: {'data': 121, 'next_i': 36}, 36: {'data': 120, 'next_i': 37}, 37: {'data': 119, 'next_i': 38}, 38: {'data': 118, 'next_i': 39}, 39: {'data': 117, 'next_i': 40}, 40: {'data': 116, 'next_i': 41}, 41: {'data': 115, 'next_i': 42}, 42: {'data': 148, 'next_i': 43}, 43: {'data': 149, 'next_i': 44}, 44: {'data': 150, 'next_i': 45}, 45: {'data': 151, 'next_i': 46}, 46: {'data': 152, 'next_i': 47}, 47: {'data': 153, 'next_i': 48}, 48: {'data': 154, 'next_i': 49}, 49: {'data': 155, 'next_i': 50}, 50: {'data': 156, 'next_i': 51}, 51: {'data': 157, 'next_i': 52}, 52: {'data': 158, 'next_i': 53}, 53: {'data': 159, 'next_i': 54}, 54: {'data': 160, 'next_i': 55}, 55: {'data': 161, 'next_i': 56}, 56: {'data': 162, 'next_i': 57}, 57: {'data': 163, 'next_i': 58}, 58: {'data': 164, 'next_i': 59}, 59: {'data': 165, 'next_i': 60}, 60: {'data': 166, 'next_i': 61}, 61: {'data': 167, 'next_i': 62}, 62: {'data': 168, 'next_i': 63}, 63: {'data': 169, 'next_i': 64}, 64: {'data': 170, 'next_i': 65}, 65: {'data': 171, 'next_i': 66}, 66: {'data': 172, 'next_i': 67}, 67: {'data': 173, 'next_i': 68}, 68: {'data': 174, 'next_i': 69}, 69: {'data': 175, 'next_i': 70}, 70: {'data': 176, 'next_i': 71}, 71: {'data': 177, 'next_i': 72}, 72: {'data': 178, 'next_i': 73}, 73: {'data': 179, 'next_i': 74}, 74: {'data': 180, 'next_i': 75}, 75: {'data': 181, 'next_i': 76}, 76: {'data': 182, 'next_i': 77}, 77: {'data': 183, 'next_i': 78}, 78: {'data': 184, 'next_i': 79}, 79: {'data': 185, 'next_i': 80}, 80: {'data': 64, 'next_i': 81}, 81: {'data': 65, 'next_i': 82}, 82: {'data': 66, 'next_i': 83}, 83: {'data': 67, 'next_i': 84}, 84: {'data': 68, 'next_i': 85}, 85: {'data': 69, 'next_i': 86}, 86: {'data': 70, 'next_i': 87}, 87: {'data': 71, 'next_i': 88}, 88: {'data': 72, 'next_i': 89}, 89: {'data': 73, 'next_i': 90}, 90: {'data': 74, 'next_i': 91}, 91: {'data': 102, 'next_i': 92}, 92: {'data': 103, 'next_i': 93}, 93: {'data': 104, 'next_i': 94}, 94: {'data': 105, 'next_i': 95}, 95: {'data': 106, 'next_i': 96}, 96: {'data': 107, 'next_i': 97}, 97: {'data': 108, 'next_i': 98}, 98: {'data': 109, 'next_i': 99}, 99: {'data': 110, 'next_i': 100}, 100: {'data': 111, 'next_i': 101}, 101: {'data': 112, 'next_i': 102}, 102: {'data': 113, 'next_i': 103}, 103: {'data': 114, 'next_i': 104}, 104: {'data': 147, 'next_i': 105}, 105: {'data': 146, 'next_i': 106}, 106: {'data': 145, 'next_i': 107}, 107: {'data': 144, 'next_i': 108}, 108: {'data': 143, 'next_i': 109}, 109: {'data': 190, 'next_i': 110}, 110: {'data': 189, 'next_i': 111}, 111: {'data': 93, 'next_i': 112}, 112: {'data': 94, 'next_i': 113}, 113: {'data': 95, 'next_i': 114}, 114: {'data': 96, 'next_i': 115}, 115: {'data': 97, 'next_i': 116}, 116: {'data': 98, 'next_i': 117}, 117: {'data': 99, 'next_i': 118}, 118: {'data': 100, 'next_i': 119}, 119: {'data': 33, 'next_i': 120}, 120: {'data': 34, 'next_i': 121}, 121: {'data': 35, 'next_i': 122}, 122: {'data': 36, 'next_i': 123}, 123: {'data': 37, 'next_i': 124}, 124: {'data': 38, 'next_i': 125}, 125: {'data': 39, 'next_i': 126}, 126: {'data': 40, 'next_i': 127}, 127: {'data': 41, 'next_i': 128}, 128: {'data': 42, 'next_i': 129}, 129: {'data': 43, 'next_i': 130}, 130: {'data': 44, 'next_i': 131}, 131: {'data': 45, 'next_i': 132}, 132: {'data': 46, 'next_i': 133}, 133: {'data': 47, 'next_i': 134}, 134: {'data': 48, 'next_i': 135}, 135: {'data': 49, 'next_i': 136}, 136: {'data': 50, 'next_i': 137}, 137: {'data': 51, 'next_i': 138}, 138: {'data': 52, 'next_i': 139}, 139: {'data': 53, 'next_i': 140}, 140: {'data': 54, 'next_i': 141}, 141: {'data': 55, 'next_i': 142}, 142: {'data': 56, 'next_i': 143}, 143: {'data': 57, 'next_i': 144}, 144: {'data': 58, 'next_i': 145}, 145: {'data': 59, 'next_i': 146}, 146: {'data': 60, 'next_i': 147}, 147: {'data': 61, 'next_i': 148}, 148: {'data': 62, 'next_i': 149}, 149: {'data': 63, 'next_i': 150}, 150: {'data': 186, 'next_i': 151}, 151: {'data': 187, 'next_i': 152}, 152: {'data': 188, 'next_i': 153}, 153: {'data': 255, 'next_i': 154}, 154: {'data': 254, 'next_i': 155}, 155: {'data': 253, 'next_i': 156}, 156: {'data': 252, 'next_i': 157}, 157: {'data': 251, 'next_i': 158}, 158: {'data': 250, 'next_i': 159}, 159: {'data': 249, 'next_i': 160}, 160: {'data': 248, 'next_i': 161}, 161: {'data': 247, 'next_i': 162}, 162: {'data': 232, 'next_i': 163}, 163: {'data': 233, 'next_i': 164}, 164: {'data': 234, 'next_i': 165}, 165: {'data': 235, 'next_i': 166}, 166: {'data': 236, 'next_i': 167}, 167: {'data': 237, 'next_i': 168}, 168: {'data': 238, 'next_i': 169}, 169: {'data': 239, 'next_i': 170}, 170: {'data': 240, 'next_i': 171}, 171: {'data': 241, 'next_i': 172}, 172: {'data': 242, 'next_i': 173}, 173: {'data': 243, 'next_i': 174}, 174: {'data': 244, 'next_i': 175}, 175: {'data': 245, 'next_i': 176}, 176: {'data': 246, 'next_i': 177}, 177: {'data': 231, 'next_i': 178}, 178: {'data': 230, 'next_i': 179}, 179: {'data': 229, 'next_i': 180}, 180: {'data': 228, 'next_i': 181}, 181: {'data': 227, 'next_i': 182}, 182: {'data': 226, 'next_i': 183}, 183: {'data': 225, 'next_i': 184}, 184: {'data': 224, 'next_i': 185}, 185: {'data': 223, 'next_i': 186}, 186: {'data': 222, 'next_i': 187}, 187: {'data': 221, 'next_i': 188}, 188: {'data': 220, 'next_i': 189}, 189: {'data': 219, 'next_i': 190}, 190: {'data': 4, 'next_i': 191}, 191: {'data': 3, 'next_i': 192}, 192: {'data': 2, 'next_i': 193}, 193: {'data': 1, 'next_i': 194}, 194: {'data': 0, 'next_i': 195}, 195: {'data': 92, 'next_i': 196}, 196: {'data': 91, 'next_i': 197}, 197: {'data': 90, 'next_i': 198}, 198: {'data': 89, 'next_i': 199}, 199: {'data': 88, 'next_i': 200}, 200: {'data': 87, 'next_i': 201}, 201: {'data': 86, 'next_i': 202}, 202: {'data': 85, 'next_i': 203}, 203: {'data': 84, 'next_i': 204}, 204: {'data': 83, 'next_i': 205}, 205: {'data': 82, 'next_i': 206}, 206: {'data': 81, 'next_i': 207}, 207: {'data': 80, 'next_i': 208}, 208: {'data': 79, 'next_i': 209}, 209: {'data': 78, 'next_i': 210}, 210: {'data': 77, 'next_i': 211}, 211: {'data': 76, 'next_i': 212}, 212: {'data': 75, 'next_i': 213}, 213: {'data': 101, 'next_i': 214}, 214: {'data': 32, 'next_i': 215}, 215: {'data': 31, 'next_i': 216}, 216: {'data': 30, 'next_i': 217}, 217: {'data': 29, 'next_i': 218}, 218: {'data': 28, 'next_i': 219}, 219: {'data': 27, 'next_i': 220}, 220: {'data': 26, 'next_i': 221}, 221: {'data': 25, 'next_i': 222}, 222: {'data': 24, 'next_i': 223}, 223: {'data': 23, 'next_i': 224}, 224: {'data': 22, 'next_i': 225}, 225: {'data': 21, 'next_i': 226}, 226: {'data': 20, 'next_i': 227}, 227: {'data': 19, 'next_i': 228}, 228: {'data': 18, 'next_i': 229}, 229: {'data': 17, 'next_i': 230}, 230: {'data': 16, 'next_i': 231}, 231: {'data': 15, 'next_i': 232}, 232: {'data': 14, 'next_i': 233}, 233: {'data': 13, 'next_i': 234}, 234: {'data': 12, 'next_i': 235}, 235: {'data': 11, 'next_i': 236}, 236: {'data': 10, 'next_i': 237}, 237: {'data': 9, 'next_i': 238}, 238: {'data': 8, 'next_i': 239}, 239: {'data': 7, 'next_i': 240}, 240: {'data': 127, 'next_i': 241}, 241: {'data': 128, 'next_i': 242}, 242: {'data': 129, 'next_i': 243}, 243: {'data': 130, 'next_i': 244}, 244: {'data': 131, 'next_i': 245}, 245: {'data': 132, 'next_i': 246}, 246: {'data': 133, 'next_i': 247}, 247: {'data': 134, 'next_i': 248}, 248: {'data': 135, 'next_i': 249}, 249: {'data': 136, 'next_i': 250}, 250: {'data': 137, 'next_i': 251}, 251: {'data': 139, 'next_i': 252}, 252: {'data': 138, 'next_i': 253}, 253: {'data': 140, 'next_i': 254}, 254: {'data': 198, 'next_i': 255}, 255: {'data': 196, 'next_i': 0}}\n",
      "38415\n"
     ]
    }
   ],
   "source": [
    "print(linked_list)\n",
    "print(linked_list[0]['data'] * linked_list[1]['data'])"
   ]
  },
  {
   "cell_type": "code",
   "execution_count": 49,
   "id": "superb-metro",
   "metadata": {},
   "outputs": [
    {
     "data": {
      "text/plain": [
       "[189, 1, 111, 246, 254, 2, 0, 120, 215, 93, 255, 50, 84, 15, 94, 62]"
      ]
     },
     "execution_count": 49,
     "metadata": {},
     "output_type": "execute_result"
    }
   ],
   "source": [
    "data"
   ]
  },
  {
   "cell_type": "code",
   "execution_count": null,
   "id": "decent-baghdad",
   "metadata": {},
   "outputs": [],
   "source": []
  }
 ],
 "metadata": {
  "kernelspec": {
   "display_name": "Python 3",
   "language": "python",
   "name": "python3"
  },
  "language_info": {
   "codemirror_mode": {
    "name": "ipython",
    "version": 3
   },
   "file_extension": ".py",
   "mimetype": "text/x-python",
   "name": "python",
   "nbconvert_exporter": "python",
   "pygments_lexer": "ipython3",
   "version": "3.7.9"
  }
 },
 "nbformat": 4,
 "nbformat_minor": 5
}
