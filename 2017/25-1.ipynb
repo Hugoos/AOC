{
 "cells": [
  {
   "cell_type": "code",
   "execution_count": 37,
   "id": "developed-mattress",
   "metadata": {},
   "outputs": [
    {
     "data": {
      "text/plain": [
       "[['Begin in state A.', 'Perform a diagnostic checksum after 12134527 steps.'],\n",
       " ['In state A:',\n",
       "  '  If the current value is 0:',\n",
       "  '    - Write the value 1.',\n",
       "  '    - Move one slot to the right.',\n",
       "  '    - Continue with state B.',\n",
       "  '  If the current value is 1:',\n",
       "  '    - Write the value 0.',\n",
       "  '    - Move one slot to the left.',\n",
       "  '    - Continue with state C.'],\n",
       " ['In state B:',\n",
       "  '  If the current value is 0:',\n",
       "  '    - Write the value 1.',\n",
       "  '    - Move one slot to the left.',\n",
       "  '    - Continue with state A.',\n",
       "  '  If the current value is 1:',\n",
       "  '    - Write the value 1.',\n",
       "  '    - Move one slot to the right.',\n",
       "  '    - Continue with state C.'],\n",
       " ['In state C:',\n",
       "  '  If the current value is 0:',\n",
       "  '    - Write the value 1.',\n",
       "  '    - Move one slot to the right.',\n",
       "  '    - Continue with state A.',\n",
       "  '  If the current value is 1:',\n",
       "  '    - Write the value 0.',\n",
       "  '    - Move one slot to the left.',\n",
       "  '    - Continue with state D.'],\n",
       " ['In state D:',\n",
       "  '  If the current value is 0:',\n",
       "  '    - Write the value 1.',\n",
       "  '    - Move one slot to the left.',\n",
       "  '    - Continue with state E.',\n",
       "  '  If the current value is 1:',\n",
       "  '    - Write the value 1.',\n",
       "  '    - Move one slot to the left.',\n",
       "  '    - Continue with state C.'],\n",
       " ['In state E:',\n",
       "  '  If the current value is 0:',\n",
       "  '    - Write the value 1.',\n",
       "  '    - Move one slot to the right.',\n",
       "  '    - Continue with state F.',\n",
       "  '  If the current value is 1:',\n",
       "  '    - Write the value 1.',\n",
       "  '    - Move one slot to the right.',\n",
       "  '    - Continue with state A.'],\n",
       " ['In state F:',\n",
       "  '  If the current value is 0:',\n",
       "  '    - Write the value 1.',\n",
       "  '    - Move one slot to the right.',\n",
       "  '    - Continue with state A.',\n",
       "  '  If the current value is 1:',\n",
       "  '    - Write the value 1.',\n",
       "  '    - Move one slot to the right.',\n",
       "  '    - Continue with state E.']]"
      ]
     },
     "execution_count": 37,
     "metadata": {},
     "output_type": "execute_result"
    }
   ],
   "source": [
    "import numpy as np\n",
    "data = \"\"\"\n",
    "Begin in state A.\n",
    "Perform a diagnostic checksum after 6 steps.\n",
    "\n",
    "In state A:\n",
    "  If the current value is 0:\n",
    "    - Write the value 1.\n",
    "    - Move one slot to the right.\n",
    "    - Continue with state B.\n",
    "  If the current value is 1:\n",
    "    - Write the value 0.\n",
    "    - Move one slot to the left.\n",
    "    - Continue with state B.\n",
    "\n",
    "In state B:\n",
    "  If the current value is 0:\n",
    "    - Write the value 1.\n",
    "    - Move one slot to the left.\n",
    "    - Continue with state A.\n",
    "  If the current value is 1:\n",
    "    - Write the value 1.\n",
    "    - Move one slot to the right.\n",
    "    - Continue with state A.\n",
    "\"\"\"\n",
    "with open(\"input_25.txt\", 'r') as f:\n",
    "    data = f.read()\n",
    "\n",
    "data = [[y for y in x.split(\"\\n\") if not y == \"\"] for x in data.split(\"\\n\\n\") if not x == \"\"]\n",
    "\n",
    "#data= data.replace(\"\\n\", \"\")\n",
    "\n",
    "data"
   ]
  },
  {
   "cell_type": "code",
   "execution_count": 38,
   "id": "constant-portland",
   "metadata": {},
   "outputs": [
    {
     "data": {
      "text/plain": [
       "('A', 12134527)"
      ]
     },
     "execution_count": 38,
     "metadata": {},
     "output_type": "execute_result"
    }
   ],
   "source": [
    "curr_state = data[0][0][-2]\n",
    "steps = int(data[0][1].split(\" \")[-2])\n",
    "data.pop(0)\n",
    "curr_state,steps\n"
   ]
  },
  {
   "cell_type": "code",
   "execution_count": 39,
   "id": "applicable-exception",
   "metadata": {},
   "outputs": [
    {
     "data": {
      "text/plain": [
       "{'A': {0: [1, 1, 'B'], 1: [0, -1, 'C']},\n",
       " 'B': {0: [1, -1, 'A'], 1: [1, 1, 'C']},\n",
       " 'C': {0: [1, 1, 'A'], 1: [0, -1, 'D']},\n",
       " 'D': {0: [1, -1, 'E'], 1: [1, -1, 'C']},\n",
       " 'E': {0: [1, 1, 'F'], 1: [1, 1, 'A']},\n",
       " 'F': {0: [1, 1, 'A'], 1: [1, 1, 'E']}}"
      ]
     },
     "execution_count": 39,
     "metadata": {},
     "output_type": "execute_result"
    }
   ],
   "source": [
    "states = {}\n",
    "move = {\"right.\": 1, \"left.\": -1}\n",
    "for state_rules in data:\n",
    "    state = state_rules[0][-2]\n",
    "    states[state] = {}\n",
    "    \n",
    "    bit = int(state_rules[1][-2])\n",
    "    states[state][bit] = []\n",
    "    states[state][bit].append(int(state_rules[2][-2]))\n",
    "    states[state][bit].append(move[state_rules[3].split(\" \")[-1]])\n",
    "    states[state][bit].append(state_rules[4][-2])\n",
    "    \n",
    "    bit = int(state_rules[5][-2])\n",
    "    states[state][bit] = []\n",
    "    states[state][bit].append(int(state_rules[6][-2]))\n",
    "    states[state][bit].append(move[state_rules[7].split(\" \")[-1]])\n",
    "    states[state][bit].append(state_rules[8][-2])\n",
    "states"
   ]
  },
  {
   "cell_type": "code",
   "execution_count": 40,
   "id": "important-mayor",
   "metadata": {},
   "outputs": [
    {
     "name": "stdout",
     "output_type": "stream",
     "text": [
      "5593\n"
     ]
    }
   ],
   "source": [
    "tape = {0: 0}\n",
    "pos = 0\n",
    "num_steps = 0\n",
    "while num_steps < steps:\n",
    "    num_steps += 1\n",
    "    tape_val = tape[pos]\n",
    "    instructions = states[curr_state][tape_val]\n",
    "    tape[pos] = instructions[0]\n",
    "    pos += instructions[1]\n",
    "    if not pos in tape.keys():\n",
    "        tape[pos] = 0\n",
    "    curr_state = instructions[2]\n",
    "print(sum([v for k,v in tape.items()]))"
   ]
  },
  {
   "cell_type": "code",
   "execution_count": 36,
   "id": "proprietary-accuracy",
   "metadata": {},
   "outputs": [
    {
     "data": {
      "text/plain": [
       "{0: 1, -1: 1, 1: 0, 2: 1}"
      ]
     },
     "execution_count": 36,
     "metadata": {},
     "output_type": "execute_result"
    }
   ],
   "source": [
    "tape"
   ]
  }
 ],
 "metadata": {
  "kernelspec": {
   "display_name": "Python 3",
   "language": "python",
   "name": "python3"
  },
  "language_info": {
   "codemirror_mode": {
    "name": "ipython",
    "version": 3
   },
   "file_extension": ".py",
   "mimetype": "text/x-python",
   "name": "python",
   "nbconvert_exporter": "python",
   "pygments_lexer": "ipython3",
   "version": "3.7.9"
  }
 },
 "nbformat": 4,
 "nbformat_minor": 5
}
