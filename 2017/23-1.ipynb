{
 "cells": [
  {
   "cell_type": "code",
   "execution_count": 12,
   "id": "developed-mattress",
   "metadata": {},
   "outputs": [
    {
     "data": {
      "text/plain": [
       "[['set', 'b', '57'],\n",
       " ['set', 'c', 'b'],\n",
       " ['jnz', 'a', '2'],\n",
       " ['jnz', '1', '5'],\n",
       " ['mul', 'b', '100'],\n",
       " ['sub', 'b', '-100000'],\n",
       " ['set', 'c', 'b'],\n",
       " ['sub', 'c', '-17000'],\n",
       " ['set', 'f', '1'],\n",
       " ['set', 'd', '2'],\n",
       " ['set', 'e', '2'],\n",
       " ['set', 'g', 'd'],\n",
       " ['mul', 'g', 'e'],\n",
       " ['sub', 'g', 'b'],\n",
       " ['jnz', 'g', '2'],\n",
       " ['set', 'f', '0'],\n",
       " ['sub', 'e', '-1'],\n",
       " ['set', 'g', 'e'],\n",
       " ['sub', 'g', 'b'],\n",
       " ['jnz', 'g', '-8'],\n",
       " ['sub', 'd', '-1'],\n",
       " ['set', 'g', 'd'],\n",
       " ['sub', 'g', 'b'],\n",
       " ['jnz', 'g', '-13'],\n",
       " ['jnz', 'f', '2'],\n",
       " ['sub', 'h', '-1'],\n",
       " ['set', 'g', 'b'],\n",
       " ['sub', 'g', 'c'],\n",
       " ['jnz', 'g', '2'],\n",
       " ['jnz', '1', '3'],\n",
       " ['sub', 'b', '-17'],\n",
       " ['jnz', '1', '-23']]"
      ]
     },
     "execution_count": 12,
     "metadata": {},
     "output_type": "execute_result"
    }
   ],
   "source": [
    "import numpy as np\n",
    "data = \"\"\"\n",
    "\n",
    "\"\"\"\n",
    "with open(\"input_23.txt\", 'r') as f:\n",
    "    data = f.read()\n",
    "\n",
    "data = [x.split(\" \") for x in data.split(\"\\n\") if not x == \"\"]\n",
    "\n",
    "#data= data.replace(\"\\n\", \"\")\n",
    "\n",
    "data"
   ]
  },
  {
   "cell_type": "code",
   "execution_count": 13,
   "id": "beginning-politics",
   "metadata": {},
   "outputs": [],
   "source": [
    "import sys\n",
    "import string\n",
    "def machine(pid=None):\n",
    "    numSend = 0\n",
    "    numMul = 0\n",
    "    #print(f\"hello {pid}\")\n",
    "    #sys.stdout.flush()\n",
    "    if pid:\n",
    "        registers = {\"p\": pid}\n",
    "    else:\n",
    "        registers = {}\n",
    "        for x in string.ascii_lowercase[:8]:\n",
    "            registers[x] = 0\n",
    "    print(registers)\n",
    "    ptr = 0\n",
    "    while ptr < len(data):    \n",
    "        op, X, *Y = data[ptr]\n",
    "        Y = Y or None\n",
    "        if Y:\n",
    "            Y = Y[0]\n",
    "            if Y.isalpha():\n",
    "                Y = registers[Y] #getting register value\n",
    "            Y = int(Y)\n",
    "        for x in [x for x in [X, Y] if x]:\n",
    "            if str(x).isalpha() and not x in registers.keys():\n",
    "                registers[x] = 0\n",
    "\n",
    "        if op == \"snd\":\n",
    "            #send to other program\n",
    "            if X in registers.keys():\n",
    "                X = registers[X]\n",
    "            cv.acquire()\n",
    "            #print(f\"sending {X}\")\n",
    "            box = sharedBox[(pid+1)%2]\n",
    "            box.append(X)\n",
    "            sharedBox[(pid+1)%2] = box\n",
    "            if pid == 1:\n",
    "                numSend += 1\n",
    "            cv.notify()\n",
    "            cv.release()\n",
    "        elif op == \"set\":\n",
    "            #set value X = val(Y)\n",
    "            registers[X] = Y  \n",
    "        elif op == \"add\":\n",
    "            #add value X:= val(X) + val(Y)\n",
    "            registers[X] = registers[X] + Y \n",
    "        elif op == \"mul\":\n",
    "            #multiply value X:= val(X) * val(Y)\n",
    "            registers[X] = registers[X] * Y\n",
    "            numMul += 1\n",
    "        elif op == \"mod\":\n",
    "            #modulo value X:= val(X) % val(Y)\n",
    "            registers[X] = registers[X] % Y\n",
    "        elif op == \"rcv\":\n",
    "            #receive from box\n",
    "            cv.acquire()\n",
    "            box = sharedBox[pid]\n",
    "            if len(box) == 0:\n",
    "                if pid == 1:\n",
    "                    print(numSend)\n",
    "                cv.wait()\n",
    "                box = sharedBox[pid]\n",
    "            registers[X] = box.pop(0)\n",
    "            #print(f\"received {registers[X]}\")\n",
    "            sharedBox[pid] = box\n",
    "            cv.release()\n",
    "        elif op == \"jgz\":\n",
    "            #jump\n",
    "            if X in registers.keys():\n",
    "                X = registers[X]\n",
    "            if int(X) > 0:\n",
    "                ptr += Y\n",
    "                continue\n",
    "        elif op == \"jnz\":\n",
    "            if X in registers.keys():\n",
    "                X = registers[X]\n",
    "            if not int(X) == 0:\n",
    "                ptr += Y\n",
    "                continue\n",
    "        elif op == \"sub\":\n",
    "            registers[X] = registers[X] - Y \n",
    "        else:\n",
    "            print(f\"unknown op {op}\")\n",
    "        ptr += 1\n",
    "    print(numMul)"
   ]
  },
  {
   "cell_type": "code",
   "execution_count": 14,
   "id": "stainless-strengthening",
   "metadata": {},
   "outputs": [
    {
     "name": "stdout",
     "output_type": "stream",
     "text": [
      "{'a': 0, 'b': 0, 'c': 0, 'd': 0, 'e': 0, 'f': 0, 'g': 0, 'h': 0}\n",
      "3025\n"
     ]
    }
   ],
   "source": [
    "machine()"
   ]
  },
  {
   "cell_type": "code",
   "execution_count": null,
   "id": "antique-invention",
   "metadata": {},
   "outputs": [],
   "source": []
  }
 ],
 "metadata": {
  "kernelspec": {
   "display_name": "Python 3",
   "language": "python",
   "name": "python3"
  },
  "language_info": {
   "codemirror_mode": {
    "name": "ipython",
    "version": 3
   },
   "file_extension": ".py",
   "mimetype": "text/x-python",
   "name": "python",
   "nbconvert_exporter": "python",
   "pygments_lexer": "ipython3",
   "version": "3.7.9"
  }
 },
 "nbformat": 4,
 "nbformat_minor": 5
}
