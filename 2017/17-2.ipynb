{
 "cells": [
  {
   "cell_type": "code",
   "execution_count": 1,
   "id": "developed-mattress",
   "metadata": {},
   "outputs": [],
   "source": [
    "#with open(\"input_16.txt\", 'r') as f:\n",
    "#    data = f.read()\n",
    "#data= data.replace(\"\\n\", \"\")\n",
    "#data = [[int(y) for y in x.split(\": \")] for x in data.split(\"\\n\") if not x == \"\"]\n",
    "\n",
    "\n",
    "linked_list = {}\n",
    "\n",
    "\n",
    "#for i, char in enumerate(l):\n",
    "#    linked_list[i] = {\"char\": char, \"next_i\": (i+1)%(len(l))}\n",
    "linked_list[0] = 0\n",
    "ss = 3\n",
    "ss = 354\n",
    "lwv = 50000000\n",
    "cid = 0"
   ]
  },
  {
   "cell_type": "code",
   "execution_count": 2,
   "id": "desirable-december",
   "metadata": {},
   "outputs": [
    {
     "name": "stderr",
     "output_type": "stream",
     "text": [
      "100%|███████████████████████████████████████████████████████████████████| 50000000/50000000 [51:43<00:00, 16110.62it/s]\n"
     ]
    }
   ],
   "source": [
    "from tqdm import tqdm\n",
    "for x in tqdm(range(1,lwv+1)):\n",
    "    for i in range(ss):\n",
    "        cid = linked_list[cid]\n",
    "    next_cid = linked_list[cid]\n",
    "    linked_list[cid] = x\n",
    "    linked_list[x] = next_cid\n",
    "    cid = x\n",
    "    #print(linked_list)\n",
    "    "
   ]
  },
  {
   "cell_type": "code",
   "execution_count": 3,
   "id": "motivated-partition",
   "metadata": {},
   "outputs": [
    {
     "data": {
      "text/plain": [
       "10242889"
      ]
     },
     "execution_count": 3,
     "metadata": {},
     "output_type": "execute_result"
    }
   ],
   "source": [
    "linked_list[0]"
   ]
  },
  {
   "cell_type": "code",
   "execution_count": null,
   "id": "hollow-ranking",
   "metadata": {},
   "outputs": [],
   "source": []
  }
 ],
 "metadata": {
  "kernelspec": {
   "display_name": "Python 3",
   "language": "python",
   "name": "python3"
  },
  "language_info": {
   "codemirror_mode": {
    "name": "ipython",
    "version": 3
   },
   "file_extension": ".py",
   "mimetype": "text/x-python",
   "name": "python",
   "nbconvert_exporter": "python",
   "pygments_lexer": "ipython3",
   "version": "3.7.9"
  }
 },
 "nbformat": 4,
 "nbformat_minor": 5
}
