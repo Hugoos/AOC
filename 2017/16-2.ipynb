{
 "cells": [
  {
   "cell_type": "code",
   "execution_count": 20,
   "id": "developed-mattress",
   "metadata": {},
   "outputs": [
    {
     "name": "stdout",
     "output_type": "stream",
     "text": [
      "['a', 'b', 'c', 'd', 'e', 'f', 'g', 'h', 'i', 'j', 'k', 'l', 'm', 'n', 'o', 'p']\n"
     ]
    }
   ],
   "source": [
    "import string\n",
    "with open(\"input_16.txt\", 'r') as f:\n",
    "    data = f.read()\n",
    "data= data.replace(\"\\n\", \"\")\n",
    "#data = [[int(y) for y in x.split(\": \")] for x in data.split(\"\\n\") if not x == \"\"]\n",
    "#data = \"s1,x3/4,pe/b\"\n",
    "\n",
    "linked_list = {}\n",
    "alphabet_string = string.ascii_lowercase\n",
    "l = list(alphabet_string)[:16]\n",
    "print(l)\n",
    "#data = []\n",
    "\n",
    "#for i, char in enumerate(l):\n",
    "#    linked_list[i] = {\"char\": char, \"next_i\": (i+1)%(len(l))}\n",
    "#linked_list\n",
    "combinationsDict = {}"
   ]
  },
  {
   "cell_type": "code",
   "execution_count": 21,
   "id": "listed-kinase",
   "metadata": {},
   "outputs": [
    {
     "name": "stderr",
     "output_type": "stream",
     "text": [
      "60it [00:01, 54.99it/s]"
     ]
    },
    {
     "name": "stdout",
     "output_type": "stream",
     "text": [
      "60\n",
      "40\n",
      "['abihnfkojcmegldp']\n"
     ]
    },
    {
     "name": "stderr",
     "output_type": "stream",
     "text": [
      "\n"
     ]
    }
   ],
   "source": [
    "from tqdm import tqdm\n",
    "for i,x in tqdm(enumerate(range(1000000000))):\n",
    "    for move in data.split(\",\"):\n",
    "        m_type, content = move[0],move[1:]\n",
    "        if m_type == \"s\":\n",
    "            #do spin\n",
    "            l = l[-int(content):] + l[:-int(content)]\n",
    "            #print(l)\n",
    "\n",
    "        elif m_type == \"x\":\n",
    "            #do position swap\n",
    "            p1,p2 = map(int, content.split(\"/\"))\n",
    "            p1_char = l[p1]\n",
    "            p2_char = l[p2]\n",
    "            l[p1] = p2_char\n",
    "            l[p2] = p1_char\n",
    "\n",
    "        elif m_type == \"p\":\n",
    "            #do program swap\n",
    "            s1,s2 = map(str, content.split(\"/\"))\n",
    "            s1_i = [i for i,x in enumerate(l) if x == s1][0]\n",
    "            s2_i = [i for i,x in enumerate(l) if x == s2][0]\n",
    "            l[s1_i] = s2\n",
    "            l[s2_i] = s1\n",
    "        #print(l)\n",
    "    com_l = len(combinationsDict.keys())\n",
    "    combinationsDict[\"\".join(l)] = i\n",
    "    if len(combinationsDict.keys()) == com_l:\n",
    "        print(len(combinationsDict.keys()))\n",
    "        break\n",
    "pos = 1000000000 % len(combinationsDict.keys())\n",
    "print(pos)\n",
    "print([k for k,v in combinationsDict.items() if v == (pos-1)])"
   ]
  }
 ],
 "metadata": {
  "kernelspec": {
   "display_name": "Python 3",
   "language": "python",
   "name": "python3"
  },
  "language_info": {
   "codemirror_mode": {
    "name": "ipython",
    "version": 3
   },
   "file_extension": ".py",
   "mimetype": "text/x-python",
   "name": "python",
   "nbconvert_exporter": "python",
   "pygments_lexer": "ipython3",
   "version": "3.7.9"
  }
 },
 "nbformat": 4,
 "nbformat_minor": 5
}
