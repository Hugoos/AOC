{
 "cells": [
  {
   "cell_type": "code",
   "execution_count": 12,
   "id": "developed-mattress",
   "metadata": {},
   "outputs": [],
   "source": [
    "data = [0,2,7,0]\n",
    "with open(\"input_6.txt\", 'r') as f:\n",
    "    data = f.read()\n",
    "data = [int(x) for x in data.split(\"\\t\") if not x == \"\"]"
   ]
  },
  {
   "cell_type": "code",
   "execution_count": 13,
   "id": "stable-execution",
   "metadata": {},
   "outputs": [
    {
     "name": "stdout",
     "output_type": "stream",
     "text": [
      "[0, 14, 13, 12, 11, 10, 8, 8, 6, 6, 5, 3, 3, 2, 1, 10] 2392\n"
     ]
    }
   ],
   "source": [
    "seenDict = {}\n",
    "rounds = 0\n",
    "while not tuple(data) in seenDict.keys():\n",
    "    rounds += 1\n",
    "    seenDict[tuple(data)] = rounds\n",
    "    selected = data.index(max(data))\n",
    "    val = data[selected]\n",
    "    data[selected] = 0\n",
    "    while val > 0:\n",
    "        selected = (selected + 1) % len(data)\n",
    "        data[selected] += 1\n",
    "        val -= 1\n",
    "print(data, rounds- seenDict[tuple(data)]+1)"
   ]
  },
  {
   "cell_type": "code",
   "execution_count": null,
   "id": "close-encounter",
   "metadata": {},
   "outputs": [],
   "source": [
    "2391 too low"
   ]
  }
 ],
 "metadata": {
  "kernelspec": {
   "display_name": "Python 3",
   "language": "python",
   "name": "python3"
  },
  "language_info": {
   "codemirror_mode": {
    "name": "ipython",
    "version": 3
   },
   "file_extension": ".py",
   "mimetype": "text/x-python",
   "name": "python",
   "nbconvert_exporter": "python",
   "pygments_lexer": "ipython3",
   "version": "3.7.9"
  }
 },
 "nbformat": 4,
 "nbformat_minor": 5
}
