{
 "cells": [
  {
   "cell_type": "code",
   "execution_count": 3,
   "id": "developed-mattress",
   "metadata": {},
   "outputs": [],
   "source": [
    "data = \"\"\"\n",
    "5 9 2 8\n",
    "9 4 7 3\n",
    "3 8 6 5\n",
    "\"\"\"\n",
    "\n",
    "with open(\"input_4.txt\", 'r') as f:\n",
    "    data = f.read()\n",
    "data = [x for x in data.split(\"\\n\") if not x == \"\"]"
   ]
  },
  {
   "cell_type": "code",
   "execution_count": 11,
   "id": "contrary-entry",
   "metadata": {},
   "outputs": [
    {
     "name": "stdout",
     "output_type": "stream",
     "text": [
      "383\n"
     ]
    }
   ],
   "source": [
    "numValid = 0\n",
    "for passphrase in data:\n",
    "    phraseList = []\n",
    "    valid = True\n",
    "    for password in passphrase.split(\" \"):\n",
    "        if password in phraseList:\n",
    "            valid = False\n",
    "            break\n",
    "        phraseList.append(password)\n",
    "    if valid:\n",
    "        numValid += 1\n",
    "print(numValid)"
   ]
  },
  {
   "cell_type": "code",
   "execution_count": null,
   "id": "after-aaron",
   "metadata": {},
   "outputs": [],
   "source": []
  }
 ],
 "metadata": {
  "kernelspec": {
   "display_name": "Python 3",
   "language": "python",
   "name": "python3"
  },
  "language_info": {
   "codemirror_mode": {
    "name": "ipython",
    "version": 3
   },
   "file_extension": ".py",
   "mimetype": "text/x-python",
   "name": "python",
   "nbconvert_exporter": "python",
   "pygments_lexer": "ipython3",
   "version": "3.7.9"
  }
 },
 "nbformat": 4,
 "nbformat_minor": 5
}
