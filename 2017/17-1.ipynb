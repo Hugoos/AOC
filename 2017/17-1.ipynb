{
 "cells": [
  {
   "cell_type": "code",
   "execution_count": 29,
   "id": "developed-mattress",
   "metadata": {},
   "outputs": [],
   "source": [
    "#with open(\"input_16.txt\", 'r') as f:\n",
    "#    data = f.read()\n",
    "#data= data.replace(\"\\n\", \"\")\n",
    "#data = [[int(y) for y in x.split(\": \")] for x in data.split(\"\\n\") if not x == \"\"]\n",
    "\n",
    "\n",
    "linked_list = {}\n",
    "\n",
    "\n",
    "#for i, char in enumerate(l):\n",
    "#    linked_list[i] = {\"char\": char, \"next_i\": (i+1)%(len(l))}\n",
    "linked_list[0] = 0\n",
    "ss = 3\n",
    "ss = 354\n",
    "lwv = 2017\n",
    "cid = 0"
   ]
  },
  {
   "cell_type": "code",
   "execution_count": 30,
   "id": "desirable-december",
   "metadata": {},
   "outputs": [],
   "source": [
    "for x in range(1,lwv+1):\n",
    "    for i in range(ss):\n",
    "        cid = linked_list[cid]\n",
    "    next_cid = linked_list[cid]\n",
    "    linked_list[cid] = x\n",
    "    linked_list[x] = next_cid\n",
    "    cid = x\n",
    "    #print(linked_list)\n",
    "    "
   ]
  },
  {
   "cell_type": "code",
   "execution_count": 31,
   "id": "motivated-partition",
   "metadata": {},
   "outputs": [
    {
     "data": {
      "text/plain": [
       "2000"
      ]
     },
     "execution_count": 31,
     "metadata": {},
     "output_type": "execute_result"
    }
   ],
   "source": [
    "linked_list[2017]"
   ]
  }
 ],
 "metadata": {
  "kernelspec": {
   "display_name": "Python 3",
   "language": "python",
   "name": "python3"
  },
  "language_info": {
   "codemirror_mode": {
    "name": "ipython",
    "version": 3
   },
   "file_extension": ".py",
   "mimetype": "text/x-python",
   "name": "python",
   "nbconvert_exporter": "python",
   "pygments_lexer": "ipython3",
   "version": "3.7.9"
  }
 },
 "nbformat": 4,
 "nbformat_minor": 5
}
