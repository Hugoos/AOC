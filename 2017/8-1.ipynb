{
 "cells": [
  {
   "cell_type": "code",
   "execution_count": 20,
   "id": "developed-mattress",
   "metadata": {},
   "outputs": [],
   "source": [
    "data = \"\"\"\n",
    "b inc 5 if a > 1\n",
    "a inc 1 if b < 5\n",
    "c dec -10 if a >= 1\n",
    "c inc -20 if c == 10\n",
    "\"\"\"\n",
    "#with open(\"input_8.txt\", 'r') as f:\n",
    "#    data = f.read()\n",
    "data = [x for x in data.split(\"\\n\") if not x == \"\"]"
   ]
  },
  {
   "cell_type": "code",
   "execution_count": 25,
   "id": "right-arctic",
   "metadata": {},
   "outputs": [],
   "source": [
    "register = {}\n",
    "for line in data:\n",
    "    line = line.split(\" \")\n",
    "    r1 = line[0]\n",
    "    r2 = line[4]\n",
    "    if not r1 in register:\n",
    "        register[r1] = 0\n",
    "    if not r2 in register:\n",
    "        register[r2] = 0\n",
    "    condition = str(register[r2]) + line[5] + line[6]\n",
    "    if eval(condition): # dangerous\n",
    "        if line[1] == 'inc':\n",
    "            register[r1] = register[r1] + int(line[2])\n",
    "        elif line[1] == 'dec':\n",
    "            register[r1] = register[r1] - int(line[2])\n",
    "        else:\n",
    "            print(\"error\")"
   ]
  },
  {
   "cell_type": "code",
   "execution_count": 26,
   "id": "moderate-transsexual",
   "metadata": {},
   "outputs": [
    {
     "data": {
      "text/plain": [
       "{'b': 0, 'a': 1, 'c': -10}"
      ]
     },
     "execution_count": 26,
     "metadata": {},
     "output_type": "execute_result"
    }
   ],
   "source": [
    "register"
   ]
  },
  {
   "cell_type": "code",
   "execution_count": null,
   "id": "deadly-stations",
   "metadata": {},
   "outputs": [],
   "source": []
  }
 ],
 "metadata": {
  "kernelspec": {
   "display_name": "Python 3",
   "language": "python",
   "name": "python3"
  },
  "language_info": {
   "codemirror_mode": {
    "name": "ipython",
    "version": 3
   },
   "file_extension": ".py",
   "mimetype": "text/x-python",
   "name": "python",
   "nbconvert_exporter": "python",
   "pygments_lexer": "ipython3",
   "version": "3.7.9"
  }
 },
 "nbformat": 4,
 "nbformat_minor": 5
}
