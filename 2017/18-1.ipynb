{
 "cells": [
  {
   "cell_type": "code",
   "execution_count": 89,
   "id": "developed-mattress",
   "metadata": {},
   "outputs": [],
   "source": [
    "data = \"\"\"\n",
    "set a 1\n",
    "add a 2\n",
    "mul a a\n",
    "mod a 5\n",
    "snd a\n",
    "set a 0\n",
    "rcv a\n",
    "jgz a -1\n",
    "set a 1\n",
    "jgz a -2\n",
    "\"\"\"\n",
    "with open(\"input_18.txt\", 'r') as f:\n",
    "    data = f.read()\n",
    "\n",
    "data = [x.split(\" \") for x in data.split(\"\\n\") if not x == \"\"]\n",
    "registers = {}\n",
    "#data= data.replace(\"\\n\", \"\")"
   ]
  },
  {
   "cell_type": "code",
   "execution_count": 90,
   "id": "complex-california",
   "metadata": {},
   "outputs": [
    {
     "data": {
      "text/plain": [
       "[['set', 'i', '31'],\n",
       " ['set', 'a', '1'],\n",
       " ['mul', 'p', '17'],\n",
       " ['jgz', 'p', 'p'],\n",
       " ['mul', 'a', '2'],\n",
       " ['add', 'i', '-1'],\n",
       " ['jgz', 'i', '-2'],\n",
       " ['add', 'a', '-1'],\n",
       " ['set', 'i', '127'],\n",
       " ['set', 'p', '826'],\n",
       " ['mul', 'p', '8505'],\n",
       " ['mod', 'p', 'a'],\n",
       " ['mul', 'p', '129749'],\n",
       " ['add', 'p', '12345'],\n",
       " ['mod', 'p', 'a'],\n",
       " ['set', 'b', 'p'],\n",
       " ['mod', 'b', '10000'],\n",
       " ['snd', 'b'],\n",
       " ['add', 'i', '-1'],\n",
       " ['jgz', 'i', '-9'],\n",
       " ['jgz', 'a', '3'],\n",
       " ['rcv', 'b'],\n",
       " ['jgz', 'b', '-1'],\n",
       " ['set', 'f', '0'],\n",
       " ['set', 'i', '126'],\n",
       " ['rcv', 'a'],\n",
       " ['rcv', 'b'],\n",
       " ['set', 'p', 'a'],\n",
       " ['mul', 'p', '-1'],\n",
       " ['add', 'p', 'b'],\n",
       " ['jgz', 'p', '4'],\n",
       " ['snd', 'a'],\n",
       " ['set', 'a', 'b'],\n",
       " ['jgz', '1', '3'],\n",
       " ['snd', 'b'],\n",
       " ['set', 'f', '1'],\n",
       " ['add', 'i', '-1'],\n",
       " ['jgz', 'i', '-11'],\n",
       " ['snd', 'a'],\n",
       " ['jgz', 'f', '-16'],\n",
       " ['jgz', 'a', '-19']]"
      ]
     },
     "execution_count": 90,
     "metadata": {},
     "output_type": "execute_result"
    }
   ],
   "source": [
    "data"
   ]
  },
  {
   "cell_type": "code",
   "execution_count": 91,
   "id": "improving-december",
   "metadata": {},
   "outputs": [
    {
     "name": "stdout",
     "output_type": "stream",
     "text": [
      "7071\n"
     ]
    }
   ],
   "source": [
    "ptr = 0\n",
    "lastPlayed = None\n",
    "while ptr < len(data):    \n",
    "    op, X, *Y = data[ptr]\n",
    "    Y = Y or None\n",
    "    if Y:\n",
    "        Y = Y[0]\n",
    "        if Y.isalpha():\n",
    "            Y = registers[Y] #getting register value\n",
    "        Y = int(Y)\n",
    "    for x in [x for x in [X, Y] if x]:\n",
    "        if str(x).isalpha() and not x in registers.keys():\n",
    "            registers[x] = 0\n",
    "    \n",
    "    if op == \"snd\":\n",
    "        #play sound freq val(X)\n",
    "        lastPlayed = registers[X]\n",
    "        if 37 <= lastPlayed <= 32767:\n",
    "            winsound.Beep(lastPlayed, 250)\n",
    "        else:\n",
    "            print(\"hz too low\")\n",
    "    elif op == \"set\":\n",
    "        #set value X = val(Y)\n",
    "        registers[X] = Y  \n",
    "    elif op == \"add\":\n",
    "        #add value X:= val(X) + val(Y)\n",
    "        registers[X] = registers[X] + Y \n",
    "    elif op == \"mul\":\n",
    "        #multiply value X:= val(X) * val(Y)\n",
    "        registers[X] = registers[X] * Y\n",
    "    elif op == \"mod\":\n",
    "        #modulo value X:= val(X) % val(Y)\n",
    "        registers[X] = registers[X] % Y\n",
    "    elif op == \"rcv\":\n",
    "        #recover value\n",
    "        print(lastPlayed)\n",
    "        break\n",
    "    elif op == \"jgz\":\n",
    "        #jump\n",
    "        if X in registers.keys():\n",
    "            X = registers[X]\n",
    "        if int(X) > 0:\n",
    "            ptr += Y\n",
    "            continue\n",
    "    ptr += 1"
   ]
  },
  {
   "cell_type": "code",
   "execution_count": null,
   "id": "clean-horror",
   "metadata": {},
   "outputs": [],
   "source": [
    "registers"
   ]
  },
  {
   "cell_type": "code",
   "execution_count": 54,
   "id": "labeled-nickel",
   "metadata": {},
   "outputs": [],
   "source": [
    "import winsound\n",
    "frequency = 400 # Hertz\n",
    "duration  = 500 # milliseconds\n",
    "winsound.Beep(frequency, duration)"
   ]
  },
  {
   "cell_type": "code",
   "execution_count": null,
   "id": "naval-enclosure",
   "metadata": {},
   "outputs": [],
   "source": []
  }
 ],
 "metadata": {
  "kernelspec": {
   "display_name": "Python 3",
   "language": "python",
   "name": "python3"
  },
  "language_info": {
   "codemirror_mode": {
    "name": "ipython",
    "version": 3
   },
   "file_extension": ".py",
   "mimetype": "text/x-python",
   "name": "python",
   "nbconvert_exporter": "python",
   "pygments_lexer": "ipython3",
   "version": "3.7.9"
  }
 },
 "nbformat": 4,
 "nbformat_minor": 5
}
