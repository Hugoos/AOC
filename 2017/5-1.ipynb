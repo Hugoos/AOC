{
 "cells": [
  {
   "cell_type": "code",
   "execution_count": 15,
   "id": "developed-mattress",
   "metadata": {},
   "outputs": [],
   "source": [
    "data = \"\"\"\n",
    "0\n",
    "3\n",
    "0\n",
    "1\n",
    "-3\n",
    "\"\"\"\n",
    "\n",
    "with open(\"input_5.txt\", 'r') as f:\n",
    "    data = f.read()\n",
    "data = [int(x) for x in data.split(\"\\n\") if not x == \"\"]"
   ]
  },
  {
   "cell_type": "code",
   "execution_count": 17,
   "id": "strategic-statement",
   "metadata": {},
   "outputs": [
    {
     "name": "stdout",
     "output_type": "stream",
     "text": [
      "372139\n"
     ]
    }
   ],
   "source": [
    "ptr = 0\n",
    "count = 0\n",
    "while ptr < len(data):\n",
    "    count += 1\n",
    "    old_ptr = ptr\n",
    "    ptr = ptr + data[ptr]\n",
    "    data[old_ptr] = data[old_ptr] + 1\n",
    "print(count)"
   ]
  }
 ],
 "metadata": {
  "kernelspec": {
   "display_name": "Python 3",
   "language": "python",
   "name": "python3"
  },
  "language_info": {
   "codemirror_mode": {
    "name": "ipython",
    "version": 3
   },
   "file_extension": ".py",
   "mimetype": "text/x-python",
   "name": "python",
   "nbconvert_exporter": "python",
   "pygments_lexer": "ipython3",
   "version": "3.7.9"
  }
 },
 "nbformat": 4,
 "nbformat_minor": 5
}
