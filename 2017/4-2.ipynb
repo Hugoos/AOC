{
 "cells": [
  {
   "cell_type": "code",
   "execution_count": 6,
   "id": "developed-mattress",
   "metadata": {},
   "outputs": [],
   "source": [
    "data = \"\"\"\n",
    "5 9 2 8\n",
    "9 4 7 3\n",
    "3 8 6 5\n",
    "\"\"\"\n",
    "\n",
    "with open(\"input_4.txt\", 'r') as f:\n",
    "    data = f.read()\n",
    "data = [x for x in data.split(\"\\n\") if not x == \"\"]"
   ]
  },
  {
   "cell_type": "code",
   "execution_count": 7,
   "id": "contrary-entry",
   "metadata": {},
   "outputs": [
    {
     "name": "stdout",
     "output_type": "stream",
     "text": [
      "265\n"
     ]
    }
   ],
   "source": [
    "numValid = 0\n",
    "for passphrase in data:\n",
    "    phraseList = []\n",
    "    valid = True\n",
    "    for password in passphrase.split(\" \"):\n",
    "        password = ''.join(sorted(password))\n",
    "        if password in phraseList:\n",
    "            valid = False\n",
    "            break\n",
    "        phraseList.append(password)\n",
    "    if valid:\n",
    "        numValid += 1\n",
    "print(numValid)"
   ]
  }
 ],
 "metadata": {
  "kernelspec": {
   "display_name": "Python 3",
   "language": "python",
   "name": "python3"
  },
  "language_info": {
   "codemirror_mode": {
    "name": "ipython",
    "version": 3
   },
   "file_extension": ".py",
   "mimetype": "text/x-python",
   "name": "python",
   "nbconvert_exporter": "python",
   "pygments_lexer": "ipython3",
   "version": "3.7.9"
  }
 },
 "nbformat": 4,
 "nbformat_minor": 5
}
