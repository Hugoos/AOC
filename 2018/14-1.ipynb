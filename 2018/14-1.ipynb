{
 "cells": [
  {
   "cell_type": "code",
   "execution_count": 24,
   "id": "restricted-particular",
   "metadata": {},
   "outputs": [
    {
     "ename": "KeyboardInterrupt",
     "evalue": "",
     "output_type": "error",
     "traceback": [
      "\u001b[1;31m---------------------------------------------------------------------------\u001b[0m",
      "\u001b[1;31mKeyboardInterrupt\u001b[0m                         Traceback (most recent call last)",
      "\u001b[1;32m<ipython-input-24-30b8fd7ba49f>\u001b[0m in \u001b[0;36m<module>\u001b[1;34m\u001b[0m\n\u001b[0;32m     24\u001b[0m             \u001b[0mcircle2\u001b[0m\u001b[1;33m.\u001b[0m\u001b[0mappend\u001b[0m\u001b[1;33m(\u001b[0m\u001b[0mx\u001b[0m\u001b[1;33m)\u001b[0m\u001b[1;33m\u001b[0m\u001b[1;33m\u001b[0m\u001b[0m\n\u001b[0;32m     25\u001b[0m     \u001b[0melf1\u001b[0m \u001b[1;33m=\u001b[0m \u001b[1;33m(\u001b[0m\u001b[0melf1\u001b[0m \u001b[1;33m+\u001b[0m \u001b[1;36m1\u001b[0m \u001b[1;33m+\u001b[0m \u001b[0mcircle\u001b[0m\u001b[1;33m[\u001b[0m\u001b[0melf1\u001b[0m\u001b[1;33m]\u001b[0m\u001b[1;33m)\u001b[0m \u001b[1;33m%\u001b[0m \u001b[0mlen\u001b[0m\u001b[1;33m(\u001b[0m\u001b[0mcircle\u001b[0m\u001b[1;33m)\u001b[0m\u001b[1;33m\u001b[0m\u001b[1;33m\u001b[0m\u001b[0m\n\u001b[1;32m---> 26\u001b[1;33m     \u001b[0melf2\u001b[0m \u001b[1;33m=\u001b[0m \u001b[1;33m(\u001b[0m\u001b[0melf2\u001b[0m \u001b[1;33m+\u001b[0m \u001b[1;36m1\u001b[0m \u001b[1;33m+\u001b[0m \u001b[0mcircle\u001b[0m\u001b[1;33m[\u001b[0m\u001b[0melf2\u001b[0m\u001b[1;33m]\u001b[0m\u001b[1;33m)\u001b[0m \u001b[1;33m%\u001b[0m \u001b[0mlen\u001b[0m\u001b[1;33m(\u001b[0m\u001b[0mcircle\u001b[0m\u001b[1;33m)\u001b[0m\u001b[1;33m\u001b[0m\u001b[1;33m\u001b[0m\u001b[0m\n\u001b[0m\u001b[0;32m     27\u001b[0m     \u001b[1;32mtry\u001b[0m\u001b[1;33m:\u001b[0m\u001b[1;33m\u001b[0m\u001b[1;33m\u001b[0m\u001b[0m\n\u001b[0;32m     28\u001b[0m         \u001b[1;32mif\u001b[0m \u001b[0mstr\u001b[0m\u001b[1;33m(\u001b[0m\u001b[0minp\u001b[0m\u001b[1;33m)\u001b[0m \u001b[1;32min\u001b[0m \u001b[1;34m\"\"\u001b[0m\u001b[1;33m.\u001b[0m\u001b[0mjoin\u001b[0m\u001b[1;33m(\u001b[0m\u001b[1;33m[\u001b[0m\u001b[0mstr\u001b[0m\u001b[1;33m(\u001b[0m\u001b[0mx\u001b[0m\u001b[1;33m)\u001b[0m \u001b[1;32mfor\u001b[0m \u001b[0mx\u001b[0m \u001b[1;32min\u001b[0m \u001b[0mcircle2\u001b[0m\u001b[1;33m]\u001b[0m\u001b[1;33m)\u001b[0m\u001b[1;33m:\u001b[0m\u001b[1;33m\u001b[0m\u001b[1;33m\u001b[0m\u001b[0m\n",
      "\u001b[1;31mKeyboardInterrupt\u001b[0m: "
     ]
    }
   ],
   "source": [
    "from collections import deque, defaultdict\n",
    "inp = 260321\n",
    "#inp = 59414\n",
    "circle = deque([3,7])\n",
    "circle2 = deque([3,7])\n",
    "elf1 = 0\n",
    "elf2 = 1\n",
    "count = 0\n",
    "#if \"378\" in \"\".join([str(x) for x in circle]):\n",
    "#    print(\"heyou\")\n",
    "while True:\n",
    "    count += 1\n",
    "    #if count % 10000 == 0:\n",
    "        #print(count)\n",
    "    r = circle[elf1] + circle[elf2]\n",
    "    r = [int(char) for char in str(r)]\n",
    "    for x in r:\n",
    "        circle.append(x)\n",
    "        if len(circle2) == 8:\n",
    "            circle2.popleft()\n",
    "            circle2.append(x)\n",
    "            #print(circle2)\n",
    "        else:\n",
    "            circle2.append(x)\n",
    "    elf1 = (elf1 + 1 + circle[elf1]) % len(circle)\n",
    "    elf2 = (elf2 + 1 + circle[elf2]) % len(circle)\n",
    "    try:\n",
    "        if str(inp) in \"\".join([str(x) for x in circle2]):\n",
    "            print(len(circle) - len(str(inp)))\n",
    "            break\n",
    "        word = \"\"\n",
    "        #for x in range(inp, inp+10):\n",
    "        #    #print(x)\n",
    "        #    word += str(circle[x])\n",
    "        #print(word)\n",
    "        #break\n",
    "    except Exception as e:\n",
    "        if count >= inp:\n",
    "            print(e)    \n",
    "        pass"
   ]
  },
  {
   "cell_type": "code",
   "execution_count": 31,
   "id": "chronic-daily",
   "metadata": {},
   "outputs": [
    {
     "name": "stdout",
     "output_type": "stream",
     "text": [
      "20319117\n"
     ]
    }
   ],
   "source": [
    "board = [3,7]\n",
    "answer = []\n",
    "elf1 = 0\n",
    "elf2 = 1\n",
    "#count = 0\n",
    "#ll = [\"3\":]\n",
    "#made = 2\n",
    "inp = 260321\n",
    "exit = False\n",
    "while not exit:\n",
    "    r = board[elf1] + board[elf2]\n",
    "    r = [int(char) for char in str(r)]\n",
    "    for x in r:\n",
    "        board.append(x)\n",
    "        if len(board) >= len(str(inp)):\n",
    "            #print( board[-5:])\n",
    "            #print(\"\".join([str(x) for x in board[-5:]]))\n",
    "            if inp == int(\"\".join([str(x) for x in board[-len(str(inp)):]])):\n",
    "                print(len(board) - len(str(inp)))\n",
    "                exit = True\n",
    "    elf1 = (elf1 + 1 + board[elf1]) % len(board)\n",
    "    elf2 = (elf2 + 1 + board[elf2]) % len(board)\n",
    "#print(\"\".join([str(x) for x in answer[:10]]))"
   ]
  },
  {
   "cell_type": "code",
   "execution_count": 11,
   "id": "concrete-fetish",
   "metadata": {},
   "outputs": [
    {
     "data": {
      "text/plain": [
       "[5, 1, 5, 8, 9, 1, 6, 7, 7, 9]"
      ]
     },
     "execution_count": 11,
     "metadata": {},
     "output_type": "execute_result"
    }
   ],
   "source": [
    "answer"
   ]
  },
  {
   "cell_type": "code",
   "execution_count": null,
   "id": "gentle-conjunction",
   "metadata": {},
   "outputs": [],
   "source": []
  },
  {
   "cell_type": "code",
   "execution_count": null,
   "id": "emerging-throw",
   "metadata": {},
   "outputs": [],
   "source": []
  }
 ],
 "metadata": {
  "kernelspec": {
   "display_name": "Python 3",
   "language": "python",
   "name": "python3"
  },
  "language_info": {
   "codemirror_mode": {
    "name": "ipython",
    "version": 3
   },
   "file_extension": ".py",
   "mimetype": "text/x-python",
   "name": "python",
   "nbconvert_exporter": "python",
   "pygments_lexer": "ipython3",
   "version": "3.7.9"
  }
 },
 "nbformat": 4,
 "nbformat_minor": 5
}
