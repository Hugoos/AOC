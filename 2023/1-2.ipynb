{
 "cells": [
  {
   "cell_type": "code",
   "execution_count": 50,
   "id": "promotional-brook",
   "metadata": {},
   "outputs": [],
   "source": [
    "import helpers\n",
    "import numpy as np\n",
    "\n",
    "#helpers.npNicePrint(arr)\n",
    "\n",
    "data = \"\"\"two1nine\n",
    "eightwothree\n",
    "abcone2threexyz\n",
    "xtwone3four\n",
    "4nineeightseven2\n",
    "zoneight234\n",
    "7pqrstsixteen\n",
    "\"\"\"\n",
    "with open(\"input_1.txt\", 'r') as f:\n",
    "    data = f.read()\n",
    "    \n",
    "#changeDict = {\"forward\": np.array([1,0]), \"down\": np.array([0,1]), \"up\": np.array([0,-1])}\n",
    "#data = [changeDict[x.split(\" \")[0]] * int(x.split(\" \")[1]) for x in data.split(\"\\n\") if x]\n",
    "#data = [x.split(' ') for x in data.split('\\n') if x]\n",
    "#np.prod(sum(data))    \n",
    "data = [x for x in data.split('\\n') if not x == \"\"]"
   ]
  },
  {
   "cell_type": "code",
   "execution_count": 51,
   "id": "269a1ad6",
   "metadata": {},
   "outputs": [],
   "source": [
    "text_to_digit = {\n",
    "    \"zero\": 0,\n",
    "    \"one\": 1,\n",
    "    \"two\": 2,\n",
    "    \"three\": 3,\n",
    "    \"four\": 4,\n",
    "    \"five\": 5,\n",
    "    \"six\": 6,\n",
    "    \"seven\": 7,\n",
    "    \"eight\": 8,\n",
    "    \"nine\": 9\n",
    "}\n",
    "\n",
    "\n",
    "def replace_from_dict(input_string, replacement_dict):\n",
    "    for key, value in replacement_dict.items():\n",
    "        input_string = input_string.replace(key, str(value))\n",
    "    return input_string\n",
    "\n",
    "#data = [replace_from_dict(x, text_to_digit) for x in data]"
   ]
  },
  {
   "cell_type": "code",
   "execution_count": 52,
   "id": "4e20aef9",
   "metadata": {},
   "outputs": [],
   "source": [
    "def get_digit(input_string, reverse=False):\n",
    "    if reverse:\n",
    "        input_string = reversed(input_string)\n",
    "    substring1 = \"\"\n",
    "    for char in input_string:\n",
    "        if not reverse:\n",
    "            substring1 += char\n",
    "        else:\n",
    "            substring1 = char + substring1 \n",
    "        if char.isdigit():\n",
    "            return char\n",
    "        for key in text_to_digit.keys():\n",
    "            if key in substring1:\n",
    "                return str(text_to_digit[key])\n",
    "            \n"
   ]
  },
  {
   "cell_type": "code",
   "execution_count": 53,
   "id": "6f588b0e",
   "metadata": {},
   "outputs": [
    {
     "data": {
      "text/plain": [
       "53866"
      ]
     },
     "execution_count": 53,
     "metadata": {},
     "output_type": "execute_result"
    }
   ],
   "source": [
    "sum([int(get_digit(x) + get_digit(x, reverse=True)) for x in data])"
   ]
  }
 ],
 "metadata": {
  "kernelspec": {
   "display_name": "Python 3 (ipykernel)",
   "language": "python",
   "name": "python3"
  },
  "language_info": {
   "codemirror_mode": {
    "name": "ipython",
    "version": 3
   },
   "file_extension": ".py",
   "mimetype": "text/x-python",
   "name": "python",
   "nbconvert_exporter": "python",
   "pygments_lexer": "ipython3",
   "version": "3.9.7"
  }
 },
 "nbformat": 4,
 "nbformat_minor": 5
}
