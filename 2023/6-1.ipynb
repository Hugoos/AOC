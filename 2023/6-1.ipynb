{
 "cells": [
  {
   "cell_type": "code",
   "execution_count": 18,
   "id": "promotional-brook",
   "metadata": {},
   "outputs": [
    {
     "name": "stdout",
     "output_type": "stream",
     "text": [
      "Time: [53, 91, 67, 68]\n",
      "Distance: [250, 1330, 1081, 1025]\n"
     ]
    }
   ],
   "source": [
    "import helpers\n",
    "import numpy as np\n",
    "\n",
    "#helpers.npNicePrint(arr)\n",
    "\n",
    "data = \"\"\"Time:      7  15   30\n",
    "Distance:  9  40  200\"\"\"\n",
    "with open(\"input_6.txt\", 'r') as f:\n",
    "    data = f.read().strip()\n",
    "\n",
    "data = data.split('\\n')\n",
    "    \n",
    "# Initialize empty lists for time and distance\n",
    "time_list = []\n",
    "distance_list = []\n",
    "\n",
    "# Iterate through each line and extract values\n",
    "for line in data:\n",
    "    # Split each line into words\n",
    "    words = line.split()\n",
    "    # Check if the line starts with 'Time' or 'Distance'\n",
    "    if words[0] == 'Time:':\n",
    "        # Add the time values to the time_list\n",
    "        time_list.extend(map(int, words[1:]))\n",
    "    elif words[0] == 'Distance:':\n",
    "        # Add the distance values to the distance_list\n",
    "        distance_list.extend(map(int, words[1:]))\n",
    "\n",
    "# Print the resulting lists\n",
    "print(\"Time:\", time_list)\n",
    "print(\"Distance:\", distance_list)"
   ]
  },
  {
   "cell_type": "code",
   "execution_count": 19,
   "id": "7fe3bed0",
   "metadata": {},
   "outputs": [
    {
     "data": {
      "text/plain": [
       "625968"
      ]
     },
     "execution_count": 19,
     "metadata": {},
     "output_type": "execute_result"
    }
   ],
   "source": [
    "ans = 1\n",
    "for t, d in zip(time_list, distance_list):\n",
    "    successes = 0\n",
    "    for t_2 in range(t+1):\n",
    "        if t_2 * (t-t_2) > d:\n",
    "            successes += 1\n",
    "    ans *= successes\n",
    "ans"
   ]
  },
  {
   "cell_type": "code",
   "execution_count": null,
   "id": "ecb547a7",
   "metadata": {},
   "outputs": [],
   "source": []
  }
 ],
 "metadata": {
  "kernelspec": {
   "display_name": "Python 3 (ipykernel)",
   "language": "python",
   "name": "python3"
  },
  "language_info": {
   "codemirror_mode": {
    "name": "ipython",
    "version": 3
   },
   "file_extension": ".py",
   "mimetype": "text/x-python",
   "name": "python",
   "nbconvert_exporter": "python",
   "pygments_lexer": "ipython3",
   "version": "3.9.7"
  }
 },
 "nbformat": 4,
 "nbformat_minor": 5
}
