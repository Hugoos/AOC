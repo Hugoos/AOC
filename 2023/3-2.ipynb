{
 "cells": [
  {
   "cell_type": "code",
   "execution_count": 20,
   "id": "promotional-brook",
   "metadata": {},
   "outputs": [],
   "source": [
    "import helpers\n",
    "import numpy as np\n",
    "\n",
    "#helpers.npNicePrint(arr)\n",
    "\n",
    "data_o = \"\"\"467..114..\n",
    "...*......\n",
    "..35..633.\n",
    "......#...\n",
    "617*......\n",
    ".....+.58.\n",
    "..592.....\n",
    "......755.\n",
    "...$.*....\n",
    ".664.598..\"\"\"\n",
    "with open(\"input_3.txt\", 'r') as f:\n",
    "    data_o = f.read().strip()\n",
    "    \n",
    "#changeDict = {\"forward\": np.array([1,0]), \"down\": np.array([0,1]), \"up\": np.array([0,-1])}\n",
    "#data = [changeDict[x.split(\" \")[0]] * int(x.split(\" \")[1]) for x in data.split(\"\\n\") if x]\n",
    "#data = [x.split(' ') for x in data.split('\\n') if x]\n",
    "#np.prod(sum(data))    \n",
    "#data = [x for x in data.split('\\n') if not x == \"\"]\n",
    "data = {(x, y): val for y, row in enumerate(data_o.split('\\n')) for x, val in enumerate(row) }"
   ]
  },
  {
   "cell_type": "code",
   "execution_count": 21,
   "id": "b734bca0",
   "metadata": {},
   "outputs": [],
   "source": [
    "import re\n",
    "\n",
    "def is_symbol(input_str):\n",
    "    # Define a regular expression pattern for symbols (excluding '.')\n",
    "    pattern = re.compile(r'^[^\\d\\w.]$')\n",
    "\n",
    "    # Use the pattern to match the input string\n",
    "    match = pattern.match(input_str)\n",
    "\n",
    "    # If there is a match, it's a symbol; otherwise, it's not\n",
    "    return bool(match)\n"
   ]
  },
  {
   "cell_type": "code",
   "execution_count": 22,
   "id": "7fbe9c13",
   "metadata": {},
   "outputs": [
    {
     "name": "stdout",
     "output_type": "stream",
     "text": [
      "Surrounding coordinates for (3, 4): [(2, 3), (2, 4), (2, 5), (3, 3), (3, 5), (4, 3), (4, 4), (4, 5)]\n"
     ]
    }
   ],
   "source": [
    "def get_surrounding_coordinates(coord):\n",
    "    x, y = coord\n",
    "    surrounding_coordinates = []\n",
    "\n",
    "    for i in range(-1, 2):\n",
    "        for j in range(-1, 2):\n",
    "            if i == 0 and j == 0:\n",
    "                continue  # Skip the center coordinate (x, y)\n",
    "            \n",
    "            surrounding_coordinates.append((x + i, y + j))\n",
    "\n",
    "    return surrounding_coordinates\n",
    "\n",
    "center_coordinate = (3, 4)\n",
    "surrounding_coords = get_surrounding_coordinates(center_coordinate)\n",
    "\n",
    "print(f\"Surrounding coordinates for {center_coordinate}: {surrounding_coords}\")\n"
   ]
  },
  {
   "cell_type": "code",
   "execution_count": 23,
   "id": "b78d38a4",
   "metadata": {},
   "outputs": [],
   "source": [
    "def get_horizontal_surrounding_coordinates(coord):\n",
    "    x, y = coord\n",
    "    left_coordinate = (x - 1, y)\n",
    "    right_coordinate = (x + 1, y)\n",
    "    \n",
    "    return [left_coordinate, right_coordinate]"
   ]
  },
  {
   "cell_type": "code",
   "execution_count": 24,
   "id": "f1affb7f",
   "metadata": {},
   "outputs": [
    {
     "data": {
      "text/plain": [
       "84883664"
      ]
     },
     "execution_count": 24,
     "metadata": {},
     "output_type": "execute_result"
    }
   ],
   "source": [
    "answer = 0\n",
    "for coord, val in data.items():\n",
    "    coords = set()\n",
    "    if val == \"*\":\n",
    "        for coord_2 in get_surrounding_coordinates(coord):\n",
    "            if coord_2 in data:\n",
    "                if data[coord_2].isdigit():\n",
    "                    coords.add(coord_2)\n",
    "        old_coords = set()\n",
    "        while not old_coords == coords:\n",
    "            old_coords = coords.copy()\n",
    "            for coord_2 in old_coords:\n",
    "                for coord_3 in get_horizontal_surrounding_coordinates(coord_2):\n",
    "                    if coord_3 in data:\n",
    "                        if data[coord_3].isdigit():\n",
    "                            coords.add(coord_3)\n",
    "        sorted_coordinates = sorted(coords, key=lambda coord: (coord[1], coord[0]))\n",
    "        #print(sorted_coordinates)\n",
    "        number = data[sorted_coordinates[0]]\n",
    "        numbers = []\n",
    "        last_coord = sorted_coordinates[0]\n",
    "        for coord_s in sorted_coordinates[1:]:\n",
    "            #print(np.array(coord_s) - np.array(last_coord))\n",
    "            if np.array_equal(np.array(coord_s) - np.array(last_coord), np.array((1,0))):\n",
    "                number += data[coord_s]\n",
    "            else:\n",
    "                numbers.append(int(number))\n",
    "                number = data[coord_s]\n",
    "            last_coord = coord_s\n",
    "        numbers.append(int(number))\n",
    "        if len(numbers) == 2:\n",
    "            answer += numbers[0] * numbers[1]\n",
    "answer\n",
    "    "
   ]
  },
  {
   "cell_type": "code",
   "execution_count": 10,
   "id": "33b45d68",
   "metadata": {},
   "outputs": [
    {
     "name": "stdout",
     "output_type": "stream",
     "text": [
      "(2, 1)\n",
      "(1, 2)\n",
      "(3, 2)\n",
      "(2, 3)\n",
      "(1, 5)\n",
      "(3, 5)\n"
     ]
    }
   ],
   "source": [
    "# Set of coordinates\n",
    "coordinates_set = {(3, 5), (1, 2), (2, 1), (1, 5), (2, 3), (3, 2)}\n",
    "\n",
    "# Sorting coordinates in ascending order by x and then y\n",
    "sorted_coordinates = sorted(coordinates_set, key=lambda coord: (coord[1], coord[0]))\n",
    "\n",
    "# Looping over the sorted coordinates\n",
    "for coordinate in sorted_coordinates:\n",
    "    print(coordinate)"
   ]
  },
  {
   "cell_type": "code",
   "execution_count": null,
   "id": "2928360b",
   "metadata": {},
   "outputs": [],
   "source": []
  }
 ],
 "metadata": {
  "kernelspec": {
   "display_name": "Python 3 (ipykernel)",
   "language": "python",
   "name": "python3"
  },
  "language_info": {
   "codemirror_mode": {
    "name": "ipython",
    "version": 3
   },
   "file_extension": ".py",
   "mimetype": "text/x-python",
   "name": "python",
   "nbconvert_exporter": "python",
   "pygments_lexer": "ipython3",
   "version": "3.9.7"
  }
 },
 "nbformat": 4,
 "nbformat_minor": 5
}
