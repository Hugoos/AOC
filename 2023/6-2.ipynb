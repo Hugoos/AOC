{
 "cells": [
  {
   "cell_type": "code",
   "execution_count": 12,
   "id": "promotional-brook",
   "metadata": {},
   "outputs": [
    {
     "name": "stdout",
     "output_type": "stream",
     "text": [
      "Time: [53, 91, 67, 68]\n",
      "Distance: [250, 1330, 1081, 1025]\n",
      "Time: 53916768\n",
      "Distance: 250133010811025\n"
     ]
    }
   ],
   "source": [
    "import helpers\n",
    "import numpy as np\n",
    "\n",
    "#helpers.npNicePrint(arr)\n",
    "\n",
    "data = \"\"\"Time:      7  15   30\n",
    "Distance:  9  40  200\"\"\"\n",
    "with open(\"input_6.txt\", 'r') as f:\n",
    "    data = f.read().strip()\n",
    "\n",
    "data = data.split('\\n')\n",
    "    \n",
    "# Initialize empty lists for time and distance\n",
    "time_list = []\n",
    "distance_list = []\n",
    "\n",
    "# Iterate through each line and extract values\n",
    "for line in data:\n",
    "    # Split each line into words\n",
    "    words = line.split()\n",
    "    # Check if the line starts with 'Time' or 'Distance'\n",
    "    if words[0] == 'Time:':\n",
    "        # Add the time values to the time_list\n",
    "        time_list.extend(map(int, words[1:]))\n",
    "    elif words[0] == 'Distance:':\n",
    "        # Add the distance values to the distance_list\n",
    "        distance_list.extend(map(int, words[1:]))\n",
    "\n",
    "# Print the resulting lists\n",
    "print(\"Time:\", time_list)\n",
    "print(\"Distance:\", distance_list)\n",
    "\n",
    "time_list = int(\"\".join([str(x) for x in time_list]))\n",
    "distance_list = int(\"\".join([str(x) for x in distance_list]))\n",
    "\n",
    "print(\"Time:\", time_list)\n",
    "print(\"Distance:\", distance_list)\n"
   ]
  },
  {
   "cell_type": "code",
   "execution_count": 13,
   "id": "7fe3bed0",
   "metadata": {},
   "outputs": [
    {
     "name": "stderr",
     "output_type": "stream",
     "text": [
      "100%|█████████████████████████████████████████████████████████████████| 53916769/53916769 [00:19<00:00, 2761253.66it/s]\n"
     ]
    },
    {
     "data": {
      "text/plain": [
       "43663323"
      ]
     },
     "execution_count": 13,
     "metadata": {},
     "output_type": "execute_result"
    }
   ],
   "source": [
    "from tqdm import tqdm\n",
    "\n",
    "t = time_list\n",
    "d = distance_list\n",
    "successes = 0\n",
    "for t_2 in tqdm(range(t+1)):\n",
    "    if t_2 * (t-t_2) > d:\n",
    "        successes += 1\n",
    "successes"
   ]
  },
  {
   "cell_type": "code",
   "execution_count": null,
   "id": "ecb547a7",
   "metadata": {},
   "outputs": [],
   "source": []
  }
 ],
 "metadata": {
  "kernelspec": {
   "display_name": "Python 3 (ipykernel)",
   "language": "python",
   "name": "python3"
  },
  "language_info": {
   "codemirror_mode": {
    "name": "ipython",
    "version": 3
   },
   "file_extension": ".py",
   "mimetype": "text/x-python",
   "name": "python",
   "nbconvert_exporter": "python",
   "pygments_lexer": "ipython3",
   "version": "3.9.7"
  }
 },
 "nbformat": 4,
 "nbformat_minor": 5
}
